{
 "cells": [
  {
   "cell_type": "code",
   "execution_count": null,
   "metadata": {},
   "outputs": [],
   "source": [
    "#To install Tensorflow 2.0 Run the below command\n",
    "!pip install tensorflow"
   ]
  },
  {
   "cell_type": "code",
   "execution_count": null,
   "metadata": {},
   "outputs": [],
   "source": [
    "#To verify if it has been installed check the version\n",
    "import tensorflow as tf\n",
    "tf.version.VERSION"
   ]
  },
  {
   "cell_type": "code",
   "execution_count": null,
   "metadata": {},
   "outputs": [],
   "source": [
    "#To install PyTorch run the below command\n",
    "!pip install torch"
   ]
  },
  {
   "cell_type": "code",
   "execution_count": null,
   "metadata": {},
   "outputs": [],
   "source": [
    "#To Verfiy if it has been installed do the following\n",
    "import torch\n",
    "x = torch.rand(5, 3)\n",
    "print(x)\n",
    "#You should get an output similar to below:\n",
    "# tensor([[0.3996, 0.9848, 0.4573],\n",
    "#         [0.8854, 0.1436, 0.8742],\n",
    "#         [0.9922, 0.1835, 0.1070],\n",
    "#         [0.3319, 0.3405, 0.8008],\n",
    "#         [0.7296, 0.4818, 0.4886]])"
   ]
  }
 ],
 "metadata": {
  "kernelspec": {
   "display_name": "Python 3",
   "language": "python",
   "name": "python3"
  },
  "language_info": {
   "codemirror_mode": {
    "name": "ipython",
    "version": 3
   },
   "file_extension": ".py",
   "mimetype": "text/x-python",
   "name": "python",
   "nbconvert_exporter": "python",
   "pygments_lexer": "ipython3",
   "version": "3.7.3"
  }
 },
 "nbformat": 4,
 "nbformat_minor": 2
}
