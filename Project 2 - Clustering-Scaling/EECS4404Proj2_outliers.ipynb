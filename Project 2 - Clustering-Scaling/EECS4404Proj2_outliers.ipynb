{
 "cells": [
  {
   "cell_type": "markdown",
   "id": "94faeb1d",
   "metadata": {},
   "source": [
    "# EECS4404 Project 2\n",
    "\n",
    "Jimmy Le<br>\n",
    "216143992<br>\n",
    "Prof. Archit Garg<br>\n",
    "EECS4404 SU 2022"
   ]
  },
  {
   "cell_type": "markdown",
   "id": "0769306e",
   "metadata": {},
   "source": [
    "## References\n",
    "\n",
    "Code Process and Method: EECS4404 Class Notes & Jupyter Examples<br>\n",
    "\n",
    "To Demonstrate full understanding of the code, full documentation and explaination of the code will be provided\n",
    "\n",
    "#### We start by performing EDA on the dataset\n",
    "\n",
    "First explore the features of the dataset. By inspection of the .csv file, we can see that 'Region' and 'Channel' appear to be categorical and all of theo ther features appear to be continous. But let's take a look it more thoroughly to verify."
   ]
  },
  {
   "cell_type": "code",
   "execution_count": 90,
   "id": "8ca8f06c",
   "metadata": {},
   "outputs": [
    {
     "data": {
      "text/html": [
       "<div>\n",
       "<style scoped>\n",
       "    .dataframe tbody tr th:only-of-type {\n",
       "        vertical-align: middle;\n",
       "    }\n",
       "\n",
       "    .dataframe tbody tr th {\n",
       "        vertical-align: top;\n",
       "    }\n",
       "\n",
       "    .dataframe thead th {\n",
       "        text-align: right;\n",
       "    }\n",
       "</style>\n",
       "<table border=\"1\" class=\"dataframe\">\n",
       "  <thead>\n",
       "    <tr style=\"text-align: right;\">\n",
       "      <th></th>\n",
       "      <th>Channel</th>\n",
       "      <th>Region</th>\n",
       "      <th>Fresh</th>\n",
       "      <th>Milk</th>\n",
       "      <th>Grocery</th>\n",
       "      <th>Frozen</th>\n",
       "      <th>Detergents_Paper</th>\n",
       "      <th>Delicassen</th>\n",
       "    </tr>\n",
       "  </thead>\n",
       "  <tbody>\n",
       "    <tr>\n",
       "      <th>0</th>\n",
       "      <td>2</td>\n",
       "      <td>3</td>\n",
       "      <td>12669</td>\n",
       "      <td>9656</td>\n",
       "      <td>7561</td>\n",
       "      <td>214</td>\n",
       "      <td>2674</td>\n",
       "      <td>1338</td>\n",
       "    </tr>\n",
       "    <tr>\n",
       "      <th>1</th>\n",
       "      <td>2</td>\n",
       "      <td>3</td>\n",
       "      <td>7057</td>\n",
       "      <td>9810</td>\n",
       "      <td>9568</td>\n",
       "      <td>1762</td>\n",
       "      <td>3293</td>\n",
       "      <td>1776</td>\n",
       "    </tr>\n",
       "    <tr>\n",
       "      <th>2</th>\n",
       "      <td>2</td>\n",
       "      <td>3</td>\n",
       "      <td>6353</td>\n",
       "      <td>8808</td>\n",
       "      <td>7684</td>\n",
       "      <td>2405</td>\n",
       "      <td>3516</td>\n",
       "      <td>7844</td>\n",
       "    </tr>\n",
       "    <tr>\n",
       "      <th>3</th>\n",
       "      <td>1</td>\n",
       "      <td>3</td>\n",
       "      <td>13265</td>\n",
       "      <td>1196</td>\n",
       "      <td>4221</td>\n",
       "      <td>6404</td>\n",
       "      <td>507</td>\n",
       "      <td>1788</td>\n",
       "    </tr>\n",
       "    <tr>\n",
       "      <th>4</th>\n",
       "      <td>2</td>\n",
       "      <td>3</td>\n",
       "      <td>22615</td>\n",
       "      <td>5410</td>\n",
       "      <td>7198</td>\n",
       "      <td>3915</td>\n",
       "      <td>1777</td>\n",
       "      <td>5185</td>\n",
       "    </tr>\n",
       "  </tbody>\n",
       "</table>\n",
       "</div>"
      ],
      "text/plain": [
       "   Channel  Region  Fresh  Milk  Grocery  Frozen  Detergents_Paper  Delicassen\n",
       "0        2       3  12669  9656     7561     214              2674        1338\n",
       "1        2       3   7057  9810     9568    1762              3293        1776\n",
       "2        2       3   6353  8808     7684    2405              3516        7844\n",
       "3        1       3  13265  1196     4221    6404               507        1788\n",
       "4        2       3  22615  5410     7198    3915              1777        5185"
      ]
     },
     "execution_count": 90,
     "metadata": {},
     "output_type": "execute_result"
    }
   ],
   "source": [
    "#Import libraries to be used to analyze dataset\n",
    "import matplotlib.pyplot as plt\n",
    "import numpy as np\n",
    "import pandas as pd\n",
    "import seaborn as sns\n",
    "%matplotlib inline\n",
    "\n",
    "#Read in dataset\n",
    "wholesale = pd.read_csv('Wholesale customers data.csv')\n",
    "wholesale.head()"
   ]
  },
  {
   "cell_type": "code",
   "execution_count": 91,
   "id": "b4c1ce22",
   "metadata": {},
   "outputs": [
    {
     "data": {
      "text/plain": [
       "(440, 8)"
      ]
     },
     "execution_count": 91,
     "metadata": {},
     "output_type": "execute_result"
    }
   ],
   "source": [
    "#Check the number of rows and columns in the wholesale dataset\n",
    "wholesale.shape"
   ]
  },
  {
   "cell_type": "code",
   "execution_count": 92,
   "id": "ee22b062",
   "metadata": {},
   "outputs": [
    {
     "data": {
      "text/plain": [
       "Channel             int64\n",
       "Region              int64\n",
       "Fresh               int64\n",
       "Milk                int64\n",
       "Grocery             int64\n",
       "Frozen              int64\n",
       "Detergents_Paper    int64\n",
       "Delicassen          int64\n",
       "dtype: object"
      ]
     },
     "execution_count": 92,
     "metadata": {},
     "output_type": "execute_result"
    }
   ],
   "source": [
    "#We also check the datatypes stored in each column\n",
    "wholesale.dtypes"
   ]
  },
  {
   "cell_type": "code",
   "execution_count": 93,
   "id": "c2b68020",
   "metadata": {},
   "outputs": [
    {
     "data": {
      "text/plain": [
       "3    316\n",
       "1     77\n",
       "2     47\n",
       "Name: Region, dtype: int64"
      ]
     },
     "execution_count": 93,
     "metadata": {},
     "output_type": "execute_result"
    }
   ],
   "source": [
    "#See the distribution of variable Region\n",
    "wholesale['Region'].value_counts()"
   ]
  },
  {
   "cell_type": "code",
   "execution_count": 94,
   "id": "b8a2fbb6",
   "metadata": {},
   "outputs": [
    {
     "data": {
      "text/plain": [
       "1    298\n",
       "2    142\n",
       "Name: Channel, dtype: int64"
      ]
     },
     "execution_count": 94,
     "metadata": {},
     "output_type": "execute_result"
    }
   ],
   "source": [
    "#See distribution of target variable Channel\n",
    "wholesale['Channel'].value_counts()\n",
    "#Note that our target variable from the output is BINARY!"
   ]
  },
  {
   "cell_type": "code",
   "execution_count": 95,
   "id": "b018fce6",
   "metadata": {},
   "outputs": [
    {
     "name": "stdout",
     "output_type": "stream",
     "text": [
      "Channel: 2 unique values\n",
      "Region: 3 unique values\n",
      "Fresh: 433 unique values\n",
      "Milk: 421 unique values\n",
      "Grocery: 430 unique values\n",
      "Frozen: 426 unique values\n",
      "Detergents_Paper: 417 unique values\n",
      "Delicassen: 403 unique values\n"
     ]
    }
   ],
   "source": [
    "# We can additionally verify which variables are categorical and continous with the following\n",
    "for col in wholesale.columns:\n",
    "    print('{}: {} unique values'.format(col, wholesale[col].nunique()))"
   ]
  },
  {
   "cell_type": "markdown",
   "id": "adfeca9a",
   "metadata": {},
   "source": [
    "Reiterating what we mentioned earlier, we can make a distinction between our categorical and continous variables. We verify channel and region appear to be categorical variables above (as numerical indicator values), as they can be either one of 2  or 3 distnct values respectively. The other features, 'Fresh', 'Milk', 'Grocery', 'Frozen', 'Detergents', and 'Delicassen' all appear to be continous as they are varied integer values.\n",
    "\n",
    "We can also see by inspection of the region values that there is an imbalance in the region class. We can analyze this more later"
   ]
  },
  {
   "cell_type": "markdown",
   "id": "0f92dfbd",
   "metadata": {},
   "source": [
    "## Explore Continous Features"
   ]
  },
  {
   "cell_type": "code",
   "execution_count": 96,
   "id": "570da49d",
   "metadata": {},
   "outputs": [
    {
     "data": {
      "text/html": [
       "<div>\n",
       "<style scoped>\n",
       "    .dataframe tbody tr th:only-of-type {\n",
       "        vertical-align: middle;\n",
       "    }\n",
       "\n",
       "    .dataframe tbody tr th {\n",
       "        vertical-align: top;\n",
       "    }\n",
       "\n",
       "    .dataframe thead th {\n",
       "        text-align: right;\n",
       "    }\n",
       "</style>\n",
       "<table border=\"1\" class=\"dataframe\">\n",
       "  <thead>\n",
       "    <tr style=\"text-align: right;\">\n",
       "      <th></th>\n",
       "      <th>Channel</th>\n",
       "      <th>Fresh</th>\n",
       "      <th>Milk</th>\n",
       "      <th>Grocery</th>\n",
       "      <th>Frozen</th>\n",
       "      <th>Detergents_Paper</th>\n",
       "      <th>Delicassen</th>\n",
       "    </tr>\n",
       "  </thead>\n",
       "  <tbody>\n",
       "    <tr>\n",
       "      <th>0</th>\n",
       "      <td>2</td>\n",
       "      <td>12669</td>\n",
       "      <td>9656</td>\n",
       "      <td>7561</td>\n",
       "      <td>214</td>\n",
       "      <td>2674</td>\n",
       "      <td>1338</td>\n",
       "    </tr>\n",
       "    <tr>\n",
       "      <th>1</th>\n",
       "      <td>2</td>\n",
       "      <td>7057</td>\n",
       "      <td>9810</td>\n",
       "      <td>9568</td>\n",
       "      <td>1762</td>\n",
       "      <td>3293</td>\n",
       "      <td>1776</td>\n",
       "    </tr>\n",
       "    <tr>\n",
       "      <th>2</th>\n",
       "      <td>2</td>\n",
       "      <td>6353</td>\n",
       "      <td>8808</td>\n",
       "      <td>7684</td>\n",
       "      <td>2405</td>\n",
       "      <td>3516</td>\n",
       "      <td>7844</td>\n",
       "    </tr>\n",
       "    <tr>\n",
       "      <th>3</th>\n",
       "      <td>1</td>\n",
       "      <td>13265</td>\n",
       "      <td>1196</td>\n",
       "      <td>4221</td>\n",
       "      <td>6404</td>\n",
       "      <td>507</td>\n",
       "      <td>1788</td>\n",
       "    </tr>\n",
       "    <tr>\n",
       "      <th>4</th>\n",
       "      <td>2</td>\n",
       "      <td>22615</td>\n",
       "      <td>5410</td>\n",
       "      <td>7198</td>\n",
       "      <td>3915</td>\n",
       "      <td>1777</td>\n",
       "      <td>5185</td>\n",
       "    </tr>\n",
       "  </tbody>\n",
       "</table>\n",
       "</div>"
      ],
      "text/plain": [
       "   Channel  Fresh  Milk  Grocery  Frozen  Detergents_Paper  Delicassen\n",
       "0        2  12669  9656     7561     214              2674        1338\n",
       "1        2   7057  9810     9568    1762              3293        1776\n",
       "2        2   6353  8808     7684    2405              3516        7844\n",
       "3        1  13265  1196     4221    6404               507        1788\n",
       "4        2  22615  5410     7198    3915              1777        5185"
      ]
     },
     "execution_count": 96,
     "metadata": {},
     "output_type": "execute_result"
    }
   ],
   "source": [
    "from scipy import stats\n",
    "\n",
    "#Drop cateogorical feature region to analyze continous features\n",
    "#Note: We do not drop our target variable Channel, although it is categorical as well\n",
    "cat_feat = ['Region']\n",
    "wholesale.drop(cat_feat, axis=1, inplace=True)\n",
    "wholesale.head()"
   ]
  },
  {
   "cell_type": "code",
   "execution_count": 97,
   "id": "76f2d97d",
   "metadata": {},
   "outputs": [
    {
     "data": {
      "text/html": [
       "<div>\n",
       "<style scoped>\n",
       "    .dataframe tbody tr th:only-of-type {\n",
       "        vertical-align: middle;\n",
       "    }\n",
       "\n",
       "    .dataframe tbody tr th {\n",
       "        vertical-align: top;\n",
       "    }\n",
       "\n",
       "    .dataframe thead th {\n",
       "        text-align: right;\n",
       "    }\n",
       "</style>\n",
       "<table border=\"1\" class=\"dataframe\">\n",
       "  <thead>\n",
       "    <tr style=\"text-align: right;\">\n",
       "      <th></th>\n",
       "      <th>Channel</th>\n",
       "      <th>Fresh</th>\n",
       "      <th>Milk</th>\n",
       "      <th>Grocery</th>\n",
       "      <th>Frozen</th>\n",
       "      <th>Detergents_Paper</th>\n",
       "      <th>Delicassen</th>\n",
       "    </tr>\n",
       "  </thead>\n",
       "  <tbody>\n",
       "    <tr>\n",
       "      <th>count</th>\n",
       "      <td>440.000000</td>\n",
       "      <td>440.000000</td>\n",
       "      <td>440.000000</td>\n",
       "      <td>440.000000</td>\n",
       "      <td>440.000000</td>\n",
       "      <td>440.000000</td>\n",
       "      <td>440.000000</td>\n",
       "    </tr>\n",
       "    <tr>\n",
       "      <th>mean</th>\n",
       "      <td>1.322727</td>\n",
       "      <td>12000.297727</td>\n",
       "      <td>5796.265909</td>\n",
       "      <td>7951.277273</td>\n",
       "      <td>3071.931818</td>\n",
       "      <td>2881.493182</td>\n",
       "      <td>1524.870455</td>\n",
       "    </tr>\n",
       "    <tr>\n",
       "      <th>std</th>\n",
       "      <td>0.468052</td>\n",
       "      <td>12647.328865</td>\n",
       "      <td>7380.377175</td>\n",
       "      <td>9503.162829</td>\n",
       "      <td>4854.673333</td>\n",
       "      <td>4767.854448</td>\n",
       "      <td>2820.105937</td>\n",
       "    </tr>\n",
       "    <tr>\n",
       "      <th>min</th>\n",
       "      <td>1.000000</td>\n",
       "      <td>3.000000</td>\n",
       "      <td>55.000000</td>\n",
       "      <td>3.000000</td>\n",
       "      <td>25.000000</td>\n",
       "      <td>3.000000</td>\n",
       "      <td>3.000000</td>\n",
       "    </tr>\n",
       "    <tr>\n",
       "      <th>25%</th>\n",
       "      <td>1.000000</td>\n",
       "      <td>3127.750000</td>\n",
       "      <td>1533.000000</td>\n",
       "      <td>2153.000000</td>\n",
       "      <td>742.250000</td>\n",
       "      <td>256.750000</td>\n",
       "      <td>408.250000</td>\n",
       "    </tr>\n",
       "    <tr>\n",
       "      <th>50%</th>\n",
       "      <td>1.000000</td>\n",
       "      <td>8504.000000</td>\n",
       "      <td>3627.000000</td>\n",
       "      <td>4755.500000</td>\n",
       "      <td>1526.000000</td>\n",
       "      <td>816.500000</td>\n",
       "      <td>965.500000</td>\n",
       "    </tr>\n",
       "    <tr>\n",
       "      <th>75%</th>\n",
       "      <td>2.000000</td>\n",
       "      <td>16933.750000</td>\n",
       "      <td>7190.250000</td>\n",
       "      <td>10655.750000</td>\n",
       "      <td>3554.250000</td>\n",
       "      <td>3922.000000</td>\n",
       "      <td>1820.250000</td>\n",
       "    </tr>\n",
       "    <tr>\n",
       "      <th>max</th>\n",
       "      <td>2.000000</td>\n",
       "      <td>112151.000000</td>\n",
       "      <td>73498.000000</td>\n",
       "      <td>92780.000000</td>\n",
       "      <td>60869.000000</td>\n",
       "      <td>40827.000000</td>\n",
       "      <td>47943.000000</td>\n",
       "    </tr>\n",
       "  </tbody>\n",
       "</table>\n",
       "</div>"
      ],
      "text/plain": [
       "          Channel          Fresh          Milk       Grocery        Frozen  \\\n",
       "count  440.000000     440.000000    440.000000    440.000000    440.000000   \n",
       "mean     1.322727   12000.297727   5796.265909   7951.277273   3071.931818   \n",
       "std      0.468052   12647.328865   7380.377175   9503.162829   4854.673333   \n",
       "min      1.000000       3.000000     55.000000      3.000000     25.000000   \n",
       "25%      1.000000    3127.750000   1533.000000   2153.000000    742.250000   \n",
       "50%      1.000000    8504.000000   3627.000000   4755.500000   1526.000000   \n",
       "75%      2.000000   16933.750000   7190.250000  10655.750000   3554.250000   \n",
       "max      2.000000  112151.000000  73498.000000  92780.000000  60869.000000   \n",
       "\n",
       "       Detergents_Paper    Delicassen  \n",
       "count        440.000000    440.000000  \n",
       "mean        2881.493182   1524.870455  \n",
       "std         4767.854448   2820.105937  \n",
       "min            3.000000      3.000000  \n",
       "25%          256.750000    408.250000  \n",
       "50%          816.500000    965.500000  \n",
       "75%         3922.000000   1820.250000  \n",
       "max        40827.000000  47943.000000  "
      ]
     },
     "execution_count": 97,
     "metadata": {},
     "output_type": "execute_result"
    }
   ],
   "source": [
    "#We can observe the general distrubution of these features\n",
    "wholesale.describe()"
   ]
  },
  {
   "cell_type": "code",
   "execution_count": 98,
   "id": "bd1d330d",
   "metadata": {},
   "outputs": [],
   "source": [
    "#We can observe a few things:\n",
    "\n",
    "#Observation: There appears no null values in any rows, so fortunately no need to have to account for any null values throughout our process\n",
    "#Observation: There appears to be a large max value of spending on 'Fresh'. This appears to be bloating the mean and the std. Will have to inspect further\n",
    "#Observation: Clients appear to be spending the least on Detergents and Delicassen, and most on Fresh products\n",
    "\n",
    "#WILL HAVE TO APPEND MORE TO THIS"
   ]
  },
  {
   "cell_type": "code",
   "execution_count": 99,
   "id": "ae64b91e",
   "metadata": {},
   "outputs": [
    {
     "data": {
      "text/html": [
       "<div>\n",
       "<style scoped>\n",
       "    .dataframe tbody tr th:only-of-type {\n",
       "        vertical-align: middle;\n",
       "    }\n",
       "\n",
       "    .dataframe tbody tr th {\n",
       "        vertical-align: top;\n",
       "    }\n",
       "\n",
       "    .dataframe thead th {\n",
       "        text-align: right;\n",
       "    }\n",
       "</style>\n",
       "<table border=\"1\" class=\"dataframe\">\n",
       "  <thead>\n",
       "    <tr style=\"text-align: right;\">\n",
       "      <th></th>\n",
       "      <th>Channel</th>\n",
       "      <th>Fresh</th>\n",
       "      <th>Milk</th>\n",
       "      <th>Grocery</th>\n",
       "      <th>Frozen</th>\n",
       "      <th>Detergents_Paper</th>\n",
       "      <th>Delicassen</th>\n",
       "    </tr>\n",
       "  </thead>\n",
       "  <tbody>\n",
       "    <tr>\n",
       "      <th>Channel</th>\n",
       "      <td>1.000000</td>\n",
       "      <td>-0.169172</td>\n",
       "      <td>0.460720</td>\n",
       "      <td>0.608792</td>\n",
       "      <td>-0.202046</td>\n",
       "      <td>0.636026</td>\n",
       "      <td>0.056011</td>\n",
       "    </tr>\n",
       "    <tr>\n",
       "      <th>Fresh</th>\n",
       "      <td>-0.169172</td>\n",
       "      <td>1.000000</td>\n",
       "      <td>0.100510</td>\n",
       "      <td>-0.011854</td>\n",
       "      <td>0.345881</td>\n",
       "      <td>-0.101953</td>\n",
       "      <td>0.244690</td>\n",
       "    </tr>\n",
       "    <tr>\n",
       "      <th>Milk</th>\n",
       "      <td>0.460720</td>\n",
       "      <td>0.100510</td>\n",
       "      <td>1.000000</td>\n",
       "      <td>0.728335</td>\n",
       "      <td>0.123994</td>\n",
       "      <td>0.661816</td>\n",
       "      <td>0.406368</td>\n",
       "    </tr>\n",
       "    <tr>\n",
       "      <th>Grocery</th>\n",
       "      <td>0.608792</td>\n",
       "      <td>-0.011854</td>\n",
       "      <td>0.728335</td>\n",
       "      <td>1.000000</td>\n",
       "      <td>-0.040193</td>\n",
       "      <td>0.924641</td>\n",
       "      <td>0.205497</td>\n",
       "    </tr>\n",
       "    <tr>\n",
       "      <th>Frozen</th>\n",
       "      <td>-0.202046</td>\n",
       "      <td>0.345881</td>\n",
       "      <td>0.123994</td>\n",
       "      <td>-0.040193</td>\n",
       "      <td>1.000000</td>\n",
       "      <td>-0.131525</td>\n",
       "      <td>0.390947</td>\n",
       "    </tr>\n",
       "    <tr>\n",
       "      <th>Detergents_Paper</th>\n",
       "      <td>0.636026</td>\n",
       "      <td>-0.101953</td>\n",
       "      <td>0.661816</td>\n",
       "      <td>0.924641</td>\n",
       "      <td>-0.131525</td>\n",
       "      <td>1.000000</td>\n",
       "      <td>0.069291</td>\n",
       "    </tr>\n",
       "    <tr>\n",
       "      <th>Delicassen</th>\n",
       "      <td>0.056011</td>\n",
       "      <td>0.244690</td>\n",
       "      <td>0.406368</td>\n",
       "      <td>0.205497</td>\n",
       "      <td>0.390947</td>\n",
       "      <td>0.069291</td>\n",
       "      <td>1.000000</td>\n",
       "    </tr>\n",
       "  </tbody>\n",
       "</table>\n",
       "</div>"
      ],
      "text/plain": [
       "                   Channel     Fresh      Milk   Grocery    Frozen  \\\n",
       "Channel           1.000000 -0.169172  0.460720  0.608792 -0.202046   \n",
       "Fresh            -0.169172  1.000000  0.100510 -0.011854  0.345881   \n",
       "Milk              0.460720  0.100510  1.000000  0.728335  0.123994   \n",
       "Grocery           0.608792 -0.011854  0.728335  1.000000 -0.040193   \n",
       "Frozen           -0.202046  0.345881  0.123994 -0.040193  1.000000   \n",
       "Detergents_Paper  0.636026 -0.101953  0.661816  0.924641 -0.131525   \n",
       "Delicassen        0.056011  0.244690  0.406368  0.205497  0.390947   \n",
       "\n",
       "                  Detergents_Paper  Delicassen  \n",
       "Channel                   0.636026    0.056011  \n",
       "Fresh                    -0.101953    0.244690  \n",
       "Milk                      0.661816    0.406368  \n",
       "Grocery                   0.924641    0.205497  \n",
       "Frozen                   -0.131525    0.390947  \n",
       "Detergents_Paper          1.000000    0.069291  \n",
       "Delicassen                0.069291    1.000000  "
      ]
     },
     "execution_count": 99,
     "metadata": {},
     "output_type": "execute_result"
    }
   ],
   "source": [
    "#Correlation matrix may give us some hints as to the correlation of these variables\n",
    "wholesale.corr()"
   ]
  },
  {
   "cell_type": "markdown",
   "id": "dbd214e0",
   "metadata": {},
   "source": [
    "Observation: We observe see looking at the matrix that Grocery and Detergents_Paper have the strongest correlation to Channel, our target variable, around 0.6 correlation, which clues us in that they are likely the strongest factors which may be useful in predicting the Channel for our Wholesale model. Additionally, Milk appears to be somewhat corelated (0.46) while the others appear to be weakly correlated (+-0.2 correlation or less)"
   ]
  },
  {
   "cell_type": "code",
   "execution_count": 100,
   "id": "310addde",
   "metadata": {},
   "outputs": [
    {
     "data": {
      "text/html": [
       "<div>\n",
       "<style scoped>\n",
       "    .dataframe tbody tr th:only-of-type {\n",
       "        vertical-align: middle;\n",
       "    }\n",
       "\n",
       "    .dataframe tbody tr th {\n",
       "        vertical-align: top;\n",
       "    }\n",
       "\n",
       "    .dataframe thead th {\n",
       "        text-align: right;\n",
       "    }\n",
       "</style>\n",
       "<table border=\"1\" class=\"dataframe\">\n",
       "  <thead>\n",
       "    <tr style=\"text-align: right;\">\n",
       "      <th></th>\n",
       "      <th>Fresh</th>\n",
       "      <th>Milk</th>\n",
       "      <th>Grocery</th>\n",
       "      <th>Frozen</th>\n",
       "      <th>Detergents_Paper</th>\n",
       "      <th>Delicassen</th>\n",
       "    </tr>\n",
       "    <tr>\n",
       "      <th>Channel</th>\n",
       "      <th></th>\n",
       "      <th></th>\n",
       "      <th></th>\n",
       "      <th></th>\n",
       "      <th></th>\n",
       "      <th></th>\n",
       "    </tr>\n",
       "  </thead>\n",
       "  <tbody>\n",
       "    <tr>\n",
       "      <th>1</th>\n",
       "      <td>13475.560403</td>\n",
       "      <td>3451.724832</td>\n",
       "      <td>3962.137584</td>\n",
       "      <td>3748.251678</td>\n",
       "      <td>790.560403</td>\n",
       "      <td>1415.956376</td>\n",
       "    </tr>\n",
       "    <tr>\n",
       "      <th>2</th>\n",
       "      <td>8904.323944</td>\n",
       "      <td>10716.500000</td>\n",
       "      <td>16322.852113</td>\n",
       "      <td>1652.612676</td>\n",
       "      <td>7269.507042</td>\n",
       "      <td>1753.436620</td>\n",
       "    </tr>\n",
       "  </tbody>\n",
       "</table>\n",
       "</div>"
      ],
      "text/plain": [
       "                Fresh          Milk       Grocery       Frozen  \\\n",
       "Channel                                                          \n",
       "1        13475.560403   3451.724832   3962.137584  3748.251678   \n",
       "2         8904.323944  10716.500000  16322.852113  1652.612676   \n",
       "\n",
       "         Detergents_Paper   Delicassen  \n",
       "Channel                                 \n",
       "1              790.560403  1415.956376  \n",
       "2             7269.507042  1753.436620  "
      ]
     },
     "execution_count": 100,
     "metadata": {},
     "output_type": "execute_result"
    }
   ],
   "source": [
    "#We can use groupby to get a better idea of how the continous variables relate to target variable, we can inspect the means in relation to the Channel\n",
    "wholesale.groupby('Channel').mean()"
   ]
  },
  {
   "cell_type": "code",
   "execution_count": 101,
   "id": "899ab1a9",
   "metadata": {},
   "outputs": [],
   "source": [
    "#From initial observations, it appears that:\n",
    "#    Channel 2 appears to have higher spending in Milk, Grocery, and Detergents_Paper\n",
    "#    Channel 1 appears to have slightly more spending in Fresh, and Frozen\n",
    "#       However, the averages of 'Fresh' may appear closer than expected due to outlier value of 112151 spent in fresh (which was a member of channel 1)"
   ]
  },
  {
   "cell_type": "markdown",
   "id": "de664a05",
   "metadata": {},
   "source": [
    "## OMIT THIS SECTION MAYBE?"
   ]
  },
  {
   "cell_type": "code",
   "execution_count": 102,
   "id": "4e76a624",
   "metadata": {},
   "outputs": [
    {
     "data": {
      "image/png": "[encoded data removed]",
      "text/plain": [
       "<Figure size 432x288 with 1 Axes>"
      ]
     },
     "metadata": {
      "needs_background": "light"
     },
     "output_type": "display_data"
    },
    {
     "data": {
      "image/png": "[encoded data removed]",
      "text/plain": [
       "<Figure size 432x288 with 1 Axes>"
      ]
     },
     "metadata": {
      "needs_background": "light"
     },
     "output_type": "display_data"
    },
    {
     "data": {
      "image/png": "[encoded data removed]",
      "text/plain": [
       "<Figure size 432x288 with 1 Axes>"
      ]
     },
     "metadata": {
      "needs_background": "light"
     },
     "output_type": "display_data"
    },
    {
     "data": {
      "image/png": "[encoded data removed]",
      "text/plain": [
       "<Figure size 432x288 with 1 Axes>"
      ]
     },
     "metadata": {
      "needs_background": "light"
     },
     "output_type": "display_data"
    },
    {
     "data": {
      "image/png": "[encoded data removed]",
      "text/plain": [
       "<Figure size 432x288 with 1 Axes>"
      ]
     },
     "metadata": {
      "needs_background": "light"
     },
     "output_type": "display_data"
    },
    {
     "data": {
      "image/png": "[encoded data removed]",
      "text/plain": [
       "<Figure size 432x288 with 1 Axes>"
      ]
     },
     "metadata": {
      "needs_background": "light"
     },
     "output_type": "display_data"
    }
   ],
   "source": [
    "#We can get a visual representation below\n",
    "for i in ['Fresh', 'Milk', 'Grocery', 'Frozen', 'Detergents_Paper', 'Delicassen']: #For every feature\n",
    "    c1 = list(wholesale[wholesale['Channel'] == 1][i].dropna()) #Drop null references\n",
    "    c2 = list(wholesale[wholesale['Channel'] == 2][i].dropna())\n",
    "    xmin = min(min(c1), min(c2)) #Dimensions of the plot\n",
    "    xmax = max(max(c1), max(c2))\n",
    "    width = (xmax - xmin) / 40\n",
    "    #Draw the plots, arranging adelie as red, gentoo as green, chinstrap as blue\n",
    "    sns.distplot(c1, color='r', kde=False, bins=np.arange(xmin, xmax, width)) \n",
    "    sns.distplot(c2, color='g', kde=False, bins=np.arange(xmin, xmax, width))\n",
    "    plt.legend(['1', '2']) #Legends for plot\n",
    "    plt.title('Overlaid histogram for {}'.format(i)) #Title\n",
    "    plt.show()"
   ]
  },
  {
   "cell_type": "code",
   "execution_count": 103,
   "id": "d1a1e9fe",
   "metadata": {},
   "outputs": [],
   "source": [
    "#Observation: Channel 1 appears to have many people who only spend small amounts in each category\n",
    "#    There are only a select few customers in each category who spend large amounts\n",
    "#    Clients in channel 1 appear more likely to spend less\n",
    "#    Clients in channel 1 appear more likely to spend more in Fresh \n",
    "#Observation: Customers in Clients of 2 have more spread out spending patterns, some more likely to spend more compared to their Channel 1 counterparts\n",
    "#    In particular, clients in channel 2 are more likely to spend in Detergents_Paper, Grocery, Milk\n",
    "#    Clients of channel 2 appear more likely to spend more"
   ]
  },
  {
   "cell_type": "markdown",
   "id": "72aee165",
   "metadata": {},
   "source": [
    "## END OMIT"
   ]
  },
  {
   "cell_type": "markdown",
   "id": "ef9a5404",
   "metadata": {},
   "source": [
    "## Explore Categorical Features"
   ]
  },
  {
   "cell_type": "code",
   "execution_count": 104,
   "id": "6c1098ee",
   "metadata": {},
   "outputs": [
    {
     "data": {
      "text/html": [
       "<div>\n",
       "<style scoped>\n",
       "    .dataframe tbody tr th:only-of-type {\n",
       "        vertical-align: middle;\n",
       "    }\n",
       "\n",
       "    .dataframe tbody tr th {\n",
       "        vertical-align: top;\n",
       "    }\n",
       "\n",
       "    .dataframe thead th {\n",
       "        text-align: right;\n",
       "    }\n",
       "</style>\n",
       "<table border=\"1\" class=\"dataframe\">\n",
       "  <thead>\n",
       "    <tr style=\"text-align: right;\">\n",
       "      <th></th>\n",
       "      <th>Channel</th>\n",
       "      <th>Region</th>\n",
       "    </tr>\n",
       "  </thead>\n",
       "  <tbody>\n",
       "    <tr>\n",
       "      <th>0</th>\n",
       "      <td>2</td>\n",
       "      <td>3</td>\n",
       "    </tr>\n",
       "    <tr>\n",
       "      <th>1</th>\n",
       "      <td>2</td>\n",
       "      <td>3</td>\n",
       "    </tr>\n",
       "    <tr>\n",
       "      <th>2</th>\n",
       "      <td>2</td>\n",
       "      <td>3</td>\n",
       "    </tr>\n",
       "    <tr>\n",
       "      <th>3</th>\n",
       "      <td>1</td>\n",
       "      <td>3</td>\n",
       "    </tr>\n",
       "    <tr>\n",
       "      <th>4</th>\n",
       "      <td>2</td>\n",
       "      <td>3</td>\n",
       "    </tr>\n",
       "  </tbody>\n",
       "</table>\n",
       "</div>"
      ],
      "text/plain": [
       "   Channel  Region\n",
       "0        2       3\n",
       "1        2       3\n",
       "2        2       3\n",
       "3        1       3\n",
       "4        2       3"
      ]
     },
     "execution_count": 104,
     "metadata": {},
     "output_type": "execute_result"
    }
   ],
   "source": [
    "#Drop all continous features\n",
    "#I.e., drop all features but 'Region' and 'Channel'\n",
    "wholesale = pd.read_csv('Wholesale customers data.csv')\n",
    "cont_feat = ['Fresh', 'Milk', 'Grocery', 'Frozen', 'Detergents_Paper', 'Delicassen']\n",
    "wholesale.drop(cont_feat, axis=1, inplace=True)\n",
    "wholesale.head()"
   ]
  },
  {
   "cell_type": "code",
   "execution_count": 105,
   "id": "6285958f",
   "metadata": {},
   "outputs": [
    {
     "data": {
      "text/plain": [
       "Channel    0\n",
       "Region     0\n",
       "dtype: int64"
      ]
     },
     "execution_count": 105,
     "metadata": {},
     "output_type": "execute_result"
    }
   ],
   "source": [
    "# Check if there are any missing values\n",
    "wholesale.isnull().sum()"
   ]
  },
  {
   "cell_type": "code",
   "execution_count": 106,
   "id": "ddea3db7",
   "metadata": {},
   "outputs": [
    {
     "data": {
      "text/html": [
       "<div>\n",
       "<style scoped>\n",
       "    .dataframe tbody tr th:only-of-type {\n",
       "        vertical-align: middle;\n",
       "    }\n",
       "\n",
       "    .dataframe tbody tr th {\n",
       "        vertical-align: top;\n",
       "    }\n",
       "\n",
       "    .dataframe thead th {\n",
       "        text-align: right;\n",
       "    }\n",
       "</style>\n",
       "<table border=\"1\" class=\"dataframe\">\n",
       "  <thead>\n",
       "    <tr style=\"text-align: right;\">\n",
       "      <th></th>\n",
       "      <th>Region</th>\n",
       "    </tr>\n",
       "    <tr>\n",
       "      <th>Channel</th>\n",
       "      <th></th>\n",
       "    </tr>\n",
       "  </thead>\n",
       "  <tbody>\n",
       "    <tr>\n",
       "      <th>1</th>\n",
       "      <td>2.510067</td>\n",
       "    </tr>\n",
       "    <tr>\n",
       "      <th>2</th>\n",
       "      <td>2.612676</td>\n",
       "    </tr>\n",
       "  </tbody>\n",
       "</table>\n",
       "</div>"
      ],
      "text/plain": [
       "           Region\n",
       "Channel          \n",
       "1        2.510067\n",
       "2        2.612676"
      ]
     },
     "execution_count": 106,
     "metadata": {},
     "output_type": "execute_result"
    }
   ],
   "source": [
    "#We can observe here there are also no null values, so we do not need to worry about having to treat any values\n",
    "#Additionally recall, from earlier, Region can be one of three values, (1,2,3)\n",
    "#We can check the relationship with target with groupby\n",
    "wholesale.groupby('Channel').mean()"
   ]
  },
  {
   "cell_type": "code",
   "execution_count": 107,
   "id": "1ddc54a3",
   "metadata": {},
   "outputs": [
    {
     "data": {
      "text/plain": [
       "<Figure size 432x288 with 0 Axes>"
      ]
     },
     "metadata": {},
     "output_type": "display_data"
    },
    {
     "data": {
      "image/png": "[encoded data removed]",
      "text/plain": [
       "<Figure size 720x360 with 1 Axes>"
      ]
     },
     "metadata": {
      "needs_background": "light"
     },
     "output_type": "display_data"
    }
   ],
   "source": [
    "#From earlier, we also observed that the most of the Region values are 3\n",
    "#There appears to be no clear disinction if a channel favours a specific region from this\n",
    "#Plot categorical features to find any pattern\n",
    "# Plot categorical features\n",
    "for i, col in enumerate(['Region']):\n",
    "    plt.figure(i)\n",
    "    sns.catplot(x=col, y='Channel', data=wholesale, kind='point', aspect=2, )"
   ]
  },
  {
   "cell_type": "code",
   "execution_count": 108,
   "id": "c998d322",
   "metadata": {},
   "outputs": [],
   "source": [
    "# Once again, region appears to have no significant impact on determining the channel"
   ]
  },
  {
   "cell_type": "markdown",
   "id": "dd2696b5",
   "metadata": {},
   "source": [
    "# Exploratory Data Analysis Conclusions\n",
    "\n",
    "* Grocery and Detergents_Paper features are the strongest correlated features to target variable 'Channel', with a correlation of ~0.6\n",
    "* Clients in channel 1 are more likely to spend less, with a select few in channel 1 spending more\n",
    "* Clients in channel 2 have more spread out spending patterns, where clients in channel 2 more often spend more than their channel 1 counterparts\n",
    "* Channel 2 typically has higher spending in Milk, Grocery, and Detergents_Paper\n",
    "* Clients in channel 1 appear more likely to spend more in Fresh\n",
    "* Region appears to have no impact on the Channel"
   ]
  },
  {
   "cell_type": "markdown",
   "id": "624851f8",
   "metadata": {},
   "source": [
    "# Clean data\n",
    "\n",
    "We read in our data again and begin clean using the lessons we learned from our exploratory data analysis"
   ]
  },
  {
   "cell_type": "markdown",
   "id": "9e467342",
   "metadata": {},
   "source": [
    "## Cap and Floor data to remove outliers\n",
    "\n",
    "We remove outliers in our data so that it does not chase outliers and focuses on the actual trends of our data"
   ]
  },
  {
   "cell_type": "code",
   "execution_count": 109,
   "id": "8342cca6",
   "metadata": {},
   "outputs": [
    {
     "data": {
      "text/html": [
       "<div>\n",
       "<style scoped>\n",
       "    .dataframe tbody tr th:only-of-type {\n",
       "        vertical-align: middle;\n",
       "    }\n",
       "\n",
       "    .dataframe tbody tr th {\n",
       "        vertical-align: top;\n",
       "    }\n",
       "\n",
       "    .dataframe thead th {\n",
       "        text-align: right;\n",
       "    }\n",
       "</style>\n",
       "<table border=\"1\" class=\"dataframe\">\n",
       "  <thead>\n",
       "    <tr style=\"text-align: right;\">\n",
       "      <th></th>\n",
       "      <th>Channel</th>\n",
       "      <th>Region</th>\n",
       "      <th>Fresh</th>\n",
       "      <th>Milk</th>\n",
       "      <th>Grocery</th>\n",
       "      <th>Frozen</th>\n",
       "      <th>Detergents_Paper</th>\n",
       "      <th>Delicassen</th>\n",
       "    </tr>\n",
       "  </thead>\n",
       "  <tbody>\n",
       "    <tr>\n",
       "      <th>0</th>\n",
       "      <td>2</td>\n",
       "      <td>3</td>\n",
       "      <td>12669</td>\n",
       "      <td>9656</td>\n",
       "      <td>7561</td>\n",
       "      <td>214</td>\n",
       "      <td>2674</td>\n",
       "      <td>1338</td>\n",
       "    </tr>\n",
       "    <tr>\n",
       "      <th>1</th>\n",
       "      <td>2</td>\n",
       "      <td>3</td>\n",
       "      <td>7057</td>\n",
       "      <td>9810</td>\n",
       "      <td>9568</td>\n",
       "      <td>1762</td>\n",
       "      <td>3293</td>\n",
       "      <td>1776</td>\n",
       "    </tr>\n",
       "    <tr>\n",
       "      <th>2</th>\n",
       "      <td>2</td>\n",
       "      <td>3</td>\n",
       "      <td>6353</td>\n",
       "      <td>8808</td>\n",
       "      <td>7684</td>\n",
       "      <td>2405</td>\n",
       "      <td>3516</td>\n",
       "      <td>7844</td>\n",
       "    </tr>\n",
       "    <tr>\n",
       "      <th>3</th>\n",
       "      <td>1</td>\n",
       "      <td>3</td>\n",
       "      <td>13265</td>\n",
       "      <td>1196</td>\n",
       "      <td>4221</td>\n",
       "      <td>6404</td>\n",
       "      <td>507</td>\n",
       "      <td>1788</td>\n",
       "    </tr>\n",
       "    <tr>\n",
       "      <th>4</th>\n",
       "      <td>2</td>\n",
       "      <td>3</td>\n",
       "      <td>22615</td>\n",
       "      <td>5410</td>\n",
       "      <td>7198</td>\n",
       "      <td>3915</td>\n",
       "      <td>1777</td>\n",
       "      <td>5185</td>\n",
       "    </tr>\n",
       "  </tbody>\n",
       "</table>\n",
       "</div>"
      ],
      "text/plain": [
       "   Channel  Region  Fresh  Milk  Grocery  Frozen  Detergents_Paper  Delicassen\n",
       "0        2       3  12669  9656     7561     214              2674        1338\n",
       "1        2       3   7057  9810     9568    1762              3293        1776\n",
       "2        2       3   6353  8808     7684    2405              3516        7844\n",
       "3        1       3  13265  1196     4221    6404               507        1788\n",
       "4        2       3  22615  5410     7198    3915              1777        5185"
      ]
     },
     "execution_count": 109,
     "metadata": {},
     "output_type": "execute_result"
    }
   ],
   "source": [
    "wholesale = pd.read_csv('Wholesale customers data.csv')\n",
    "wholesale.head()"
   ]
  },
  {
   "cell_type": "code",
   "execution_count": 110,
   "id": "116977c7",
   "metadata": {},
   "outputs": [],
   "source": [
    "# #We can check where outliers may be an issue in .describe()\n",
    "# wholesale.describe()"
   ]
  },
  {
   "cell_type": "markdown",
   "id": "c24c93d7",
   "metadata": {},
   "source": [
    "From the above, by inspection we can see that the max values for Fresh, Milk, and Grocery seem extreme. Additionally, the max spending for all features are much different than their means and standard deviations. Let's throughly analyze these to be sure these are outliers"
   ]
  },
  {
   "cell_type": "code",
   "execution_count": 111,
   "id": "c3a8a826",
   "metadata": {},
   "outputs": [],
   "source": [
    "# def detect_outlier(feature):\n",
    "#     outliers = []\n",
    "#     data = wholesale[feature]\n",
    "#     mean = np.mean(data)\n",
    "#     std =np.std(data)\n",
    "    \n",
    "    \n",
    "#     for y in data:\n",
    "#         z_score= (y - mean)/std \n",
    "#         if np.abs(z_score) > 3:\n",
    "#             outliers.append(y)\n",
    "#     print('\\nOutlier caps for {}:'.format(feature))\n",
    "#     print('  --95p: {:.1f} / {} values exceed that'.format(data.quantile(.95),\n",
    "#                                                              len([i for i in data\n",
    "#                                                                   if i > data.quantile(.95)])))\n",
    "#     print('  --3sd: {:.1f} / {} values exceed that'.format(mean + 3*(std), len(outliers)))\n",
    "#     print('  --99p: {:.1f} / {} values exceed that'.format(data.quantile(.99),\n",
    "#                                                            len([i for i in data\n",
    "#                                                                 if i > data.quantile(.99)])))\n",
    "\n",
    "# # Determine what the upperbound should be for our continuous features\n",
    "# for feat in ['Fresh', 'Milk', 'Grocery', 'Frozen', 'Detergents_Paper', 'Delicassen']:\n",
    "#     detect_outlier(feat)"
   ]
  },
  {
   "cell_type": "markdown",
   "id": "356238b9",
   "metadata": {},
   "source": [
    "Out of 440 total data points, there are not too many extreme outliers. Additionally, the 95th percentile capped values given seem fairly reasonable given:\n",
    "* the shape of the data from the histogram we have completed above  \n",
    "* the 25th to 75th percentile from the describe table \n",
    "\n",
    "As they do not deviating to the extremes from the ranges of values presented from those. We cap all continous features at the 95th percentile"
   ]
  },
  {
   "cell_type": "code",
   "execution_count": 112,
   "id": "dbd0dd81",
   "metadata": {},
   "outputs": [
    {
     "data": {
      "text/html": [
       "<div>\n",
       "<style scoped>\n",
       "    .dataframe tbody tr th:only-of-type {\n",
       "        vertical-align: middle;\n",
       "    }\n",
       "\n",
       "    .dataframe tbody tr th {\n",
       "        vertical-align: top;\n",
       "    }\n",
       "\n",
       "    .dataframe thead th {\n",
       "        text-align: right;\n",
       "    }\n",
       "</style>\n",
       "<table border=\"1\" class=\"dataframe\">\n",
       "  <thead>\n",
       "    <tr style=\"text-align: right;\">\n",
       "      <th></th>\n",
       "      <th>Channel</th>\n",
       "      <th>Region</th>\n",
       "      <th>Fresh</th>\n",
       "      <th>Milk</th>\n",
       "      <th>Grocery</th>\n",
       "      <th>Frozen</th>\n",
       "      <th>Detergents_Paper</th>\n",
       "      <th>Delicassen</th>\n",
       "      <th>Fresh_clean</th>\n",
       "      <th>Milk_clean</th>\n",
       "      <th>Grocery_clean</th>\n",
       "      <th>Frozen_clean</th>\n",
       "      <th>Detergents_Paper_clean</th>\n",
       "      <th>Delicassen_clean</th>\n",
       "    </tr>\n",
       "  </thead>\n",
       "  <tbody>\n",
       "    <tr>\n",
       "      <th>count</th>\n",
       "      <td>440.000000</td>\n",
       "      <td>440.000000</td>\n",
       "      <td>440.000000</td>\n",
       "      <td>440.000000</td>\n",
       "      <td>440.000000</td>\n",
       "      <td>440.000000</td>\n",
       "      <td>440.000000</td>\n",
       "      <td>440.000000</td>\n",
       "      <td>440.000000</td>\n",
       "      <td>440.000000</td>\n",
       "      <td>440.000000</td>\n",
       "      <td>440.000000</td>\n",
       "      <td>440.000000</td>\n",
       "      <td>440.000000</td>\n",
       "    </tr>\n",
       "    <tr>\n",
       "      <th>mean</th>\n",
       "      <td>1.322727</td>\n",
       "      <td>2.543182</td>\n",
       "      <td>12000.297727</td>\n",
       "      <td>5796.265909</td>\n",
       "      <td>7951.277273</td>\n",
       "      <td>3071.931818</td>\n",
       "      <td>2881.493182</td>\n",
       "      <td>1524.870455</td>\n",
       "      <td>12000.297727</td>\n",
       "      <td>5796.265909</td>\n",
       "      <td>7951.277273</td>\n",
       "      <td>3071.931818</td>\n",
       "      <td>2881.493182</td>\n",
       "      <td>1524.870455</td>\n",
       "    </tr>\n",
       "    <tr>\n",
       "      <th>std</th>\n",
       "      <td>0.468052</td>\n",
       "      <td>0.774272</td>\n",
       "      <td>12647.328865</td>\n",
       "      <td>7380.377175</td>\n",
       "      <td>9503.162829</td>\n",
       "      <td>4854.673333</td>\n",
       "      <td>4767.854448</td>\n",
       "      <td>2820.105937</td>\n",
       "      <td>12647.328865</td>\n",
       "      <td>7380.377175</td>\n",
       "      <td>9503.162829</td>\n",
       "      <td>4854.673333</td>\n",
       "      <td>4767.854448</td>\n",
       "      <td>2820.105937</td>\n",
       "    </tr>\n",
       "    <tr>\n",
       "      <th>min</th>\n",
       "      <td>1.000000</td>\n",
       "      <td>1.000000</td>\n",
       "      <td>3.000000</td>\n",
       "      <td>55.000000</td>\n",
       "      <td>3.000000</td>\n",
       "      <td>25.000000</td>\n",
       "      <td>3.000000</td>\n",
       "      <td>3.000000</td>\n",
       "      <td>3.000000</td>\n",
       "      <td>55.000000</td>\n",
       "      <td>3.000000</td>\n",
       "      <td>25.000000</td>\n",
       "      <td>3.000000</td>\n",
       "      <td>3.000000</td>\n",
       "    </tr>\n",
       "    <tr>\n",
       "      <th>25%</th>\n",
       "      <td>1.000000</td>\n",
       "      <td>2.000000</td>\n",
       "      <td>3127.750000</td>\n",
       "      <td>1533.000000</td>\n",
       "      <td>2153.000000</td>\n",
       "      <td>742.250000</td>\n",
       "      <td>256.750000</td>\n",
       "      <td>408.250000</td>\n",
       "      <td>3127.750000</td>\n",
       "      <td>1533.000000</td>\n",
       "      <td>2153.000000</td>\n",
       "      <td>742.250000</td>\n",
       "      <td>256.750000</td>\n",
       "      <td>408.250000</td>\n",
       "    </tr>\n",
       "    <tr>\n",
       "      <th>50%</th>\n",
       "      <td>1.000000</td>\n",
       "      <td>3.000000</td>\n",
       "      <td>8504.000000</td>\n",
       "      <td>3627.000000</td>\n",
       "      <td>4755.500000</td>\n",
       "      <td>1526.000000</td>\n",
       "      <td>816.500000</td>\n",
       "      <td>965.500000</td>\n",
       "      <td>8504.000000</td>\n",
       "      <td>3627.000000</td>\n",
       "      <td>4755.500000</td>\n",
       "      <td>1526.000000</td>\n",
       "      <td>816.500000</td>\n",
       "      <td>965.500000</td>\n",
       "    </tr>\n",
       "    <tr>\n",
       "      <th>75%</th>\n",
       "      <td>2.000000</td>\n",
       "      <td>3.000000</td>\n",
       "      <td>16933.750000</td>\n",
       "      <td>7190.250000</td>\n",
       "      <td>10655.750000</td>\n",
       "      <td>3554.250000</td>\n",
       "      <td>3922.000000</td>\n",
       "      <td>1820.250000</td>\n",
       "      <td>16933.750000</td>\n",
       "      <td>7190.250000</td>\n",
       "      <td>10655.750000</td>\n",
       "      <td>3554.250000</td>\n",
       "      <td>3922.000000</td>\n",
       "      <td>1820.250000</td>\n",
       "    </tr>\n",
       "    <tr>\n",
       "      <th>max</th>\n",
       "      <td>2.000000</td>\n",
       "      <td>3.000000</td>\n",
       "      <td>112151.000000</td>\n",
       "      <td>73498.000000</td>\n",
       "      <td>92780.000000</td>\n",
       "      <td>60869.000000</td>\n",
       "      <td>40827.000000</td>\n",
       "      <td>47943.000000</td>\n",
       "      <td>112151.000000</td>\n",
       "      <td>73498.000000</td>\n",
       "      <td>92780.000000</td>\n",
       "      <td>60869.000000</td>\n",
       "      <td>40827.000000</td>\n",
       "      <td>47943.000000</td>\n",
       "    </tr>\n",
       "  </tbody>\n",
       "</table>\n",
       "</div>"
      ],
      "text/plain": [
       "          Channel      Region          Fresh          Milk       Grocery  \\\n",
       "count  440.000000  440.000000     440.000000    440.000000    440.000000   \n",
       "mean     1.322727    2.543182   12000.297727   5796.265909   7951.277273   \n",
       "std      0.468052    0.774272   12647.328865   7380.377175   9503.162829   \n",
       "min      1.000000    1.000000       3.000000     55.000000      3.000000   \n",
       "25%      1.000000    2.000000    3127.750000   1533.000000   2153.000000   \n",
       "50%      1.000000    3.000000    8504.000000   3627.000000   4755.500000   \n",
       "75%      2.000000    3.000000   16933.750000   7190.250000  10655.750000   \n",
       "max      2.000000    3.000000  112151.000000  73498.000000  92780.000000   \n",
       "\n",
       "             Frozen  Detergents_Paper    Delicassen    Fresh_clean  \\\n",
       "count    440.000000        440.000000    440.000000     440.000000   \n",
       "mean    3071.931818       2881.493182   1524.870455   12000.297727   \n",
       "std     4854.673333       4767.854448   2820.105937   12647.328865   \n",
       "min       25.000000          3.000000      3.000000       3.000000   \n",
       "25%      742.250000        256.750000    408.250000    3127.750000   \n",
       "50%     1526.000000        816.500000    965.500000    8504.000000   \n",
       "75%     3554.250000       3922.000000   1820.250000   16933.750000   \n",
       "max    60869.000000      40827.000000  47943.000000  112151.000000   \n",
       "\n",
       "         Milk_clean  Grocery_clean  Frozen_clean  Detergents_Paper_clean  \\\n",
       "count    440.000000     440.000000    440.000000              440.000000   \n",
       "mean    5796.265909    7951.277273   3071.931818             2881.493182   \n",
       "std     7380.377175    9503.162829   4854.673333             4767.854448   \n",
       "min       55.000000       3.000000     25.000000                3.000000   \n",
       "25%     1533.000000    2153.000000    742.250000              256.750000   \n",
       "50%     3627.000000    4755.500000   1526.000000              816.500000   \n",
       "75%     7190.250000   10655.750000   3554.250000             3922.000000   \n",
       "max    73498.000000   92780.000000  60869.000000            40827.000000   \n",
       "\n",
       "       Delicassen_clean  \n",
       "count        440.000000  \n",
       "mean        1524.870455  \n",
       "std         2820.105937  \n",
       "min            3.000000  \n",
       "25%          408.250000  \n",
       "50%          965.500000  \n",
       "75%         1820.250000  \n",
       "max        47943.000000  "
      ]
     },
     "execution_count": 112,
     "metadata": {},
     "output_type": "execute_result"
    }
   ],
   "source": [
    "#Capping features\n",
    "wholesale['Fresh_clean'] = wholesale['Fresh']#.clip(upper=wholesale['Fresh'].quantile(.95))\n",
    "wholesale['Milk_clean'] = wholesale['Milk']#.clip(upper=wholesale['Milk'].quantile(.95))\n",
    "wholesale['Grocery_clean'] = wholesale['Grocery']#.clip(upper=wholesale['Grocery'].quantile(.95))\n",
    "wholesale['Frozen_clean'] = wholesale['Frozen']#.clip(upper=wholesale['Frozen'].quantile(.95))\n",
    "wholesale['Detergents_Paper_clean'] = wholesale['Detergents_Paper']#.clip(upper=wholesale['Detergents_Paper'].quantile(.95))\n",
    "wholesale['Delicassen_clean'] = wholesale['Delicassen']#.clip(upper=wholesale['Delicassen'].quantile(.95))\n",
    "\n",
    "#Verify capping was successful by describing the data\n",
    "wholesale.describe()"
   ]
  },
  {
   "cell_type": "markdown",
   "id": "e4a55b93",
   "metadata": {},
   "source": [
    "## Transform Skewed Features\n",
    "\n",
    "From inspection of our above histograms, there are long tails in our data, which can be problematic because our models will likely go chasing the tail instead of focusing on where the bulk of the data is."
   ]
  },
  {
   "cell_type": "code",
   "execution_count": 113,
   "id": "2773ff5a",
   "metadata": {},
   "outputs": [],
   "source": [
    "# # Read in data\n",
    "\n",
    "# import matplotlib.pyplot as plt\n",
    "# import scipy.stats\n",
    "# from statsmodels.graphics.gofplots import qqplot\n",
    "# from scipy.stats import boxcox\n",
    "# import seaborn as sns\n",
    "# %matplotlib inline\n",
    "\n",
    "# wholesale.head()"
   ]
  },
  {
   "cell_type": "code",
   "execution_count": 114,
   "id": "7abb79f2",
   "metadata": {},
   "outputs": [],
   "source": [
    "# # Plot histogram for each continuous feature to see if a transformation is necessary\n",
    "# # we need to see if either features are even skewed\n",
    "# for feature in ['Fresh_clean', 'Milk_clean', 'Grocery_clean', 'Frozen_clean', 'Detergents_Paper_clean', 'Delicassen_clean']:\n",
    "#     sns.distplot(wholesale[feature], kde=False)\n",
    "#     plt.title('Histogram for {}'.format(feature))\n",
    "#     plt.show()"
   ]
  },
  {
   "cell_type": "markdown",
   "id": "a276e8fa",
   "metadata": {},
   "source": [
    "Boxcox documentation provided by: https://docs.scipy.org/doc/scipy/reference/generated/scipy.stats.boxcox.html"
   ]
  },
  {
   "cell_type": "code",
   "execution_count": 115,
   "id": "dd630284",
   "metadata": {},
   "outputs": [],
   "source": [
    "# #Apply boxcox transformation from the scipy library\n",
    "# for i in wholesale.columns[8:]:\n",
    "#     #Add generic variables maxlog and ci as boxcox returns 3 args\n",
    "#     #See above for documentation\n",
    "#     wholesale[i], maxlog, ci=boxcox(wholesale[i]+0.0000001, alpha=0.05)\n",
    "                                                                \n",
    "\n",
    "# wholesale.hist(figsize=(20,10),bins=30, color='lightblue', edgecolor='black')\n",
    "# plt.show()\n",
    "# # for feature in ['Fresh_clean', 'Milk_clean', 'Grocery_clean', 'Frozen_clean', 'Detergents_Paper_clean', 'Delicassen_clean']:\n",
    "# #     sns.distplot(wholesale[feature], kde=False)\n",
    "# #     plt.title('Histogram for {}'.format(feature))\n",
    "# #     plt.show()"
   ]
  },
  {
   "cell_type": "markdown",
   "id": "622c22ab",
   "metadata": {},
   "source": [
    "# Export Cleaned data"
   ]
  },
  {
   "cell_type": "code",
   "execution_count": 116,
   "id": "846ca8d4",
   "metadata": {},
   "outputs": [],
   "source": [
    "#Note: We drop region from this data as it does not contribute to finding the channel\n",
    "cleaned_features = ['Channel', 'Fresh_clean', 'Milk_clean', 'Grocery_clean', 'Frozen_clean', 'Detergents_Paper_clean', 'Delicassen_clean']\n",
    "wholesale[cleaned_features].to_csv('wholesale_cleaned.csv', index=False)"
   ]
  },
  {
   "cell_type": "markdown",
   "id": "80b583dd",
   "metadata": {},
   "source": [
    "# Implement Feature Scaling"
   ]
  },
  {
   "cell_type": "code",
   "execution_count": 117,
   "id": "16369a9a",
   "metadata": {},
   "outputs": [
    {
     "data": {
      "text/html": [
       "<div>\n",
       "<style scoped>\n",
       "    .dataframe tbody tr th:only-of-type {\n",
       "        vertical-align: middle;\n",
       "    }\n",
       "\n",
       "    .dataframe tbody tr th {\n",
       "        vertical-align: top;\n",
       "    }\n",
       "\n",
       "    .dataframe thead th {\n",
       "        text-align: right;\n",
       "    }\n",
       "</style>\n",
       "<table border=\"1\" class=\"dataframe\">\n",
       "  <thead>\n",
       "    <tr style=\"text-align: right;\">\n",
       "      <th></th>\n",
       "      <th>Channel</th>\n",
       "      <th>Fresh_clean</th>\n",
       "      <th>Milk_clean</th>\n",
       "      <th>Grocery_clean</th>\n",
       "      <th>Frozen_clean</th>\n",
       "      <th>Detergents_Paper_clean</th>\n",
       "      <th>Delicassen_clean</th>\n",
       "    </tr>\n",
       "  </thead>\n",
       "  <tbody>\n",
       "    <tr>\n",
       "      <th>0</th>\n",
       "      <td>2</td>\n",
       "      <td>12669</td>\n",
       "      <td>9656</td>\n",
       "      <td>7561</td>\n",
       "      <td>214</td>\n",
       "      <td>2674</td>\n",
       "      <td>1338</td>\n",
       "    </tr>\n",
       "    <tr>\n",
       "      <th>1</th>\n",
       "      <td>2</td>\n",
       "      <td>7057</td>\n",
       "      <td>9810</td>\n",
       "      <td>9568</td>\n",
       "      <td>1762</td>\n",
       "      <td>3293</td>\n",
       "      <td>1776</td>\n",
       "    </tr>\n",
       "    <tr>\n",
       "      <th>2</th>\n",
       "      <td>2</td>\n",
       "      <td>6353</td>\n",
       "      <td>8808</td>\n",
       "      <td>7684</td>\n",
       "      <td>2405</td>\n",
       "      <td>3516</td>\n",
       "      <td>7844</td>\n",
       "    </tr>\n",
       "    <tr>\n",
       "      <th>3</th>\n",
       "      <td>1</td>\n",
       "      <td>13265</td>\n",
       "      <td>1196</td>\n",
       "      <td>4221</td>\n",
       "      <td>6404</td>\n",
       "      <td>507</td>\n",
       "      <td>1788</td>\n",
       "    </tr>\n",
       "    <tr>\n",
       "      <th>4</th>\n",
       "      <td>2</td>\n",
       "      <td>22615</td>\n",
       "      <td>5410</td>\n",
       "      <td>7198</td>\n",
       "      <td>3915</td>\n",
       "      <td>1777</td>\n",
       "      <td>5185</td>\n",
       "    </tr>\n",
       "  </tbody>\n",
       "</table>\n",
       "</div>"
      ],
      "text/plain": [
       "   Channel  Fresh_clean  Milk_clean  Grocery_clean  Frozen_clean  \\\n",
       "0        2        12669        9656           7561           214   \n",
       "1        2         7057        9810           9568          1762   \n",
       "2        2         6353        8808           7684          2405   \n",
       "3        1        13265        1196           4221          6404   \n",
       "4        2        22615        5410           7198          3915   \n",
       "\n",
       "   Detergents_Paper_clean  Delicassen_clean  \n",
       "0                    2674              1338  \n",
       "1                    3293              1776  \n",
       "2                    3516              7844  \n",
       "3                     507              1788  \n",
       "4                    1777              5185  "
      ]
     },
     "execution_count": 117,
     "metadata": {},
     "output_type": "execute_result"
    }
   ],
   "source": [
    "# Some libraries tend to be in flux for their dependency versions\n",
    "import warnings\n",
    "warnings.simplefilter(\"ignore\")\n",
    "\n",
    "import matplotlib.pyplot as plt\n",
    "\n",
    "import numpy as np\n",
    "import pandas as pd\n",
    "import sklearn\n",
    "from sklearn import datasets\n",
    "from sklearn.model_selection import train_test_split\n",
    "\n",
    "%matplotlib inline\n",
    "\n",
    "wholesale = pd.read_csv('wholesale_cleaned.csv')\n",
    "wholesale.head()\n"
   ]
  },
  {
   "cell_type": "code",
   "execution_count": 118,
   "id": "986db386",
   "metadata": {},
   "outputs": [
    {
     "data": {
      "text/html": [
       "<div>\n",
       "<style scoped>\n",
       "    .dataframe tbody tr th:only-of-type {\n",
       "        vertical-align: middle;\n",
       "    }\n",
       "\n",
       "    .dataframe tbody tr th {\n",
       "        vertical-align: top;\n",
       "    }\n",
       "\n",
       "    .dataframe thead th {\n",
       "        text-align: right;\n",
       "    }\n",
       "</style>\n",
       "<table border=\"1\" class=\"dataframe\">\n",
       "  <thead>\n",
       "    <tr style=\"text-align: right;\">\n",
       "      <th></th>\n",
       "      <th>Channel</th>\n",
       "      <th>Fresh_clean</th>\n",
       "      <th>Milk_clean</th>\n",
       "      <th>Grocery_clean</th>\n",
       "      <th>Frozen_clean</th>\n",
       "      <th>Detergents_Paper_clean</th>\n",
       "      <th>Delicassen_clean</th>\n",
       "    </tr>\n",
       "  </thead>\n",
       "  <tbody>\n",
       "    <tr>\n",
       "      <th>count</th>\n",
       "      <td>440.000000</td>\n",
       "      <td>440.000000</td>\n",
       "      <td>440.000000</td>\n",
       "      <td>440.000000</td>\n",
       "      <td>440.000000</td>\n",
       "      <td>440.000000</td>\n",
       "      <td>440.000000</td>\n",
       "    </tr>\n",
       "    <tr>\n",
       "      <th>mean</th>\n",
       "      <td>1.322727</td>\n",
       "      <td>12000.297727</td>\n",
       "      <td>5796.265909</td>\n",
       "      <td>7951.277273</td>\n",
       "      <td>3071.931818</td>\n",
       "      <td>2881.493182</td>\n",
       "      <td>1524.870455</td>\n",
       "    </tr>\n",
       "    <tr>\n",
       "      <th>std</th>\n",
       "      <td>0.468052</td>\n",
       "      <td>12647.328865</td>\n",
       "      <td>7380.377175</td>\n",
       "      <td>9503.162829</td>\n",
       "      <td>4854.673333</td>\n",
       "      <td>4767.854448</td>\n",
       "      <td>2820.105937</td>\n",
       "    </tr>\n",
       "    <tr>\n",
       "      <th>min</th>\n",
       "      <td>1.000000</td>\n",
       "      <td>3.000000</td>\n",
       "      <td>55.000000</td>\n",
       "      <td>3.000000</td>\n",
       "      <td>25.000000</td>\n",
       "      <td>3.000000</td>\n",
       "      <td>3.000000</td>\n",
       "    </tr>\n",
       "    <tr>\n",
       "      <th>25%</th>\n",
       "      <td>1.000000</td>\n",
       "      <td>3127.750000</td>\n",
       "      <td>1533.000000</td>\n",
       "      <td>2153.000000</td>\n",
       "      <td>742.250000</td>\n",
       "      <td>256.750000</td>\n",
       "      <td>408.250000</td>\n",
       "    </tr>\n",
       "    <tr>\n",
       "      <th>50%</th>\n",
       "      <td>1.000000</td>\n",
       "      <td>8504.000000</td>\n",
       "      <td>3627.000000</td>\n",
       "      <td>4755.500000</td>\n",
       "      <td>1526.000000</td>\n",
       "      <td>816.500000</td>\n",
       "      <td>965.500000</td>\n",
       "    </tr>\n",
       "    <tr>\n",
       "      <th>75%</th>\n",
       "      <td>2.000000</td>\n",
       "      <td>16933.750000</td>\n",
       "      <td>7190.250000</td>\n",
       "      <td>10655.750000</td>\n",
       "      <td>3554.250000</td>\n",
       "      <td>3922.000000</td>\n",
       "      <td>1820.250000</td>\n",
       "    </tr>\n",
       "    <tr>\n",
       "      <th>max</th>\n",
       "      <td>2.000000</td>\n",
       "      <td>112151.000000</td>\n",
       "      <td>73498.000000</td>\n",
       "      <td>92780.000000</td>\n",
       "      <td>60869.000000</td>\n",
       "      <td>40827.000000</td>\n",
       "      <td>47943.000000</td>\n",
       "    </tr>\n",
       "  </tbody>\n",
       "</table>\n",
       "</div>"
      ],
      "text/plain": [
       "          Channel    Fresh_clean    Milk_clean  Grocery_clean  Frozen_clean  \\\n",
       "count  440.000000     440.000000    440.000000     440.000000    440.000000   \n",
       "mean     1.322727   12000.297727   5796.265909    7951.277273   3071.931818   \n",
       "std      0.468052   12647.328865   7380.377175    9503.162829   4854.673333   \n",
       "min      1.000000       3.000000     55.000000       3.000000     25.000000   \n",
       "25%      1.000000    3127.750000   1533.000000    2153.000000    742.250000   \n",
       "50%      1.000000    8504.000000   3627.000000    4755.500000   1526.000000   \n",
       "75%      2.000000   16933.750000   7190.250000   10655.750000   3554.250000   \n",
       "max      2.000000  112151.000000  73498.000000   92780.000000  60869.000000   \n",
       "\n",
       "       Detergents_Paper_clean  Delicassen_clean  \n",
       "count              440.000000        440.000000  \n",
       "mean              2881.493182       1524.870455  \n",
       "std               4767.854448       2820.105937  \n",
       "min                  3.000000          3.000000  \n",
       "25%                256.750000        408.250000  \n",
       "50%                816.500000        965.500000  \n",
       "75%               3922.000000       1820.250000  \n",
       "max              40827.000000      47943.000000  "
      ]
     },
     "execution_count": 118,
     "metadata": {},
     "output_type": "execute_result"
    }
   ],
   "source": [
    "pd.DataFrame(wholesale).describe()"
   ]
  },
  {
   "cell_type": "code",
   "execution_count": 119,
   "id": "c5eb791e",
   "metadata": {},
   "outputs": [
    {
     "data": {
      "text/plain": [
       "<AxesSubplot:ylabel='Density'>"
      ]
     },
     "execution_count": 119,
     "metadata": {},
     "output_type": "execute_result"
    },
    {
     "data": {
      "image/png": "[encoded data removed]",
      "text/plain": [
       "<Figure size 432x288 with 1 Axes>"
      ]
     },
     "metadata": {
      "needs_background": "light"
     },
     "output_type": "display_data"
    }
   ],
   "source": [
    "pd.DataFrame(wholesale).plot(kind='kde')"
   ]
  },
  {
   "cell_type": "code",
   "execution_count": 120,
   "id": "e652453c",
   "metadata": {},
   "outputs": [
    {
     "data": {
      "text/plain": [
       "<AxesSubplot:ylabel='Frequency'>"
      ]
     },
     "execution_count": 120,
     "metadata": {},
     "output_type": "execute_result"
    },
    {
     "data": {
      "image/png": "[encoded data removed]",
      "text/plain": [
       "<Figure size 432x288 with 1 Axes>"
      ]
     },
     "metadata": {
      "needs_background": "light"
     },
     "output_type": "display_data"
    }
   ],
   "source": [
    "pd.DataFrame(wholesale).plot(kind='hist', bins=300)"
   ]
  },
  {
   "cell_type": "code",
   "execution_count": 121,
   "id": "a86e64ce",
   "metadata": {},
   "outputs": [
    {
     "data": {
      "text/plain": [
       "array([[ 1.44865163,  0.05293319,  0.52356777, -0.04111489, -0.58936716,\n",
       "        -0.04356873, -0.06633906],\n",
       "       [ 1.44865163, -0.39130197,  0.54445767,  0.17031835, -0.27013618,\n",
       "         0.08640684,  0.08915105],\n",
       "       [ 1.44865163, -0.44702926,  0.40853771, -0.0281571 , -0.13753572,\n",
       "         0.13323164,  2.24329255],\n",
       "       [-0.69029709,  0.10011141, -0.62401993, -0.3929769 ,  0.6871443 ,\n",
       "        -0.49858822,  0.09341105],\n",
       "       [ 1.44865163,  0.84023948, -0.05239645, -0.07935618,  0.17385884,\n",
       "        -0.23191782,  1.29934689]])"
      ]
     },
     "execution_count": 121,
     "metadata": {},
     "output_type": "execute_result"
    }
   ],
   "source": [
    "#Start with standard scaler\n",
    "from sklearn.preprocessing import StandardScaler\n",
    "scaled1 = StandardScaler().fit_transform(wholesale)\n",
    "scaled1[:5]"
   ]
  },
  {
   "cell_type": "code",
   "execution_count": 122,
   "id": "fae6036c",
   "metadata": {},
   "outputs": [
    {
     "data": {
      "text/html": [
       "<div>\n",
       "<style scoped>\n",
       "    .dataframe tbody tr th:only-of-type {\n",
       "        vertical-align: middle;\n",
       "    }\n",
       "\n",
       "    .dataframe tbody tr th {\n",
       "        vertical-align: top;\n",
       "    }\n",
       "\n",
       "    .dataframe thead th {\n",
       "        text-align: right;\n",
       "    }\n",
       "</style>\n",
       "<table border=\"1\" class=\"dataframe\">\n",
       "  <thead>\n",
       "    <tr style=\"text-align: right;\">\n",
       "      <th></th>\n",
       "      <th>0</th>\n",
       "      <th>1</th>\n",
       "      <th>2</th>\n",
       "      <th>3</th>\n",
       "      <th>4</th>\n",
       "      <th>5</th>\n",
       "      <th>6</th>\n",
       "    </tr>\n",
       "  </thead>\n",
       "  <tbody>\n",
       "    <tr>\n",
       "      <th>count</th>\n",
       "      <td>4.400000e+02</td>\n",
       "      <td>4.400000e+02</td>\n",
       "      <td>4.400000e+02</td>\n",
       "      <td>4.400000e+02</td>\n",
       "      <td>4.400000e+02</td>\n",
       "      <td>4.400000e+02</td>\n",
       "      <td>4.400000e+02</td>\n",
       "    </tr>\n",
       "    <tr>\n",
       "      <th>mean</th>\n",
       "      <td>-2.452584e-16</td>\n",
       "      <td>-2.422305e-17</td>\n",
       "      <td>-1.589638e-17</td>\n",
       "      <td>-6.030530e-17</td>\n",
       "      <td>1.135455e-17</td>\n",
       "      <td>-1.917658e-17</td>\n",
       "      <td>-8.276208e-17</td>\n",
       "    </tr>\n",
       "    <tr>\n",
       "      <th>std</th>\n",
       "      <td>1.001138e+00</td>\n",
       "      <td>1.001138e+00</td>\n",
       "      <td>1.001138e+00</td>\n",
       "      <td>1.001138e+00</td>\n",
       "      <td>1.001138e+00</td>\n",
       "      <td>1.001138e+00</td>\n",
       "      <td>1.001138e+00</td>\n",
       "    </tr>\n",
       "    <tr>\n",
       "      <th>min</th>\n",
       "      <td>-6.902971e-01</td>\n",
       "      <td>-9.496831e-01</td>\n",
       "      <td>-7.787951e-01</td>\n",
       "      <td>-8.373344e-01</td>\n",
       "      <td>-6.283430e-01</td>\n",
       "      <td>-6.044165e-01</td>\n",
       "      <td>-5.402644e-01</td>\n",
       "    </tr>\n",
       "    <tr>\n",
       "      <th>25%</th>\n",
       "      <td>-6.902971e-01</td>\n",
       "      <td>-7.023339e-01</td>\n",
       "      <td>-5.783063e-01</td>\n",
       "      <td>-6.108364e-01</td>\n",
       "      <td>-4.804306e-01</td>\n",
       "      <td>-5.511349e-01</td>\n",
       "      <td>-3.964005e-01</td>\n",
       "    </tr>\n",
       "    <tr>\n",
       "      <th>50%</th>\n",
       "      <td>-6.902971e-01</td>\n",
       "      <td>-2.767602e-01</td>\n",
       "      <td>-2.942580e-01</td>\n",
       "      <td>-3.366684e-01</td>\n",
       "      <td>-3.188045e-01</td>\n",
       "      <td>-4.336004e-01</td>\n",
       "      <td>-1.985766e-01</td>\n",
       "    </tr>\n",
       "    <tr>\n",
       "      <th>75%</th>\n",
       "      <td>1.448652e+00</td>\n",
       "      <td>3.905226e-01</td>\n",
       "      <td>1.890921e-01</td>\n",
       "      <td>2.849105e-01</td>\n",
       "      <td>9.946441e-02</td>\n",
       "      <td>2.184822e-01</td>\n",
       "      <td>1.048598e-01</td>\n",
       "    </tr>\n",
       "    <tr>\n",
       "      <th>max</th>\n",
       "      <td>1.448652e+00</td>\n",
       "      <td>7.927738e+00</td>\n",
       "      <td>9.183650e+00</td>\n",
       "      <td>8.936528e+00</td>\n",
       "      <td>1.191900e+01</td>\n",
       "      <td>7.967672e+00</td>\n",
       "      <td>1.647845e+01</td>\n",
       "    </tr>\n",
       "  </tbody>\n",
       "</table>\n",
       "</div>"
      ],
      "text/plain": [
       "                  0             1             2             3             4  \\\n",
       "count  4.400000e+02  4.400000e+02  4.400000e+02  4.400000e+02  4.400000e+02   \n",
       "mean  -2.452584e-16 -2.422305e-17 -1.589638e-17 -6.030530e-17  1.135455e-17   \n",
       "std    1.001138e+00  1.001138e+00  1.001138e+00  1.001138e+00  1.001138e+00   \n",
       "min   -6.902971e-01 -9.496831e-01 -7.787951e-01 -8.373344e-01 -6.283430e-01   \n",
       "25%   -6.902971e-01 -7.023339e-01 -5.783063e-01 -6.108364e-01 -4.804306e-01   \n",
       "50%   -6.902971e-01 -2.767602e-01 -2.942580e-01 -3.366684e-01 -3.188045e-01   \n",
       "75%    1.448652e+00  3.905226e-01  1.890921e-01  2.849105e-01  9.946441e-02   \n",
       "max    1.448652e+00  7.927738e+00  9.183650e+00  8.936528e+00  1.191900e+01   \n",
       "\n",
       "                  5             6  \n",
       "count  4.400000e+02  4.400000e+02  \n",
       "mean  -1.917658e-17 -8.276208e-17  \n",
       "std    1.001138e+00  1.001138e+00  \n",
       "min   -6.044165e-01 -5.402644e-01  \n",
       "25%   -5.511349e-01 -3.964005e-01  \n",
       "50%   -4.336004e-01 -1.985766e-01  \n",
       "75%    2.184822e-01  1.048598e-01  \n",
       "max    7.967672e+00  1.647845e+01  "
      ]
     },
     "execution_count": 122,
     "metadata": {},
     "output_type": "execute_result"
    }
   ],
   "source": [
    "pd.DataFrame(scaled1).describe()"
   ]
  },
  {
   "cell_type": "code",
   "execution_count": 123,
   "id": "8c8ea7f9",
   "metadata": {},
   "outputs": [
    {
     "data": {
      "text/plain": [
       "<AxesSubplot:ylabel='Density'>"
      ]
     },
     "execution_count": 123,
     "metadata": {},
     "output_type": "execute_result"
    },
    {
     "data": {
      "image/png": "[encoded data removed]",
      "text/plain": [
       "<Figure size 432x288 with 1 Axes>"
      ]
     },
     "metadata": {
      "needs_background": "light"
     },
     "output_type": "display_data"
    }
   ],
   "source": [
    "pd.DataFrame(scaled1).plot(kind='kde')\n"
   ]
  },
  {
   "cell_type": "code",
   "execution_count": 124,
   "id": "5feb74d1",
   "metadata": {},
   "outputs": [
    {
     "data": {
      "image/png": "[encoded data removed]",
      "text/plain": [
       "<Figure size 432x288 with 1 Axes>"
      ]
     },
     "metadata": {
      "needs_background": "light"
     },
     "output_type": "display_data"
    }
   ],
   "source": [
    "pd.DataFrame(scaled1).plot(kind='hist', bins=300);"
   ]
  },
  {
   "cell_type": "markdown",
   "id": "cece0692",
   "metadata": {},
   "source": [
    "### MinMaxScaler"
   ]
  },
  {
   "cell_type": "code",
   "execution_count": 125,
   "id": "279197dd",
   "metadata": {},
   "outputs": [
    {
     "data": {
      "text/plain": [
       "array([[1.        , 0.11294004, 0.13072723, 0.08146416, 0.0031063 ,\n",
       "        0.0654272 , 0.02784731],\n",
       "       [1.        , 0.06289903, 0.13282409, 0.10309667, 0.02854842,\n",
       "        0.08058985, 0.03698373],\n",
       "       [1.        , 0.05662161, 0.11918086, 0.08278992, 0.03911643,\n",
       "        0.08605232, 0.16355861],\n",
       "       [0.        , 0.11825445, 0.01553586, 0.04546385, 0.10484189,\n",
       "        0.01234568, 0.03723404],\n",
       "       [1.        , 0.20162642, 0.07291369, 0.07755155, 0.063934  ,\n",
       "        0.04345483, 0.10809345]])"
      ]
     },
     "execution_count": 125,
     "metadata": {},
     "output_type": "execute_result"
    }
   ],
   "source": [
    "from sklearn.preprocessing import MinMaxScaler\n",
    "scaled3 = MinMaxScaler().fit_transform(wholesale)\n",
    "#scaled3 = pd.DataFrame(scaled3, wholesale.columns)\n",
    "\n",
    "scaled3[:5]"
   ]
  },
  {
   "cell_type": "code",
   "execution_count": 126,
   "id": "c32613f9",
   "metadata": {},
   "outputs": [
    {
     "data": {
      "text/html": [
       "<div>\n",
       "<style scoped>\n",
       "    .dataframe tbody tr th:only-of-type {\n",
       "        vertical-align: middle;\n",
       "    }\n",
       "\n",
       "    .dataframe tbody tr th {\n",
       "        vertical-align: top;\n",
       "    }\n",
       "\n",
       "    .dataframe thead th {\n",
       "        text-align: right;\n",
       "    }\n",
       "</style>\n",
       "<table border=\"1\" class=\"dataframe\">\n",
       "  <thead>\n",
       "    <tr style=\"text-align: right;\">\n",
       "      <th></th>\n",
       "      <th>0</th>\n",
       "      <th>1</th>\n",
       "      <th>2</th>\n",
       "      <th>3</th>\n",
       "      <th>4</th>\n",
       "      <th>5</th>\n",
       "      <th>6</th>\n",
       "    </tr>\n",
       "  </thead>\n",
       "  <tbody>\n",
       "    <tr>\n",
       "      <th>count</th>\n",
       "      <td>440.000000</td>\n",
       "      <td>440.000000</td>\n",
       "      <td>440.000000</td>\n",
       "      <td>440.000000</td>\n",
       "      <td>440.000000</td>\n",
       "      <td>440.000000</td>\n",
       "      <td>440.000000</td>\n",
       "    </tr>\n",
       "    <tr>\n",
       "      <th>mean</th>\n",
       "      <td>0.322727</td>\n",
       "      <td>0.106977</td>\n",
       "      <td>0.078173</td>\n",
       "      <td>0.085671</td>\n",
       "      <td>0.050078</td>\n",
       "      <td>0.070510</td>\n",
       "      <td>0.031745</td>\n",
       "    </tr>\n",
       "    <tr>\n",
       "      <th>std</th>\n",
       "      <td>0.468052</td>\n",
       "      <td>0.112774</td>\n",
       "      <td>0.100491</td>\n",
       "      <td>0.102430</td>\n",
       "      <td>0.079789</td>\n",
       "      <td>0.116790</td>\n",
       "      <td>0.058826</td>\n",
       "    </tr>\n",
       "    <tr>\n",
       "      <th>min</th>\n",
       "      <td>0.000000</td>\n",
       "      <td>0.000000</td>\n",
       "      <td>0.000000</td>\n",
       "      <td>0.000000</td>\n",
       "      <td>0.000000</td>\n",
       "      <td>0.000000</td>\n",
       "      <td>0.000000</td>\n",
       "    </tr>\n",
       "    <tr>\n",
       "      <th>25%</th>\n",
       "      <td>0.000000</td>\n",
       "      <td>0.027863</td>\n",
       "      <td>0.020124</td>\n",
       "      <td>0.023174</td>\n",
       "      <td>0.011788</td>\n",
       "      <td>0.006216</td>\n",
       "      <td>0.008453</td>\n",
       "    </tr>\n",
       "    <tr>\n",
       "      <th>50%</th>\n",
       "      <td>0.000000</td>\n",
       "      <td>0.075802</td>\n",
       "      <td>0.048636</td>\n",
       "      <td>0.051225</td>\n",
       "      <td>0.024670</td>\n",
       "      <td>0.019927</td>\n",
       "      <td>0.020077</td>\n",
       "    </tr>\n",
       "    <tr>\n",
       "      <th>75%</th>\n",
       "      <td>1.000000</td>\n",
       "      <td>0.150968</td>\n",
       "      <td>0.097154</td>\n",
       "      <td>0.114821</td>\n",
       "      <td>0.058005</td>\n",
       "      <td>0.095997</td>\n",
       "      <td>0.037907</td>\n",
       "    </tr>\n",
       "    <tr>\n",
       "      <th>max</th>\n",
       "      <td>1.000000</td>\n",
       "      <td>1.000000</td>\n",
       "      <td>1.000000</td>\n",
       "      <td>1.000000</td>\n",
       "      <td>1.000000</td>\n",
       "      <td>1.000000</td>\n",
       "      <td>1.000000</td>\n",
       "    </tr>\n",
       "  </tbody>\n",
       "</table>\n",
       "</div>"
      ],
      "text/plain": [
       "                0           1           2           3           4           5  \\\n",
       "count  440.000000  440.000000  440.000000  440.000000  440.000000  440.000000   \n",
       "mean     0.322727    0.106977    0.078173    0.085671    0.050078    0.070510   \n",
       "std      0.468052    0.112774    0.100491    0.102430    0.079789    0.116790   \n",
       "min      0.000000    0.000000    0.000000    0.000000    0.000000    0.000000   \n",
       "25%      0.000000    0.027863    0.020124    0.023174    0.011788    0.006216   \n",
       "50%      0.000000    0.075802    0.048636    0.051225    0.024670    0.019927   \n",
       "75%      1.000000    0.150968    0.097154    0.114821    0.058005    0.095997   \n",
       "max      1.000000    1.000000    1.000000    1.000000    1.000000    1.000000   \n",
       "\n",
       "                6  \n",
       "count  440.000000  \n",
       "mean     0.031745  \n",
       "std      0.058826  \n",
       "min      0.000000  \n",
       "25%      0.008453  \n",
       "50%      0.020077  \n",
       "75%      0.037907  \n",
       "max      1.000000  "
      ]
     },
     "execution_count": 126,
     "metadata": {},
     "output_type": "execute_result"
    }
   ],
   "source": [
    "pd.DataFrame(scaled3).describe()"
   ]
  },
  {
   "cell_type": "code",
   "execution_count": 127,
   "id": "b4059314",
   "metadata": {},
   "outputs": [
    {
     "data": {
      "image/png": "[encoded data removed]",
      "text/plain": [
       "<Figure size 432x288 with 1 Axes>"
      ]
     },
     "metadata": {
      "needs_background": "light"
     },
     "output_type": "display_data"
    }
   ],
   "source": [
    "pd.DataFrame(scaled3).plot(kind='kde');"
   ]
  },
  {
   "cell_type": "code",
   "execution_count": 128,
   "id": "667b64a1",
   "metadata": {},
   "outputs": [
    {
     "data": {
      "image/png": "[encoded data removed]",
      "text/plain": [
       "<Figure size 432x288 with 1 Axes>"
      ]
     },
     "metadata": {
      "needs_background": "light"
     },
     "output_type": "display_data"
    }
   ],
   "source": [
    "pd.DataFrame(scaled3).plot(kind='hist', bins=300);"
   ]
  }
 ],
 "metadata": {
  "kernelspec": {
   "display_name": "Python 3.9.12 ('base')",
   "language": "python",
   "name": "python3"
  },
  "language_info": {
   "codemirror_mode": {
    "name": "ipython",
    "version": 3
   },
   "file_extension": ".py",
   "mimetype": "text/x-python",
   "name": "python",
   "nbconvert_exporter": "python",
   "pygments_lexer": "ipython3",
   "version": "3.9.12"
  },
  "vscode": {
   "interpreter": {
    "hash": "0f40ab2526fa8d1be48be0856e746aabd6f85c3c8b31ebfbd5c7c9ed05264adc"
   }
  }
 },
 "nbformat": 4,
 "nbformat_minor": 5
}
