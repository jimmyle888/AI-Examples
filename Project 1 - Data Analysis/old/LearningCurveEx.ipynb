{
 "cells": [
  {
   "cell_type": "code",
   "execution_count": 3,
   "metadata": {},
   "outputs": [
    {
     "name": "stdout",
     "output_type": "stream",
     "text": [
      "BEST PARAMS: {'max_depth': 32, 'n_estimators': 5}\n",
      "\n",
      "0.956 (+/-0.047) for {'max_depth': 2, 'n_estimators': 5}\n",
      "0.971 (+/-0.019) for {'max_depth': 2, 'n_estimators': 50}\n",
      "0.971 (+/-0.019) for {'max_depth': 2, 'n_estimators': 250}\n",
      "0.976 (+/-0.043) for {'max_depth': 4, 'n_estimators': 5}\n",
      "0.976 (+/-0.03) for {'max_depth': 4, 'n_estimators': 50}\n",
      "0.976 (+/-0.03) for {'max_depth': 4, 'n_estimators': 250}\n",
      "0.966 (+/-0.038) for {'max_depth': 8, 'n_estimators': 5}\n",
      "0.976 (+/-0.03) for {'max_depth': 8, 'n_estimators': 50}\n",
      "0.981 (+/-0.036) for {'max_depth': 8, 'n_estimators': 250}\n",
      "0.971 (+/-0.047) for {'max_depth': 16, 'n_estimators': 5}\n",
      "0.981 (+/-0.036) for {'max_depth': 16, 'n_estimators': 50}\n",
      "0.976 (+/-0.03) for {'max_depth': 16, 'n_estimators': 250}\n",
      "0.985 (+/-0.024) for {'max_depth': 32, 'n_estimators': 5}\n",
      "0.976 (+/-0.03) for {'max_depth': 32, 'n_estimators': 50}\n",
      "0.981 (+/-0.036) for {'max_depth': 32, 'n_estimators': 250}\n",
      "0.971 (+/-0.036) for {'max_depth': None, 'n_estimators': 5}\n",
      "0.971 (+/-0.036) for {'max_depth': None, 'n_estimators': 50}\n",
      "0.981 (+/-0.036) for {'max_depth': None, 'n_estimators': 250}\n",
      "[learning_curve] Training set sizes: [  1   4   8  11  14  18  21  24  28  31  34  38  41  44  48  51  54  57\n",
      "  61  64  67  71  74  77  81  84  87  91  94  97 101 104 107 110 114 117\n",
      " 120 124 127 130 134 137 140 144 147 150 154 157 160 164]\n"
     ]
    },
    {
     "name": "stderr",
     "output_type": "stream",
     "text": [
      "[Parallel(n_jobs=-1)]: Using backend LokyBackend with 4 concurrent workers.\n",
      "[Parallel(n_jobs=-1)]: Done 250 out of 250 | elapsed:   17.7s finished\n"
     ]
    },
    {
     "data": {
      "text/plain": [
       "<matplotlib.legend.Legend at 0x21a998334f0>"
      ]
     },
     "execution_count": 3,
     "metadata": {},
     "output_type": "execute_result"
    },
    {
     "data": {
      "image/png": "[encoded data removed]",
      "text/plain": [
       "<Figure size 432x288 with 1 Axes>"
      ]
     },
     "metadata": {
      "needs_background": "light"
     },
     "output_type": "display_data"
    }
   ],
   "source": [
    "## Random Forest: Fit and Evaluate\n",
    "import joblib\n",
    "import matplotlib.pyplot as plt\n",
    "import numpy as np\n",
    "import pandas as pd\n",
    "import seaborn as sns\n",
    "%matplotlib inline\n",
    "from sklearn.ensemble import RandomForestClassifier\n",
    "from sklearn.model_selection import GridSearchCV\n",
    "from sklearn.model_selection import learning_curve\n",
    "import warnings\n",
    "warnings.filterwarnings('ignore', category=FutureWarning)\n",
    "warnings.filterwarnings('ignore', category=DeprecationWarning)\n",
    "\n",
    "tr_features = pd.read_csv('train_features.csv')\n",
    "tr_labels = pd.read_csv('train_labels.csv')\n",
    "#Write method to print results\n",
    "def print_results(results):\n",
    "    print('BEST PARAMS: {}\\n'.format(results.best_params_))\n",
    "\n",
    "    means = results.cv_results_['mean_test_score']\n",
    "    stds = results.cv_results_['std_test_score']\n",
    "    for mean, std, params in zip(means, stds, results.cv_results_['params']):\n",
    "        print('{} (+/-{}) for {}'.format(round(mean, 3), round(std * 2, 3), params))\n",
    "rf = RandomForestClassifier()\n",
    "parameters = {\n",
    "    'n_estimators': [5, 50, 250],\n",
    "    'max_depth': [2, 4, 8, 16, 32, None]\n",
    "}\n",
    "\n",
    "cv = GridSearchCV(rf, parameters, cv=5)\n",
    "cv.fit(tr_features, tr_labels.values.ravel())\n",
    "\n",
    "print_results(cv)\n",
    "train_sizes, train_scores, test_scores = learning_curve(rf, tr_features, tr_labels, cv=5, scoring='accuracy', n_jobs=-1, train_sizes=np.linspace(0.01, 1, 50), verbose=1)\n",
    "train_mean = np.mean(train_scores, axis=1)\n",
    "train_mean\n",
    "train_std = np.std(train_scores, axis=1)\n",
    "train_std\n",
    "test_mean = np.mean(test_scores, axis=1)\n",
    "test_mean\n",
    "test_std = np.std(test_scores, axis=1)\n",
    "test_std\n",
    "plt.plot(train_sizes, train_mean, label = 'Training Score')\n",
    "plt.plot(train_sizes, test_mean, label = 'CV Score')\n",
    "\n",
    "plt.fill_between(train_sizes, train_mean - train_std, train_mean + train_std, color='#DDDDDD')\n",
    "plt.fill_between(train_sizes, test_mean - test_std, test_mean + test_std, color='#DDDDDD')\n",
    "\n",
    "plt.title('Learning Curve')\n",
    "plt.xlabel('Training Size')\n",
    "plt.ylabel('Accuracy Score')\n",
    "plt.legend(loc = 'best')"
   ]
  }
 ],
 "metadata": {
  "interpreter": {
   "hash": "0f40ab2526fa8d1be48be0856e746aabd6f85c3c8b31ebfbd5c7c9ed05264adc"
  },
  "kernelspec": {
   "display_name": "Python 3.9.12 ('base')",
   "language": "python",
   "name": "python3"
  },
  "language_info": {
   "codemirror_mode": {
    "name": "ipython",
    "version": 3
   },
   "file_extension": ".py",
   "mimetype": "text/x-python",
   "name": "python",
   "nbconvert_exporter": "python",
   "pygments_lexer": "ipython3",
   "version": "3.9.12"
  },
  "orig_nbformat": 4
 },
 "nbformat": 4,
 "nbformat_minor": 2
}
