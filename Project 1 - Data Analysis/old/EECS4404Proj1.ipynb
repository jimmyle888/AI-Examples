{
 "cells": [
  {
   "cell_type": "markdown",
   "id": "8ec203b7",
   "metadata": {},
   "source": [
    "# EECS4404 Project 1\n",
    "\n",
    "Jimmy Le<br>\n",
    "216143992<br>\n",
    "Prof. Archit Garg<br>\n",
    "EECS4404 SU 2022"
   ]
  },
  {
   "cell_type": "markdown",
   "id": "d2c71b73",
   "metadata": {},
   "source": [
    "## Task: Predict the Penguin Species\n",
    "\n",
    "We are given several datapoints:<br>\n",
    "    o species: penguin species (Chinstrap, Adélie, or Gentoo)<br>\n",
    "    o culmen_length_mm: culmen length (mm)<br>\n",
    "    o culmen_depth_mm: culmen depth (mm)<br>\n",
    "    o flipper_length_mm: flipper length (mm)<br>\n",
    "    o body_mass_g: body mass (g)<br>\n",
    "    o island: island name (Dream, Torgersen, or Biscoe) in the Palmer Archipelago (Antarctica)<br>\n",
    "    o sex: penguin sex<br>\n",
    "\n",
    "## References\n",
    "\n",
    "Code Process and Method: EECS4404 Class Notes & Jupyter Examples<br>\n",
    "Learning Curve & Graph: https://scikit-learn.org/stable/auto_examples/model_selection/plot_learning_curve.html#sphx-glr-auto-examples-model-selection-plot-learning-curve-py'\n",
    "&\n",
    "https://www.youtube.com/watch?v=2Bkp4B8sJ2Y<br>\n",
    "\n",
    "To Demonstrate full understanding of the code, full documentation and explaination of the code will be provided.\n",
    "\n",
    "#### We start by performing an exploratory data analysis on the dataset\n",
    "\n",
    "We first explore the continous features of the dataset, that is culmen_length_mm, culmen_depth_mm, flipper_length_mm, body_mass_g features"
   ]
  },
  {
   "cell_type": "code",
   "execution_count": 2,
   "id": "5ad5d4b5",
   "metadata": {},
   "outputs": [
    {
     "data": {
      "text/html": [
       "<div>\n",
       "<style scoped>\n",
       "    .dataframe tbody tr th:only-of-type {\n",
       "        vertical-align: middle;\n",
       "    }\n",
       "\n",
       "    .dataframe tbody tr th {\n",
       "        vertical-align: top;\n",
       "    }\n",
       "\n",
       "    .dataframe thead th {\n",
       "        text-align: right;\n",
       "    }\n",
       "</style>\n",
       "<table border=\"1\" class=\"dataframe\">\n",
       "  <thead>\n",
       "    <tr style=\"text-align: right;\">\n",
       "      <th></th>\n",
       "      <th>species</th>\n",
       "      <th>island</th>\n",
       "      <th>culmen_length_mm</th>\n",
       "      <th>culmen_depth_mm</th>\n",
       "      <th>flipper_length_mm</th>\n",
       "      <th>body_mass_g</th>\n",
       "      <th>sex</th>\n",
       "    </tr>\n",
       "  </thead>\n",
       "  <tbody>\n",
       "    <tr>\n",
       "      <th>0</th>\n",
       "      <td>Adelie</td>\n",
       "      <td>Torgersen</td>\n",
       "      <td>39.1</td>\n",
       "      <td>18.7</td>\n",
       "      <td>181.0</td>\n",
       "      <td>3750.0</td>\n",
       "      <td>MALE</td>\n",
       "    </tr>\n",
       "    <tr>\n",
       "      <th>1</th>\n",
       "      <td>Adelie</td>\n",
       "      <td>Torgersen</td>\n",
       "      <td>39.5</td>\n",
       "      <td>17.4</td>\n",
       "      <td>186.0</td>\n",
       "      <td>3800.0</td>\n",
       "      <td>FEMALE</td>\n",
       "    </tr>\n",
       "    <tr>\n",
       "      <th>2</th>\n",
       "      <td>Adelie</td>\n",
       "      <td>Torgersen</td>\n",
       "      <td>40.3</td>\n",
       "      <td>18.0</td>\n",
       "      <td>195.0</td>\n",
       "      <td>3250.0</td>\n",
       "      <td>FEMALE</td>\n",
       "    </tr>\n",
       "    <tr>\n",
       "      <th>3</th>\n",
       "      <td>Adelie</td>\n",
       "      <td>Torgersen</td>\n",
       "      <td>NaN</td>\n",
       "      <td>NaN</td>\n",
       "      <td>NaN</td>\n",
       "      <td>NaN</td>\n",
       "      <td>NaN</td>\n",
       "    </tr>\n",
       "    <tr>\n",
       "      <th>4</th>\n",
       "      <td>Adelie</td>\n",
       "      <td>Torgersen</td>\n",
       "      <td>36.7</td>\n",
       "      <td>19.3</td>\n",
       "      <td>193.0</td>\n",
       "      <td>3450.0</td>\n",
       "      <td>FEMALE</td>\n",
       "    </tr>\n",
       "  </tbody>\n",
       "</table>\n",
       "</div>"
      ],
      "text/plain": [
       "  species     island  culmen_length_mm  culmen_depth_mm  flipper_length_mm  \\\n",
       "0  Adelie  Torgersen              39.1             18.7              181.0   \n",
       "1  Adelie  Torgersen              39.5             17.4              186.0   \n",
       "2  Adelie  Torgersen              40.3             18.0              195.0   \n",
       "3  Adelie  Torgersen               NaN              NaN                NaN   \n",
       "4  Adelie  Torgersen              36.7             19.3              193.0   \n",
       "\n",
       "   body_mass_g     sex  \n",
       "0       3750.0    MALE  \n",
       "1       3800.0  FEMALE  \n",
       "2       3250.0  FEMALE  \n",
       "3          NaN     NaN  \n",
       "4       3450.0  FEMALE  "
      ]
     },
     "execution_count": 2,
     "metadata": {},
     "output_type": "execute_result"
    }
   ],
   "source": [
    "import matplotlib.pyplot as plt\n",
    "import numpy as np\n",
    "import pandas as pd\n",
    "import seaborn as sns\n",
    "%matplotlib inline\n",
    "\n",
    "penguin = pd.read_csv('penguins_size.csv')\n",
    "penguin.head()"
   ]
  },
  {
   "cell_type": "code",
   "execution_count": 3,
   "id": "00808f9e",
   "metadata": {},
   "outputs": [
    {
     "data": {
      "text/html": [
       "<div>\n",
       "<style scoped>\n",
       "    .dataframe tbody tr th:only-of-type {\n",
       "        vertical-align: middle;\n",
       "    }\n",
       "\n",
       "    .dataframe tbody tr th {\n",
       "        vertical-align: top;\n",
       "    }\n",
       "\n",
       "    .dataframe thead th {\n",
       "        text-align: right;\n",
       "    }\n",
       "</style>\n",
       "<table border=\"1\" class=\"dataframe\">\n",
       "  <thead>\n",
       "    <tr style=\"text-align: right;\">\n",
       "      <th></th>\n",
       "      <th>species</th>\n",
       "      <th>culmen_length_mm</th>\n",
       "      <th>culmen_depth_mm</th>\n",
       "      <th>flipper_length_mm</th>\n",
       "      <th>body_mass_g</th>\n",
       "    </tr>\n",
       "  </thead>\n",
       "  <tbody>\n",
       "    <tr>\n",
       "      <th>0</th>\n",
       "      <td>Adelie</td>\n",
       "      <td>39.1</td>\n",
       "      <td>18.7</td>\n",
       "      <td>181.0</td>\n",
       "      <td>3750.0</td>\n",
       "    </tr>\n",
       "    <tr>\n",
       "      <th>1</th>\n",
       "      <td>Adelie</td>\n",
       "      <td>39.5</td>\n",
       "      <td>17.4</td>\n",
       "      <td>186.0</td>\n",
       "      <td>3800.0</td>\n",
       "    </tr>\n",
       "    <tr>\n",
       "      <th>2</th>\n",
       "      <td>Adelie</td>\n",
       "      <td>40.3</td>\n",
       "      <td>18.0</td>\n",
       "      <td>195.0</td>\n",
       "      <td>3250.0</td>\n",
       "    </tr>\n",
       "    <tr>\n",
       "      <th>3</th>\n",
       "      <td>Adelie</td>\n",
       "      <td>NaN</td>\n",
       "      <td>NaN</td>\n",
       "      <td>NaN</td>\n",
       "      <td>NaN</td>\n",
       "    </tr>\n",
       "    <tr>\n",
       "      <th>4</th>\n",
       "      <td>Adelie</td>\n",
       "      <td>36.7</td>\n",
       "      <td>19.3</td>\n",
       "      <td>193.0</td>\n",
       "      <td>3450.0</td>\n",
       "    </tr>\n",
       "  </tbody>\n",
       "</table>\n",
       "</div>"
      ],
      "text/plain": [
       "  species  culmen_length_mm  culmen_depth_mm  flipper_length_mm  body_mass_g\n",
       "0  Adelie              39.1             18.7              181.0       3750.0\n",
       "1  Adelie              39.5             17.4              186.0       3800.0\n",
       "2  Adelie              40.3             18.0              195.0       3250.0\n",
       "3  Adelie               NaN              NaN                NaN          NaN\n",
       "4  Adelie              36.7             19.3              193.0       3450.0"
      ]
     },
     "execution_count": 3,
     "metadata": {},
     "output_type": "execute_result"
    }
   ],
   "source": [
    "#Drop categorical features to focus on continous\n",
    "#Note however we do keep species, which is our target variable\n",
    "cat_feat = ['island', 'sex']\n",
    "penguin.drop(cat_feat, axis=1, inplace=True)\n",
    "penguin.head()"
   ]
  },
  {
   "cell_type": "code",
   "execution_count": 4,
   "id": "8fd5c017",
   "metadata": {},
   "outputs": [
    {
     "data": {
      "text/html": [
       "<div>\n",
       "<style scoped>\n",
       "    .dataframe tbody tr th:only-of-type {\n",
       "        vertical-align: middle;\n",
       "    }\n",
       "\n",
       "    .dataframe tbody tr th {\n",
       "        vertical-align: top;\n",
       "    }\n",
       "\n",
       "    .dataframe thead th {\n",
       "        text-align: right;\n",
       "    }\n",
       "</style>\n",
       "<table border=\"1\" class=\"dataframe\">\n",
       "  <thead>\n",
       "    <tr style=\"text-align: right;\">\n",
       "      <th></th>\n",
       "      <th>species</th>\n",
       "      <th>culmen_length_mm</th>\n",
       "      <th>culmen_depth_mm</th>\n",
       "      <th>flipper_length_mm</th>\n",
       "      <th>body_mass_g</th>\n",
       "    </tr>\n",
       "  </thead>\n",
       "  <tbody>\n",
       "    <tr>\n",
       "      <th>0</th>\n",
       "      <td>1</td>\n",
       "      <td>39.1</td>\n",
       "      <td>18.7</td>\n",
       "      <td>181.0</td>\n",
       "      <td>3750.0</td>\n",
       "    </tr>\n",
       "    <tr>\n",
       "      <th>1</th>\n",
       "      <td>1</td>\n",
       "      <td>39.5</td>\n",
       "      <td>17.4</td>\n",
       "      <td>186.0</td>\n",
       "      <td>3800.0</td>\n",
       "    </tr>\n",
       "    <tr>\n",
       "      <th>2</th>\n",
       "      <td>1</td>\n",
       "      <td>40.3</td>\n",
       "      <td>18.0</td>\n",
       "      <td>195.0</td>\n",
       "      <td>3250.0</td>\n",
       "    </tr>\n",
       "    <tr>\n",
       "      <th>3</th>\n",
       "      <td>1</td>\n",
       "      <td>NaN</td>\n",
       "      <td>NaN</td>\n",
       "      <td>NaN</td>\n",
       "      <td>NaN</td>\n",
       "    </tr>\n",
       "    <tr>\n",
       "      <th>4</th>\n",
       "      <td>1</td>\n",
       "      <td>36.7</td>\n",
       "      <td>19.3</td>\n",
       "      <td>193.0</td>\n",
       "      <td>3450.0</td>\n",
       "    </tr>\n",
       "    <tr>\n",
       "      <th>...</th>\n",
       "      <td>...</td>\n",
       "      <td>...</td>\n",
       "      <td>...</td>\n",
       "      <td>...</td>\n",
       "      <td>...</td>\n",
       "    </tr>\n",
       "    <tr>\n",
       "      <th>339</th>\n",
       "      <td>3</td>\n",
       "      <td>NaN</td>\n",
       "      <td>NaN</td>\n",
       "      <td>NaN</td>\n",
       "      <td>NaN</td>\n",
       "    </tr>\n",
       "    <tr>\n",
       "      <th>340</th>\n",
       "      <td>3</td>\n",
       "      <td>46.8</td>\n",
       "      <td>14.3</td>\n",
       "      <td>215.0</td>\n",
       "      <td>4850.0</td>\n",
       "    </tr>\n",
       "    <tr>\n",
       "      <th>341</th>\n",
       "      <td>3</td>\n",
       "      <td>50.4</td>\n",
       "      <td>15.7</td>\n",
       "      <td>222.0</td>\n",
       "      <td>5750.0</td>\n",
       "    </tr>\n",
       "    <tr>\n",
       "      <th>342</th>\n",
       "      <td>3</td>\n",
       "      <td>45.2</td>\n",
       "      <td>14.8</td>\n",
       "      <td>212.0</td>\n",
       "      <td>5200.0</td>\n",
       "    </tr>\n",
       "    <tr>\n",
       "      <th>343</th>\n",
       "      <td>3</td>\n",
       "      <td>49.9</td>\n",
       "      <td>16.1</td>\n",
       "      <td>213.0</td>\n",
       "      <td>5400.0</td>\n",
       "    </tr>\n",
       "  </tbody>\n",
       "</table>\n",
       "<p>344 rows × 5 columns</p>\n",
       "</div>"
      ],
      "text/plain": [
       "     species  culmen_length_mm  culmen_depth_mm  flipper_length_mm  \\\n",
       "0          1              39.1             18.7              181.0   \n",
       "1          1              39.5             17.4              186.0   \n",
       "2          1              40.3             18.0              195.0   \n",
       "3          1               NaN              NaN                NaN   \n",
       "4          1              36.7             19.3              193.0   \n",
       "..       ...               ...              ...                ...   \n",
       "339        3               NaN              NaN                NaN   \n",
       "340        3              46.8             14.3              215.0   \n",
       "341        3              50.4             15.7              222.0   \n",
       "342        3              45.2             14.8              212.0   \n",
       "343        3              49.9             16.1              213.0   \n",
       "\n",
       "     body_mass_g  \n",
       "0         3750.0  \n",
       "1         3800.0  \n",
       "2         3250.0  \n",
       "3            NaN  \n",
       "4         3450.0  \n",
       "..           ...  \n",
       "339          NaN  \n",
       "340       4850.0  \n",
       "341       5750.0  \n",
       "342       5200.0  \n",
       "343       5400.0  \n",
       "\n",
       "[344 rows x 5 columns]"
      ]
     },
     "execution_count": 4,
     "metadata": {},
     "output_type": "execute_result"
    }
   ],
   "source": [
    "#To make our data analysis easier, we will convert species a numerical variable\n",
    "#Where Adelie is 1, Chinstrap 2, Gentoo 3\n",
    "penguin['species'] = penguin['species'].map({'Adelie': 1, 'Chinstrap' : 2, 'Gentoo': 3}) \n",
    "penguin.head(344)"
   ]
  },
  {
   "cell_type": "code",
   "execution_count": 5,
   "id": "da546da9",
   "metadata": {
    "scrolled": true
   },
   "outputs": [
    {
     "data": {
      "text/html": [
       "<div>\n",
       "<style scoped>\n",
       "    .dataframe tbody tr th:only-of-type {\n",
       "        vertical-align: middle;\n",
       "    }\n",
       "\n",
       "    .dataframe tbody tr th {\n",
       "        vertical-align: top;\n",
       "    }\n",
       "\n",
       "    .dataframe thead th {\n",
       "        text-align: right;\n",
       "    }\n",
       "</style>\n",
       "<table border=\"1\" class=\"dataframe\">\n",
       "  <thead>\n",
       "    <tr style=\"text-align: right;\">\n",
       "      <th></th>\n",
       "      <th>species</th>\n",
       "      <th>culmen_length_mm</th>\n",
       "      <th>culmen_depth_mm</th>\n",
       "      <th>flipper_length_mm</th>\n",
       "      <th>body_mass_g</th>\n",
       "    </tr>\n",
       "  </thead>\n",
       "  <tbody>\n",
       "    <tr>\n",
       "      <th>count</th>\n",
       "      <td>344.000000</td>\n",
       "      <td>342.000000</td>\n",
       "      <td>342.000000</td>\n",
       "      <td>342.000000</td>\n",
       "      <td>342.000000</td>\n",
       "    </tr>\n",
       "    <tr>\n",
       "      <th>mean</th>\n",
       "      <td>1.918605</td>\n",
       "      <td>43.921930</td>\n",
       "      <td>17.151170</td>\n",
       "      <td>200.915205</td>\n",
       "      <td>4201.754386</td>\n",
       "    </tr>\n",
       "    <tr>\n",
       "      <th>std</th>\n",
       "      <td>0.893320</td>\n",
       "      <td>5.459584</td>\n",
       "      <td>1.974793</td>\n",
       "      <td>14.061714</td>\n",
       "      <td>801.954536</td>\n",
       "    </tr>\n",
       "    <tr>\n",
       "      <th>min</th>\n",
       "      <td>1.000000</td>\n",
       "      <td>32.100000</td>\n",
       "      <td>13.100000</td>\n",
       "      <td>172.000000</td>\n",
       "      <td>2700.000000</td>\n",
       "    </tr>\n",
       "    <tr>\n",
       "      <th>25%</th>\n",
       "      <td>1.000000</td>\n",
       "      <td>39.225000</td>\n",
       "      <td>15.600000</td>\n",
       "      <td>190.000000</td>\n",
       "      <td>3550.000000</td>\n",
       "    </tr>\n",
       "    <tr>\n",
       "      <th>50%</th>\n",
       "      <td>2.000000</td>\n",
       "      <td>44.450000</td>\n",
       "      <td>17.300000</td>\n",
       "      <td>197.000000</td>\n",
       "      <td>4050.000000</td>\n",
       "    </tr>\n",
       "    <tr>\n",
       "      <th>75%</th>\n",
       "      <td>3.000000</td>\n",
       "      <td>48.500000</td>\n",
       "      <td>18.700000</td>\n",
       "      <td>213.000000</td>\n",
       "      <td>4750.000000</td>\n",
       "    </tr>\n",
       "    <tr>\n",
       "      <th>max</th>\n",
       "      <td>3.000000</td>\n",
       "      <td>59.600000</td>\n",
       "      <td>21.500000</td>\n",
       "      <td>231.000000</td>\n",
       "      <td>6300.000000</td>\n",
       "    </tr>\n",
       "  </tbody>\n",
       "</table>\n",
       "</div>"
      ],
      "text/plain": [
       "          species  culmen_length_mm  culmen_depth_mm  flipper_length_mm  \\\n",
       "count  344.000000        342.000000       342.000000         342.000000   \n",
       "mean     1.918605         43.921930        17.151170         200.915205   \n",
       "std      0.893320          5.459584         1.974793          14.061714   \n",
       "min      1.000000         32.100000        13.100000         172.000000   \n",
       "25%      1.000000         39.225000        15.600000         190.000000   \n",
       "50%      2.000000         44.450000        17.300000         197.000000   \n",
       "75%      3.000000         48.500000        18.700000         213.000000   \n",
       "max      3.000000         59.600000        21.500000         231.000000   \n",
       "\n",
       "       body_mass_g  \n",
       "count   342.000000  \n",
       "mean   4201.754386  \n",
       "std     801.954536  \n",
       "min    2700.000000  \n",
       "25%    3550.000000  \n",
       "50%    4050.000000  \n",
       "75%    4750.000000  \n",
       "max    6300.000000  "
      ]
     },
     "execution_count": 5,
     "metadata": {},
     "output_type": "execute_result"
    }
   ],
   "source": [
    "#We will use describe to help understand the shape, count, and distrubution of this data\n",
    "penguin.describe()"
   ]
  },
  {
   "cell_type": "code",
   "execution_count": 6,
   "id": "f51c0959",
   "metadata": {},
   "outputs": [
    {
     "data": {
      "text/html": [
       "<div>\n",
       "<style scoped>\n",
       "    .dataframe tbody tr th:only-of-type {\n",
       "        vertical-align: middle;\n",
       "    }\n",
       "\n",
       "    .dataframe tbody tr th {\n",
       "        vertical-align: top;\n",
       "    }\n",
       "\n",
       "    .dataframe thead th {\n",
       "        text-align: right;\n",
       "    }\n",
       "</style>\n",
       "<table border=\"1\" class=\"dataframe\">\n",
       "  <thead>\n",
       "    <tr style=\"text-align: right;\">\n",
       "      <th></th>\n",
       "      <th>culmen_length_mm</th>\n",
       "      <th>culmen_depth_mm</th>\n",
       "      <th>flipper_length_mm</th>\n",
       "      <th>body_mass_g</th>\n",
       "    </tr>\n",
       "    <tr>\n",
       "      <th>species</th>\n",
       "      <th></th>\n",
       "      <th></th>\n",
       "      <th></th>\n",
       "      <th></th>\n",
       "    </tr>\n",
       "  </thead>\n",
       "  <tbody>\n",
       "    <tr>\n",
       "      <th>1</th>\n",
       "      <td>38.791391</td>\n",
       "      <td>18.346358</td>\n",
       "      <td>189.953642</td>\n",
       "      <td>3700.662252</td>\n",
       "    </tr>\n",
       "    <tr>\n",
       "      <th>2</th>\n",
       "      <td>48.833824</td>\n",
       "      <td>18.420588</td>\n",
       "      <td>195.823529</td>\n",
       "      <td>3733.088235</td>\n",
       "    </tr>\n",
       "    <tr>\n",
       "      <th>3</th>\n",
       "      <td>47.504878</td>\n",
       "      <td>14.982114</td>\n",
       "      <td>217.186992</td>\n",
       "      <td>5076.016260</td>\n",
       "    </tr>\n",
       "  </tbody>\n",
       "</table>\n",
       "</div>"
      ],
      "text/plain": [
       "         culmen_length_mm  culmen_depth_mm  flipper_length_mm  body_mass_g\n",
       "species                                                                   \n",
       "1               38.791391        18.346358         189.953642  3700.662252\n",
       "2               48.833824        18.420588         195.823529  3733.088235\n",
       "3               47.504878        14.982114         217.186992  5076.016260"
      ]
     },
     "execution_count": 6,
     "metadata": {},
     "output_type": "execute_result"
    }
   ],
   "source": [
    "penguin.groupby('species').mean()"
   ]
  },
  {
   "cell_type": "code",
   "execution_count": 7,
   "id": "a9d8264e",
   "metadata": {},
   "outputs": [
    {
     "name": "stderr",
     "output_type": "stream",
     "text": [
      "c:\\Users\\Jimmy\\anaconda3\\lib\\site-packages\\seaborn\\distributions.py:2619: FutureWarning: `distplot` is a deprecated function and will be removed in a future version. Please adapt your code to use either `displot` (a figure-level function with similar flexibility) or `histplot` (an axes-level function for histograms).\n",
      "  warnings.warn(msg, FutureWarning)\n"
     ]
    },
    {
     "data": {
      "image/png": "[encoded data removed]",
      "text/plain": [
       "<Figure size 432x288 with 1 Axes>"
      ]
     },
     "metadata": {
      "needs_background": "light"
     },
     "output_type": "display_data"
    },
    {
     "data": {
      "image/png": "[encoded data removed]",
      "text/plain": [
       "<Figure size 432x288 with 1 Axes>"
      ]
     },
     "metadata": {
      "needs_background": "light"
     },
     "output_type": "display_data"
    },
    {
     "data": {
      "image/png": "[encoded data removed]",
      "text/plain": [
       "<Figure size 432x288 with 1 Axes>"
      ]
     },
     "metadata": {
      "needs_background": "light"
     },
     "output_type": "display_data"
    },
    {
     "data": {
      "image/png": "[encoded data removed]",
      "text/plain": [
       "<Figure size 432x288 with 1 Axes>"
      ]
     },
     "metadata": {
      "needs_background": "light"
     },
     "output_type": "display_data"
    }
   ],
   "source": [
    "#From initial observations, it appears that:\n",
    "#    Adelie penguins (1) appear to have smaller culmen_length than their counterparts\n",
    "#    Gentoo penguins (3) appear to have smaller culmen_depth and larger flipper_length and body_mass\n",
    "#    Chinstrap pengiuins (2) appear to have longer culmen_length and flipper length than their other counterparts, more analysis is needed\n",
    "\n",
    "#We can get a visual representation below\n",
    "for i in ['culmen_length_mm', 'culmen_depth_mm', 'flipper_length_mm', 'body_mass_g']:\n",
    "    adelie = list(penguin[penguin['species'] == 1][i].dropna())\n",
    "    chinstrap = list(penguin[penguin['species'] == 2][i].dropna())\n",
    "    gentoo = list(penguin[penguin['species'] == 3][i].dropna())\n",
    "    xmin = min(min(adelie), min(chinstrap), min(gentoo))\n",
    "    xmax = max(max(adelie), max(chinstrap), max(gentoo))\n",
    "    width = (xmax - xmin) / 40\n",
    "    sns.distplot(adelie, color='r', kde=False, bins=np.arange(xmin, xmax, width))\n",
    "    sns.distplot(gentoo, color='g', kde=False, bins=np.arange(xmin, xmax, width))\n",
    "    sns.distplot(chinstrap, color='b', kde=False, bins=np.arange(xmin, xmax, width))\n",
    "    plt.legend(['adelie', 'gentoo', 'chinstrap'])\n",
    "    plt.title('Overlaid histogram for {}'.format(i))\n",
    "    plt.show()"
   ]
  },
  {
   "cell_type": "code",
   "execution_count": 8,
   "id": "6d88d983",
   "metadata": {},
   "outputs": [],
   "source": [
    "#From the plot and the mean graphs, it appears that body_mass and flipper_length are highly correlated\n",
    "#We can drop one variable to avoid multilinearity \n",
    "penguin.drop(columns=['body_mass_g'], axis=1, inplace=True)"
   ]
  },
  {
   "cell_type": "code",
   "execution_count": 9,
   "id": "005c37b8",
   "metadata": {},
   "outputs": [
    {
     "data": {
      "text/html": [
       "<div>\n",
       "<style scoped>\n",
       "    .dataframe tbody tr th:only-of-type {\n",
       "        vertical-align: middle;\n",
       "    }\n",
       "\n",
       "    .dataframe tbody tr th {\n",
       "        vertical-align: top;\n",
       "    }\n",
       "\n",
       "    .dataframe thead th {\n",
       "        text-align: right;\n",
       "    }\n",
       "</style>\n",
       "<table border=\"1\" class=\"dataframe\">\n",
       "  <thead>\n",
       "    <tr style=\"text-align: right;\">\n",
       "      <th></th>\n",
       "      <th>species</th>\n",
       "      <th>culmen_length_mm</th>\n",
       "      <th>culmen_depth_mm</th>\n",
       "      <th>flipper_length_mm</th>\n",
       "    </tr>\n",
       "    <tr>\n",
       "      <th>culmen_length_mm</th>\n",
       "      <th></th>\n",
       "      <th></th>\n",
       "      <th></th>\n",
       "      <th></th>\n",
       "    </tr>\n",
       "  </thead>\n",
       "  <tbody>\n",
       "    <tr>\n",
       "      <th>False</th>\n",
       "      <td>1.918129</td>\n",
       "      <td>43.92193</td>\n",
       "      <td>17.15117</td>\n",
       "      <td>200.915205</td>\n",
       "    </tr>\n",
       "    <tr>\n",
       "      <th>True</th>\n",
       "      <td>2.000000</td>\n",
       "      <td>NaN</td>\n",
       "      <td>NaN</td>\n",
       "      <td>NaN</td>\n",
       "    </tr>\n",
       "  </tbody>\n",
       "</table>\n",
       "</div>"
      ],
      "text/plain": [
       "                   species  culmen_length_mm  culmen_depth_mm  \\\n",
       "culmen_length_mm                                                \n",
       "False             1.918129          43.92193         17.15117   \n",
       "True              2.000000               NaN              NaN   \n",
       "\n",
       "                  flipper_length_mm  \n",
       "culmen_length_mm                     \n",
       "False                    200.915205  \n",
       "True                            NaN  "
      ]
     },
     "execution_count": 9,
     "metadata": {},
     "output_type": "execute_result"
    }
   ],
   "source": [
    "#Check to see which values are missing\n",
    "penguin.groupby(penguin['culmen_length_mm'].isnull()).mean()"
   ]
  },
  {
   "cell_type": "code",
   "execution_count": 10,
   "id": "ffe12dc5",
   "metadata": {},
   "outputs": [
    {
     "data": {
      "text/plain": [
       "species              0\n",
       "culmen_length_mm     0\n",
       "culmen_depth_mm      0\n",
       "flipper_length_mm    0\n",
       "dtype: int64"
      ]
     },
     "execution_count": 10,
     "metadata": {},
     "output_type": "execute_result"
    }
   ],
   "source": [
    "#Fill in Missing Values by replacing them with the average values in their respective columns\n",
    "penguin['culmen_length_mm'].fillna(penguin['culmen_length_mm'].mean(), inplace=True)\n",
    "penguin['culmen_depth_mm'].fillna(penguin['culmen_depth_mm'].mean(), inplace=True)\n",
    "penguin['flipper_length_mm'].fillna(penguin['flipper_length_mm'].mean(), inplace=True)\n",
    "penguin.isnull().sum() #0s mean no missing values"
   ]
  },
  {
   "cell_type": "markdown",
   "id": "b0ac9c60",
   "metadata": {},
   "source": [
    "## Explore Categorical Features"
   ]
  },
  {
   "cell_type": "code",
   "execution_count": 11,
   "id": "31306443",
   "metadata": {},
   "outputs": [
    {
     "data": {
      "text/html": [
       "<div>\n",
       "<style scoped>\n",
       "    .dataframe tbody tr th:only-of-type {\n",
       "        vertical-align: middle;\n",
       "    }\n",
       "\n",
       "    .dataframe tbody tr th {\n",
       "        vertical-align: top;\n",
       "    }\n",
       "\n",
       "    .dataframe thead th {\n",
       "        text-align: right;\n",
       "    }\n",
       "</style>\n",
       "<table border=\"1\" class=\"dataframe\">\n",
       "  <thead>\n",
       "    <tr style=\"text-align: right;\">\n",
       "      <th></th>\n",
       "      <th>species</th>\n",
       "      <th>island</th>\n",
       "      <th>culmen_length_mm</th>\n",
       "      <th>culmen_depth_mm</th>\n",
       "      <th>flipper_length_mm</th>\n",
       "      <th>body_mass_g</th>\n",
       "      <th>sex</th>\n",
       "    </tr>\n",
       "  </thead>\n",
       "  <tbody>\n",
       "    <tr>\n",
       "      <th>0</th>\n",
       "      <td>Adelie</td>\n",
       "      <td>Torgersen</td>\n",
       "      <td>39.1</td>\n",
       "      <td>18.7</td>\n",
       "      <td>181.0</td>\n",
       "      <td>3750.0</td>\n",
       "      <td>MALE</td>\n",
       "    </tr>\n",
       "    <tr>\n",
       "      <th>1</th>\n",
       "      <td>Adelie</td>\n",
       "      <td>Torgersen</td>\n",
       "      <td>39.5</td>\n",
       "      <td>17.4</td>\n",
       "      <td>186.0</td>\n",
       "      <td>3800.0</td>\n",
       "      <td>FEMALE</td>\n",
       "    </tr>\n",
       "    <tr>\n",
       "      <th>2</th>\n",
       "      <td>Adelie</td>\n",
       "      <td>Torgersen</td>\n",
       "      <td>40.3</td>\n",
       "      <td>18.0</td>\n",
       "      <td>195.0</td>\n",
       "      <td>3250.0</td>\n",
       "      <td>FEMALE</td>\n",
       "    </tr>\n",
       "    <tr>\n",
       "      <th>3</th>\n",
       "      <td>Adelie</td>\n",
       "      <td>Torgersen</td>\n",
       "      <td>NaN</td>\n",
       "      <td>NaN</td>\n",
       "      <td>NaN</td>\n",
       "      <td>NaN</td>\n",
       "      <td>NaN</td>\n",
       "    </tr>\n",
       "    <tr>\n",
       "      <th>4</th>\n",
       "      <td>Adelie</td>\n",
       "      <td>Torgersen</td>\n",
       "      <td>36.7</td>\n",
       "      <td>19.3</td>\n",
       "      <td>193.0</td>\n",
       "      <td>3450.0</td>\n",
       "      <td>FEMALE</td>\n",
       "    </tr>\n",
       "  </tbody>\n",
       "</table>\n",
       "</div>"
      ],
      "text/plain": [
       "  species     island  culmen_length_mm  culmen_depth_mm  flipper_length_mm  \\\n",
       "0  Adelie  Torgersen              39.1             18.7              181.0   \n",
       "1  Adelie  Torgersen              39.5             17.4              186.0   \n",
       "2  Adelie  Torgersen              40.3             18.0              195.0   \n",
       "3  Adelie  Torgersen               NaN              NaN                NaN   \n",
       "4  Adelie  Torgersen              36.7             19.3              193.0   \n",
       "\n",
       "   body_mass_g     sex  \n",
       "0       3750.0    MALE  \n",
       "1       3800.0  FEMALE  \n",
       "2       3250.0  FEMALE  \n",
       "3          NaN     NaN  \n",
       "4       3450.0  FEMALE  "
      ]
     },
     "execution_count": 11,
     "metadata": {},
     "output_type": "execute_result"
    }
   ],
   "source": [
    "import matplotlib.pyplot as plt\n",
    "import numpy as np\n",
    "import pandas as pd\n",
    "import seaborn as sns\n",
    "%matplotlib inline\n",
    "\n",
    "penguin = pd.read_csv('penguins_size.csv')\n",
    "penguin.head()"
   ]
  },
  {
   "cell_type": "code",
   "execution_count": 12,
   "id": "d7f7c561",
   "metadata": {},
   "outputs": [
    {
     "data": {
      "text/html": [
       "<div>\n",
       "<style scoped>\n",
       "    .dataframe tbody tr th:only-of-type {\n",
       "        vertical-align: middle;\n",
       "    }\n",
       "\n",
       "    .dataframe tbody tr th {\n",
       "        vertical-align: top;\n",
       "    }\n",
       "\n",
       "    .dataframe thead th {\n",
       "        text-align: right;\n",
       "    }\n",
       "</style>\n",
       "<table border=\"1\" class=\"dataframe\">\n",
       "  <thead>\n",
       "    <tr style=\"text-align: right;\">\n",
       "      <th></th>\n",
       "      <th>species</th>\n",
       "      <th>island</th>\n",
       "      <th>sex</th>\n",
       "    </tr>\n",
       "  </thead>\n",
       "  <tbody>\n",
       "    <tr>\n",
       "      <th>0</th>\n",
       "      <td>1</td>\n",
       "      <td>Torgersen</td>\n",
       "      <td>MALE</td>\n",
       "    </tr>\n",
       "    <tr>\n",
       "      <th>1</th>\n",
       "      <td>1</td>\n",
       "      <td>Torgersen</td>\n",
       "      <td>FEMALE</td>\n",
       "    </tr>\n",
       "    <tr>\n",
       "      <th>2</th>\n",
       "      <td>1</td>\n",
       "      <td>Torgersen</td>\n",
       "      <td>FEMALE</td>\n",
       "    </tr>\n",
       "    <tr>\n",
       "      <th>3</th>\n",
       "      <td>1</td>\n",
       "      <td>Torgersen</td>\n",
       "      <td>NaN</td>\n",
       "    </tr>\n",
       "    <tr>\n",
       "      <th>4</th>\n",
       "      <td>1</td>\n",
       "      <td>Torgersen</td>\n",
       "      <td>FEMALE</td>\n",
       "    </tr>\n",
       "    <tr>\n",
       "      <th>...</th>\n",
       "      <td>...</td>\n",
       "      <td>...</td>\n",
       "      <td>...</td>\n",
       "    </tr>\n",
       "    <tr>\n",
       "      <th>339</th>\n",
       "      <td>3</td>\n",
       "      <td>Biscoe</td>\n",
       "      <td>NaN</td>\n",
       "    </tr>\n",
       "    <tr>\n",
       "      <th>340</th>\n",
       "      <td>3</td>\n",
       "      <td>Biscoe</td>\n",
       "      <td>FEMALE</td>\n",
       "    </tr>\n",
       "    <tr>\n",
       "      <th>341</th>\n",
       "      <td>3</td>\n",
       "      <td>Biscoe</td>\n",
       "      <td>MALE</td>\n",
       "    </tr>\n",
       "    <tr>\n",
       "      <th>342</th>\n",
       "      <td>3</td>\n",
       "      <td>Biscoe</td>\n",
       "      <td>FEMALE</td>\n",
       "    </tr>\n",
       "    <tr>\n",
       "      <th>343</th>\n",
       "      <td>3</td>\n",
       "      <td>Biscoe</td>\n",
       "      <td>MALE</td>\n",
       "    </tr>\n",
       "  </tbody>\n",
       "</table>\n",
       "<p>344 rows × 3 columns</p>\n",
       "</div>"
      ],
      "text/plain": [
       "     species     island     sex\n",
       "0          1  Torgersen    MALE\n",
       "1          1  Torgersen  FEMALE\n",
       "2          1  Torgersen  FEMALE\n",
       "3          1  Torgersen     NaN\n",
       "4          1  Torgersen  FEMALE\n",
       "..       ...        ...     ...\n",
       "339        3     Biscoe     NaN\n",
       "340        3     Biscoe  FEMALE\n",
       "341        3     Biscoe    MALE\n",
       "342        3     Biscoe  FEMALE\n",
       "343        3     Biscoe    MALE\n",
       "\n",
       "[344 rows x 3 columns]"
      ]
     },
     "execution_count": 12,
     "metadata": {},
     "output_type": "execute_result"
    }
   ],
   "source": [
    "# Drop our continous features\n",
    "# Note however for consistency reasons we keep our target variable and convert it to our numerical representation as before\n",
    "cont_feat = ['culmen_length_mm', 'culmen_depth_mm', 'flipper_length_mm', 'body_mass_g']\n",
    "penguin.drop(cont_feat, axis=1, inplace=True)\n",
    "\n",
    "# Adelie is 1, Chinstrap 2, Gentoo 3\n",
    "penguin['species'] = penguin['species'].map({'Adelie': 1, 'Chinstrap' : 2, 'Gentoo': 3}) \n",
    "penguin.head(344)"
   ]
  },
  {
   "cell_type": "code",
   "execution_count": 13,
   "id": "996f5a8d",
   "metadata": {},
   "outputs": [
    {
     "name": "stdout",
     "output_type": "stream",
     "text": [
      "<class 'pandas.core.frame.DataFrame'>\n",
      "RangeIndex: 344 entries, 0 to 343\n",
      "Data columns (total 3 columns):\n",
      " #   Column   Non-Null Count  Dtype \n",
      "---  ------   --------------  ----- \n",
      " 0   species  344 non-null    int64 \n",
      " 1   island   344 non-null    object\n",
      " 2   sex      334 non-null    object\n",
      "dtypes: int64(1), object(2)\n",
      "memory usage: 8.2+ KB\n"
     ]
    }
   ],
   "source": [
    "penguin.info()"
   ]
  },
  {
   "cell_type": "code",
   "execution_count": 14,
   "id": "2203b936",
   "metadata": {},
   "outputs": [
    {
     "data": {
      "text/html": [
       "<div>\n",
       "<style scoped>\n",
       "    .dataframe tbody tr th:only-of-type {\n",
       "        vertical-align: middle;\n",
       "    }\n",
       "\n",
       "    .dataframe tbody tr th {\n",
       "        vertical-align: top;\n",
       "    }\n",
       "\n",
       "    .dataframe thead th {\n",
       "        text-align: right;\n",
       "    }\n",
       "</style>\n",
       "<table border=\"1\" class=\"dataframe\">\n",
       "  <thead>\n",
       "    <tr style=\"text-align: right;\">\n",
       "      <th></th>\n",
       "      <th>species</th>\n",
       "      <th>island</th>\n",
       "      <th>sex</th>\n",
       "    </tr>\n",
       "  </thead>\n",
       "  <tbody>\n",
       "    <tr>\n",
       "      <th>0</th>\n",
       "      <td>1</td>\n",
       "      <td>Torgersen</td>\n",
       "      <td>MALE</td>\n",
       "    </tr>\n",
       "    <tr>\n",
       "      <th>1</th>\n",
       "      <td>1</td>\n",
       "      <td>Torgersen</td>\n",
       "      <td>FEMALE</td>\n",
       "    </tr>\n",
       "    <tr>\n",
       "      <th>2</th>\n",
       "      <td>1</td>\n",
       "      <td>Torgersen</td>\n",
       "      <td>FEMALE</td>\n",
       "    </tr>\n",
       "    <tr>\n",
       "      <th>4</th>\n",
       "      <td>1</td>\n",
       "      <td>Torgersen</td>\n",
       "      <td>FEMALE</td>\n",
       "    </tr>\n",
       "    <tr>\n",
       "      <th>5</th>\n",
       "      <td>1</td>\n",
       "      <td>Torgersen</td>\n",
       "      <td>MALE</td>\n",
       "    </tr>\n",
       "    <tr>\n",
       "      <th>...</th>\n",
       "      <td>...</td>\n",
       "      <td>...</td>\n",
       "      <td>...</td>\n",
       "    </tr>\n",
       "    <tr>\n",
       "      <th>338</th>\n",
       "      <td>3</td>\n",
       "      <td>Biscoe</td>\n",
       "      <td>FEMALE</td>\n",
       "    </tr>\n",
       "    <tr>\n",
       "      <th>340</th>\n",
       "      <td>3</td>\n",
       "      <td>Biscoe</td>\n",
       "      <td>FEMALE</td>\n",
       "    </tr>\n",
       "    <tr>\n",
       "      <th>341</th>\n",
       "      <td>3</td>\n",
       "      <td>Biscoe</td>\n",
       "      <td>MALE</td>\n",
       "    </tr>\n",
       "    <tr>\n",
       "      <th>342</th>\n",
       "      <td>3</td>\n",
       "      <td>Biscoe</td>\n",
       "      <td>FEMALE</td>\n",
       "    </tr>\n",
       "    <tr>\n",
       "      <th>343</th>\n",
       "      <td>3</td>\n",
       "      <td>Biscoe</td>\n",
       "      <td>MALE</td>\n",
       "    </tr>\n",
       "  </tbody>\n",
       "</table>\n",
       "<p>333 rows × 3 columns</p>\n",
       "</div>"
      ],
      "text/plain": [
       "     species     island     sex\n",
       "0          1  Torgersen    MALE\n",
       "1          1  Torgersen  FEMALE\n",
       "2          1  Torgersen  FEMALE\n",
       "4          1  Torgersen  FEMALE\n",
       "5          1  Torgersen    MALE\n",
       "..       ...        ...     ...\n",
       "338        3     Biscoe  FEMALE\n",
       "340        3     Biscoe  FEMALE\n",
       "341        3     Biscoe    MALE\n",
       "342        3     Biscoe  FEMALE\n",
       "343        3     Biscoe    MALE\n",
       "\n",
       "[333 rows x 3 columns]"
      ]
     },
     "execution_count": 14,
     "metadata": {},
     "output_type": "execute_result"
    }
   ],
   "source": [
    "# From the above, we see that we have rows in which our categorical features are null\n",
    "# Let's drop these values \n",
    "\n",
    "penguin = penguin[penguin.sex != '.'] #There is one row with a '.' On the class discord, Prof. Garg reccomends replacing/removing the value\n",
    "penguin.dropna(subset=['island', 'sex'])"
   ]
  },
  {
   "cell_type": "code",
   "execution_count": 15,
   "id": "2ed18f4b",
   "metadata": {},
   "outputs": [
    {
     "data": {
      "text/plain": [
       "<Figure size 432x288 with 0 Axes>"
      ]
     },
     "metadata": {},
     "output_type": "display_data"
    },
    {
     "data": {
      "image/png": "[encoded data removed]",
      "text/plain": [
       "<Figure size 720x360 with 1 Axes>"
      ]
     },
     "metadata": {
      "needs_background": "light"
     },
     "output_type": "display_data"
    },
    {
     "data": {
      "image/png": "[encoded data removed]",
      "text/plain": [
       "<Figure size 720x360 with 1 Axes>"
      ]
     },
     "metadata": {
      "needs_background": "light"
     },
     "output_type": "display_data"
    }
   ],
   "source": [
    "# Plot categorical features\n",
    "for i, col in enumerate(['island', 'sex']):\n",
    "    plt.figure(i)\n",
    "    sns.catplot(x=col, y='species', data=penguin, kind='point', aspect=2, )"
   ]
  },
  {
   "cell_type": "code",
   "execution_count": 16,
   "id": "97f88f35",
   "metadata": {},
   "outputs": [
    {
     "data": {
      "text/html": [
       "<div>\n",
       "<style scoped>\n",
       "    .dataframe tbody tr th:only-of-type {\n",
       "        vertical-align: middle;\n",
       "    }\n",
       "\n",
       "    .dataframe tbody tr th {\n",
       "        vertical-align: top;\n",
       "    }\n",
       "\n",
       "    .dataframe thead th {\n",
       "        text-align: right;\n",
       "    }\n",
       "</style>\n",
       "<table border=\"1\" class=\"dataframe\">\n",
       "  <thead>\n",
       "    <tr style=\"text-align: right;\">\n",
       "      <th></th>\n",
       "      <th>species</th>\n",
       "    </tr>\n",
       "    <tr>\n",
       "      <th>island</th>\n",
       "      <th></th>\n",
       "    </tr>\n",
       "  </thead>\n",
       "  <tbody>\n",
       "    <tr>\n",
       "      <th>Biscoe</th>\n",
       "      <td>2.473054</td>\n",
       "    </tr>\n",
       "    <tr>\n",
       "      <th>Dream</th>\n",
       "      <td>1.548387</td>\n",
       "    </tr>\n",
       "    <tr>\n",
       "      <th>Torgersen</th>\n",
       "      <td>1.000000</td>\n",
       "    </tr>\n",
       "  </tbody>\n",
       "</table>\n",
       "</div>"
      ],
      "text/plain": [
       "            species\n",
       "island             \n",
       "Biscoe     2.473054\n",
       "Dream      1.548387\n",
       "Torgersen  1.000000"
      ]
     },
     "execution_count": 16,
     "metadata": {},
     "output_type": "execute_result"
    }
   ],
   "source": [
    "# Obviously, it appears that sex has no real impact on determining the species of the penguin\n",
    "# But it appears that the island may have an impact on the type of penguin\n",
    "penguin.groupby('island').mean()"
   ]
  },
  {
   "cell_type": "markdown",
   "id": "2229a913",
   "metadata": {},
   "source": [
    "* Only adelie penguins are found at Torgersen\n",
    "* At biscoe island, it is more likely to find Gentoo penguins\n",
    "* At dream island, it is likely to find a mix of both adelie and chinstrap penguins\n",
    "\n"
   ]
  },
  {
   "cell_type": "markdown",
   "id": "e78bd3f2",
   "metadata": {},
   "source": [
    "# Exploratory Data Analysis Conclusions\n",
    "\n",
    "* Adelie penguins (1) appear to have smaller culmen_length than their counterparts\n",
    "* Gentoo penguins (3) appear to have smaller culmen_depth and larger flipper_length and body_mass\n",
    "* Chinstrap pengiuins (2) appear to have longer culmen_length and flipper length than their other counterparts, more analysis is needed\n",
    "* It appears that flipper_length_mm and body_mass_g are highly correlated, with one of which likely being able to be dropped to avoid multilinearity \n",
    "* Adelie penguins are only found at Torgersen. Biscoe island is likely to find Gentoo penguins. At Dream island, a mix of both adelie and chinstrap can be found\n",
    "* Sex is not a useful indicator and can be dropped"
   ]
  },
  {
   "cell_type": "markdown",
   "id": "5579acf4",
   "metadata": {},
   "source": [
    "# Clean Data\n",
    "\n",
    "We read in our data again and clean using the lessons we learned from our exploratory data analysis"
   ]
  },
  {
   "cell_type": "markdown",
   "id": "bf090cae",
   "metadata": {},
   "source": [
    "## Continous Features\n",
    "\n",
    "* Convert 'species' to numerical values\n",
    "* Drop 'body_mass_g'\n",
    "* Replace remaining continous variables with mean values"
   ]
  },
  {
   "cell_type": "code",
   "execution_count": 17,
   "id": "89177d63",
   "metadata": {},
   "outputs": [
    {
     "data": {
      "text/html": [
       "<div>\n",
       "<style scoped>\n",
       "    .dataframe tbody tr th:only-of-type {\n",
       "        vertical-align: middle;\n",
       "    }\n",
       "\n",
       "    .dataframe tbody tr th {\n",
       "        vertical-align: top;\n",
       "    }\n",
       "\n",
       "    .dataframe thead th {\n",
       "        text-align: right;\n",
       "    }\n",
       "</style>\n",
       "<table border=\"1\" class=\"dataframe\">\n",
       "  <thead>\n",
       "    <tr style=\"text-align: right;\">\n",
       "      <th></th>\n",
       "      <th>species</th>\n",
       "      <th>island</th>\n",
       "      <th>culmen_length_mm</th>\n",
       "      <th>culmen_depth_mm</th>\n",
       "      <th>flipper_length_mm</th>\n",
       "      <th>body_mass_g</th>\n",
       "      <th>sex</th>\n",
       "    </tr>\n",
       "  </thead>\n",
       "  <tbody>\n",
       "    <tr>\n",
       "      <th>0</th>\n",
       "      <td>Adelie</td>\n",
       "      <td>Torgersen</td>\n",
       "      <td>39.1</td>\n",
       "      <td>18.7</td>\n",
       "      <td>181.0</td>\n",
       "      <td>3750.0</td>\n",
       "      <td>MALE</td>\n",
       "    </tr>\n",
       "    <tr>\n",
       "      <th>1</th>\n",
       "      <td>Adelie</td>\n",
       "      <td>Torgersen</td>\n",
       "      <td>39.5</td>\n",
       "      <td>17.4</td>\n",
       "      <td>186.0</td>\n",
       "      <td>3800.0</td>\n",
       "      <td>FEMALE</td>\n",
       "    </tr>\n",
       "    <tr>\n",
       "      <th>2</th>\n",
       "      <td>Adelie</td>\n",
       "      <td>Torgersen</td>\n",
       "      <td>40.3</td>\n",
       "      <td>18.0</td>\n",
       "      <td>195.0</td>\n",
       "      <td>3250.0</td>\n",
       "      <td>FEMALE</td>\n",
       "    </tr>\n",
       "    <tr>\n",
       "      <th>3</th>\n",
       "      <td>Adelie</td>\n",
       "      <td>Torgersen</td>\n",
       "      <td>NaN</td>\n",
       "      <td>NaN</td>\n",
       "      <td>NaN</td>\n",
       "      <td>NaN</td>\n",
       "      <td>NaN</td>\n",
       "    </tr>\n",
       "    <tr>\n",
       "      <th>4</th>\n",
       "      <td>Adelie</td>\n",
       "      <td>Torgersen</td>\n",
       "      <td>36.7</td>\n",
       "      <td>19.3</td>\n",
       "      <td>193.0</td>\n",
       "      <td>3450.0</td>\n",
       "      <td>FEMALE</td>\n",
       "    </tr>\n",
       "  </tbody>\n",
       "</table>\n",
       "</div>"
      ],
      "text/plain": [
       "  species     island  culmen_length_mm  culmen_depth_mm  flipper_length_mm  \\\n",
       "0  Adelie  Torgersen              39.1             18.7              181.0   \n",
       "1  Adelie  Torgersen              39.5             17.4              186.0   \n",
       "2  Adelie  Torgersen              40.3             18.0              195.0   \n",
       "3  Adelie  Torgersen               NaN              NaN                NaN   \n",
       "4  Adelie  Torgersen              36.7             19.3              193.0   \n",
       "\n",
       "   body_mass_g     sex  \n",
       "0       3750.0    MALE  \n",
       "1       3800.0  FEMALE  \n",
       "2       3250.0  FEMALE  \n",
       "3          NaN     NaN  \n",
       "4       3450.0  FEMALE  "
      ]
     },
     "execution_count": 17,
     "metadata": {},
     "output_type": "execute_result"
    }
   ],
   "source": [
    "import matplotlib.pyplot as plt\n",
    "import numpy as np\n",
    "import pandas as pd\n",
    "import seaborn as sns\n",
    "%matplotlib inline\n",
    "\n",
    "penguin = pd.read_csv('penguins_size.csv')\n",
    "penguin.head()"
   ]
  },
  {
   "cell_type": "code",
   "execution_count": 18,
   "id": "01790917",
   "metadata": {},
   "outputs": [
    {
     "data": {
      "text/html": [
       "<div>\n",
       "<style scoped>\n",
       "    .dataframe tbody tr th:only-of-type {\n",
       "        vertical-align: middle;\n",
       "    }\n",
       "\n",
       "    .dataframe tbody tr th {\n",
       "        vertical-align: top;\n",
       "    }\n",
       "\n",
       "    .dataframe thead th {\n",
       "        text-align: right;\n",
       "    }\n",
       "</style>\n",
       "<table border=\"1\" class=\"dataframe\">\n",
       "  <thead>\n",
       "    <tr style=\"text-align: right;\">\n",
       "      <th></th>\n",
       "      <th>species</th>\n",
       "      <th>island</th>\n",
       "      <th>culmen_length_mm</th>\n",
       "      <th>culmen_depth_mm</th>\n",
       "      <th>flipper_length_mm</th>\n",
       "      <th>body_mass_g</th>\n",
       "      <th>sex</th>\n",
       "    </tr>\n",
       "  </thead>\n",
       "  <tbody>\n",
       "    <tr>\n",
       "      <th>0</th>\n",
       "      <td>1</td>\n",
       "      <td>Torgersen</td>\n",
       "      <td>39.1</td>\n",
       "      <td>18.7</td>\n",
       "      <td>181.0</td>\n",
       "      <td>3750.0</td>\n",
       "      <td>MALE</td>\n",
       "    </tr>\n",
       "    <tr>\n",
       "      <th>1</th>\n",
       "      <td>1</td>\n",
       "      <td>Torgersen</td>\n",
       "      <td>39.5</td>\n",
       "      <td>17.4</td>\n",
       "      <td>186.0</td>\n",
       "      <td>3800.0</td>\n",
       "      <td>FEMALE</td>\n",
       "    </tr>\n",
       "    <tr>\n",
       "      <th>2</th>\n",
       "      <td>1</td>\n",
       "      <td>Torgersen</td>\n",
       "      <td>40.3</td>\n",
       "      <td>18.0</td>\n",
       "      <td>195.0</td>\n",
       "      <td>3250.0</td>\n",
       "      <td>FEMALE</td>\n",
       "    </tr>\n",
       "    <tr>\n",
       "      <th>3</th>\n",
       "      <td>1</td>\n",
       "      <td>Torgersen</td>\n",
       "      <td>NaN</td>\n",
       "      <td>NaN</td>\n",
       "      <td>NaN</td>\n",
       "      <td>NaN</td>\n",
       "      <td>NaN</td>\n",
       "    </tr>\n",
       "    <tr>\n",
       "      <th>4</th>\n",
       "      <td>1</td>\n",
       "      <td>Torgersen</td>\n",
       "      <td>36.7</td>\n",
       "      <td>19.3</td>\n",
       "      <td>193.0</td>\n",
       "      <td>3450.0</td>\n",
       "      <td>FEMALE</td>\n",
       "    </tr>\n",
       "    <tr>\n",
       "      <th>...</th>\n",
       "      <td>...</td>\n",
       "      <td>...</td>\n",
       "      <td>...</td>\n",
       "      <td>...</td>\n",
       "      <td>...</td>\n",
       "      <td>...</td>\n",
       "      <td>...</td>\n",
       "    </tr>\n",
       "    <tr>\n",
       "      <th>339</th>\n",
       "      <td>3</td>\n",
       "      <td>Biscoe</td>\n",
       "      <td>NaN</td>\n",
       "      <td>NaN</td>\n",
       "      <td>NaN</td>\n",
       "      <td>NaN</td>\n",
       "      <td>NaN</td>\n",
       "    </tr>\n",
       "    <tr>\n",
       "      <th>340</th>\n",
       "      <td>3</td>\n",
       "      <td>Biscoe</td>\n",
       "      <td>46.8</td>\n",
       "      <td>14.3</td>\n",
       "      <td>215.0</td>\n",
       "      <td>4850.0</td>\n",
       "      <td>FEMALE</td>\n",
       "    </tr>\n",
       "    <tr>\n",
       "      <th>341</th>\n",
       "      <td>3</td>\n",
       "      <td>Biscoe</td>\n",
       "      <td>50.4</td>\n",
       "      <td>15.7</td>\n",
       "      <td>222.0</td>\n",
       "      <td>5750.0</td>\n",
       "      <td>MALE</td>\n",
       "    </tr>\n",
       "    <tr>\n",
       "      <th>342</th>\n",
       "      <td>3</td>\n",
       "      <td>Biscoe</td>\n",
       "      <td>45.2</td>\n",
       "      <td>14.8</td>\n",
       "      <td>212.0</td>\n",
       "      <td>5200.0</td>\n",
       "      <td>FEMALE</td>\n",
       "    </tr>\n",
       "    <tr>\n",
       "      <th>343</th>\n",
       "      <td>3</td>\n",
       "      <td>Biscoe</td>\n",
       "      <td>49.9</td>\n",
       "      <td>16.1</td>\n",
       "      <td>213.0</td>\n",
       "      <td>5400.0</td>\n",
       "      <td>MALE</td>\n",
       "    </tr>\n",
       "  </tbody>\n",
       "</table>\n",
       "<p>344 rows × 7 columns</p>\n",
       "</div>"
      ],
      "text/plain": [
       "     species     island  culmen_length_mm  culmen_depth_mm  flipper_length_mm  \\\n",
       "0          1  Torgersen              39.1             18.7              181.0   \n",
       "1          1  Torgersen              39.5             17.4              186.0   \n",
       "2          1  Torgersen              40.3             18.0              195.0   \n",
       "3          1  Torgersen               NaN              NaN                NaN   \n",
       "4          1  Torgersen              36.7             19.3              193.0   \n",
       "..       ...        ...               ...              ...                ...   \n",
       "339        3     Biscoe               NaN              NaN                NaN   \n",
       "340        3     Biscoe              46.8             14.3              215.0   \n",
       "341        3     Biscoe              50.4             15.7              222.0   \n",
       "342        3     Biscoe              45.2             14.8              212.0   \n",
       "343        3     Biscoe              49.9             16.1              213.0   \n",
       "\n",
       "     body_mass_g     sex  \n",
       "0         3750.0    MALE  \n",
       "1         3800.0  FEMALE  \n",
       "2         3250.0  FEMALE  \n",
       "3            NaN     NaN  \n",
       "4         3450.0  FEMALE  \n",
       "..           ...     ...  \n",
       "339          NaN     NaN  \n",
       "340       4850.0  FEMALE  \n",
       "341       5750.0    MALE  \n",
       "342       5200.0  FEMALE  \n",
       "343       5400.0    MALE  \n",
       "\n",
       "[344 rows x 7 columns]"
      ]
     },
     "execution_count": 18,
     "metadata": {},
     "output_type": "execute_result"
    }
   ],
   "source": [
    "#To make our data analysis easier, we will convert species a numerical variable\n",
    "#Where Adelie is 1, Chinstrap 2, Gentoo 3\n",
    "penguin['species'] = penguin['species'].map({'Adelie': 1, 'Chinstrap' : 2, 'Gentoo': 3}) \n",
    "penguin.head(344)"
   ]
  },
  {
   "cell_type": "code",
   "execution_count": 19,
   "id": "0711bb01",
   "metadata": {},
   "outputs": [
    {
     "data": {
      "text/html": [
       "<div>\n",
       "<style scoped>\n",
       "    .dataframe tbody tr th:only-of-type {\n",
       "        vertical-align: middle;\n",
       "    }\n",
       "\n",
       "    .dataframe tbody tr th {\n",
       "        vertical-align: top;\n",
       "    }\n",
       "\n",
       "    .dataframe thead th {\n",
       "        text-align: right;\n",
       "    }\n",
       "</style>\n",
       "<table border=\"1\" class=\"dataframe\">\n",
       "  <thead>\n",
       "    <tr style=\"text-align: right;\">\n",
       "      <th></th>\n",
       "      <th>species</th>\n",
       "      <th>island</th>\n",
       "      <th>culmen_length_mm</th>\n",
       "      <th>culmen_depth_mm</th>\n",
       "      <th>flipper_length_mm</th>\n",
       "      <th>sex</th>\n",
       "    </tr>\n",
       "  </thead>\n",
       "  <tbody>\n",
       "    <tr>\n",
       "      <th>0</th>\n",
       "      <td>1</td>\n",
       "      <td>Torgersen</td>\n",
       "      <td>39.1</td>\n",
       "      <td>18.7</td>\n",
       "      <td>181.0</td>\n",
       "      <td>MALE</td>\n",
       "    </tr>\n",
       "    <tr>\n",
       "      <th>1</th>\n",
       "      <td>1</td>\n",
       "      <td>Torgersen</td>\n",
       "      <td>39.5</td>\n",
       "      <td>17.4</td>\n",
       "      <td>186.0</td>\n",
       "      <td>FEMALE</td>\n",
       "    </tr>\n",
       "    <tr>\n",
       "      <th>2</th>\n",
       "      <td>1</td>\n",
       "      <td>Torgersen</td>\n",
       "      <td>40.3</td>\n",
       "      <td>18.0</td>\n",
       "      <td>195.0</td>\n",
       "      <td>FEMALE</td>\n",
       "    </tr>\n",
       "    <tr>\n",
       "      <th>3</th>\n",
       "      <td>1</td>\n",
       "      <td>Torgersen</td>\n",
       "      <td>NaN</td>\n",
       "      <td>NaN</td>\n",
       "      <td>NaN</td>\n",
       "      <td>NaN</td>\n",
       "    </tr>\n",
       "    <tr>\n",
       "      <th>4</th>\n",
       "      <td>1</td>\n",
       "      <td>Torgersen</td>\n",
       "      <td>36.7</td>\n",
       "      <td>19.3</td>\n",
       "      <td>193.0</td>\n",
       "      <td>FEMALE</td>\n",
       "    </tr>\n",
       "  </tbody>\n",
       "</table>\n",
       "</div>"
      ],
      "text/plain": [
       "   species     island  culmen_length_mm  culmen_depth_mm  flipper_length_mm  \\\n",
       "0        1  Torgersen              39.1             18.7              181.0   \n",
       "1        1  Torgersen              39.5             17.4              186.0   \n",
       "2        1  Torgersen              40.3             18.0              195.0   \n",
       "3        1  Torgersen               NaN              NaN                NaN   \n",
       "4        1  Torgersen              36.7             19.3              193.0   \n",
       "\n",
       "      sex  \n",
       "0    MALE  \n",
       "1  FEMALE  \n",
       "2  FEMALE  \n",
       "3     NaN  \n",
       "4  FEMALE  "
      ]
     },
     "execution_count": 19,
     "metadata": {},
     "output_type": "execute_result"
    }
   ],
   "source": [
    "#From the plot and the mean graphs, it appears that body_mass and flipper_length are highly correlated\n",
    "#We can drop one variable to avoid multilinearity \n",
    "penguin.drop(columns=['body_mass_g'], axis=1, inplace=True)\n",
    "penguin.head()"
   ]
  },
  {
   "cell_type": "code",
   "execution_count": 20,
   "id": "22ce1809",
   "metadata": {},
   "outputs": [
    {
     "data": {
      "text/plain": [
       "species               0\n",
       "island                0\n",
       "culmen_length_mm      0\n",
       "culmen_depth_mm       0\n",
       "flipper_length_mm     0\n",
       "sex                  10\n",
       "dtype: int64"
      ]
     },
     "execution_count": 20,
     "metadata": {},
     "output_type": "execute_result"
    }
   ],
   "source": [
    "#Fill in Missing Values by replacing them with the average values in their respective columns\n",
    "penguin['culmen_length_mm'].fillna(penguin['culmen_length_mm'].mean(), inplace=True)\n",
    "penguin['culmen_depth_mm'].fillna(penguin['culmen_depth_mm'].mean(), inplace=True)\n",
    "penguin['flipper_length_mm'].fillna(penguin['flipper_length_mm'].mean(), inplace=True)\n",
    "penguin.isnull().sum() #0s mean no missing values"
   ]
  },
  {
   "cell_type": "markdown",
   "id": "c1a30d66",
   "metadata": {},
   "source": [
    "## Categorical Features\n",
    "\n",
    "* Omit rows that have categorical values that are null\n",
    "* We drop the 'sex' column, as it does not contribute to finding our target variable ('species')\n",
    "* Change values to numeric so it is easier for our model to understand"
   ]
  },
  {
   "cell_type": "code",
   "execution_count": 21,
   "id": "8fc9c122",
   "metadata": {},
   "outputs": [
    {
     "data": {
      "text/plain": [
       "species              0\n",
       "island               0\n",
       "culmen_length_mm     0\n",
       "culmen_depth_mm      0\n",
       "flipper_length_mm    0\n",
       "dtype: int64"
      ]
     },
     "execution_count": 21,
     "metadata": {},
     "output_type": "execute_result"
    }
   ],
   "source": [
    "#Drop rows which have our categorical features that are null\n",
    "penguin.drop(columns=['sex'], axis=1, inplace=True)\n",
    "penguin.dropna(subset=['island'])\n",
    "penguin.isnull().sum() #0s mean no missing values"
   ]
  },
  {
   "cell_type": "code",
   "execution_count": 22,
   "id": "db2f64ac",
   "metadata": {},
   "outputs": [
    {
     "data": {
      "text/html": [
       "<div>\n",
       "<style scoped>\n",
       "    .dataframe tbody tr th:only-of-type {\n",
       "        vertical-align: middle;\n",
       "    }\n",
       "\n",
       "    .dataframe tbody tr th {\n",
       "        vertical-align: top;\n",
       "    }\n",
       "\n",
       "    .dataframe thead th {\n",
       "        text-align: right;\n",
       "    }\n",
       "</style>\n",
       "<table border=\"1\" class=\"dataframe\">\n",
       "  <thead>\n",
       "    <tr style=\"text-align: right;\">\n",
       "      <th></th>\n",
       "      <th>species</th>\n",
       "      <th>island</th>\n",
       "      <th>culmen_length_mm</th>\n",
       "      <th>culmen_depth_mm</th>\n",
       "      <th>flipper_length_mm</th>\n",
       "    </tr>\n",
       "  </thead>\n",
       "  <tbody>\n",
       "    <tr>\n",
       "      <th>0</th>\n",
       "      <td>1</td>\n",
       "      <td>1</td>\n",
       "      <td>39.10000</td>\n",
       "      <td>18.70000</td>\n",
       "      <td>181.000000</td>\n",
       "    </tr>\n",
       "    <tr>\n",
       "      <th>1</th>\n",
       "      <td>1</td>\n",
       "      <td>1</td>\n",
       "      <td>39.50000</td>\n",
       "      <td>17.40000</td>\n",
       "      <td>186.000000</td>\n",
       "    </tr>\n",
       "    <tr>\n",
       "      <th>2</th>\n",
       "      <td>1</td>\n",
       "      <td>1</td>\n",
       "      <td>40.30000</td>\n",
       "      <td>18.00000</td>\n",
       "      <td>195.000000</td>\n",
       "    </tr>\n",
       "    <tr>\n",
       "      <th>3</th>\n",
       "      <td>1</td>\n",
       "      <td>1</td>\n",
       "      <td>43.92193</td>\n",
       "      <td>17.15117</td>\n",
       "      <td>200.915205</td>\n",
       "    </tr>\n",
       "    <tr>\n",
       "      <th>4</th>\n",
       "      <td>1</td>\n",
       "      <td>1</td>\n",
       "      <td>36.70000</td>\n",
       "      <td>19.30000</td>\n",
       "      <td>193.000000</td>\n",
       "    </tr>\n",
       "    <tr>\n",
       "      <th>...</th>\n",
       "      <td>...</td>\n",
       "      <td>...</td>\n",
       "      <td>...</td>\n",
       "      <td>...</td>\n",
       "      <td>...</td>\n",
       "    </tr>\n",
       "    <tr>\n",
       "      <th>339</th>\n",
       "      <td>3</td>\n",
       "      <td>2</td>\n",
       "      <td>43.92193</td>\n",
       "      <td>17.15117</td>\n",
       "      <td>200.915205</td>\n",
       "    </tr>\n",
       "    <tr>\n",
       "      <th>340</th>\n",
       "      <td>3</td>\n",
       "      <td>2</td>\n",
       "      <td>46.80000</td>\n",
       "      <td>14.30000</td>\n",
       "      <td>215.000000</td>\n",
       "    </tr>\n",
       "    <tr>\n",
       "      <th>341</th>\n",
       "      <td>3</td>\n",
       "      <td>2</td>\n",
       "      <td>50.40000</td>\n",
       "      <td>15.70000</td>\n",
       "      <td>222.000000</td>\n",
       "    </tr>\n",
       "    <tr>\n",
       "      <th>342</th>\n",
       "      <td>3</td>\n",
       "      <td>2</td>\n",
       "      <td>45.20000</td>\n",
       "      <td>14.80000</td>\n",
       "      <td>212.000000</td>\n",
       "    </tr>\n",
       "    <tr>\n",
       "      <th>343</th>\n",
       "      <td>3</td>\n",
       "      <td>2</td>\n",
       "      <td>49.90000</td>\n",
       "      <td>16.10000</td>\n",
       "      <td>213.000000</td>\n",
       "    </tr>\n",
       "  </tbody>\n",
       "</table>\n",
       "<p>344 rows × 5 columns</p>\n",
       "</div>"
      ],
      "text/plain": [
       "     species  island  culmen_length_mm  culmen_depth_mm  flipper_length_mm\n",
       "0          1       1          39.10000         18.70000         181.000000\n",
       "1          1       1          39.50000         17.40000         186.000000\n",
       "2          1       1          40.30000         18.00000         195.000000\n",
       "3          1       1          43.92193         17.15117         200.915205\n",
       "4          1       1          36.70000         19.30000         193.000000\n",
       "..       ...     ...               ...              ...                ...\n",
       "339        3       2          43.92193         17.15117         200.915205\n",
       "340        3       2          46.80000         14.30000         215.000000\n",
       "341        3       2          50.40000         15.70000         222.000000\n",
       "342        3       2          45.20000         14.80000         212.000000\n",
       "343        3       2          49.90000         16.10000         213.000000\n",
       "\n",
       "[344 rows x 5 columns]"
      ]
     },
     "execution_count": 22,
     "metadata": {},
     "output_type": "execute_result"
    }
   ],
   "source": [
    "#To make our data analysis easier, we will convert species a numerical variable\n",
    "#Where Torgerson is 1, Biscoe 2, Dream 3\n",
    "penguin['island'] = penguin['island'].map({'Torgersen': 1, 'Biscoe' : 2, 'Dream': 3}) \n",
    "penguin.head(344)"
   ]
  },
  {
   "cell_type": "code",
   "execution_count": 23,
   "id": "ab397df7",
   "metadata": {},
   "outputs": [],
   "source": [
    "#Write out our now cleaned data\n",
    "penguin.to_csv('penguins_size_cleaned.csv', index=False)"
   ]
  },
  {
   "cell_type": "markdown",
   "id": "bddce901",
   "metadata": {},
   "source": [
    "# Split data (60-20-20 ratio)"
   ]
  },
  {
   "cell_type": "code",
   "execution_count": 24,
   "id": "34ca4b2d",
   "metadata": {},
   "outputs": [
    {
     "data": {
      "text/html": [
       "<div>\n",
       "<style scoped>\n",
       "    .dataframe tbody tr th:only-of-type {\n",
       "        vertical-align: middle;\n",
       "    }\n",
       "\n",
       "    .dataframe tbody tr th {\n",
       "        vertical-align: top;\n",
       "    }\n",
       "\n",
       "    .dataframe thead th {\n",
       "        text-align: right;\n",
       "    }\n",
       "</style>\n",
       "<table border=\"1\" class=\"dataframe\">\n",
       "  <thead>\n",
       "    <tr style=\"text-align: right;\">\n",
       "      <th></th>\n",
       "      <th>species</th>\n",
       "      <th>island</th>\n",
       "      <th>culmen_length_mm</th>\n",
       "      <th>culmen_depth_mm</th>\n",
       "      <th>flipper_length_mm</th>\n",
       "    </tr>\n",
       "  </thead>\n",
       "  <tbody>\n",
       "    <tr>\n",
       "      <th>0</th>\n",
       "      <td>1</td>\n",
       "      <td>1</td>\n",
       "      <td>39.10000</td>\n",
       "      <td>18.70000</td>\n",
       "      <td>181.000000</td>\n",
       "    </tr>\n",
       "    <tr>\n",
       "      <th>1</th>\n",
       "      <td>1</td>\n",
       "      <td>1</td>\n",
       "      <td>39.50000</td>\n",
       "      <td>17.40000</td>\n",
       "      <td>186.000000</td>\n",
       "    </tr>\n",
       "    <tr>\n",
       "      <th>2</th>\n",
       "      <td>1</td>\n",
       "      <td>1</td>\n",
       "      <td>40.30000</td>\n",
       "      <td>18.00000</td>\n",
       "      <td>195.000000</td>\n",
       "    </tr>\n",
       "    <tr>\n",
       "      <th>3</th>\n",
       "      <td>1</td>\n",
       "      <td>1</td>\n",
       "      <td>43.92193</td>\n",
       "      <td>17.15117</td>\n",
       "      <td>200.915205</td>\n",
       "    </tr>\n",
       "    <tr>\n",
       "      <th>4</th>\n",
       "      <td>1</td>\n",
       "      <td>1</td>\n",
       "      <td>36.70000</td>\n",
       "      <td>19.30000</td>\n",
       "      <td>193.000000</td>\n",
       "    </tr>\n",
       "  </tbody>\n",
       "</table>\n",
       "</div>"
      ],
      "text/plain": [
       "   species  island  culmen_length_mm  culmen_depth_mm  flipper_length_mm\n",
       "0        1       1          39.10000         18.70000         181.000000\n",
       "1        1       1          39.50000         17.40000         186.000000\n",
       "2        1       1          40.30000         18.00000         195.000000\n",
       "3        1       1          43.92193         17.15117         200.915205\n",
       "4        1       1          36.70000         19.30000         193.000000"
      ]
     },
     "execution_count": 24,
     "metadata": {},
     "output_type": "execute_result"
    }
   ],
   "source": [
    "import pandas as pd\n",
    "from sklearn.model_selection import train_test_split\n",
    "\n",
    "penguin = pd.read_csv('penguins_size_cleaned.csv')\n",
    "penguin.head()\n",
    "\n",
    "#Split into train, validation, and test set\n"
   ]
  },
  {
   "cell_type": "code",
   "execution_count": 25,
   "id": "3ad7e74f",
   "metadata": {},
   "outputs": [],
   "source": [
    "#Split into our features and labels\n",
    "features = penguin.drop('species', axis=1)\n",
    "labels = penguin['species']\n",
    "\n",
    "X_train, X_test, y_train, y_test = train_test_split(features, labels, test_size=0.4, random_state=42)\n",
    "X_test, X_val, y_test, y_val = train_test_split(X_test, y_test, test_size=0.5, random_state=42)"
   ]
  },
  {
   "cell_type": "code",
   "execution_count": 26,
   "id": "c31cfd53",
   "metadata": {},
   "outputs": [
    {
     "name": "stdout",
     "output_type": "stream",
     "text": [
      "0.6\n",
      "0.2\n",
      "0.2\n"
     ]
    }
   ],
   "source": [
    "#Verify split data 60-20-20\n",
    "for dataset in [y_train, y_val, y_test]:\n",
    "    print(round(len(dataset)/len(labels), 2))"
   ]
  },
  {
   "cell_type": "code",
   "execution_count": 27,
   "id": "abac9356",
   "metadata": {},
   "outputs": [],
   "source": [
    "#Write out our data sets\n",
    "X_train.to_csv('train_features.csv', index=False)\n",
    "X_val.to_csv('val_features.csv', index=False)\n",
    "X_test.to_csv('test_features.csv', index=False)\n",
    "\n",
    "y_train.to_csv('train_labels.csv', index=False)\n",
    "y_val.to_csv('val_labels.csv', index=False)\n",
    "y_test.to_csv('test_labels.csv', index=False)"
   ]
  },
  {
   "cell_type": "markdown",
   "id": "2e8c7e35",
   "metadata": {},
   "source": [
    "## Random Forest: Fit and Evaluate"
   ]
  },
  {
   "cell_type": "code",
   "execution_count": 28,
   "id": "3a12e291",
   "metadata": {},
   "outputs": [],
   "source": [
    "import joblib\n",
    "import pandas as pd\n",
    "from sklearn.ensemble import RandomForestClassifier\n",
    "from sklearn.model_selection import GridSearchCV\n",
    "from sklearn.model_selection import learning_curve\n",
    "import warnings\n",
    "warnings.filterwarnings('ignore', category=FutureWarning)\n",
    "warnings.filterwarnings('ignore', category=DeprecationWarning)\n",
    "\n",
    "tr_features = pd.read_csv('train_features.csv')\n",
    "tr_labels = pd.read_csv('train_labels.csv')"
   ]
  },
  {
   "cell_type": "code",
   "execution_count": 29,
   "id": "626950c2",
   "metadata": {},
   "outputs": [],
   "source": [
    "#Write method to print results\n",
    "def print_results(results):\n",
    "    print('BEST PARAMS: {}\\n'.format(results.best_params_))\n",
    "\n",
    "    means = results.cv_results_['mean_test_score']\n",
    "    stds = results.cv_results_['std_test_score']\n",
    "    for mean, std, params in zip(means, stds, results.cv_results_['params']):\n",
    "        print('{} (+/-{}) for {}'.format(round(mean, 3), round(std * 2, 3), params))"
   ]
  },
  {
   "cell_type": "code",
   "execution_count": 30,
   "id": "433ae739",
   "metadata": {},
   "outputs": [
    {
     "name": "stdout",
     "output_type": "stream",
     "text": [
      "BEST PARAMS: {'max_depth': 4, 'n_estimators': 5}\n",
      "\n",
      "0.957 (+/-0.055) for {'max_depth': 2, 'n_estimators': 5}\n",
      "0.966 (+/-0.038) for {'max_depth': 2, 'n_estimators': 50}\n",
      "0.971 (+/-0.019) for {'max_depth': 2, 'n_estimators': 250}\n",
      "0.976 (+/-0.03) for {'max_depth': 4, 'n_estimators': 5}\n",
      "0.976 (+/-0.03) for {'max_depth': 4, 'n_estimators': 50}\n",
      "0.976 (+/-0.03) for {'max_depth': 4, 'n_estimators': 250}\n",
      "0.951 (+/-0.053) for {'max_depth': 8, 'n_estimators': 5}\n",
      "0.976 (+/-0.03) for {'max_depth': 8, 'n_estimators': 50}\n",
      "0.976 (+/-0.03) for {'max_depth': 8, 'n_estimators': 250}\n",
      "0.966 (+/-0.038) for {'max_depth': 16, 'n_estimators': 5}\n",
      "0.976 (+/-0.03) for {'max_depth': 16, 'n_estimators': 50}\n",
      "0.976 (+/-0.03) for {'max_depth': 16, 'n_estimators': 250}\n",
      "0.966 (+/-0.039) for {'max_depth': 32, 'n_estimators': 5}\n",
      "0.976 (+/-0.03) for {'max_depth': 32, 'n_estimators': 50}\n",
      "0.976 (+/-0.03) for {'max_depth': 32, 'n_estimators': 250}\n",
      "0.961 (+/-0.065) for {'max_depth': None, 'n_estimators': 5}\n",
      "0.976 (+/-0.043) for {'max_depth': None, 'n_estimators': 50}\n",
      "0.976 (+/-0.03) for {'max_depth': None, 'n_estimators': 250}\n"
     ]
    }
   ],
   "source": [
    "rf = RandomForestClassifier()\n",
    "parameters = {\n",
    "    'n_estimators': [5, 50, 250],\n",
    "    'max_depth': [2, 4, 8, 16, 32, None]\n",
    "}\n",
    "\n",
    "cv = GridSearchCV(rf, parameters, cv=5)\n",
    "cv.fit(tr_features, tr_labels.values.ravel())\n",
    "\n",
    "print_results(cv)"
   ]
  },
  {
   "cell_type": "markdown",
   "id": "33934b69",
   "metadata": {},
   "source": [
    "NOTE!!: Learning Curve Reference From:\n",
    "https://scikit-learn.org/stable/auto_examples/model_selection/plot_learning_curve.html#sphx-glr-auto-examples-model-selection-plot-learning-curve-py'\n",
    "&\n",
    "https://www.youtube.com/watch?v=2Bkp4B8sJ2Y\n",
    "\n",
    "Will comment/document code thoroughly to demonstrate understanding of referenced code"
   ]
  },
  {
   "cell_type": "code",
   "execution_count": 31,
   "id": "9159e7fc",
   "metadata": {},
   "outputs": [
    {
     "name": "stdout",
     "output_type": "stream",
     "text": [
      "[learning_curve] Training set sizes: [  1   4   8  11  14  18  21  24  28  31  34  38  41  44  48  51  54  57\n",
      "  61  64  67  71  74  77  81  84  87  91  94  97 101 104 107 110 114 117\n",
      " 120 124 127 130 134 137 140 144 147 150 154 157 160 164]\n"
     ]
    },
    {
     "name": "stderr",
     "output_type": "stream",
     "text": [
      "[Parallel(n_jobs=-1)]: Using backend LokyBackend with 4 concurrent workers.\n",
      "[Parallel(n_jobs=-1)]: Done 250 out of 250 | elapsed:   25.8s finished\n"
     ]
    }
   ],
   "source": [
    "## The learning curve function function in Scikit learn determines scores for cross validation training\n",
    "train_sizes, train_scores, test_scores = learning_curve(rf, tr_features, tr_labels, cv=5, scoring='accuracy', n_jobs=-1, train_sizes=np.linspace(0.01, 1, 50), verbose=1)"
   ]
  },
  {
   "cell_type": "code",
   "execution_count": 32,
   "id": "377f168b",
   "metadata": {},
   "outputs": [],
   "source": [
    "train_scores_mean = np.mean(train_scores, axis=1)\n",
    "train_scores_std = np.std(train_scores, axis=1)\n",
    "test_scores_mean = np.mean(test_scores, axis=1)\n",
    "test_scores_std = np.std(test_scores, axis=1)"
   ]
  },
  {
   "cell_type": "code",
   "execution_count": 33,
   "id": "8a0a0a0c",
   "metadata": {},
   "outputs": [
    {
     "data": {
      "text/plain": [
       "<matplotlib.legend.Legend at 0x1a2e59e5700>"
      ]
     },
     "execution_count": 33,
     "metadata": {},
     "output_type": "execute_result"
    },
    {
     "data": {
      "image/png": "[encoded data removed]",
      "text/plain": [
       "<Figure size 432x288 with 1 Axes>"
      ]
     },
     "metadata": {
      "needs_background": "light"
     },
     "output_type": "display_data"
    }
   ],
   "source": [
    "plt.plot(train_sizes, train_scores_mean, label = 'Training Score')\n",
    "plt.plot(train_sizes, test_scores_mean, label = 'CV Score')\n",
    "\n",
    "plt.fill_between(train_sizes, train_scores_mean - train_scores_std, train_scores_mean + train_scores_std, color='#DDDDDD')\n",
    "plt.fill_between(train_sizes, test_scores_mean - test_scores_std, test_scores_mean + test_scores_std, color='#DDDDDD')\n",
    "\n",
    "plt.title('Learning Curve (Random Forest)')\n",
    "plt.xlabel('Training Examples')\n",
    "plt.ylabel('Score')\n",
    "plt.legend(loc = 'best')"
   ]
  },
  {
   "cell_type": "code",
   "execution_count": 34,
   "id": "e4736212",
   "metadata": {},
   "outputs": [
    {
     "data": {
      "text/plain": [
       "['RF_602020.pkl']"
      ]
     },
     "execution_count": 34,
     "metadata": {},
     "output_type": "execute_result"
    }
   ],
   "source": [
    "# Write out pickled model\n",
    "joblib.dump(cv.best_estimator_,\"RF_602020.pkl\")"
   ]
  },
  {
   "cell_type": "markdown",
   "id": "0f05564f",
   "metadata": {},
   "source": [
    "## Boosted Forest: Fit and Evaluate"
   ]
  },
  {
   "cell_type": "code",
   "execution_count": 35,
   "id": "16bd011a",
   "metadata": {},
   "outputs": [],
   "source": [
    "import joblib\n",
    "import pandas as pd\n",
    "from sklearn.ensemble import GradientBoostingClassifier\n",
    "from sklearn.model_selection import GridSearchCV\n",
    "import warnings\n",
    "warnings.filterwarnings('ignore', category=FutureWarning)\n",
    "warnings.filterwarnings('ignore', category=DeprecationWarning)\n",
    "\n",
    "tr_features = pd.read_csv('train_features.csv')\n",
    "tr_labels = pd.read_csv('train_labels.csv')"
   ]
  },
  {
   "cell_type": "code",
   "execution_count": 36,
   "id": "5a6d9ea5",
   "metadata": {},
   "outputs": [],
   "source": [
    "#Write method to print results\n",
    "def print_results(results):\n",
    "    print('BEST PARAMS: {}\\n'.format(results.best_params_))\n",
    "\n",
    "    means = results.cv_results_['mean_test_score']\n",
    "    stds = results.cv_results_['std_test_score']\n",
    "    for mean, std, params in zip(means, stds, results.cv_results_['params']):\n",
    "        print('{} (+/-{}) for {}'.format(round(mean, 3), round(std * 2, 3), params))"
   ]
  },
  {
   "cell_type": "code",
   "execution_count": 37,
   "id": "b0266131",
   "metadata": {},
   "outputs": [
    {
     "name": "stdout",
     "output_type": "stream",
     "text": [
      "BEST PARAMS: {'learning_rate': 0.01, 'max_depth': 1, 'n_estimators': 500}\n",
      "\n",
      "0.427 (+/-0.022) for {'learning_rate': 0.01, 'max_depth': 1, 'n_estimators': 5}\n",
      "0.917 (+/-0.05) for {'learning_rate': 0.01, 'max_depth': 1, 'n_estimators': 50}\n",
      "0.961 (+/-0.039) for {'learning_rate': 0.01, 'max_depth': 1, 'n_estimators': 250}\n",
      "0.981 (+/-0.036) for {'learning_rate': 0.01, 'max_depth': 1, 'n_estimators': 500}\n",
      "0.427 (+/-0.022) for {'learning_rate': 0.01, 'max_depth': 3, 'n_estimators': 5}\n",
      "0.971 (+/-0.036) for {'learning_rate': 0.01, 'max_depth': 3, 'n_estimators': 50}\n",
      "0.971 (+/-0.036) for {'learning_rate': 0.01, 'max_depth': 3, 'n_estimators': 250}\n",
      "0.971 (+/-0.036) for {'learning_rate': 0.01, 'max_depth': 3, 'n_estimators': 500}\n",
      "0.427 (+/-0.022) for {'learning_rate': 0.01, 'max_depth': 5, 'n_estimators': 5}\n",
      "0.976 (+/-0.03) for {'learning_rate': 0.01, 'max_depth': 5, 'n_estimators': 50}\n",
      "0.976 (+/-0.03) for {'learning_rate': 0.01, 'max_depth': 5, 'n_estimators': 250}\n",
      "0.976 (+/-0.03) for {'learning_rate': 0.01, 'max_depth': 5, 'n_estimators': 500}\n",
      "0.427 (+/-0.022) for {'learning_rate': 0.01, 'max_depth': 7, 'n_estimators': 5}\n",
      "0.976 (+/-0.03) for {'learning_rate': 0.01, 'max_depth': 7, 'n_estimators': 50}\n",
      "0.976 (+/-0.03) for {'learning_rate': 0.01, 'max_depth': 7, 'n_estimators': 250}\n",
      "0.976 (+/-0.03) for {'learning_rate': 0.01, 'max_depth': 7, 'n_estimators': 500}\n",
      "0.427 (+/-0.022) for {'learning_rate': 0.01, 'max_depth': 9, 'n_estimators': 5}\n",
      "0.976 (+/-0.03) for {'learning_rate': 0.01, 'max_depth': 9, 'n_estimators': 50}\n",
      "0.976 (+/-0.03) for {'learning_rate': 0.01, 'max_depth': 9, 'n_estimators': 250}\n",
      "0.976 (+/-0.03) for {'learning_rate': 0.01, 'max_depth': 9, 'n_estimators': 500}\n",
      "0.917 (+/-0.05) for {'learning_rate': 0.1, 'max_depth': 1, 'n_estimators': 5}\n",
      "0.981 (+/-0.036) for {'learning_rate': 0.1, 'max_depth': 1, 'n_estimators': 50}\n",
      "0.966 (+/-0.088) for {'learning_rate': 0.1, 'max_depth': 1, 'n_estimators': 250}\n",
      "0.947 (+/-0.082) for {'learning_rate': 0.1, 'max_depth': 1, 'n_estimators': 500}\n",
      "0.971 (+/-0.036) for {'learning_rate': 0.1, 'max_depth': 3, 'n_estimators': 5}\n",
      "0.971 (+/-0.036) for {'learning_rate': 0.1, 'max_depth': 3, 'n_estimators': 50}\n",
      "0.976 (+/-0.03) for {'learning_rate': 0.1, 'max_depth': 3, 'n_estimators': 250}\n",
      "0.976 (+/-0.03) for {'learning_rate': 0.1, 'max_depth': 3, 'n_estimators': 500}\n",
      "0.976 (+/-0.03) for {'learning_rate': 0.1, 'max_depth': 5, 'n_estimators': 5}\n",
      "0.976 (+/-0.03) for {'learning_rate': 0.1, 'max_depth': 5, 'n_estimators': 50}\n",
      "0.976 (+/-0.03) for {'learning_rate': 0.1, 'max_depth': 5, 'n_estimators': 250}\n",
      "0.976 (+/-0.03) for {'learning_rate': 0.1, 'max_depth': 5, 'n_estimators': 500}\n",
      "0.976 (+/-0.03) for {'learning_rate': 0.1, 'max_depth': 7, 'n_estimators': 5}\n",
      "0.976 (+/-0.03) for {'learning_rate': 0.1, 'max_depth': 7, 'n_estimators': 50}\n",
      "0.976 (+/-0.03) for {'learning_rate': 0.1, 'max_depth': 7, 'n_estimators': 250}\n",
      "0.976 (+/-0.03) for {'learning_rate': 0.1, 'max_depth': 7, 'n_estimators': 500}\n",
      "0.976 (+/-0.03) for {'learning_rate': 0.1, 'max_depth': 9, 'n_estimators': 5}\n",
      "0.976 (+/-0.03) for {'learning_rate': 0.1, 'max_depth': 9, 'n_estimators': 50}\n",
      "0.976 (+/-0.03) for {'learning_rate': 0.1, 'max_depth': 9, 'n_estimators': 250}\n",
      "0.976 (+/-0.03) for {'learning_rate': 0.1, 'max_depth': 9, 'n_estimators': 500}\n",
      "0.971 (+/-0.019) for {'learning_rate': 1, 'max_depth': 1, 'n_estimators': 5}\n",
      "0.962 (+/-0.083) for {'learning_rate': 1, 'max_depth': 1, 'n_estimators': 50}\n",
      "0.957 (+/-0.082) for {'learning_rate': 1, 'max_depth': 1, 'n_estimators': 250}\n",
      "0.957 (+/-0.082) for {'learning_rate': 1, 'max_depth': 1, 'n_estimators': 500}\n",
      "0.961 (+/-0.05) for {'learning_rate': 1, 'max_depth': 3, 'n_estimators': 5}\n",
      "0.976 (+/-0.03) for {'learning_rate': 1, 'max_depth': 3, 'n_estimators': 50}\n",
      "0.976 (+/-0.03) for {'learning_rate': 1, 'max_depth': 3, 'n_estimators': 250}\n",
      "0.976 (+/-0.03) for {'learning_rate': 1, 'max_depth': 3, 'n_estimators': 500}\n",
      "0.966 (+/-0.039) for {'learning_rate': 1, 'max_depth': 5, 'n_estimators': 5}\n",
      "0.981 (+/-0.036) for {'learning_rate': 1, 'max_depth': 5, 'n_estimators': 50}\n",
      "0.981 (+/-0.036) for {'learning_rate': 1, 'max_depth': 5, 'n_estimators': 250}\n",
      "0.981 (+/-0.036) for {'learning_rate': 1, 'max_depth': 5, 'n_estimators': 500}\n",
      "0.971 (+/-0.036) for {'learning_rate': 1, 'max_depth': 7, 'n_estimators': 5}\n",
      "0.976 (+/-0.043) for {'learning_rate': 1, 'max_depth': 7, 'n_estimators': 50}\n",
      "0.976 (+/-0.043) for {'learning_rate': 1, 'max_depth': 7, 'n_estimators': 250}\n",
      "0.976 (+/-0.043) for {'learning_rate': 1, 'max_depth': 7, 'n_estimators': 500}\n",
      "0.971 (+/-0.036) for {'learning_rate': 1, 'max_depth': 9, 'n_estimators': 5}\n",
      "0.976 (+/-0.043) for {'learning_rate': 1, 'max_depth': 9, 'n_estimators': 50}\n",
      "0.976 (+/-0.043) for {'learning_rate': 1, 'max_depth': 9, 'n_estimators': 250}\n",
      "0.976 (+/-0.043) for {'learning_rate': 1, 'max_depth': 9, 'n_estimators': 500}\n",
      "0.515 (+/-0.248) for {'learning_rate': 10, 'max_depth': 1, 'n_estimators': 5}\n",
      "0.515 (+/-0.248) for {'learning_rate': 10, 'max_depth': 1, 'n_estimators': 50}\n",
      "0.515 (+/-0.248) for {'learning_rate': 10, 'max_depth': 1, 'n_estimators': 250}\n",
      "0.515 (+/-0.248) for {'learning_rate': 10, 'max_depth': 1, 'n_estimators': 500}\n",
      "0.927 (+/-0.053) for {'learning_rate': 10, 'max_depth': 3, 'n_estimators': 5}\n",
      "0.918 (+/-0.085) for {'learning_rate': 10, 'max_depth': 3, 'n_estimators': 50}\n",
      "0.922 (+/-0.071) for {'learning_rate': 10, 'max_depth': 3, 'n_estimators': 250}\n",
      "0.918 (+/-0.066) for {'learning_rate': 10, 'max_depth': 3, 'n_estimators': 500}\n",
      "0.951 (+/-0.053) for {'learning_rate': 10, 'max_depth': 5, 'n_estimators': 5}\n",
      "0.976 (+/-0.03) for {'learning_rate': 10, 'max_depth': 5, 'n_estimators': 50}\n",
      "0.976 (+/-0.03) for {'learning_rate': 10, 'max_depth': 5, 'n_estimators': 250}\n",
      "0.976 (+/-0.03) for {'learning_rate': 10, 'max_depth': 5, 'n_estimators': 500}\n",
      "0.956 (+/-0.057) for {'learning_rate': 10, 'max_depth': 7, 'n_estimators': 5}\n",
      "0.971 (+/-0.047) for {'learning_rate': 10, 'max_depth': 7, 'n_estimators': 50}\n",
      "0.976 (+/-0.03) for {'learning_rate': 10, 'max_depth': 7, 'n_estimators': 250}\n",
      "0.976 (+/-0.03) for {'learning_rate': 10, 'max_depth': 7, 'n_estimators': 500}\n",
      "0.951 (+/-0.031) for {'learning_rate': 10, 'max_depth': 9, 'n_estimators': 5}\n",
      "0.971 (+/-0.047) for {'learning_rate': 10, 'max_depth': 9, 'n_estimators': 50}\n",
      "0.971 (+/-0.047) for {'learning_rate': 10, 'max_depth': 9, 'n_estimators': 250}\n",
      "0.976 (+/-0.03) for {'learning_rate': 10, 'max_depth': 9, 'n_estimators': 500}\n",
      "0.446 (+/-0.227) for {'learning_rate': 100, 'max_depth': 1, 'n_estimators': 5}\n",
      "0.446 (+/-0.227) for {'learning_rate': 100, 'max_depth': 1, 'n_estimators': 50}\n",
      "0.446 (+/-0.227) for {'learning_rate': 100, 'max_depth': 1, 'n_estimators': 250}\n",
      "0.446 (+/-0.227) for {'learning_rate': 100, 'max_depth': 1, 'n_estimators': 500}\n",
      "0.947 (+/-0.037) for {'learning_rate': 100, 'max_depth': 3, 'n_estimators': 5}\n",
      "0.947 (+/-0.037) for {'learning_rate': 100, 'max_depth': 3, 'n_estimators': 50}\n",
      "0.937 (+/-0.048) for {'learning_rate': 100, 'max_depth': 3, 'n_estimators': 250}\n",
      "0.937 (+/-0.048) for {'learning_rate': 100, 'max_depth': 3, 'n_estimators': 500}\n",
      "0.966 (+/-0.039) for {'learning_rate': 100, 'max_depth': 5, 'n_estimators': 5}\n",
      "0.966 (+/-0.023) for {'learning_rate': 100, 'max_depth': 5, 'n_estimators': 50}\n",
      "0.966 (+/-0.039) for {'learning_rate': 100, 'max_depth': 5, 'n_estimators': 250}\n",
      "0.951 (+/-0.031) for {'learning_rate': 100, 'max_depth': 5, 'n_estimators': 500}\n",
      "0.951 (+/-0.031) for {'learning_rate': 100, 'max_depth': 7, 'n_estimators': 5}\n",
      "0.971 (+/-0.036) for {'learning_rate': 100, 'max_depth': 7, 'n_estimators': 50}\n",
      "0.961 (+/-0.024) for {'learning_rate': 100, 'max_depth': 7, 'n_estimators': 250}\n",
      "0.961 (+/-0.024) for {'learning_rate': 100, 'max_depth': 7, 'n_estimators': 500}\n",
      "0.966 (+/-0.023) for {'learning_rate': 100, 'max_depth': 9, 'n_estimators': 5}\n",
      "0.956 (+/-0.019) for {'learning_rate': 100, 'max_depth': 9, 'n_estimators': 50}\n",
      "0.961 (+/-0.024) for {'learning_rate': 100, 'max_depth': 9, 'n_estimators': 250}\n",
      "0.966 (+/-0.039) for {'learning_rate': 100, 'max_depth': 9, 'n_estimators': 500}\n"
     ]
    }
   ],
   "source": [
    "gb = GradientBoostingClassifier()\n",
    "parameters = {\n",
    "    'n_estimators': [5, 50, 250, 500],\n",
    "    'max_depth': [1, 3, 5, 7, 9],\n",
    "    'learning_rate': [0.01, 0.1, 1, 10, 100]\n",
    "}\n",
    "\n",
    "cv = GridSearchCV(gb, parameters, cv=5)\n",
    "cv.fit(tr_features, tr_labels.values.ravel())\n",
    "\n",
    "print_results(cv)"
   ]
  },
  {
   "cell_type": "code",
   "execution_count": 38,
   "id": "712dc5ff",
   "metadata": {},
   "outputs": [
    {
     "name": "stdout",
     "output_type": "stream",
     "text": [
      "[learning_curve] Training set sizes: [  1   4   8  11  14  18  21  24  28  31  34  38  41  44  48  51  54  57\n",
      "  61  64  67  71  74  77  81  84  87  91  94  97 101 104 107 110 114 117\n",
      " 120 124 127 130 134 137 140 144 147 150 154 157 160 164]\n"
     ]
    },
    {
     "name": "stderr",
     "output_type": "stream",
     "text": [
      "[Parallel(n_jobs=-1)]: Using backend LokyBackend with 4 concurrent workers.\n",
      "[Parallel(n_jobs=-1)]: Done 250 out of 250 | elapsed:   24.7s finished\n"
     ]
    },
    {
     "data": {
      "text/plain": [
       "<matplotlib.legend.Legend at 0x1a2e5c66100>"
      ]
     },
     "execution_count": 38,
     "metadata": {},
     "output_type": "execute_result"
    },
    {
     "data": {
      "image/png": "[encoded data removed]",
      "text/plain": [
       "<Figure size 432x288 with 1 Axes>"
      ]
     },
     "metadata": {
      "needs_background": "light"
     },
     "output_type": "display_data"
    }
   ],
   "source": [
    "## The learning curve function function in Scikit learn determines scores for cross validation training\n",
    "train_sizes, train_scores, test_scores = learning_curve(gb, tr_features, tr_labels, cv=5, scoring='accuracy', n_jobs=-1, train_sizes=np.linspace(0.01, 1, 50), verbose=1)\n",
    "\n",
    "train_scores_mean = np.mean(train_scores, axis=1)\n",
    "train_scores_std = np.std(train_scores, axis=1)\n",
    "test_scores_mean = np.mean(test_scores, axis=1)\n",
    "test_scores_std = np.std(test_scores, axis=1)\n",
    "\n",
    "plt.plot(train_sizes, train_scores_mean, label = 'Training Score')\n",
    "plt.plot(train_sizes, test_scores_mean, label = 'CV Score')\n",
    "\n",
    "plt.fill_between(train_sizes, train_scores_mean - train_scores_std, train_scores_mean + train_scores_std, color='#DDDDDD')\n",
    "plt.fill_between(train_sizes, test_scores_mean - test_scores_std, test_scores_mean + test_scores_std, color='#DDDDDD')\n",
    "\n",
    "plt.title('Learning Curve (Boosted Gradient Forest)')\n",
    "plt.xlabel('Training Examples')\n",
    "plt.ylabel('Score')\n",
    "plt.legend(loc = 'best')"
   ]
  },
  {
   "cell_type": "code",
   "execution_count": 39,
   "id": "10ee92f6",
   "metadata": {},
   "outputs": [
    {
     "data": {
      "text/plain": [
       "['GB_602020.pkl']"
      ]
     },
     "execution_count": 39,
     "metadata": {},
     "output_type": "execute_result"
    }
   ],
   "source": [
    "#Write out pickled model\n",
    "joblib.dump(cv.best_estimator_, 'GB_602020.pkl')"
   ]
  },
  {
   "cell_type": "markdown",
   "id": "a46fb35a",
   "metadata": {},
   "source": [
    "## SVM: Fit and Evaluate"
   ]
  },
  {
   "cell_type": "code",
   "execution_count": 40,
   "id": "4da5c4d9",
   "metadata": {},
   "outputs": [],
   "source": [
    "import joblib\n",
    "import pandas as pd\n",
    "from sklearn.model_selection import GridSearchCV\n",
    "from sklearn.svm import SVC\n",
    "import warnings\n",
    "warnings.filterwarnings('ignore', category=FutureWarning)\n",
    "warnings.filterwarnings('ignore', category=DeprecationWarning)\n",
    "\n",
    "tr_features = pd.read_csv('train_features.csv')\n",
    "tr_labels = pd.read_csv('train_labels.csv')"
   ]
  },
  {
   "cell_type": "code",
   "execution_count": 41,
   "id": "5c9b2739",
   "metadata": {},
   "outputs": [],
   "source": [
    "#Write method to print results\n",
    "def print_results(results):\n",
    "    print('BEST PARAMS: {}\\n'.format(results.best_params_))\n",
    "\n",
    "    means = results.cv_results_['mean_test_score']\n",
    "    stds = results.cv_results_['std_test_score']\n",
    "    for mean, std, params in zip(means, stds, results.cv_results_['params']):\n",
    "        print('{} (+/-{}) for {}'.format(round(mean, 3), round(std * 2, 3), params))"
   ]
  },
  {
   "cell_type": "code",
   "execution_count": 42,
   "id": "6ce1d600",
   "metadata": {},
   "outputs": [
    {
     "name": "stdout",
     "output_type": "stream",
     "text": [
      "BEST PARAMS: {'C': 1, 'kernel': 'linear'}\n",
      "\n",
      "0.986 (+/-0.038) for {'C': 0.1, 'kernel': 'linear'}\n",
      "0.427 (+/-0.022) for {'C': 0.1, 'kernel': 'rbf'}\n",
      "0.99 (+/-0.038) for {'C': 1, 'kernel': 'linear'}\n",
      "0.772 (+/-0.021) for {'C': 1, 'kernel': 'rbf'}\n",
      "0.981 (+/-0.036) for {'C': 10, 'kernel': 'linear'}\n",
      "0.937 (+/-0.048) for {'C': 10, 'kernel': 'rbf'}\n"
     ]
    }
   ],
   "source": [
    "svc = SVC()\n",
    "parameters = {\n",
    "    'kernel': ['linear', 'rbf'],\n",
    "    'C': [0.1, 1, 10]\n",
    "}\n",
    "\n",
    "cv = GridSearchCV(svc, parameters, cv=5)\n",
    "cv.fit(tr_features, tr_labels.values.ravel())\n",
    "\n",
    "print_results(cv)"
   ]
  },
  {
   "cell_type": "code",
   "execution_count": 43,
   "id": "14404fad",
   "metadata": {},
   "outputs": [
    {
     "name": "stdout",
     "output_type": "stream",
     "text": [
      "[learning_curve] Training set sizes: [  1   4   8  11  14  18  21  24  28  31  34  38  41  44  48  51  54  57\n",
      "  61  64  67  71  74  77  81  84  87  91  94  97 101 104 107 110 114 117\n",
      " 120 124 127 130 134 137 140 144 147 150 154 157 160 164]\n"
     ]
    },
    {
     "name": "stderr",
     "output_type": "stream",
     "text": [
      "[Parallel(n_jobs=-1)]: Using backend LokyBackend with 4 concurrent workers.\n",
      "[Parallel(n_jobs=-1)]: Done 250 out of 250 | elapsed:    1.2s finished\n"
     ]
    },
    {
     "data": {
      "text/plain": [
       "<matplotlib.legend.Legend at 0x1a2e5c89b20>"
      ]
     },
     "execution_count": 43,
     "metadata": {},
     "output_type": "execute_result"
    },
    {
     "data": {
      "image/png": "[encoded data removed]",
      "text/plain": [
       "<Figure size 432x288 with 1 Axes>"
      ]
     },
     "metadata": {
      "needs_background": "light"
     },
     "output_type": "display_data"
    }
   ],
   "source": [
    "## The learning curve function function in Scikit learn determines scores for cross validation training\n",
    "train_sizes, train_scores, test_scores = learning_curve(svc, tr_features, tr_labels, cv=5, scoring='accuracy', n_jobs=-1, train_sizes=np.linspace(0.01, 1, 50), verbose=1)\n",
    "\n",
    "train_scores_mean = np.mean(train_scores, axis=1)\n",
    "train_scores_std = np.std(train_scores, axis=1)\n",
    "test_scores_mean = np.mean(test_scores, axis=1)\n",
    "test_scores_std = np.std(test_scores, axis=1)\n",
    "\n",
    "plt.plot(train_sizes, train_scores_mean, label = 'Training Score')\n",
    "plt.plot(train_sizes, test_scores_mean, label = 'CV Score')\n",
    "\n",
    "plt.fill_between(train_sizes, train_scores_mean - train_scores_std, train_scores_mean + train_scores_std, color='#DDDDDD')\n",
    "plt.fill_between(train_sizes, test_scores_mean - test_scores_std, test_scores_mean + test_scores_std, color='#DDDDDD')\n",
    "\n",
    "plt.title('Learning Curve (Support Vector Machines)')\n",
    "plt.xlabel('Training Examples')\n",
    "plt.ylabel('Score')\n",
    "plt.legend(loc = 'best')"
   ]
  },
  {
   "cell_type": "code",
   "execution_count": 44,
   "id": "2669f2d3",
   "metadata": {},
   "outputs": [
    {
     "data": {
      "text/plain": [
       "['SVM_602020.pkl']"
      ]
     },
     "execution_count": 44,
     "metadata": {},
     "output_type": "execute_result"
    }
   ],
   "source": [
    "#Write out pickled model\n",
    "joblib.dump(cv.best_estimator_, 'SVM_602020.pkl')"
   ]
  },
  {
   "cell_type": "markdown",
   "id": "42f654e1",
   "metadata": {},
   "source": [
    "## Validate and Test (60-20-20 set)"
   ]
  },
  {
   "cell_type": "code",
   "execution_count": 45,
   "id": "37af8cfa",
   "metadata": {},
   "outputs": [],
   "source": [
    "import joblib\n",
    "import pandas as pd\n",
    "from sklearn.metrics import accuracy_score, precision_score, recall_score\n",
    "from time import time\n",
    "\n",
    "val_features = pd.read_csv('val_features.csv')\n",
    "val_labels = pd.read_csv('val_labels.csv')\n",
    "\n",
    "te_features = pd.read_csv('test_features.csv')\n",
    "te_labels = pd.read_csv('test_labels.csv')"
   ]
  },
  {
   "cell_type": "code",
   "execution_count": 46,
   "id": "fe44ebed",
   "metadata": {},
   "outputs": [],
   "source": [
    "models = {}\n",
    "\n",
    "for mdl in ['SVM', 'RF', 'GB']:\n",
    "    models[mdl] = joblib.load('{}_602020.pkl'.format(mdl))"
   ]
  },
  {
   "cell_type": "code",
   "execution_count": 47,
   "id": "647e6edd",
   "metadata": {},
   "outputs": [
    {
     "data": {
      "text/plain": [
       "{'SVM': SVC(C=1, kernel='linear'),\n",
       " 'RF': RandomForestClassifier(max_depth=4, n_estimators=5),\n",
       " 'GB': GradientBoostingClassifier(learning_rate=0.01, max_depth=1, n_estimators=500)}"
      ]
     },
     "execution_count": 47,
     "metadata": {},
     "output_type": "execute_result"
    }
   ],
   "source": [
    "models"
   ]
  },
  {
   "cell_type": "code",
   "execution_count": 48,
   "id": "eaa91778",
   "metadata": {},
   "outputs": [],
   "source": [
    "#Evaluate models on the validation set\n",
    "def evaluate_model(name, model, features, labels):\n",
    "    start = time()\n",
    "    pred = model.predict(features)\n",
    "    end = time()\n",
    "    accuracy = round(accuracy_score(labels, pred), 3)\n",
    "    precision = round(precision_score(labels, pred, average='micro'), 3)\n",
    "    recall = round(recall_score(labels, pred, average='micro'), 3)\n",
    "    print('{} -- Accuracy: {} / Precision: {} / Recall: {} / Latency: {}ms'.format(name,\n",
    "                                                                                   accuracy,\n",
    "                                                                                   precision,\n",
    "                                                                                   recall,\n",
    "                                                                                   round((end - start)*1000, 1)))"
   ]
  },
  {
   "cell_type": "code",
   "execution_count": 49,
   "id": "abb925db",
   "metadata": {},
   "outputs": [
    {
     "name": "stdout",
     "output_type": "stream",
     "text": [
      "SVM -- Accuracy: 0.986 / Precision: 0.986 / Recall: 0.986 / Latency: 4.0ms\n",
      "RF -- Accuracy: 0.986 / Precision: 0.986 / Recall: 0.986 / Latency: 4.0ms\n",
      "GB -- Accuracy: 0.986 / Precision: 0.986 / Recall: 0.986 / Latency: 5.0ms\n"
     ]
    }
   ],
   "source": [
    "for name, mdl in models.items():\n",
    "    evaluate_model(name, mdl, val_features, val_labels)"
   ]
  },
  {
   "cell_type": "code",
   "execution_count": 50,
   "id": "789e794f",
   "metadata": {},
   "outputs": [
    {
     "name": "stdout",
     "output_type": "stream",
     "text": [
      "Random Forest -- Accuracy: 0.957 / Precision: 0.957 / Recall: 0.957 / Latency: 5.0ms\n"
     ]
    }
   ],
   "source": [
    "# Evaluate Random Forest on test set\n",
    "evaluate_model('Random Forest', models['RF'], te_features, te_labels)"
   ]
  },
  {
   "cell_type": "markdown",
   "id": "5a77d050",
   "metadata": {},
   "source": [
    "# Analysis and Comparison of Results (60-20-20)\n",
    "\n",
    "Observations/Comparisons:\n",
    "* RF performed the best in terms of accuracy, precsion, and recall on the validation set\n",
    "* SVM and Gradient Boosting typically performed just as well as each other on the validation set\n",
    "* RF however had the longest latency, at least double that of the other two on the validation set\n",
    "* In the training set, the performance score across each model were comparable, with the best scores being 0.98 +- 0.01\n",
    "* All learning curves for all three models demonstrate RF, SVM, and GB better generalize with more training samples\n",
    "* Random Forest's learning curve shows the most consistent convergence to a high training score with little variance around both the training and CV lines (shaded areas)\n",
    "\n",
    "Best model: Random Forest<br>\n",
    "Explaination: Random Forest appears to shows the best accuracy, precision, and recall scores across the three tested models. The best indicator of this performance is the learning curve for Random Forest, showing the cross validation and training score converging to a relatively (vs. cross validation/testing convergence scores for SVM, GB) high score. The shaded areas around the training and CV line represent the error due to bias and variance. Comparitively to the other graphs, RF has the smallest error due to bias and variance.<br>\n",
    "Observing the properties of Random Forest, they are best able to key in on important relationships in data and avoid overfitting due to ensemble learning technique. That is, they combine their observations on many subsets of data in the form of a multiple decision trees to consolidate a single decision (via majority voting), which avoids overfitting and bias-variance dilemma (as seen in the results)."
   ]
  },
  {
   "cell_type": "markdown",
   "id": "72322444",
   "metadata": {},
   "source": [
    "# Split Data (80-10-10 ratio)"
   ]
  },
  {
   "cell_type": "code",
   "execution_count": 51,
   "id": "863fe6d1",
   "metadata": {},
   "outputs": [
    {
     "data": {
      "text/html": [
       "<div>\n",
       "<style scoped>\n",
       "    .dataframe tbody tr th:only-of-type {\n",
       "        vertical-align: middle;\n",
       "    }\n",
       "\n",
       "    .dataframe tbody tr th {\n",
       "        vertical-align: top;\n",
       "    }\n",
       "\n",
       "    .dataframe thead th {\n",
       "        text-align: right;\n",
       "    }\n",
       "</style>\n",
       "<table border=\"1\" class=\"dataframe\">\n",
       "  <thead>\n",
       "    <tr style=\"text-align: right;\">\n",
       "      <th></th>\n",
       "      <th>species</th>\n",
       "      <th>island</th>\n",
       "      <th>culmen_length_mm</th>\n",
       "      <th>culmen_depth_mm</th>\n",
       "      <th>flipper_length_mm</th>\n",
       "    </tr>\n",
       "  </thead>\n",
       "  <tbody>\n",
       "    <tr>\n",
       "      <th>0</th>\n",
       "      <td>1</td>\n",
       "      <td>1</td>\n",
       "      <td>39.10000</td>\n",
       "      <td>18.70000</td>\n",
       "      <td>181.000000</td>\n",
       "    </tr>\n",
       "    <tr>\n",
       "      <th>1</th>\n",
       "      <td>1</td>\n",
       "      <td>1</td>\n",
       "      <td>39.50000</td>\n",
       "      <td>17.40000</td>\n",
       "      <td>186.000000</td>\n",
       "    </tr>\n",
       "    <tr>\n",
       "      <th>2</th>\n",
       "      <td>1</td>\n",
       "      <td>1</td>\n",
       "      <td>40.30000</td>\n",
       "      <td>18.00000</td>\n",
       "      <td>195.000000</td>\n",
       "    </tr>\n",
       "    <tr>\n",
       "      <th>3</th>\n",
       "      <td>1</td>\n",
       "      <td>1</td>\n",
       "      <td>43.92193</td>\n",
       "      <td>17.15117</td>\n",
       "      <td>200.915205</td>\n",
       "    </tr>\n",
       "    <tr>\n",
       "      <th>4</th>\n",
       "      <td>1</td>\n",
       "      <td>1</td>\n",
       "      <td>36.70000</td>\n",
       "      <td>19.30000</td>\n",
       "      <td>193.000000</td>\n",
       "    </tr>\n",
       "  </tbody>\n",
       "</table>\n",
       "</div>"
      ],
      "text/plain": [
       "   species  island  culmen_length_mm  culmen_depth_mm  flipper_length_mm\n",
       "0        1       1          39.10000         18.70000         181.000000\n",
       "1        1       1          39.50000         17.40000         186.000000\n",
       "2        1       1          40.30000         18.00000         195.000000\n",
       "3        1       1          43.92193         17.15117         200.915205\n",
       "4        1       1          36.70000         19.30000         193.000000"
      ]
     },
     "execution_count": 51,
     "metadata": {},
     "output_type": "execute_result"
    }
   ],
   "source": [
    "import pandas as pd\n",
    "from sklearn.model_selection import train_test_split\n",
    "\n",
    "penguin = pd.read_csv('penguins_size_cleaned.csv')\n",
    "penguin.head()"
   ]
  },
  {
   "cell_type": "code",
   "execution_count": 52,
   "id": "aa06727d",
   "metadata": {},
   "outputs": [],
   "source": [
    "#Split into our features and labels\n",
    "features = penguin.drop('species', axis=1)\n",
    "labels = penguin['species']\n",
    "\n",
    "X_train, X_test, y_train, y_test = train_test_split(features, labels, test_size=0.2, random_state=42)\n",
    "X_test, X_val, y_test, y_val = train_test_split(X_test, y_test, test_size=0.5, random_state=42)"
   ]
  },
  {
   "cell_type": "code",
   "execution_count": 53,
   "id": "a6641392",
   "metadata": {},
   "outputs": [
    {
     "name": "stdout",
     "output_type": "stream",
     "text": [
      "0.8\n",
      "0.1\n",
      "0.1\n"
     ]
    }
   ],
   "source": [
    "#Verify split data 80-10-10\n",
    "for dataset in [y_train, y_val, y_test]:\n",
    "    print(round(len(dataset)/len(labels), 2))"
   ]
  },
  {
   "cell_type": "code",
   "execution_count": 54,
   "id": "d38ac524",
   "metadata": {},
   "outputs": [],
   "source": [
    "#Write out our data sets\n",
    "X_train.to_csv('train_features.csv', index=False)\n",
    "X_val.to_csv('val_features.csv', index=False)\n",
    "X_test.to_csv('test_features.csv', index=False)\n",
    "\n",
    "y_train.to_csv('train_labels.csv', index=False)\n",
    "y_val.to_csv('val_labels.csv', index=False)\n",
    "y_test.to_csv('test_labels.csv', index=False)"
   ]
  },
  {
   "cell_type": "markdown",
   "id": "70294332",
   "metadata": {},
   "source": [
    "## Random Forest: Fit and Evaluate"
   ]
  },
  {
   "cell_type": "code",
   "execution_count": 55,
   "id": "bb49effb",
   "metadata": {},
   "outputs": [],
   "source": [
    "import joblib\n",
    "import pandas as pd\n",
    "from sklearn.ensemble import RandomForestClassifier\n",
    "from sklearn.model_selection import GridSearchCV\n",
    "from sklearn.model_selection import learning_curve\n",
    "import warnings\n",
    "warnings.filterwarnings('ignore', category=FutureWarning)\n",
    "warnings.filterwarnings('ignore', category=DeprecationWarning)\n",
    "\n",
    "tr_features = pd.read_csv('train_features.csv')\n",
    "tr_labels = pd.read_csv('train_labels.csv')"
   ]
  },
  {
   "cell_type": "code",
   "execution_count": 56,
   "id": "0f9534b7",
   "metadata": {},
   "outputs": [],
   "source": [
    "#Write method to print results\n",
    "def print_results(results):\n",
    "    print('BEST PARAMS: {}\\n'.format(results.best_params_))\n",
    "\n",
    "    means = results.cv_results_['mean_test_score']\n",
    "    stds = results.cv_results_['std_test_score']\n",
    "    for mean, std, params in zip(means, stds, results.cv_results_['params']):\n",
    "        print('{} (+/-{}) for {}'.format(round(mean, 3), round(std * 2, 3), params))"
   ]
  },
  {
   "cell_type": "code",
   "execution_count": 57,
   "id": "0e29db7f",
   "metadata": {},
   "outputs": [
    {
     "name": "stdout",
     "output_type": "stream",
     "text": [
      "BEST PARAMS: {'max_depth': 4, 'n_estimators': 50}\n",
      "\n",
      "0.945 (+/-0.046) for {'max_depth': 2, 'n_estimators': 5}\n",
      "0.967 (+/-0.027) for {'max_depth': 2, 'n_estimators': 50}\n",
      "0.967 (+/-0.027) for {'max_depth': 2, 'n_estimators': 250}\n",
      "0.96 (+/-0.015) for {'max_depth': 4, 'n_estimators': 5}\n",
      "0.975 (+/-0.029) for {'max_depth': 4, 'n_estimators': 50}\n",
      "0.967 (+/-0.027) for {'max_depth': 4, 'n_estimators': 250}\n",
      "0.975 (+/-0.018) for {'max_depth': 8, 'n_estimators': 5}\n",
      "0.971 (+/-0.018) for {'max_depth': 8, 'n_estimators': 50}\n",
      "0.971 (+/-0.018) for {'max_depth': 8, 'n_estimators': 250}\n",
      "0.96 (+/-0.042) for {'max_depth': 16, 'n_estimators': 5}\n",
      "0.967 (+/-0.027) for {'max_depth': 16, 'n_estimators': 50}\n",
      "0.967 (+/-0.015) for {'max_depth': 16, 'n_estimators': 250}\n",
      "0.967 (+/-0.042) for {'max_depth': 32, 'n_estimators': 5}\n",
      "0.971 (+/-0.018) for {'max_depth': 32, 'n_estimators': 50}\n",
      "0.971 (+/-0.018) for {'max_depth': 32, 'n_estimators': 250}\n",
      "0.964 (+/-0.033) for {'max_depth': None, 'n_estimators': 5}\n",
      "0.967 (+/-0.015) for {'max_depth': None, 'n_estimators': 50}\n",
      "0.971 (+/-0.018) for {'max_depth': None, 'n_estimators': 250}\n"
     ]
    }
   ],
   "source": [
    "rf = RandomForestClassifier()\n",
    "parameters = {\n",
    "    'n_estimators': [5, 50, 250],\n",
    "    'max_depth': [2, 4, 8, 16, 32, None]\n",
    "}\n",
    "\n",
    "cv = GridSearchCV(rf, parameters, cv=5)\n",
    "cv.fit(tr_features, tr_labels.values.ravel())\n",
    "\n",
    "print_results(cv)"
   ]
  },
  {
   "cell_type": "code",
   "execution_count": 58,
   "id": "4918e25a",
   "metadata": {},
   "outputs": [
    {
     "name": "stdout",
     "output_type": "stream",
     "text": [
      "[learning_curve] Training set sizes: [  2   6  11  15  19  24  28  33  37  42  46  51  55  59  64  68  73  77\n",
      "  82  86  91  95  99 104 108 113 117 122 126 131 135 139 144 148 153 157\n",
      " 162 166 171 175 179 184 188 193 197 202 206 211 215 220]\n"
     ]
    },
    {
     "name": "stderr",
     "output_type": "stream",
     "text": [
      "[Parallel(n_jobs=-1)]: Using backend LokyBackend with 4 concurrent workers.\n",
      "[Parallel(n_jobs=-1)]: Done 250 out of 250 | elapsed:   20.0s finished\n"
     ]
    }
   ],
   "source": [
    "## The learning curve function function in Scikit learn determines scores for cross validation training\n",
    "train_sizes, train_scores, test_scores = learning_curve(rf, tr_features, tr_labels, cv=5, scoring='accuracy', n_jobs=-1, train_sizes=np.linspace(0.01, 1, 50), verbose=1)"
   ]
  },
  {
   "cell_type": "code",
   "execution_count": 59,
   "id": "f96d9775",
   "metadata": {},
   "outputs": [],
   "source": [
    "train_scores_mean = np.mean(train_scores, axis=1)\n",
    "train_scores_std = np.std(train_scores, axis=1)\n",
    "test_scores_mean = np.mean(test_scores, axis=1)\n",
    "test_scores_std = np.std(test_scores, axis=1)"
   ]
  },
  {
   "cell_type": "code",
   "execution_count": 60,
   "id": "04adaf04",
   "metadata": {},
   "outputs": [
    {
     "data": {
      "text/plain": [
       "<matplotlib.legend.Legend at 0x1a2e5b32100>"
      ]
     },
     "execution_count": 60,
     "metadata": {},
     "output_type": "execute_result"
    },
    {
     "data": {
      "image/png": "[encoded data removed]",
      "text/plain": [
       "<Figure size 432x288 with 1 Axes>"
      ]
     },
     "metadata": {
      "needs_background": "light"
     },
     "output_type": "display_data"
    }
   ],
   "source": [
    "plt.plot(train_sizes, train_scores_mean, label = 'Training Score')\n",
    "plt.plot(train_sizes, test_scores_mean, label = 'CV Score')\n",
    "\n",
    "plt.fill_between(train_sizes, train_scores_mean - train_scores_std, train_scores_mean + train_scores_std, color='#DDDDDD')\n",
    "plt.fill_between(train_sizes, test_scores_mean - test_scores_std, test_scores_mean + test_scores_std, color='#DDDDDD')\n",
    "\n",
    "plt.title('Learning Curve (Random Forest)')\n",
    "plt.xlabel('Training Examples')\n",
    "plt.ylabel('Score')\n",
    "plt.legend(loc = 'best')"
   ]
  },
  {
   "cell_type": "code",
   "execution_count": 61,
   "id": "818ebf6c",
   "metadata": {},
   "outputs": [
    {
     "data": {
      "text/plain": [
       "['RF_801010.pkl']"
      ]
     },
     "execution_count": 61,
     "metadata": {},
     "output_type": "execute_result"
    }
   ],
   "source": [
    "# Write out pickled model\n",
    "joblib.dump(cv.best_estimator_,\"RF_801010.pkl\")"
   ]
  },
  {
   "cell_type": "markdown",
   "id": "a6eab2f3",
   "metadata": {},
   "source": [
    "## Boosted Forest: Fit and Evaluate"
   ]
  },
  {
   "cell_type": "code",
   "execution_count": 62,
   "id": "048754b1",
   "metadata": {},
   "outputs": [],
   "source": [
    "import joblib\n",
    "import pandas as pd\n",
    "from sklearn.ensemble import GradientBoostingClassifier\n",
    "from sklearn.model_selection import GridSearchCV\n",
    "import warnings\n",
    "warnings.filterwarnings('ignore', category=FutureWarning)\n",
    "warnings.filterwarnings('ignore', category=DeprecationWarning)\n",
    "\n",
    "tr_features = pd.read_csv('train_features.csv')\n",
    "tr_labels = pd.read_csv('train_labels.csv')"
   ]
  },
  {
   "cell_type": "code",
   "execution_count": 63,
   "id": "d7c6167d",
   "metadata": {},
   "outputs": [],
   "source": [
    "#Write method to print results\n",
    "def print_results(results):\n",
    "    print('BEST PARAMS: {}\\n'.format(results.best_params_))\n",
    "\n",
    "    means = results.cv_results_['mean_test_score']\n",
    "    stds = results.cv_results_['std_test_score']\n",
    "    for mean, std, params in zip(means, stds, results.cv_results_['params']):\n",
    "        print('{} (+/-{}) for {}'.format(round(mean, 3), round(std * 2, 3), params))"
   ]
  },
  {
   "cell_type": "code",
   "execution_count": 64,
   "id": "a17d29c4",
   "metadata": {},
   "outputs": [
    {
     "name": "stdout",
     "output_type": "stream",
     "text": [
      "BEST PARAMS: {'learning_rate': 0.01, 'max_depth': 3, 'n_estimators': 50}\n",
      "\n",
      "0.436 (+/-0.0) for {'learning_rate': 0.01, 'max_depth': 1, 'n_estimators': 5}\n",
      "0.938 (+/-0.037) for {'learning_rate': 0.01, 'max_depth': 1, 'n_estimators': 50}\n",
      "0.96 (+/-0.027) for {'learning_rate': 0.01, 'max_depth': 1, 'n_estimators': 250}\n",
      "0.967 (+/-0.027) for {'learning_rate': 0.01, 'max_depth': 1, 'n_estimators': 500}\n",
      "0.436 (+/-0.0) for {'learning_rate': 0.01, 'max_depth': 3, 'n_estimators': 5}\n",
      "0.978 (+/-0.015) for {'learning_rate': 0.01, 'max_depth': 3, 'n_estimators': 50}\n",
      "0.975 (+/-0.018) for {'learning_rate': 0.01, 'max_depth': 3, 'n_estimators': 250}\n",
      "0.975 (+/-0.018) for {'learning_rate': 0.01, 'max_depth': 3, 'n_estimators': 500}\n",
      "0.436 (+/-0.0) for {'learning_rate': 0.01, 'max_depth': 5, 'n_estimators': 5}\n",
      "0.975 (+/-0.029) for {'learning_rate': 0.01, 'max_depth': 5, 'n_estimators': 50}\n",
      "0.975 (+/-0.029) for {'learning_rate': 0.01, 'max_depth': 5, 'n_estimators': 250}\n",
      "0.975 (+/-0.029) for {'learning_rate': 0.01, 'max_depth': 5, 'n_estimators': 500}\n",
      "0.436 (+/-0.0) for {'learning_rate': 0.01, 'max_depth': 7, 'n_estimators': 5}\n",
      "0.971 (+/-0.037) for {'learning_rate': 0.01, 'max_depth': 7, 'n_estimators': 50}\n",
      "0.975 (+/-0.029) for {'learning_rate': 0.01, 'max_depth': 7, 'n_estimators': 250}\n",
      "0.971 (+/-0.018) for {'learning_rate': 0.01, 'max_depth': 7, 'n_estimators': 500}\n",
      "0.436 (+/-0.0) for {'learning_rate': 0.01, 'max_depth': 9, 'n_estimators': 5}\n",
      "0.971 (+/-0.037) for {'learning_rate': 0.01, 'max_depth': 9, 'n_estimators': 50}\n",
      "0.975 (+/-0.029) for {'learning_rate': 0.01, 'max_depth': 9, 'n_estimators': 250}\n",
      "0.971 (+/-0.018) for {'learning_rate': 0.01, 'max_depth': 9, 'n_estimators': 500}\n",
      "0.942 (+/-0.042) for {'learning_rate': 0.1, 'max_depth': 1, 'n_estimators': 5}\n",
      "0.967 (+/-0.027) for {'learning_rate': 0.1, 'max_depth': 1, 'n_estimators': 50}\n",
      "0.967 (+/-0.027) for {'learning_rate': 0.1, 'max_depth': 1, 'n_estimators': 250}\n",
      "0.967 (+/-0.027) for {'learning_rate': 0.1, 'max_depth': 1, 'n_estimators': 500}\n",
      "0.978 (+/-0.015) for {'learning_rate': 0.1, 'max_depth': 3, 'n_estimators': 5}\n",
      "0.975 (+/-0.018) for {'learning_rate': 0.1, 'max_depth': 3, 'n_estimators': 50}\n",
      "0.96 (+/-0.015) for {'learning_rate': 0.1, 'max_depth': 3, 'n_estimators': 250}\n",
      "0.96 (+/-0.015) for {'learning_rate': 0.1, 'max_depth': 3, 'n_estimators': 500}\n",
      "0.975 (+/-0.037) for {'learning_rate': 0.1, 'max_depth': 5, 'n_estimators': 5}\n",
      "0.971 (+/-0.018) for {'learning_rate': 0.1, 'max_depth': 5, 'n_estimators': 50}\n",
      "0.971 (+/-0.029) for {'learning_rate': 0.1, 'max_depth': 5, 'n_estimators': 250}\n",
      "0.971 (+/-0.029) for {'learning_rate': 0.1, 'max_depth': 5, 'n_estimators': 500}\n",
      "0.967 (+/-0.042) for {'learning_rate': 0.1, 'max_depth': 7, 'n_estimators': 5}\n",
      "0.971 (+/-0.018) for {'learning_rate': 0.1, 'max_depth': 7, 'n_estimators': 50}\n",
      "0.975 (+/-0.018) for {'learning_rate': 0.1, 'max_depth': 7, 'n_estimators': 250}\n",
      "0.975 (+/-0.018) for {'learning_rate': 0.1, 'max_depth': 7, 'n_estimators': 500}\n",
      "0.967 (+/-0.042) for {'learning_rate': 0.1, 'max_depth': 9, 'n_estimators': 5}\n",
      "0.971 (+/-0.018) for {'learning_rate': 0.1, 'max_depth': 9, 'n_estimators': 50}\n",
      "0.975 (+/-0.018) for {'learning_rate': 0.1, 'max_depth': 9, 'n_estimators': 250}\n",
      "0.975 (+/-0.018) for {'learning_rate': 0.1, 'max_depth': 9, 'n_estimators': 500}\n",
      "0.967 (+/-0.027) for {'learning_rate': 1, 'max_depth': 1, 'n_estimators': 5}\n",
      "0.971 (+/-0.018) for {'learning_rate': 1, 'max_depth': 1, 'n_estimators': 50}\n",
      "0.975 (+/-0.018) for {'learning_rate': 1, 'max_depth': 1, 'n_estimators': 250}\n",
      "0.975 (+/-0.018) for {'learning_rate': 1, 'max_depth': 1, 'n_estimators': 500}\n",
      "0.971 (+/-0.018) for {'learning_rate': 1, 'max_depth': 3, 'n_estimators': 5}\n",
      "0.967 (+/-0.015) for {'learning_rate': 1, 'max_depth': 3, 'n_estimators': 50}\n",
      "0.971 (+/-0.018) for {'learning_rate': 1, 'max_depth': 3, 'n_estimators': 250}\n",
      "0.971 (+/-0.018) for {'learning_rate': 1, 'max_depth': 3, 'n_estimators': 500}\n",
      "0.96 (+/-0.027) for {'learning_rate': 1, 'max_depth': 5, 'n_estimators': 5}\n",
      "0.967 (+/-0.027) for {'learning_rate': 1, 'max_depth': 5, 'n_estimators': 50}\n",
      "0.964 (+/-0.023) for {'learning_rate': 1, 'max_depth': 5, 'n_estimators': 250}\n",
      "0.964 (+/-0.023) for {'learning_rate': 1, 'max_depth': 5, 'n_estimators': 500}\n",
      "0.956 (+/-0.018) for {'learning_rate': 1, 'max_depth': 7, 'n_estimators': 5}\n",
      "0.96 (+/-0.027) for {'learning_rate': 1, 'max_depth': 7, 'n_estimators': 50}\n",
      "0.964 (+/-0.033) for {'learning_rate': 1, 'max_depth': 7, 'n_estimators': 250}\n",
      "0.964 (+/-0.033) for {'learning_rate': 1, 'max_depth': 7, 'n_estimators': 500}\n",
      "0.956 (+/-0.018) for {'learning_rate': 1, 'max_depth': 9, 'n_estimators': 5}\n",
      "0.964 (+/-0.033) for {'learning_rate': 1, 'max_depth': 9, 'n_estimators': 50}\n",
      "0.964 (+/-0.033) for {'learning_rate': 1, 'max_depth': 9, 'n_estimators': 250}\n",
      "0.96 (+/-0.027) for {'learning_rate': 1, 'max_depth': 9, 'n_estimators': 500}\n",
      "0.345 (+/-0.228) for {'learning_rate': 10, 'max_depth': 1, 'n_estimators': 5}\n",
      "0.345 (+/-0.228) for {'learning_rate': 10, 'max_depth': 1, 'n_estimators': 50}\n",
      "0.345 (+/-0.228) for {'learning_rate': 10, 'max_depth': 1, 'n_estimators': 250}\n",
      "0.345 (+/-0.228) for {'learning_rate': 10, 'max_depth': 1, 'n_estimators': 500}\n",
      "0.945 (+/-0.051) for {'learning_rate': 10, 'max_depth': 3, 'n_estimators': 5}\n",
      "0.949 (+/-0.058) for {'learning_rate': 10, 'max_depth': 3, 'n_estimators': 50}\n",
      "0.938 (+/-0.059) for {'learning_rate': 10, 'max_depth': 3, 'n_estimators': 250}\n",
      "0.938 (+/-0.059) for {'learning_rate': 10, 'max_depth': 3, 'n_estimators': 500}\n",
      "0.953 (+/-0.037) for {'learning_rate': 10, 'max_depth': 5, 'n_estimators': 5}\n",
      "0.967 (+/-0.027) for {'learning_rate': 10, 'max_depth': 5, 'n_estimators': 50}\n",
      "0.964 (+/-0.033) for {'learning_rate': 10, 'max_depth': 5, 'n_estimators': 250}\n",
      "0.96 (+/-0.027) for {'learning_rate': 10, 'max_depth': 5, 'n_estimators': 500}\n",
      "0.956 (+/-0.037) for {'learning_rate': 10, 'max_depth': 7, 'n_estimators': 5}\n",
      "0.967 (+/-0.027) for {'learning_rate': 10, 'max_depth': 7, 'n_estimators': 50}\n",
      "0.96 (+/-0.027) for {'learning_rate': 10, 'max_depth': 7, 'n_estimators': 250}\n",
      "0.971 (+/-0.018) for {'learning_rate': 10, 'max_depth': 7, 'n_estimators': 500}\n",
      "0.953 (+/-0.037) for {'learning_rate': 10, 'max_depth': 9, 'n_estimators': 5}\n",
      "0.967 (+/-0.027) for {'learning_rate': 10, 'max_depth': 9, 'n_estimators': 50}\n",
      "0.964 (+/-0.033) for {'learning_rate': 10, 'max_depth': 9, 'n_estimators': 250}\n",
      "0.964 (+/-0.033) for {'learning_rate': 10, 'max_depth': 9, 'n_estimators': 500}\n",
      "0.425 (+/-0.266) for {'learning_rate': 100, 'max_depth': 1, 'n_estimators': 5}\n",
      "0.425 (+/-0.266) for {'learning_rate': 100, 'max_depth': 1, 'n_estimators': 50}\n",
      "0.425 (+/-0.266) for {'learning_rate': 100, 'max_depth': 1, 'n_estimators': 250}\n",
      "0.425 (+/-0.266) for {'learning_rate': 100, 'max_depth': 1, 'n_estimators': 500}\n",
      "0.92 (+/-0.123) for {'learning_rate': 100, 'max_depth': 3, 'n_estimators': 5}\n",
      "0.924 (+/-0.12) for {'learning_rate': 100, 'max_depth': 3, 'n_estimators': 50}\n",
      "0.916 (+/-0.127) for {'learning_rate': 100, 'max_depth': 3, 'n_estimators': 250}\n",
      "0.88 (+/-0.135) for {'learning_rate': 100, 'max_depth': 3, 'n_estimators': 500}\n",
      "0.953 (+/-0.018) for {'learning_rate': 100, 'max_depth': 5, 'n_estimators': 5}\n",
      "0.956 (+/-0.029) for {'learning_rate': 100, 'max_depth': 5, 'n_estimators': 50}\n",
      "0.956 (+/-0.018) for {'learning_rate': 100, 'max_depth': 5, 'n_estimators': 250}\n",
      "0.956 (+/-0.029) for {'learning_rate': 100, 'max_depth': 5, 'n_estimators': 500}\n",
      "0.956 (+/-0.029) for {'learning_rate': 100, 'max_depth': 7, 'n_estimators': 5}\n",
      "0.956 (+/-0.018) for {'learning_rate': 100, 'max_depth': 7, 'n_estimators': 50}\n",
      "0.953 (+/-0.029) for {'learning_rate': 100, 'max_depth': 7, 'n_estimators': 250}\n",
      "0.949 (+/-0.027) for {'learning_rate': 100, 'max_depth': 7, 'n_estimators': 500}\n",
      "0.956 (+/-0.018) for {'learning_rate': 100, 'max_depth': 9, 'n_estimators': 5}\n",
      "0.945 (+/-0.023) for {'learning_rate': 100, 'max_depth': 9, 'n_estimators': 50}\n",
      "0.949 (+/-0.027) for {'learning_rate': 100, 'max_depth': 9, 'n_estimators': 250}\n",
      "0.949 (+/-0.036) for {'learning_rate': 100, 'max_depth': 9, 'n_estimators': 500}\n"
     ]
    }
   ],
   "source": [
    "gb = GradientBoostingClassifier()\n",
    "parameters = {\n",
    "    'n_estimators': [5, 50, 250, 500],\n",
    "    'max_depth': [1, 3, 5, 7, 9],\n",
    "    'learning_rate': [0.01, 0.1, 1, 10, 100]\n",
    "}\n",
    "\n",
    "cv = GridSearchCV(gb, parameters, cv=5)\n",
    "cv.fit(tr_features, tr_labels.values.ravel())\n",
    "\n",
    "print_results(cv)"
   ]
  },
  {
   "cell_type": "code",
   "execution_count": 65,
   "id": "36c6d006",
   "metadata": {},
   "outputs": [
    {
     "name": "stdout",
     "output_type": "stream",
     "text": [
      "[learning_curve] Training set sizes: [  2   6  11  15  19  24  28  33  37  42  46  51  55  59  64  68  73  77\n",
      "  82  86  91  95  99 104 108 113 117 122 126 131 135 139 144 148 153 157\n",
      " 162 166 171 175 179 184 188 193 197 202 206 211 215 220]\n"
     ]
    },
    {
     "name": "stderr",
     "output_type": "stream",
     "text": [
      "[Parallel(n_jobs=-1)]: Using backend LokyBackend with 4 concurrent workers.\n",
      "[Parallel(n_jobs=-1)]: Done 250 out of 250 | elapsed:   25.4s finished\n"
     ]
    },
    {
     "data": {
      "text/plain": [
       "<matplotlib.legend.Legend at 0x1a2e5cac040>"
      ]
     },
     "execution_count": 65,
     "metadata": {},
     "output_type": "execute_result"
    },
    {
     "data": {
      "image/png": "[encoded data removed]",
      "text/plain": [
       "<Figure size 432x288 with 1 Axes>"
      ]
     },
     "metadata": {
      "needs_background": "light"
     },
     "output_type": "display_data"
    }
   ],
   "source": [
    "## The learning curve function function in Scikit learn determines scores for cross validation training\n",
    "train_sizes, train_scores, test_scores = learning_curve(gb, tr_features, tr_labels, cv=5, scoring='accuracy', n_jobs=-1, train_sizes=np.linspace(0.01, 1, 50), verbose=1)\n",
    "\n",
    "train_scores_mean = np.mean(train_scores, axis=1)\n",
    "train_scores_std = np.std(train_scores, axis=1)\n",
    "test_scores_mean = np.mean(test_scores, axis=1)\n",
    "test_scores_std = np.std(test_scores, axis=1)\n",
    "\n",
    "plt.plot(train_sizes, train_scores_mean, label = 'Training Score')\n",
    "plt.plot(train_sizes, test_scores_mean, label = 'CV Score')\n",
    "\n",
    "plt.fill_between(train_sizes, train_scores_mean - train_scores_std, train_scores_mean + train_scores_std, color='#DDDDDD')\n",
    "plt.fill_between(train_sizes, test_scores_mean - test_scores_std, test_scores_mean + test_scores_std, color='#DDDDDD')\n",
    "\n",
    "plt.title('Learning Curve (Boosted Gradient Forest)')\n",
    "plt.xlabel('Training Examples')\n",
    "plt.ylabel('Score')\n",
    "plt.legend(loc = 'best')"
   ]
  },
  {
   "cell_type": "code",
   "execution_count": 66,
   "id": "c78df7a9",
   "metadata": {},
   "outputs": [
    {
     "data": {
      "text/plain": [
       "['GB_801010.pkl']"
      ]
     },
     "execution_count": 66,
     "metadata": {},
     "output_type": "execute_result"
    }
   ],
   "source": [
    "#Write out pickled model\n",
    "joblib.dump(cv.best_estimator_, 'GB_801010.pkl')"
   ]
  },
  {
   "cell_type": "markdown",
   "id": "02f9d21b",
   "metadata": {},
   "source": [
    "## SVM: Fit and Evaluate"
   ]
  },
  {
   "cell_type": "code",
   "execution_count": 67,
   "id": "12461aaa",
   "metadata": {},
   "outputs": [],
   "source": [
    "import joblib\n",
    "import pandas as pd\n",
    "from sklearn.model_selection import GridSearchCV\n",
    "from sklearn.svm import SVC\n",
    "import warnings\n",
    "warnings.filterwarnings('ignore', category=FutureWarning)\n",
    "warnings.filterwarnings('ignore', category=DeprecationWarning)\n",
    "\n",
    "tr_features = pd.read_csv('train_features.csv')\n",
    "tr_labels = pd.read_csv('train_labels.csv')"
   ]
  },
  {
   "cell_type": "code",
   "execution_count": 68,
   "id": "7c84f05c",
   "metadata": {},
   "outputs": [],
   "source": [
    "#Write method to print results\n",
    "def print_results(results):\n",
    "    print('BEST PARAMS: {}\\n'.format(results.best_params_))\n",
    "\n",
    "    means = results.cv_results_['mean_test_score']\n",
    "    stds = results.cv_results_['std_test_score']\n",
    "    for mean, std, params in zip(means, stds, results.cv_results_['params']):\n",
    "        print('{} (+/-{}) for {}'.format(round(mean, 3), round(std * 2, 3), params))"
   ]
  },
  {
   "cell_type": "code",
   "execution_count": 69,
   "id": "17bf22ac",
   "metadata": {},
   "outputs": [
    {
     "name": "stdout",
     "output_type": "stream",
     "text": [
      "BEST PARAMS: {'C': 1, 'kernel': 'linear'}\n",
      "\n",
      "0.978 (+/-0.027) for {'C': 0.1, 'kernel': 'linear'}\n",
      "0.436 (+/-0.0) for {'C': 0.1, 'kernel': 'rbf'}\n",
      "0.989 (+/-0.029) for {'C': 1, 'kernel': 'linear'}\n",
      "0.8 (+/-0.023) for {'C': 1, 'kernel': 'rbf'}\n",
      "0.978 (+/-0.036) for {'C': 10, 'kernel': 'linear'}\n",
      "0.938 (+/-0.049) for {'C': 10, 'kernel': 'rbf'}\n"
     ]
    }
   ],
   "source": [
    "svc = SVC()\n",
    "parameters = {\n",
    "    'kernel': ['linear', 'rbf'],\n",
    "    'C': [0.1, 1, 10]\n",
    "}\n",
    "\n",
    "cv = GridSearchCV(svc, parameters, cv=5)\n",
    "cv.fit(tr_features, tr_labels.values.ravel())\n",
    "\n",
    "print_results(cv)"
   ]
  },
  {
   "cell_type": "code",
   "execution_count": 70,
   "id": "e885d764",
   "metadata": {},
   "outputs": [
    {
     "name": "stdout",
     "output_type": "stream",
     "text": [
      "[learning_curve] Training set sizes: [  2   6  11  15  19  24  28  33  37  42  46  51  55  59  64  68  73  77\n",
      "  82  86  91  95  99 104 108 113 117 122 126 131 135 139 144 148 153 157\n",
      " 162 166 171 175 179 184 188 193 197 202 206 211 215 220]\n"
     ]
    },
    {
     "name": "stderr",
     "output_type": "stream",
     "text": [
      "[Parallel(n_jobs=-1)]: Using backend LokyBackend with 4 concurrent workers.\n",
      "[Parallel(n_jobs=-1)]: Done 250 out of 250 | elapsed:    1.7s finished\n"
     ]
    },
    {
     "data": {
      "text/plain": [
       "<matplotlib.legend.Legend at 0x1a2e7037c70>"
      ]
     },
     "execution_count": 70,
     "metadata": {},
     "output_type": "execute_result"
    },
    {
     "data": {
      "image/png": "[encoded data removed]",
      "text/plain": [
       "<Figure size 432x288 with 1 Axes>"
      ]
     },
     "metadata": {
      "needs_background": "light"
     },
     "output_type": "display_data"
    }
   ],
   "source": [
    "## The learning curve function function in Scikit learn determines scores for cross validation training\n",
    "train_sizes, train_scores, test_scores = learning_curve(svc, tr_features, tr_labels, cv=5, scoring='accuracy', n_jobs=-1, train_sizes=np.linspace(0.01, 1, 50), verbose=1)\n",
    "\n",
    "train_scores_mean = np.mean(train_scores, axis=1)\n",
    "train_scores_std = np.std(train_scores, axis=1)\n",
    "test_scores_mean = np.mean(test_scores, axis=1)\n",
    "test_scores_std = np.std(test_scores, axis=1)\n",
    "\n",
    "plt.plot(train_sizes, train_scores_mean, label = 'Training Score')\n",
    "plt.plot(train_sizes, test_scores_mean, label = 'CV Score')\n",
    "\n",
    "plt.fill_between(train_sizes, train_scores_mean - train_scores_std, train_scores_mean + train_scores_std, color='#DDDDDD')\n",
    "plt.fill_between(train_sizes, test_scores_mean - test_scores_std, test_scores_mean + test_scores_std, color='#DDDDDD')\n",
    "\n",
    "plt.title('Learning Curve (Support Vector Machines)')\n",
    "plt.xlabel('Training Examples')\n",
    "plt.ylabel('Score')\n",
    "plt.legend(loc = 'best')"
   ]
  },
  {
   "cell_type": "code",
   "execution_count": 71,
   "id": "fa3fe3f2",
   "metadata": {},
   "outputs": [
    {
     "data": {
      "text/plain": [
       "['SVM_801010.pkl']"
      ]
     },
     "execution_count": 71,
     "metadata": {},
     "output_type": "execute_result"
    }
   ],
   "source": [
    "#Write out pickled model\n",
    "joblib.dump(cv.best_estimator_, 'SVM_801010.pkl')"
   ]
  },
  {
   "cell_type": "markdown",
   "id": "3807765a",
   "metadata": {},
   "source": [
    "## Validate and Test (80-10-10 set)"
   ]
  },
  {
   "cell_type": "code",
   "execution_count": 72,
   "id": "9c46c6fa",
   "metadata": {},
   "outputs": [],
   "source": [
    "import joblib\n",
    "import pandas as pd\n",
    "from sklearn.metrics import accuracy_score, precision_score, recall_score\n",
    "from time import time\n",
    "\n",
    "val_features = pd.read_csv('val_features.csv')\n",
    "val_labels = pd.read_csv('val_labels.csv')\n",
    "\n",
    "te_features = pd.read_csv('test_features.csv')\n",
    "te_labels = pd.read_csv('test_labels.csv')"
   ]
  },
  {
   "cell_type": "code",
   "execution_count": 73,
   "id": "2048466f",
   "metadata": {},
   "outputs": [],
   "source": [
    "models = {}\n",
    "\n",
    "for mdl in ['SVM', 'RF', 'GB']:\n",
    "    models[mdl] = joblib.load('{}_801010.pkl'.format(mdl))"
   ]
  },
  {
   "cell_type": "code",
   "execution_count": 74,
   "id": "a7ed9a20",
   "metadata": {},
   "outputs": [
    {
     "data": {
      "text/plain": [
       "{'SVM': SVC(C=1, kernel='linear'),\n",
       " 'RF': RandomForestClassifier(max_depth=4, n_estimators=50),\n",
       " 'GB': GradientBoostingClassifier(learning_rate=0.01, n_estimators=50)}"
      ]
     },
     "execution_count": 74,
     "metadata": {},
     "output_type": "execute_result"
    }
   ],
   "source": [
    "models"
   ]
  },
  {
   "cell_type": "code",
   "execution_count": 75,
   "id": "280e5804",
   "metadata": {},
   "outputs": [],
   "source": [
    "#Evaluate models on the validation set\n",
    "def evaluate_model(name, model, features, labels):\n",
    "    start = time()\n",
    "    pred = model.predict(features)\n",
    "    end = time()\n",
    "    accuracy = round(accuracy_score(labels, pred), 3)\n",
    "    precision = round(precision_score(labels, pred, average='micro'), 3)\n",
    "    recall = round(recall_score(labels, pred, average='micro'), 3)\n",
    "    print('{} -- Accuracy: {} / Precision: {} / Recall: {} / Latency: {}ms'.format(name,\n",
    "                                                                                   accuracy,\n",
    "                                                                                   precision,\n",
    "                                                                                   recall,\n",
    "                                                                                   round((end - start)*1000, 1)))"
   ]
  },
  {
   "cell_type": "code",
   "execution_count": 76,
   "id": "4a1d1410",
   "metadata": {},
   "outputs": [
    {
     "name": "stdout",
     "output_type": "stream",
     "text": [
      "SVM -- Accuracy: 1.0 / Precision: 1.0 / Recall: 1.0 / Latency: 8.0ms\n",
      "RF -- Accuracy: 0.971 / Precision: 0.971 / Recall: 0.971 / Latency: 16.0ms\n",
      "GB -- Accuracy: 1.0 / Precision: 1.0 / Recall: 1.0 / Latency: 0.0ms\n"
     ]
    }
   ],
   "source": [
    "# COMPARE performance of models (Accuracy, Precision, Recall)\n",
    "for name, mdl in models.items():\n",
    "    evaluate_model(name, mdl, val_features, val_labels)"
   ]
  },
  {
   "cell_type": "code",
   "execution_count": 77,
   "id": "89af4043",
   "metadata": {},
   "outputs": [
    {
     "name": "stdout",
     "output_type": "stream",
     "text": [
      "SVM -- Accuracy: 1.0 / Precision: 1.0 / Recall: 1.0 / Latency: 6.3ms\n"
     ]
    }
   ],
   "source": [
    "# Evaluate SVM on test set\n",
    "evaluate_model('SVM', models['SVM'], te_features, te_labels)"
   ]
  },
  {
   "cell_type": "markdown",
   "id": "c841d0c1",
   "metadata": {},
   "source": [
    "# Analysis and Comparison of Results (80-10-10)\n",
    "\n",
    "Observations/Comparisons:\n",
    "* SVM and Gradient Boosting performed the best in terms of accuracy, precsion, and recall on the validation set. In addition, SVM and Gradient Boosting typically both performed as well as each other, typically scoring '1.0' on accuracy, precision, recall,\n",
    "* Latency varies, for the three algorithms during testing. There is no clear leader in which had better\n",
    "* In the training set, the performance score across each model were comparable, with the best scores being 0.97 +- 0.01, with the best training score coming from SVM.\n",
    "* All learning curves for all three models demonstrate RF, SVM, and GB better generalize with more training samples\n",
    "* SVM appears to have the least variance (shaded areas), but converges on a smaller overall score.\n",
    "\n",
    "Best model: SVM <br>\n",
    "Explaination: SVM appears to shows the best accuracy, precision, and recall scores across the three tested models for both the training and the validation sets. The best indicator of this performance is also the learning curve for SVM, showing the cross validation and training score converging to a high score (although not as high as the other training graphs). The shaded areas around the training and CV line represent the error due to bias and variance. Comparitively to the other graphs, SVM has the smallest error due to bias and variance.<br>\n",
    "Observing the properties of SVM, they best perform when there are clear decision boundaries of the data due to the nature of the algorithm seperating data with hyperplanes. That is, a line in which data is classified into differing groups. From our analysis step, we found that there were clear line boundaries and correlations when R^2 space which seperated and helped determine the differing penguin types (Gentoo's have larger flipper lengths than their counterparts for ex.). In the training step, it was found that linear seperation (i.e., hyperplane is a line) was best for the penguin_sizes dataset, corroborating the fact that SVM with linear hyperplanes are likely the best model"
   ]
  },
  {
   "cell_type": "markdown",
   "id": "23d2434f",
   "metadata": {},
   "source": [
    "# What was the best proportion or split ratio from the set of experiments conducted?\n",
    "\n",
    "From the experiments conducted, the best ratio appears to be 80-10-10 from inspection the results. Across both the validation and test sets of data 80-10-10 data splits performed consistently better in accuracy, precision, and recall, scoring a perfect 1.0 in some cases. Results from the training sets between the two were comparable.<br>\n",
    "\n",
    "The result is likely due to the fact that the data is well behaved. From the analysis, we found that there are strong correlations/boundaries between the data which helped determine the types of penguins. In addition, there are few outliers and noise which could interfere with training. From our learning curves, we can see across RF, GB, and SVM, that all models improve with more training data and can generalize more effectively. Since the validation and test subsets are very well-behaved and similar in behaviour to their training subsets, the performance improvement is seen in the 80-10-10 split over 60-20-20 set having trained with more examples.\n"
   ]
  }
 ],
 "metadata": {
  "interpreter": {
   "hash": "0f40ab2526fa8d1be48be0856e746aabd6f85c3c8b31ebfbd5c7c9ed05264adc"
  },
  "kernelspec": {
   "display_name": "Python 3.9.12 ('base')",
   "language": "python",
   "name": "python3"
  },
  "language_info": {
   "codemirror_mode": {
    "name": "ipython",
    "version": 3
   },
   "file_extension": ".py",
   "mimetype": "text/x-python",
   "name": "python",
   "nbconvert_exporter": "python",
   "pygments_lexer": "ipython3",
   "version": "3.9.12"
  }
 },
 "nbformat": 4,
 "nbformat_minor": 5
}
