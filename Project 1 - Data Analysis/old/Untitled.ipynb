{
 "cells": [
  {
   "cell_type": "markdown",
   "id": "d5b13e90",
   "metadata": {},
   "source": [
    "# EECS4404 Project 1\n",
    "\n",
    "Jimmy Le<br>\n",
    "216143992<br>\n",
    "Prof. Archit Garg<br>\n",
    "EECS4404 SU 2022"
   ]
  },
  {
   "cell_type": "code",
   "execution_count": 4,
   "id": "0bc6c02e",
   "metadata": {},
   "outputs": [],
   "source": [
    "###Start"
   ]
  }
 ],
 "metadata": {
  "kernelspec": {
   "display_name": "Python 3 (ipykernel)",
   "language": "python",
   "name": "python3"
  },
  "language_info": {
   "codemirror_mode": {
    "name": "ipython",
    "version": 3
   },
   "file_extension": ".py",
   "mimetype": "text/x-python",
   "name": "python",
   "nbconvert_exporter": "python",
   "pygments_lexer": "ipython3",
   "version": "3.9.12"
  }
 },
 "nbformat": 4,
 "nbformat_minor": 5
}
