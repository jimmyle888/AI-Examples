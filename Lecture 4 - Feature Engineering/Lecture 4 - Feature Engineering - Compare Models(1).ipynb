{
 "cells": [
  {
   "cell_type": "markdown",
   "metadata": {},
   "source": [
    "# Table of contents\n",
    "1. [Build Models To Compare Features: Raw Original Features](#raw-original-features)\n",
    "2. [Build Models To Compare Features: Cleaned Original Features](#cleaned-original-features)\n",
    "3. [Build Models To Compare Features: All Features](#all-features)\n",
    "4. [Build Models To Compare Features: Reduced Set Of Features](#reduced-features)\n",
    "5. [Build Models To Compare Features: Compare And Evaluate All Models](#compare-all-models)"
   ]
  },
  {
   "cell_type": "markdown",
   "metadata": {},
   "source": [
    "## 1. Build Models To Compare Features: Raw Original Features <a name=\"raw-original-features\"></a>\n",
    "\n",
    "**Raw Original Features:** - Eight original features that they gave us right off the bat, without any cleaning other than converting the categorical features to numeric. "
   ]
  },
  {
   "cell_type": "markdown",
   "metadata": {},
   "source": [
    "### Read In Data"
   ]
  },
  {
   "cell_type": "code",
   "execution_count": 1,
   "metadata": {},
   "outputs": [
    {
     "data": {
      "text/html": [
       "<div>\n",
       "<style scoped>\n",
       "    .dataframe tbody tr th:only-of-type {\n",
       "        vertical-align: middle;\n",
       "    }\n",
       "\n",
       "    .dataframe tbody tr th {\n",
       "        vertical-align: top;\n",
       "    }\n",
       "\n",
       "    .dataframe thead th {\n",
       "        text-align: right;\n",
       "    }\n",
       "</style>\n",
       "<table border=\"1\" class=\"dataframe\">\n",
       "  <thead>\n",
       "    <tr style=\"text-align: right;\">\n",
       "      <th></th>\n",
       "      <th>Pclass</th>\n",
       "      <th>Sex</th>\n",
       "      <th>Age_clean</th>\n",
       "      <th>SibSp</th>\n",
       "      <th>Parch</th>\n",
       "      <th>Fare</th>\n",
       "      <th>Cabin</th>\n",
       "      <th>Embarked</th>\n",
       "    </tr>\n",
       "  </thead>\n",
       "  <tbody>\n",
       "    <tr>\n",
       "      <th>0</th>\n",
       "      <td>-0.408652</td>\n",
       "      <td>0.737125</td>\n",
       "      <td>2.570771</td>\n",
       "      <td>-0.464063</td>\n",
       "      <td>-0.468427</td>\n",
       "      <td>-0.412724</td>\n",
       "      <td>0.450064</td>\n",
       "      <td>0.573494</td>\n",
       "    </tr>\n",
       "    <tr>\n",
       "      <th>1</th>\n",
       "      <td>0.803682</td>\n",
       "      <td>0.737125</td>\n",
       "      <td>-1.673694</td>\n",
       "      <td>2.692745</td>\n",
       "      <td>0.794906</td>\n",
       "      <td>-0.066661</td>\n",
       "      <td>0.450064</td>\n",
       "      <td>-0.718682</td>\n",
       "    </tr>\n",
       "    <tr>\n",
       "      <th>2</th>\n",
       "      <td>0.803682</td>\n",
       "      <td>0.737125</td>\n",
       "      <td>0.212735</td>\n",
       "      <td>-0.464063</td>\n",
       "      <td>-0.468427</td>\n",
       "      <td>0.441904</td>\n",
       "      <td>0.450064</td>\n",
       "      <td>0.573494</td>\n",
       "    </tr>\n",
       "    <tr>\n",
       "      <th>3</th>\n",
       "      <td>0.803682</td>\n",
       "      <td>-1.356623</td>\n",
       "      <td>-0.730480</td>\n",
       "      <td>0.325139</td>\n",
       "      <td>-0.468427</td>\n",
       "      <td>-0.425266</td>\n",
       "      <td>0.450064</td>\n",
       "      <td>0.573494</td>\n",
       "    </tr>\n",
       "    <tr>\n",
       "      <th>4</th>\n",
       "      <td>-0.408652</td>\n",
       "      <td>-1.356623</td>\n",
       "      <td>-0.101670</td>\n",
       "      <td>-0.464063</td>\n",
       "      <td>-0.468427</td>\n",
       "      <td>-0.366273</td>\n",
       "      <td>0.450064</td>\n",
       "      <td>0.573494</td>\n",
       "    </tr>\n",
       "  </tbody>\n",
       "</table>\n",
       "</div>"
      ],
      "text/plain": [
       "     Pclass       Sex  Age_clean     SibSp     Parch      Fare     Cabin  \\\n",
       "0 -0.408652  0.737125   2.570771 -0.464063 -0.468427 -0.412724  0.450064   \n",
       "1  0.803682  0.737125  -1.673694  2.692745  0.794906 -0.066661  0.450064   \n",
       "2  0.803682  0.737125   0.212735 -0.464063 -0.468427  0.441904  0.450064   \n",
       "3  0.803682 -1.356623  -0.730480  0.325139 -0.468427 -0.425266  0.450064   \n",
       "4 -0.408652 -1.356623  -0.101670 -0.464063 -0.468427 -0.366273  0.450064   \n",
       "\n",
       "   Embarked  \n",
       "0  0.573494  \n",
       "1 -0.718682  \n",
       "2  0.573494  \n",
       "3  0.573494  \n",
       "4  0.573494  "
      ]
     },
     "execution_count": 1,
     "metadata": {},
     "output_type": "execute_result"
    }
   ],
   "source": [
    "# Read in data\n",
    "import joblib\n",
    "import matplotlib.pyplot as plt\n",
    "import numpy as np\n",
    "import pandas as pd\n",
    "import seaborn as sns\n",
    "from sklearn.ensemble import RandomForestClassifier\n",
    "from sklearn.model_selection import GridSearchCV\n",
    "%matplotlib inline\n",
    "\n",
    "train_features = pd.read_csv('data/train_features_raw.csv')\n",
    "train_labels = pd.read_csv('data/train_labels.csv',header=None)\n",
    "\n",
    "train_features.head()"
   ]
  },
  {
   "cell_type": "code",
   "execution_count": 2,
   "metadata": {},
   "outputs": [
    {
     "data": {
      "text/plain": [
       "(534, 1)"
      ]
     },
     "execution_count": 2,
     "metadata": {},
     "output_type": "execute_result"
    }
   ],
   "source": [
    "train_labels.shape"
   ]
  },
  {
   "cell_type": "markdown",
   "metadata": {},
   "source": [
    "### GridSearchCV\n",
    "\n",
    "With any model it's useful to test some different parameter settings. As some data or sets of features will require more complicated models than other sets of features. And remember, we do care about the complexity of our model. Less complex models is actually one of the benefits of feature engineering. So pass GridSearchCV a list of parameter settings, and it will run cross validation with each setting to help us decide on the best hyperparameters.\n",
    "\n",
    "It is just a wrapper around cross validation that allows you to search for the best hyperparameter settings for your model."
   ]
  },
  {
   "cell_type": "code",
   "execution_count": 3,
   "metadata": {},
   "outputs": [],
   "source": [
    "# this function going to help us compare the results of each model\n",
    "def print_results(results):\n",
    "    print('BEST PARAMS: {}\\n'.format(results.best_params_))\n",
    "\n",
    "    means = results.cv_results_['mean_test_score']\n",
    "    stds = results.cv_results_['std_test_score']\n",
    "    for mean, std, params in zip(means, stds, results.cv_results_['params']):\n",
    "        print('{} (+/-{}) for {}'.format(round(mean, 3), round(std * 2, 3), params))"
   ]
  },
  {
   "cell_type": "markdown",
   "metadata": {},
   "source": [
    "**Note:** The number of estimators(default value is 100), which is just the number of individual trees and the max depth(default values is None) represents the depth of each tree in the forest. \n",
    "\n",
    "**Note:** The process of fitting is non-deterministic so I could rerun this cell and get different results. And, you'll likely have different results as well. Hopefully, by the end of this exercise, our takeaways will be similar, even if the numbers are slightly different. "
   ]
  },
  {
   "cell_type": "code",
   "execution_count": 4,
   "metadata": {
    "scrolled": true
   },
   "outputs": [
    {
     "name": "stderr",
     "output_type": "stream",
     "text": [
      "C:\\Users\\archi\\Anaconda3\\lib\\site-packages\\sklearn\\model_selection\\_search.py:813: DeprecationWarning: The default of the `iid` parameter will change from True to False in version 0.22 and will be removed in 0.24. This will change numeric results when test-set sizes are unequal.\n",
      "  DeprecationWarning)\n"
     ]
    },
    {
     "name": "stdout",
     "output_type": "stream",
     "text": [
      "BEST PARAMS: {'max_depth': 8, 'n_estimators': 256}\n",
      "\n",
      "0.757 (+/-0.143) for {'max_depth': 2, 'n_estimators': 8}\n",
      "0.79 (+/-0.097) for {'max_depth': 2, 'n_estimators': 16}\n",
      "0.79 (+/-0.113) for {'max_depth': 2, 'n_estimators': 32}\n",
      "0.8 (+/-0.106) for {'max_depth': 2, 'n_estimators': 64}\n",
      "0.787 (+/-0.118) for {'max_depth': 2, 'n_estimators': 128}\n",
      "0.79 (+/-0.1) for {'max_depth': 2, 'n_estimators': 256}\n",
      "0.794 (+/-0.11) for {'max_depth': 2, 'n_estimators': 512}\n",
      "0.828 (+/-0.105) for {'max_depth': 4, 'n_estimators': 8}\n",
      "0.82 (+/-0.071) for {'max_depth': 4, 'n_estimators': 16}\n",
      "0.837 (+/-0.127) for {'max_depth': 4, 'n_estimators': 32}\n",
      "0.807 (+/-0.1) for {'max_depth': 4, 'n_estimators': 64}\n",
      "0.816 (+/-0.111) for {'max_depth': 4, 'n_estimators': 128}\n",
      "0.818 (+/-0.113) for {'max_depth': 4, 'n_estimators': 256}\n",
      "0.822 (+/-0.111) for {'max_depth': 4, 'n_estimators': 512}\n",
      "0.837 (+/-0.061) for {'max_depth': 8, 'n_estimators': 8}\n",
      "0.837 (+/-0.048) for {'max_depth': 8, 'n_estimators': 16}\n",
      "0.833 (+/-0.09) for {'max_depth': 8, 'n_estimators': 32}\n",
      "0.841 (+/-0.057) for {'max_depth': 8, 'n_estimators': 64}\n",
      "0.839 (+/-0.07) for {'max_depth': 8, 'n_estimators': 128}\n",
      "0.843 (+/-0.048) for {'max_depth': 8, 'n_estimators': 256}\n",
      "0.841 (+/-0.056) for {'max_depth': 8, 'n_estimators': 512}\n",
      "0.818 (+/-0.032) for {'max_depth': 16, 'n_estimators': 8}\n",
      "0.818 (+/-0.049) for {'max_depth': 16, 'n_estimators': 16}\n",
      "0.822 (+/-0.046) for {'max_depth': 16, 'n_estimators': 32}\n",
      "0.828 (+/-0.04) for {'max_depth': 16, 'n_estimators': 64}\n",
      "0.818 (+/-0.06) for {'max_depth': 16, 'n_estimators': 128}\n",
      "0.831 (+/-0.046) for {'max_depth': 16, 'n_estimators': 256}\n",
      "0.822 (+/-0.059) for {'max_depth': 16, 'n_estimators': 512}\n",
      "0.809 (+/-0.052) for {'max_depth': 32, 'n_estimators': 8}\n",
      "0.813 (+/-0.067) for {'max_depth': 32, 'n_estimators': 16}\n",
      "0.818 (+/-0.057) for {'max_depth': 32, 'n_estimators': 32}\n",
      "0.822 (+/-0.056) for {'max_depth': 32, 'n_estimators': 64}\n",
      "0.818 (+/-0.053) for {'max_depth': 32, 'n_estimators': 128}\n",
      "0.824 (+/-0.054) for {'max_depth': 32, 'n_estimators': 256}\n",
      "0.816 (+/-0.048) for {'max_depth': 32, 'n_estimators': 512}\n",
      "0.803 (+/-0.094) for {'max_depth': None, 'n_estimators': 8}\n",
      "0.816 (+/-0.068) for {'max_depth': None, 'n_estimators': 16}\n",
      "0.816 (+/-0.049) for {'max_depth': None, 'n_estimators': 32}\n",
      "0.816 (+/-0.053) for {'max_depth': None, 'n_estimators': 64}\n",
      "0.82 (+/-0.047) for {'max_depth': None, 'n_estimators': 128}\n",
      "0.822 (+/-0.065) for {'max_depth': None, 'n_estimators': 256}\n",
      "0.82 (+/-0.05) for {'max_depth': None, 'n_estimators': 512}\n"
     ]
    }
   ],
   "source": [
    "# Conduct search for best params while running cross-validation (GridSearchCV)\n",
    "rf = RandomForestClassifier()\n",
    "\n",
    "parameters = {\n",
    "    'n_estimators': [2**i for i in range(3, 10)],\n",
    "    'max_depth': [2, 4, 8, 16, 32, None]\n",
    "}\n",
    "\n",
    "cv = GridSearchCV(rf, parameters, cv=5)\n",
    "cv.fit(train_features, train_labels.values.ravel())\n",
    "\n",
    "print_results(cv)"
   ]
  },
  {
   "cell_type": "markdown",
   "metadata": {},
   "source": [
    "**Observation:** 0.843 (+/-0.048) for {'max_depth': 8, 'n_estimators': 256} Performs the best\n"
   ]
  },
  {
   "cell_type": "markdown",
   "metadata": {},
   "source": [
    "### Feature Importance\n",
    "\n",
    "We're never really sure of how each feature will impact a model. One of the things I love about random forest is it computes a feature importance score for each feature based on how important it was in the fitting of the model."
   ]
  },
  {
   "cell_type": "code",
   "execution_count": 5,
   "metadata": {},
   "outputs": [
    {
     "data": {
      "image/png": "[encoded data removed]",
      "text/plain": [
       "<Figure size 432x288 with 1 Axes>"
      ]
     },
     "metadata": {
      "needs_background": "light"
     },
     "output_type": "display_data"
    }
   ],
   "source": [
    "# Generate feature importance plot\n",
    "feat_imp = cv.best_estimator_.feature_importances_\n",
    "indices = np.argsort(feat_imp)\n",
    "plt.yticks(range(len(indices)), [train_features.columns[i] for i in indices])\n",
    "plt.barh(range(len(indices)), feat_imp[indices], color='r', align='center')\n",
    "plt.show()"
   ]
  },
  {
   "cell_type": "markdown",
   "metadata": {},
   "source": [
    "### Write Out Pickled Model\n",
    "Pickle is the standard way of serializing objects in Python.\n",
    "You can use the pickle operation to serialize your machine learning algorithms and save the serialized format to a file.\n",
    "Later you can load this file to deserialize your model and use it to make new predictions.\n",
    "\n",
    "You can find more information on this from this link: https://www.kaggle.com/prmohanty/python-how-to-save-and-load-ml-models"
   ]
  },
  {
   "cell_type": "code",
   "execution_count": 6,
   "metadata": {},
   "outputs": [
    {
     "data": {
      "text/plain": [
       "['mdl_raw_original_features.pkl']"
      ]
     },
     "execution_count": 6,
     "metadata": {},
     "output_type": "execute_result"
    }
   ],
   "source": [
    "# Write out the model fit on the whole training set\n",
    "joblib.dump(cv.best_estimator_, 'mdl_raw_original_features.pkl')"
   ]
  },
  {
   "cell_type": "markdown",
   "metadata": {},
   "source": [
    "## 2. Build Models To Compare Features: Cleaned Original Features <a name=\"cleaned-original-features\"></a>\n",
    "\n",
    "**Cleaned Original features:** So this is just a set of original features with the minimum cleaning applied, like filling in missing values, and outlier removal.\n",
    "\n",
    "Fitting a model on cleaned feature will give us some insight into how much value imputing missing values and removing outliers provide a model. Did it allow the model to better pick up on the underlying trends in the data? Let's find out. "
   ]
  },
  {
   "cell_type": "code",
   "execution_count": 7,
   "metadata": {},
   "outputs": [
    {
     "data": {
      "text/html": [
       "<div>\n",
       "<style scoped>\n",
       "    .dataframe tbody tr th:only-of-type {\n",
       "        vertical-align: middle;\n",
       "    }\n",
       "\n",
       "    .dataframe tbody tr th {\n",
       "        vertical-align: top;\n",
       "    }\n",
       "\n",
       "    .dataframe thead th {\n",
       "        text-align: right;\n",
       "    }\n",
       "</style>\n",
       "<table border=\"1\" class=\"dataframe\">\n",
       "  <thead>\n",
       "    <tr style=\"text-align: right;\">\n",
       "      <th></th>\n",
       "      <th>Pclass</th>\n",
       "      <th>Sex</th>\n",
       "      <th>Age_clean</th>\n",
       "      <th>SibSp</th>\n",
       "      <th>Parch</th>\n",
       "      <th>Fare_clean</th>\n",
       "      <th>Cabin</th>\n",
       "      <th>Embarked_clean</th>\n",
       "    </tr>\n",
       "  </thead>\n",
       "  <tbody>\n",
       "    <tr>\n",
       "      <th>0</th>\n",
       "      <td>-0.408652</td>\n",
       "      <td>0.737125</td>\n",
       "      <td>2.570771</td>\n",
       "      <td>-0.464063</td>\n",
       "      <td>-0.468427</td>\n",
       "      <td>-0.483840</td>\n",
       "      <td>0.450064</td>\n",
       "      <td>0.545364</td>\n",
       "    </tr>\n",
       "    <tr>\n",
       "      <th>1</th>\n",
       "      <td>0.803682</td>\n",
       "      <td>0.737125</td>\n",
       "      <td>-1.673694</td>\n",
       "      <td>2.692745</td>\n",
       "      <td>0.794906</td>\n",
       "      <td>-0.046993</td>\n",
       "      <td>0.450064</td>\n",
       "      <td>-0.334468</td>\n",
       "    </tr>\n",
       "    <tr>\n",
       "      <th>2</th>\n",
       "      <td>0.803682</td>\n",
       "      <td>0.737125</td>\n",
       "      <td>0.212735</td>\n",
       "      <td>-0.464063</td>\n",
       "      <td>-0.468427</td>\n",
       "      <td>0.594986</td>\n",
       "      <td>0.450064</td>\n",
       "      <td>0.545364</td>\n",
       "    </tr>\n",
       "    <tr>\n",
       "      <th>3</th>\n",
       "      <td>0.803682</td>\n",
       "      <td>-1.356623</td>\n",
       "      <td>-0.730480</td>\n",
       "      <td>0.325139</td>\n",
       "      <td>-0.468427</td>\n",
       "      <td>-0.499672</td>\n",
       "      <td>0.450064</td>\n",
       "      <td>0.545364</td>\n",
       "    </tr>\n",
       "    <tr>\n",
       "      <th>4</th>\n",
       "      <td>-0.408652</td>\n",
       "      <td>-1.356623</td>\n",
       "      <td>-0.101670</td>\n",
       "      <td>-0.464063</td>\n",
       "      <td>-0.468427</td>\n",
       "      <td>-0.425203</td>\n",
       "      <td>0.450064</td>\n",
       "      <td>0.545364</td>\n",
       "    </tr>\n",
       "  </tbody>\n",
       "</table>\n",
       "</div>"
      ],
      "text/plain": [
       "     Pclass       Sex  Age_clean     SibSp     Parch  Fare_clean     Cabin  \\\n",
       "0 -0.408652  0.737125   2.570771 -0.464063 -0.468427   -0.483840  0.450064   \n",
       "1  0.803682  0.737125  -1.673694  2.692745  0.794906   -0.046993  0.450064   \n",
       "2  0.803682  0.737125   0.212735 -0.464063 -0.468427    0.594986  0.450064   \n",
       "3  0.803682 -1.356623  -0.730480  0.325139 -0.468427   -0.499672  0.450064   \n",
       "4 -0.408652 -1.356623  -0.101670 -0.464063 -0.468427   -0.425203  0.450064   \n",
       "\n",
       "   Embarked_clean  \n",
       "0        0.545364  \n",
       "1       -0.334468  \n",
       "2        0.545364  \n",
       "3        0.545364  \n",
       "4        0.545364  "
      ]
     },
     "execution_count": 7,
     "metadata": {},
     "output_type": "execute_result"
    }
   ],
   "source": [
    "\n",
    "train_features = pd.read_csv('data/train_features_original.csv')\n",
    "train_labels = pd.read_csv('data/train_labels.csv', header=None)\n",
    "\n",
    "train_features.head()"
   ]
  },
  {
   "cell_type": "markdown",
   "metadata": {},
   "source": [
    "### GridSearchCV"
   ]
  },
  {
   "cell_type": "code",
   "execution_count": 8,
   "metadata": {},
   "outputs": [],
   "source": [
    "def print_results(results):\n",
    "    print('BEST PARAMS: {}\\n'.format(results.best_params_))\n",
    "\n",
    "    means = results.cv_results_['mean_test_score']\n",
    "    stds = results.cv_results_['std_test_score']\n",
    "    for mean, std, params in zip(means, stds, results.cv_results_['params']):\n",
    "        print('{} (+/-{}) for {}'.format(round(mean, 3), round(std * 2, 3), params))"
   ]
  },
  {
   "cell_type": "code",
   "execution_count": 9,
   "metadata": {},
   "outputs": [
    {
     "name": "stdout",
     "output_type": "stream",
     "text": [
      "BEST PARAMS: {'max_depth': 8, 'n_estimators': 64}\n",
      "\n",
      "0.794 (+/-0.112) for {'max_depth': 2, 'n_estimators': 8}\n",
      "0.798 (+/-0.111) for {'max_depth': 2, 'n_estimators': 16}\n",
      "0.779 (+/-0.107) for {'max_depth': 2, 'n_estimators': 32}\n",
      "0.787 (+/-0.102) for {'max_depth': 2, 'n_estimators': 64}\n",
      "0.8 (+/-0.105) for {'max_depth': 2, 'n_estimators': 128}\n",
      "0.796 (+/-0.108) for {'max_depth': 2, 'n_estimators': 256}\n",
      "0.796 (+/-0.103) for {'max_depth': 2, 'n_estimators': 512}\n",
      "0.822 (+/-0.117) for {'max_depth': 4, 'n_estimators': 8}\n",
      "0.82 (+/-0.082) for {'max_depth': 4, 'n_estimators': 16}\n",
      "0.833 (+/-0.094) for {'max_depth': 4, 'n_estimators': 32}\n",
      "0.818 (+/-0.113) for {'max_depth': 4, 'n_estimators': 64}\n",
      "0.828 (+/-0.118) for {'max_depth': 4, 'n_estimators': 128}\n",
      "0.82 (+/-0.116) for {'max_depth': 4, 'n_estimators': 256}\n",
      "0.824 (+/-0.108) for {'max_depth': 4, 'n_estimators': 512}\n",
      "0.818 (+/-0.053) for {'max_depth': 8, 'n_estimators': 8}\n",
      "0.837 (+/-0.054) for {'max_depth': 8, 'n_estimators': 16}\n",
      "0.822 (+/-0.072) for {'max_depth': 8, 'n_estimators': 32}\n",
      "0.843 (+/-0.058) for {'max_depth': 8, 'n_estimators': 64}\n",
      "0.839 (+/-0.053) for {'max_depth': 8, 'n_estimators': 128}\n",
      "0.839 (+/-0.065) for {'max_depth': 8, 'n_estimators': 256}\n",
      "0.841 (+/-0.06) for {'max_depth': 8, 'n_estimators': 512}\n",
      "0.835 (+/-0.046) for {'max_depth': 16, 'n_estimators': 8}\n",
      "0.826 (+/-0.055) for {'max_depth': 16, 'n_estimators': 16}\n",
      "0.816 (+/-0.047) for {'max_depth': 16, 'n_estimators': 32}\n",
      "0.822 (+/-0.039) for {'max_depth': 16, 'n_estimators': 64}\n",
      "0.816 (+/-0.041) for {'max_depth': 16, 'n_estimators': 128}\n",
      "0.82 (+/-0.055) for {'max_depth': 16, 'n_estimators': 256}\n",
      "0.822 (+/-0.053) for {'max_depth': 16, 'n_estimators': 512}\n",
      "0.8 (+/-0.025) for {'max_depth': 32, 'n_estimators': 8}\n",
      "0.813 (+/-0.048) for {'max_depth': 32, 'n_estimators': 16}\n",
      "0.83 (+/-0.061) for {'max_depth': 32, 'n_estimators': 32}\n",
      "0.82 (+/-0.026) for {'max_depth': 32, 'n_estimators': 64}\n",
      "0.816 (+/-0.049) for {'max_depth': 32, 'n_estimators': 128}\n",
      "0.82 (+/-0.066) for {'max_depth': 32, 'n_estimators': 256}\n",
      "0.82 (+/-0.047) for {'max_depth': 32, 'n_estimators': 512}\n",
      "0.8 (+/-0.04) for {'max_depth': None, 'n_estimators': 8}\n",
      "0.809 (+/-0.055) for {'max_depth': None, 'n_estimators': 16}\n",
      "0.815 (+/-0.036) for {'max_depth': None, 'n_estimators': 32}\n",
      "0.82 (+/-0.046) for {'max_depth': None, 'n_estimators': 64}\n",
      "0.816 (+/-0.035) for {'max_depth': None, 'n_estimators': 128}\n",
      "0.818 (+/-0.06) for {'max_depth': None, 'n_estimators': 256}\n",
      "0.822 (+/-0.059) for {'max_depth': None, 'n_estimators': 512}\n"
     ]
    },
    {
     "name": "stderr",
     "output_type": "stream",
     "text": [
      "C:\\Users\\archi\\Anaconda3\\lib\\site-packages\\sklearn\\model_selection\\_search.py:813: DeprecationWarning: The default of the `iid` parameter will change from True to False in version 0.22 and will be removed in 0.24. This will change numeric results when test-set sizes are unequal.\n",
      "  DeprecationWarning)\n"
     ]
    }
   ],
   "source": [
    "# Conduct search for best params while running cross-validation (GridSearchCV)\n",
    "rf = RandomForestClassifier()\n",
    "parameters = {\n",
    "    'n_estimators': [2**i for i in range(3, 10)],\n",
    "    'max_depth': [2, 4, 8, 16, 32, None]\n",
    "}\n",
    "cv = GridSearchCV(rf, parameters, cv=5)\n",
    "cv.fit(train_features, train_labels.values.ravel())\n",
    "\n",
    "print_results(cv)"
   ]
  },
  {
   "cell_type": "markdown",
   "metadata": {},
   "source": [
    "**Observation:** 0.843 (+/-0.058) for {'max_depth': 8, 'n_estimators': 64} Performs the best"
   ]
  },
  {
   "cell_type": "markdown",
   "metadata": {},
   "source": [
    "### Feature Importance"
   ]
  },
  {
   "cell_type": "code",
   "execution_count": 10,
   "metadata": {},
   "outputs": [
    {
     "data": {
      "image/png": "[encoded data removed]",
      "text/plain": [
       "<Figure size 432x288 with 1 Axes>"
      ]
     },
     "metadata": {
      "needs_background": "light"
     },
     "output_type": "display_data"
    }
   ],
   "source": [
    "# Generate feature importance plot\n",
    "feat_imp = cv.best_estimator_.feature_importances_\n",
    "indices = np.argsort(feat_imp)\n",
    "plt.yticks(range(len(indices)), [train_features.columns[i] for i in indices])\n",
    "plt.barh(range(len(indices)), feat_imp[indices], color='r', align='center')\n",
    "plt.show()"
   ]
  },
  {
   "cell_type": "markdown",
   "metadata": {},
   "source": [
    "### Write Out Pickled Model"
   ]
  },
  {
   "cell_type": "code",
   "execution_count": 11,
   "metadata": {},
   "outputs": [
    {
     "data": {
      "text/plain": [
       "['mdl_cleaned_original_features.pkl']"
      ]
     },
     "execution_count": 11,
     "metadata": {},
     "output_type": "execute_result"
    }
   ],
   "source": [
    "# Write out the model fit on the whole training set\n",
    "joblib.dump(cv.best_estimator_, 'mdl_cleaned_original_features.pkl')"
   ]
  },
  {
   "cell_type": "markdown",
   "metadata": {},
   "source": [
    "## 3. Build Models To Compare Features: All Features <a name=\"all-features\"></a>\n",
    "\n",
    "**All features:** Now, let's fit a model on all of the features. And to be clear, when we say all features, we mean the cleaned versions of the features, plus the new features we created, and this will give us some insight into how much failure the new features are providing us above what the simple clean features provided."
   ]
  },
  {
   "cell_type": "code",
   "execution_count": 12,
   "metadata": {},
   "outputs": [
    {
     "data": {
      "text/html": [
       "<div>\n",
       "<style scoped>\n",
       "    .dataframe tbody tr th:only-of-type {\n",
       "        vertical-align: middle;\n",
       "    }\n",
       "\n",
       "    .dataframe tbody tr th {\n",
       "        vertical-align: top;\n",
       "    }\n",
       "\n",
       "    .dataframe thead th {\n",
       "        text-align: right;\n",
       "    }\n",
       "</style>\n",
       "<table border=\"1\" class=\"dataframe\">\n",
       "  <thead>\n",
       "    <tr style=\"text-align: right;\">\n",
       "      <th></th>\n",
       "      <th>Pclass</th>\n",
       "      <th>Sex</th>\n",
       "      <th>Age_clean</th>\n",
       "      <th>SibSp</th>\n",
       "      <th>Parch</th>\n",
       "      <th>Fare_clean</th>\n",
       "      <th>Fare_clean_tr</th>\n",
       "      <th>Cabin</th>\n",
       "      <th>Cabin_ind</th>\n",
       "      <th>Embarked_clean</th>\n",
       "      <th>Title</th>\n",
       "      <th>Family_cnt</th>\n",
       "    </tr>\n",
       "  </thead>\n",
       "  <tbody>\n",
       "    <tr>\n",
       "      <th>0</th>\n",
       "      <td>-0.408652</td>\n",
       "      <td>0.737125</td>\n",
       "      <td>2.570771</td>\n",
       "      <td>-0.464063</td>\n",
       "      <td>-0.468427</td>\n",
       "      <td>-0.483840</td>\n",
       "      <td>-0.446199</td>\n",
       "      <td>0.450064</td>\n",
       "      <td>-0.544166</td>\n",
       "      <td>0.545364</td>\n",
       "      <td>0.430223</td>\n",
       "      <td>-0.540385</td>\n",
       "    </tr>\n",
       "    <tr>\n",
       "      <th>1</th>\n",
       "      <td>0.803682</td>\n",
       "      <td>0.737125</td>\n",
       "      <td>-1.673694</td>\n",
       "      <td>2.692745</td>\n",
       "      <td>0.794906</td>\n",
       "      <td>-0.046993</td>\n",
       "      <td>0.373863</td>\n",
       "      <td>0.450064</td>\n",
       "      <td>-0.544166</td>\n",
       "      <td>-0.334468</td>\n",
       "      <td>-1.784129</td>\n",
       "      <td>2.277639</td>\n",
       "    </tr>\n",
       "    <tr>\n",
       "      <th>2</th>\n",
       "      <td>0.803682</td>\n",
       "      <td>0.737125</td>\n",
       "      <td>0.212735</td>\n",
       "      <td>-0.464063</td>\n",
       "      <td>-0.468427</td>\n",
       "      <td>0.594986</td>\n",
       "      <td>1.003414</td>\n",
       "      <td>0.450064</td>\n",
       "      <td>-0.544166</td>\n",
       "      <td>0.545364</td>\n",
       "      <td>0.430223</td>\n",
       "      <td>-0.540385</td>\n",
       "    </tr>\n",
       "    <tr>\n",
       "      <th>3</th>\n",
       "      <td>0.803682</td>\n",
       "      <td>-1.356623</td>\n",
       "      <td>-0.730480</td>\n",
       "      <td>0.325139</td>\n",
       "      <td>-0.468427</td>\n",
       "      <td>-0.499672</td>\n",
       "      <td>-0.494025</td>\n",
       "      <td>0.450064</td>\n",
       "      <td>-0.544166</td>\n",
       "      <td>0.545364</td>\n",
       "      <td>-1.230541</td>\n",
       "      <td>0.023220</td>\n",
       "    </tr>\n",
       "    <tr>\n",
       "      <th>4</th>\n",
       "      <td>-0.408652</td>\n",
       "      <td>-1.356623</td>\n",
       "      <td>-0.101670</td>\n",
       "      <td>-0.464063</td>\n",
       "      <td>-0.468427</td>\n",
       "      <td>-0.425203</td>\n",
       "      <td>-0.288093</td>\n",
       "      <td>0.450064</td>\n",
       "      <td>-0.544166</td>\n",
       "      <td>0.545364</td>\n",
       "      <td>-1.230541</td>\n",
       "      <td>-0.540385</td>\n",
       "    </tr>\n",
       "  </tbody>\n",
       "</table>\n",
       "</div>"
      ],
      "text/plain": [
       "     Pclass       Sex  Age_clean     SibSp     Parch  Fare_clean  \\\n",
       "0 -0.408652  0.737125   2.570771 -0.464063 -0.468427   -0.483840   \n",
       "1  0.803682  0.737125  -1.673694  2.692745  0.794906   -0.046993   \n",
       "2  0.803682  0.737125   0.212735 -0.464063 -0.468427    0.594986   \n",
       "3  0.803682 -1.356623  -0.730480  0.325139 -0.468427   -0.499672   \n",
       "4 -0.408652 -1.356623  -0.101670 -0.464063 -0.468427   -0.425203   \n",
       "\n",
       "   Fare_clean_tr     Cabin  Cabin_ind  Embarked_clean     Title  Family_cnt  \n",
       "0      -0.446199  0.450064  -0.544166        0.545364  0.430223   -0.540385  \n",
       "1       0.373863  0.450064  -0.544166       -0.334468 -1.784129    2.277639  \n",
       "2       1.003414  0.450064  -0.544166        0.545364  0.430223   -0.540385  \n",
       "3      -0.494025  0.450064  -0.544166        0.545364 -1.230541    0.023220  \n",
       "4      -0.288093  0.450064  -0.544166        0.545364 -1.230541   -0.540385  "
      ]
     },
     "execution_count": 12,
     "metadata": {},
     "output_type": "execute_result"
    }
   ],
   "source": [
    "train_features = pd.read_csv('data/train_features_all.csv')\n",
    "train_labels = pd.read_csv('data/train_labels.csv', header=None)\n",
    "\n",
    "train_features.head()"
   ]
  },
  {
   "cell_type": "markdown",
   "metadata": {},
   "source": [
    "### GridSearchCV"
   ]
  },
  {
   "cell_type": "code",
   "execution_count": 13,
   "metadata": {},
   "outputs": [],
   "source": [
    "def print_results(results):\n",
    "    print('BEST PARAMS: {}\\n'.format(results.best_params_))\n",
    "\n",
    "    means = results.cv_results_['mean_test_score']\n",
    "    stds = results.cv_results_['std_test_score']\n",
    "    for mean, std, params in zip(means, stds, results.cv_results_['params']):\n",
    "        print('{} (+/-{}) for {}'.format(round(mean, 3), round(std * 2, 3), params))"
   ]
  },
  {
   "cell_type": "code",
   "execution_count": 14,
   "metadata": {},
   "outputs": [
    {
     "name": "stdout",
     "output_type": "stream",
     "text": [
      "BEST PARAMS: {'max_depth': 8, 'n_estimators': 32}\n",
      "\n",
      "0.787 (+/-0.104) for {'max_depth': 2, 'n_estimators': 8}\n",
      "0.785 (+/-0.134) for {'max_depth': 2, 'n_estimators': 16}\n",
      "0.796 (+/-0.127) for {'max_depth': 2, 'n_estimators': 32}\n",
      "0.779 (+/-0.12) for {'max_depth': 2, 'n_estimators': 64}\n",
      "0.8 (+/-0.12) for {'max_depth': 2, 'n_estimators': 128}\n",
      "0.79 (+/-0.123) for {'max_depth': 2, 'n_estimators': 256}\n",
      "0.779 (+/-0.131) for {'max_depth': 2, 'n_estimators': 512}\n",
      "0.818 (+/-0.097) for {'max_depth': 4, 'n_estimators': 8}\n",
      "0.82 (+/-0.071) for {'max_depth': 4, 'n_estimators': 16}\n",
      "0.82 (+/-0.104) for {'max_depth': 4, 'n_estimators': 32}\n",
      "0.828 (+/-0.078) for {'max_depth': 4, 'n_estimators': 64}\n",
      "0.813 (+/-0.124) for {'max_depth': 4, 'n_estimators': 128}\n",
      "0.822 (+/-0.103) for {'max_depth': 4, 'n_estimators': 256}\n",
      "0.818 (+/-0.107) for {'max_depth': 4, 'n_estimators': 512}\n",
      "0.835 (+/-0.095) for {'max_depth': 8, 'n_estimators': 8}\n",
      "0.822 (+/-0.09) for {'max_depth': 8, 'n_estimators': 16}\n",
      "0.837 (+/-0.067) for {'max_depth': 8, 'n_estimators': 32}\n",
      "0.818 (+/-0.052) for {'max_depth': 8, 'n_estimators': 64}\n",
      "0.826 (+/-0.06) for {'max_depth': 8, 'n_estimators': 128}\n",
      "0.826 (+/-0.049) for {'max_depth': 8, 'n_estimators': 256}\n",
      "0.835 (+/-0.054) for {'max_depth': 8, 'n_estimators': 512}\n",
      "0.822 (+/-0.043) for {'max_depth': 16, 'n_estimators': 8}\n",
      "0.815 (+/-0.031) for {'max_depth': 16, 'n_estimators': 16}\n",
      "0.816 (+/-0.054) for {'max_depth': 16, 'n_estimators': 32}\n",
      "0.809 (+/-0.041) for {'max_depth': 16, 'n_estimators': 64}\n",
      "0.818 (+/-0.06) for {'max_depth': 16, 'n_estimators': 128}\n",
      "0.8 (+/-0.041) for {'max_depth': 16, 'n_estimators': 256}\n",
      "0.818 (+/-0.063) for {'max_depth': 16, 'n_estimators': 512}\n",
      "0.8 (+/-0.053) for {'max_depth': 32, 'n_estimators': 8}\n",
      "0.815 (+/-0.031) for {'max_depth': 32, 'n_estimators': 16}\n",
      "0.816 (+/-0.073) for {'max_depth': 32, 'n_estimators': 32}\n",
      "0.816 (+/-0.043) for {'max_depth': 32, 'n_estimators': 64}\n",
      "0.815 (+/-0.054) for {'max_depth': 32, 'n_estimators': 128}\n",
      "0.815 (+/-0.054) for {'max_depth': 32, 'n_estimators': 256}\n",
      "0.816 (+/-0.047) for {'max_depth': 32, 'n_estimators': 512}\n",
      "0.803 (+/-0.039) for {'max_depth': None, 'n_estimators': 8}\n",
      "0.807 (+/-0.074) for {'max_depth': None, 'n_estimators': 16}\n",
      "0.813 (+/-0.03) for {'max_depth': None, 'n_estimators': 32}\n",
      "0.815 (+/-0.045) for {'max_depth': None, 'n_estimators': 64}\n",
      "0.805 (+/-0.054) for {'max_depth': None, 'n_estimators': 128}\n",
      "0.818 (+/-0.056) for {'max_depth': None, 'n_estimators': 256}\n",
      "0.813 (+/-0.048) for {'max_depth': None, 'n_estimators': 512}\n"
     ]
    },
    {
     "name": "stderr",
     "output_type": "stream",
     "text": [
      "C:\\Users\\archi\\Anaconda3\\lib\\site-packages\\sklearn\\model_selection\\_search.py:813: DeprecationWarning: The default of the `iid` parameter will change from True to False in version 0.22 and will be removed in 0.24. This will change numeric results when test-set sizes are unequal.\n",
      "  DeprecationWarning)\n"
     ]
    }
   ],
   "source": [
    "# Conduct search for best params while running cross-validation (GridSearchCV)\n",
    "rf = RandomForestClassifier()\n",
    "parameters = {\n",
    "    'n_estimators': [2**i for i in range(3, 10)],\n",
    "    'max_depth': [2, 4, 8, 16, 32, None]\n",
    "}\n",
    "cv = GridSearchCV(rf, parameters, cv=5)\n",
    "cv.fit(train_features, train_labels.values.ravel())\n",
    "\n",
    "print_results(cv)"
   ]
  },
  {
   "cell_type": "markdown",
   "metadata": {},
   "source": [
    "**Observation:** 0.837 (+/-0.067) for {'max_depth': 8, 'n_estimators': 32} Performs the best"
   ]
  },
  {
   "cell_type": "markdown",
   "metadata": {},
   "source": [
    "### Feature Importance"
   ]
  },
  {
   "cell_type": "code",
   "execution_count": 15,
   "metadata": {},
   "outputs": [
    {
     "data": {
      "image/png": "[encoded data removed]",
      "text/plain": [
       "<Figure size 432x288 with 1 Axes>"
      ]
     },
     "metadata": {
      "needs_background": "light"
     },
     "output_type": "display_data"
    }
   ],
   "source": [
    "# Generate feature importance plot\n",
    "feat_imp = cv.best_estimator_.feature_importances_\n",
    "indices = np.argsort(feat_imp)\n",
    "plt.yticks(range(len(indices)), [train_features.columns[i] for i in indices])\n",
    "plt.barh(range(len(indices)), feat_imp[indices], color='r', align='center')\n",
    "plt.show()"
   ]
  },
  {
   "cell_type": "markdown",
   "metadata": {},
   "source": [
    "### Write Out Pickled Model"
   ]
  },
  {
   "cell_type": "code",
   "execution_count": 16,
   "metadata": {},
   "outputs": [
    {
     "data": {
      "text/plain": [
       "['mdl_all_features.pkl']"
      ]
     },
     "execution_count": 16,
     "metadata": {},
     "output_type": "execute_result"
    }
   ],
   "source": [
    "# Write out the model fit on the whole training set\n",
    "joblib.dump(cv.best_estimator_, 'mdl_all_features.pkl')"
   ]
  },
  {
   "cell_type": "markdown",
   "metadata": {},
   "source": [
    "## 4. Build Models To Compare Features: Reduced Set Of Features <a name=\"reduced-features\"></a>\n",
    "\n",
    "**Reduced features:** Let's fit a model on a reduced set of what seemed to be the best features. How much signal can this small subset of features capture?"
   ]
  },
  {
   "cell_type": "markdown",
   "metadata": {},
   "source": [
    "### Read In Data"
   ]
  },
  {
   "cell_type": "code",
   "execution_count": 17,
   "metadata": {},
   "outputs": [
    {
     "data": {
      "text/html": [
       "<div>\n",
       "<style scoped>\n",
       "    .dataframe tbody tr th:only-of-type {\n",
       "        vertical-align: middle;\n",
       "    }\n",
       "\n",
       "    .dataframe tbody tr th {\n",
       "        vertical-align: top;\n",
       "    }\n",
       "\n",
       "    .dataframe thead th {\n",
       "        text-align: right;\n",
       "    }\n",
       "</style>\n",
       "<table border=\"1\" class=\"dataframe\">\n",
       "  <thead>\n",
       "    <tr style=\"text-align: right;\">\n",
       "      <th></th>\n",
       "      <th>Pclass</th>\n",
       "      <th>Sex</th>\n",
       "      <th>Age_clean</th>\n",
       "      <th>Family_cnt</th>\n",
       "      <th>Fare_clean_tr</th>\n",
       "      <th>Cabin_ind</th>\n",
       "      <th>Title</th>\n",
       "    </tr>\n",
       "  </thead>\n",
       "  <tbody>\n",
       "    <tr>\n",
       "      <th>0</th>\n",
       "      <td>-0.408652</td>\n",
       "      <td>0.737125</td>\n",
       "      <td>2.570771</td>\n",
       "      <td>-0.540385</td>\n",
       "      <td>-0.446199</td>\n",
       "      <td>-0.544166</td>\n",
       "      <td>0.430223</td>\n",
       "    </tr>\n",
       "    <tr>\n",
       "      <th>1</th>\n",
       "      <td>0.803682</td>\n",
       "      <td>0.737125</td>\n",
       "      <td>-1.673694</td>\n",
       "      <td>2.277639</td>\n",
       "      <td>0.373863</td>\n",
       "      <td>-0.544166</td>\n",
       "      <td>-1.784129</td>\n",
       "    </tr>\n",
       "    <tr>\n",
       "      <th>2</th>\n",
       "      <td>0.803682</td>\n",
       "      <td>0.737125</td>\n",
       "      <td>0.212735</td>\n",
       "      <td>-0.540385</td>\n",
       "      <td>1.003414</td>\n",
       "      <td>-0.544166</td>\n",
       "      <td>0.430223</td>\n",
       "    </tr>\n",
       "    <tr>\n",
       "      <th>3</th>\n",
       "      <td>0.803682</td>\n",
       "      <td>-1.356623</td>\n",
       "      <td>-0.730480</td>\n",
       "      <td>0.023220</td>\n",
       "      <td>-0.494025</td>\n",
       "      <td>-0.544166</td>\n",
       "      <td>-1.230541</td>\n",
       "    </tr>\n",
       "    <tr>\n",
       "      <th>4</th>\n",
       "      <td>-0.408652</td>\n",
       "      <td>-1.356623</td>\n",
       "      <td>-0.101670</td>\n",
       "      <td>-0.540385</td>\n",
       "      <td>-0.288093</td>\n",
       "      <td>-0.544166</td>\n",
       "      <td>-1.230541</td>\n",
       "    </tr>\n",
       "  </tbody>\n",
       "</table>\n",
       "</div>"
      ],
      "text/plain": [
       "     Pclass       Sex  Age_clean  Family_cnt  Fare_clean_tr  Cabin_ind  \\\n",
       "0 -0.408652  0.737125   2.570771   -0.540385      -0.446199  -0.544166   \n",
       "1  0.803682  0.737125  -1.673694    2.277639       0.373863  -0.544166   \n",
       "2  0.803682  0.737125   0.212735   -0.540385       1.003414  -0.544166   \n",
       "3  0.803682 -1.356623  -0.730480    0.023220      -0.494025  -0.544166   \n",
       "4 -0.408652 -1.356623  -0.101670   -0.540385      -0.288093  -0.544166   \n",
       "\n",
       "      Title  \n",
       "0  0.430223  \n",
       "1 -1.784129  \n",
       "2  0.430223  \n",
       "3 -1.230541  \n",
       "4 -1.230541  "
      ]
     },
     "execution_count": 17,
     "metadata": {},
     "output_type": "execute_result"
    }
   ],
   "source": [
    "# Read in data\n",
    "import joblib\n",
    "import matplotlib.pyplot as plt\n",
    "import numpy as np\n",
    "import pandas as pd\n",
    "import seaborn as sns\n",
    "from sklearn.ensemble import RandomForestClassifier\n",
    "from sklearn.model_selection import GridSearchCV\n",
    "%matplotlib inline\n",
    "\n",
    "train_features = pd.read_csv('data/train_features_reduced.csv')\n",
    "train_labels = pd.read_csv('data/train_labels.csv', header=None)\n",
    "\n",
    "train_features.head()"
   ]
  },
  {
   "cell_type": "markdown",
   "metadata": {},
   "source": [
    "### GridSearchCV"
   ]
  },
  {
   "cell_type": "code",
   "execution_count": 18,
   "metadata": {},
   "outputs": [],
   "source": [
    "def print_results(results):\n",
    "    print('BEST PARAMS: {}\\n'.format(results.best_params_))\n",
    "\n",
    "    means = results.cv_results_['mean_test_score']\n",
    "    stds = results.cv_results_['std_test_score']\n",
    "    for mean, std, params in zip(means, stds, results.cv_results_['params']):\n",
    "        print('{} (+/-{}) for {}'.format(round(mean, 3), round(std * 2, 3), params))"
   ]
  },
  {
   "cell_type": "code",
   "execution_count": 19,
   "metadata": {},
   "outputs": [
    {
     "name": "stdout",
     "output_type": "stream",
     "text": [
      "BEST PARAMS: {'max_depth': 4, 'n_estimators': 16}\n",
      "\n",
      "0.777 (+/-0.097) for {'max_depth': 2, 'n_estimators': 8}\n",
      "0.807 (+/-0.113) for {'max_depth': 2, 'n_estimators': 16}\n",
      "0.796 (+/-0.132) for {'max_depth': 2, 'n_estimators': 32}\n",
      "0.794 (+/-0.121) for {'max_depth': 2, 'n_estimators': 64}\n",
      "0.787 (+/-0.116) for {'max_depth': 2, 'n_estimators': 128}\n",
      "0.794 (+/-0.125) for {'max_depth': 2, 'n_estimators': 256}\n",
      "0.779 (+/-0.12) for {'max_depth': 2, 'n_estimators': 512}\n",
      "0.809 (+/-0.127) for {'max_depth': 4, 'n_estimators': 8}\n",
      "0.83 (+/-0.112) for {'max_depth': 4, 'n_estimators': 16}\n",
      "0.824 (+/-0.103) for {'max_depth': 4, 'n_estimators': 32}\n",
      "0.809 (+/-0.116) for {'max_depth': 4, 'n_estimators': 64}\n",
      "0.818 (+/-0.102) for {'max_depth': 4, 'n_estimators': 128}\n",
      "0.815 (+/-0.102) for {'max_depth': 4, 'n_estimators': 256}\n",
      "0.815 (+/-0.102) for {'max_depth': 4, 'n_estimators': 512}\n",
      "0.818 (+/-0.036) for {'max_depth': 8, 'n_estimators': 8}\n",
      "0.83 (+/-0.086) for {'max_depth': 8, 'n_estimators': 16}\n",
      "0.818 (+/-0.056) for {'max_depth': 8, 'n_estimators': 32}\n",
      "0.824 (+/-0.06) for {'max_depth': 8, 'n_estimators': 64}\n",
      "0.816 (+/-0.085) for {'max_depth': 8, 'n_estimators': 128}\n",
      "0.815 (+/-0.076) for {'max_depth': 8, 'n_estimators': 256}\n",
      "0.815 (+/-0.07) for {'max_depth': 8, 'n_estimators': 512}\n",
      "0.803 (+/-0.05) for {'max_depth': 16, 'n_estimators': 8}\n",
      "0.805 (+/-0.017) for {'max_depth': 16, 'n_estimators': 16}\n",
      "0.792 (+/-0.036) for {'max_depth': 16, 'n_estimators': 32}\n",
      "0.803 (+/-0.034) for {'max_depth': 16, 'n_estimators': 64}\n",
      "0.807 (+/-0.035) for {'max_depth': 16, 'n_estimators': 128}\n",
      "0.811 (+/-0.052) for {'max_depth': 16, 'n_estimators': 256}\n",
      "0.809 (+/-0.046) for {'max_depth': 16, 'n_estimators': 512}\n",
      "0.8 (+/-0.043) for {'max_depth': 32, 'n_estimators': 8}\n",
      "0.809 (+/-0.019) for {'max_depth': 32, 'n_estimators': 16}\n",
      "0.811 (+/-0.042) for {'max_depth': 32, 'n_estimators': 32}\n",
      "0.803 (+/-0.042) for {'max_depth': 32, 'n_estimators': 64}\n",
      "0.809 (+/-0.039) for {'max_depth': 32, 'n_estimators': 128}\n",
      "0.807 (+/-0.046) for {'max_depth': 32, 'n_estimators': 256}\n",
      "0.803 (+/-0.034) for {'max_depth': 32, 'n_estimators': 512}\n",
      "0.8 (+/-0.037) for {'max_depth': None, 'n_estimators': 8}\n",
      "0.818 (+/-0.02) for {'max_depth': None, 'n_estimators': 16}\n",
      "0.801 (+/-0.039) for {'max_depth': None, 'n_estimators': 32}\n",
      "0.807 (+/-0.038) for {'max_depth': None, 'n_estimators': 64}\n",
      "0.811 (+/-0.033) for {'max_depth': None, 'n_estimators': 128}\n",
      "0.805 (+/-0.042) for {'max_depth': None, 'n_estimators': 256}\n",
      "0.807 (+/-0.041) for {'max_depth': None, 'n_estimators': 512}\n"
     ]
    },
    {
     "name": "stderr",
     "output_type": "stream",
     "text": [
      "C:\\Users\\archi\\Anaconda3\\lib\\site-packages\\sklearn\\model_selection\\_search.py:813: DeprecationWarning: The default of the `iid` parameter will change from True to False in version 0.22 and will be removed in 0.24. This will change numeric results when test-set sizes are unequal.\n",
      "  DeprecationWarning)\n"
     ]
    }
   ],
   "source": [
    "# Conduct search for best params while running cross-validation (GridSearchCV)\n",
    "rf = RandomForestClassifier()\n",
    "parameters = {\n",
    "    'n_estimators': [2**i for i in range(3, 10)],\n",
    "    'max_depth': [2, 4, 8, 16, 32, None]\n",
    "}\n",
    "cv = GridSearchCV(rf, parameters, cv=5)\n",
    "cv.fit(train_features, train_labels.values.ravel())\n",
    "\n",
    "print_results(cv)"
   ]
  },
  {
   "cell_type": "markdown",
   "metadata": {},
   "source": [
    "**Observation:** 0.83 (+/-0.112) for {'max_depth': 4, 'n_estimators': 16} Performs the best"
   ]
  },
  {
   "cell_type": "markdown",
   "metadata": {},
   "source": [
    "### Feature Importance"
   ]
  },
  {
   "cell_type": "code",
   "execution_count": 20,
   "metadata": {},
   "outputs": [
    {
     "data": {
      "image/png": "[encoded data removed]",
      "text/plain": [
       "<Figure size 432x288 with 1 Axes>"
      ]
     },
     "metadata": {
      "needs_background": "light"
     },
     "output_type": "display_data"
    }
   ],
   "source": [
    "# Generate feature importance plot\n",
    "feat_imp = cv.best_estimator_.feature_importances_\n",
    "indices = np.argsort(feat_imp)\n",
    "plt.yticks(range(len(indices)), [train_features.columns[i] for i in indices])\n",
    "plt.barh(range(len(indices)), feat_imp[indices], color='r', align='center')\n",
    "plt.show()"
   ]
  },
  {
   "cell_type": "markdown",
   "metadata": {},
   "source": [
    "### Write Out Pickled Model"
   ]
  },
  {
   "cell_type": "code",
   "execution_count": 21,
   "metadata": {},
   "outputs": [
    {
     "data": {
      "text/plain": [
       "['mdl_reduced_features.pkl']"
      ]
     },
     "execution_count": 21,
     "metadata": {},
     "output_type": "execute_result"
    }
   ],
   "source": [
    "# Write out the model fit on the whole training set\n",
    "joblib.dump(cv.best_estimator_, 'mdl_reduced_features.pkl')"
   ]
  },
  {
   "cell_type": "markdown",
   "metadata": {},
   "source": [
    "## 5. Build Models To Compare Features: Compare And Evaluate All Models  <a name=\"compare-all-models\"></a>\n",
    "\n",
    "In this section, we will do the following:\n",
    "1. Evaluate all of our saved models on the validation set\n",
    "2. Select the best model based on performance on the validation set\n",
    "3. Evaluate that model on the holdout test set"
   ]
  },
  {
   "cell_type": "markdown",
   "metadata": {},
   "source": [
    "### Read In Data"
   ]
  },
  {
   "cell_type": "code",
   "execution_count": 22,
   "metadata": {},
   "outputs": [
    {
     "data": {
      "text/html": [
       "<div>\n",
       "<style scoped>\n",
       "    .dataframe tbody tr th:only-of-type {\n",
       "        vertical-align: middle;\n",
       "    }\n",
       "\n",
       "    .dataframe tbody tr th {\n",
       "        vertical-align: top;\n",
       "    }\n",
       "\n",
       "    .dataframe thead th {\n",
       "        text-align: right;\n",
       "    }\n",
       "</style>\n",
       "<table border=\"1\" class=\"dataframe\">\n",
       "  <thead>\n",
       "    <tr style=\"text-align: right;\">\n",
       "      <th></th>\n",
       "      <th>Pclass</th>\n",
       "      <th>Sex</th>\n",
       "      <th>Age_clean</th>\n",
       "      <th>SibSp</th>\n",
       "      <th>Parch</th>\n",
       "      <th>Fare</th>\n",
       "      <th>Cabin</th>\n",
       "      <th>Embarked</th>\n",
       "    </tr>\n",
       "  </thead>\n",
       "  <tbody>\n",
       "    <tr>\n",
       "      <th>0</th>\n",
       "      <td>-1.620987</td>\n",
       "      <td>-1.356623</td>\n",
       "      <td>0.031883</td>\n",
       "      <td>0.325139</td>\n",
       "      <td>-0.468427</td>\n",
       "      <td>1.047786</td>\n",
       "      <td>-1.239700</td>\n",
       "      <td>-2.010857</td>\n",
       "    </tr>\n",
       "    <tr>\n",
       "      <th>1</th>\n",
       "      <td>-1.620987</td>\n",
       "      <td>0.737125</td>\n",
       "      <td>1.273851</td>\n",
       "      <td>-0.464063</td>\n",
       "      <td>-0.468427</td>\n",
       "      <td>-0.078274</td>\n",
       "      <td>-2.070731</td>\n",
       "      <td>0.573494</td>\n",
       "    </tr>\n",
       "    <tr>\n",
       "      <th>2</th>\n",
       "      <td>0.803682</td>\n",
       "      <td>0.737125</td>\n",
       "      <td>0.031883</td>\n",
       "      <td>-0.464063</td>\n",
       "      <td>-0.468427</td>\n",
       "      <td>-0.463821</td>\n",
       "      <td>0.450064</td>\n",
       "      <td>-0.718682</td>\n",
       "    </tr>\n",
       "    <tr>\n",
       "      <th>3</th>\n",
       "      <td>-0.408652</td>\n",
       "      <td>-1.356623</td>\n",
       "      <td>-0.416075</td>\n",
       "      <td>0.325139</td>\n",
       "      <td>-0.468427</td>\n",
       "      <td>-0.124726</td>\n",
       "      <td>0.450064</td>\n",
       "      <td>0.573494</td>\n",
       "    </tr>\n",
       "    <tr>\n",
       "      <th>4</th>\n",
       "      <td>-0.408652</td>\n",
       "      <td>0.737125</td>\n",
       "      <td>0.527140</td>\n",
       "      <td>-0.464063</td>\n",
       "      <td>-0.468427</td>\n",
       "      <td>-0.368596</td>\n",
       "      <td>-1.128895</td>\n",
       "      <td>-2.010857</td>\n",
       "    </tr>\n",
       "  </tbody>\n",
       "</table>\n",
       "</div>"
      ],
      "text/plain": [
       "     Pclass       Sex  Age_clean     SibSp     Parch      Fare     Cabin  \\\n",
       "0 -1.620987 -1.356623   0.031883  0.325139 -0.468427  1.047786 -1.239700   \n",
       "1 -1.620987  0.737125   1.273851 -0.464063 -0.468427 -0.078274 -2.070731   \n",
       "2  0.803682  0.737125   0.031883 -0.464063 -0.468427 -0.463821  0.450064   \n",
       "3 -0.408652 -1.356623  -0.416075  0.325139 -0.468427 -0.124726  0.450064   \n",
       "4 -0.408652  0.737125   0.527140 -0.464063 -0.468427 -0.368596 -1.128895   \n",
       "\n",
       "   Embarked  \n",
       "0 -2.010857  \n",
       "1  0.573494  \n",
       "2 -0.718682  \n",
       "3  0.573494  \n",
       "4 -2.010857  "
      ]
     },
     "execution_count": 22,
     "metadata": {},
     "output_type": "execute_result"
    }
   ],
   "source": [
    "from sklearn.metrics import accuracy_score, precision_score, recall_score\n",
    "from time import time\n",
    "\n",
    "val_features_raw = pd.read_csv('data/val_features_raw.csv')\n",
    "val_features_original = pd.read_csv('data/val_features_original.csv')\n",
    "val_features_all = pd.read_csv('data/val_features_all.csv')\n",
    "val_features_reduced = pd.read_csv('data/val_features_reduced.csv')\n",
    "\n",
    "val_labels = pd.read_csv('data/val_labels.csv', header=None)\n",
    "\n",
    "val_features_raw.head()"
   ]
  },
  {
   "cell_type": "markdown",
   "metadata": {},
   "source": [
    "### Read In Models"
   ]
  },
  {
   "cell_type": "code",
   "execution_count": 23,
   "metadata": {},
   "outputs": [],
   "source": [
    "# Read in models\n",
    "models = {}\n",
    "\n",
    "for mdl in ['raw_original', 'cleaned_original', 'all', 'reduced']:\n",
    "    models[mdl] = joblib.load('mdl_{}_features.pkl'.format(mdl))"
   ]
  },
  {
   "cell_type": "markdown",
   "metadata": {},
   "source": [
    "### Evaluate Models On The Validation Set\n",
    "\n",
    "We have a function called evaluate model that's going to help us evaluate these models on the validation and the test set. And this function accepts the following arguments. The name of the model, the model object itself, the features for either the validation or the test set, and the labels for either the validation or the test set. So now we're going to be using this time method that just stores the time when the given command was run. So between start and end, we're going to ask the model to make a prediction on all of the examples in the validation or the test set. So again, this will store the time immediately before and immediately after those predictions are made. So then we'll be able to calculate how long it took to make those predictions."
   ]
  },
  {
   "cell_type": "code",
   "execution_count": 24,
   "metadata": {},
   "outputs": [],
   "source": [
    "def evaluate_model(name, model, features, labels):\n",
    "    start = time()\n",
    "    pred = model.predict(features)\n",
    "    end = time()\n",
    "    accuracy = round(accuracy_score(labels, pred), 3)\n",
    "    precision = round(precision_score(labels, pred), 3)\n",
    "    recall = round(recall_score(labels, pred), 3)\n",
    "    print('{} -- \\tAccuracy: {} / Precision: {} / Recall: {} / Latency: {}ms'.format(name,\n",
    "                                                                                     accuracy,\n",
    "                                                                                     precision,\n",
    "                                                                                     recall,\n",
    "                                                                                     round((end - start)*1000, 1)))"
   ]
  },
  {
   "cell_type": "code",
   "execution_count": 25,
   "metadata": {},
   "outputs": [
    {
     "name": "stdout",
     "output_type": "stream",
     "text": [
      "Raw Features -- \tAccuracy: 0.815 / Precision: 0.808 / Recall: 0.646 / Latency: 24.9ms\n",
      "Cleaned Features -- \tAccuracy: 0.792 / Precision: 0.769 / Recall: 0.615 / Latency: 6.0ms\n",
      "All Features -- \tAccuracy: 0.809 / Precision: 0.782 / Recall: 0.662 / Latency: 4.0ms\n",
      "Reduced Features -- \tAccuracy: 0.809 / Precision: 0.816 / Recall: 0.615 / Latency: 2.0ms\n"
     ]
    }
   ],
   "source": [
    "# Evaluate all of our models on the validation set\n",
    "evaluate_model('Raw Features', models['raw_original'], val_features_raw, val_labels)\n",
    "evaluate_model('Cleaned Features', models['cleaned_original'], val_features_original, val_labels)\n",
    "evaluate_model('All Features', models['all'], val_features_all, val_labels)\n",
    "evaluate_model('Reduced Features', models['reduced'], val_features_reduced, val_labels)"
   ]
  },
  {
   "cell_type": "markdown",
   "metadata": {},
   "source": [
    "### How do we balance precision and recall, and then how do we weigh latency against performance?\n",
    "\n",
    "**Precision and Recall trade off** - Which model you would choose or which metric you would favor really comes down to the problem you're trying to solve or the business use case. For instance, for spam detector, we would want to optimize for precision. In other words, if the model says it's spam, it better be spam or else it would be blocking real emails that people want to see. On the other side, if this is a fraud detection model, you're likely to optimize for recall because missing one of those fraudulent transactions could cost thousands or tens of thousands of dollars. \n",
    "\n",
    "**Overall Accuracy and Latency** - It's a little bit easier in my case because the best performing model has the best latency. So right way, we can pretty much eliminate the model built on raw features. Now accuracy and precision of cleaned features is less than all features and reduced features. So we cn safely eliminated the cleaned features model too.  \n",
    "\n",
    "Now we have all features and reduced features and accuracy is same for both, precision is higher for reduced and recall is higher for all features. And so the performance is comparable. Now in this case we will choose the model with lower latency. But again, this comes down to the business use case. It could be that Latency of all features was less than reduced features and then we would have chosen that may be.\n",
    "\n",
    "Sometimes a couple of milliseconds makes a huge difference. For instance, in a case like fraud detection, a couple milliseconds makes a huge difference. So it really depends on the use case. If we're deploying this in a real time environment where prediction speed was critical, we would probably make that small trade off of model performance, and we would deploy the model built on reduced features because it's quite a bit faster. \n",
    "\n",
    "So let's just go with the model built on reduced features.  \n"
   ]
  },
  {
   "cell_type": "markdown",
   "metadata": {},
   "source": [
    "### Evaluate Best Model On Test Set\n",
    "\n",
    "Now, just as a reminder, we should see performance that aligns fairly closely with the validation set. The reason we evaluate on the validation set and the test set is because we used performance on the validation set to select our best model. So in a sense, the validation set played a role in our model selection process. So this test set was not used for any model selection. So it's a completely unbiased view of how we can expect this model to perform moving forward. Ideally, we're just looking for performance that is relatively close to what we saw in the validation set. "
   ]
  },
  {
   "cell_type": "code",
   "execution_count": 30,
   "metadata": {},
   "outputs": [],
   "source": [
    "# Read in our test features\n",
    "test_features = pd.read_csv('data/test_features_reduced.csv')\n",
    "test_labels = pd.read_csv('data/test_labels.csv', header=None)"
   ]
  },
  {
   "cell_type": "code",
   "execution_count": 31,
   "metadata": {},
   "outputs": [
    {
     "name": "stdout",
     "output_type": "stream",
     "text": [
      "Reduced Features -- \tAccuracy: 0.788 / Precision: 0.817 / Recall: 0.645 / Latency: 3.0ms\n"
     ]
    }
   ],
   "source": [
    "# Evaluate our final model on the test set\n",
    "evaluate_model('Reduced Features', models['reduced'], test_features, test_labels)"
   ]
  },
  {
   "cell_type": "markdown",
   "metadata": {},
   "source": [
    "**Observation:** we can see that the model performance is relatively close. Now compared to validation results, Accuracy dropped a little bit, latency went up a little bit, but precision and recall improved slightly. \n",
    "\n",
    "So now we have a great feel for the likely performance of this model on new data. And we can be confident in proposing this model as the best model for making predictions on whether people aboard the Titanic would survive or not. This skill set you've learned today can now be generalized to any feature set to allow you to extract every last ounce of value out of the features in order to build a powerful machine learning model. "
   ]
  },
  {
   "cell_type": "code",
   "execution_count": null,
   "metadata": {},
   "outputs": [],
   "source": []
  }
 ],
 "metadata": {
  "kernelspec": {
   "display_name": "Python 3",
   "language": "python",
   "name": "python3"
  },
  "language_info": {
   "codemirror_mode": {
    "name": "ipython",
    "version": 3
   },
   "file_extension": ".py",
   "mimetype": "text/x-python",
   "name": "python",
   "nbconvert_exporter": "python",
   "pygments_lexer": "ipython3",
   "version": "3.7.3"
  }
 },
 "nbformat": 4,
 "nbformat_minor": 2
}
