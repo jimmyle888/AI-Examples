{
 "cells": [
  {
   "cell_type": "code",
   "execution_count": 1,
   "metadata": {},
   "outputs": [],
   "source": [
    "import tensorflow as tf\n",
    "from tensorflow.keras.models import Sequential\n",
    "from tensorflow.keras.layers import Flatten, Dense, Dropout\n",
    "mnist = tf.keras.datasets.mnist\n",
    "\n",
    "#We can see it was very cumbersome to write the code for multiple layers\n",
    "#So let's use some higher level APIs\n",
    "#Works on top of tensorflow \n"
   ]
  },
  {
   "cell_type": "code",
   "execution_count": 2,
   "metadata": {},
   "outputs": [],
   "source": [
    "(x_train, y_train),(x_test, y_test) = mnist.load_data() #Fetch the data, Returns 4 maticies\n",
    "x_train, x_test = x_train / 255.0, x_test / 255.0 #Normalize the data so that its between zero and 1"
   ]
  },
  {
   "cell_type": "code",
   "execution_count": 3,
   "metadata": {},
   "outputs": [
    {
     "data": {
      "text/plain": [
       "(60000, 28, 28)"
      ]
     },
     "execution_count": 3,
     "metadata": {},
     "output_type": "execute_result"
    }
   ],
   "source": [
    "x_train.shape"
   ]
  },
  {
   "cell_type": "code",
   "execution_count": 4,
   "metadata": {},
   "outputs": [
    {
     "data": {
      "text/plain": [
       "(10000, 28, 28)"
      ]
     },
     "execution_count": 4,
     "metadata": {},
     "output_type": "execute_result"
    }
   ],
   "source": [
    "x_test.shape"
   ]
  },
  {
   "cell_type": "code",
   "execution_count": 5,
   "metadata": {},
   "outputs": [],
   "source": [
    "model = Sequential([\n",
    "  Flatten(input_shape=(28, 28)),\n",
    "  Dense(512, activation=tf.nn.relu),\n",
    "  Dense(200, activation=tf.nn.relu),\n",
    "  Dense(100, activation=tf.nn.relu),\n",
    "  Dense(10, activation=tf.nn.softmax)\n",
    "])\n",
    "\n",
    "#We create our model with this format\n",
    "#We specify how many neuros we want and how many layers we want\n",
    "#We add layers with each line of code\n",
    "#We use the sequential model here which is the most popular model\n",
    "#We flatten first\n",
    "#Then we create a layer of 512 neurons and use Dense, and specify the activation function we want to use\n",
    "#We pass in neurons and the activation function\n",
    "#Eventually we reach an output layer\n",
    "#    The last layer has to be equal to the number of classes (as this is a classification problem)\n",
    "#    Should be 10 neurons\n",
    "#    Has to be softmax"
   ]
  },
  {
   "cell_type": "code",
   "execution_count": 6,
   "metadata": {},
   "outputs": [],
   "source": [
    "#Now we train the model, here we use adam optimizer\n",
    "#We use crossentropy for loss\n",
    "#We want to display the accuracy while training\n",
    "model.compile(optimizer='adam',\n",
    "              loss='sparse_categorical_crossentropy',\n",
    "              metrics=['accuracy'])"
   ]
  },
  {
   "cell_type": "code",
   "execution_count": 7,
   "metadata": {},
   "outputs": [
    {
     "name": "stdout",
     "output_type": "stream",
     "text": [
      "1875/1875 [==============================] - 9s 4ms/step - loss: 0.3665 - accuracy: 0.8887\n"
     ]
    },
    {
     "data": {
      "text/plain": [
       "<tensorflow.python.keras.callbacks.History at 0x1b3ae37ce80>"
      ]
     },
     "execution_count": 7,
     "metadata": {},
     "output_type": "execute_result"
    }
   ],
   "source": [
    "model.fit(x_train, y_train, epochs=1)\n",
    "\n",
    "#We call the method fit and takes the training dataset and take in features and labels and epochs respectively\n",
    "#If we have 50 000 data points through the model, and we pass all 50 000 data points, that is ONE epoch\n",
    "#If we pass it 10 times, that is 10 epochs\n",
    "#Only for training we use epochs\n",
    "#For tests, we do not use epochs because tests are run only once\n",
    "#Instead we use evaluate as shown below"
   ]
  },
  {
   "cell_type": "code",
   "execution_count": 8,
   "metadata": {},
   "outputs": [
    {
     "name": "stdout",
     "output_type": "stream",
     "text": [
      "313/313 [==============================] - 1s 2ms/step - loss: 0.1085 - accuracy: 0.9694\n"
     ]
    },
    {
     "data": {
      "text/plain": [
       "[0.10845836251974106, 0.9693999886512756]"
      ]
     },
     "execution_count": 8,
     "metadata": {},
     "output_type": "execute_result"
    }
   ],
   "source": [
    "model.evaluate(x_test, y_test)"
   ]
  }
 ],
 "metadata": {
  "kernelspec": {
   "display_name": "Python 3.9.12 ('base')",
   "language": "python",
   "name": "python3"
  },
  "language_info": {
   "codemirror_mode": {
    "name": "ipython",
    "version": 3
   },
   "file_extension": ".py",
   "mimetype": "text/x-python",
   "name": "python",
   "nbconvert_exporter": "python",
   "pygments_lexer": "ipython3",
   "version": "3.9.12"
  },
  "vscode": {
   "interpreter": {
    "hash": "dee62c98ecce6d9e3f7050f7a877855f7ec76bf0aefa9b635119678c508ba6bf"
   }
  }
 },
 "nbformat": 4,
 "nbformat_minor": 2
}
