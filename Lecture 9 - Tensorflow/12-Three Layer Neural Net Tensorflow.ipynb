{
 "cells": [
  {
   "cell_type": "markdown",
   "metadata": {},
   "source": [
    "### Three Layer Neural Net Tensorflow using Low Level API"
   ]
  },
  {
   "cell_type": "code",
   "execution_count": 1,
   "metadata": {},
   "outputs": [],
   "source": [
    "import tensorflow as tf \n",
    "from tensorflow.keras.datasets import mnist #We use mnist dataset packaged with tensorflow\n",
    "(x_train, y_train), (x_test, y_test) = mnist.load_data()"
   ]
  },
  {
   "cell_type": "code",
   "execution_count": 2,
   "metadata": {},
   "outputs": [],
   "source": [
    "# Python optimisation variables\n",
    "#Note: These are simple python variables\n",
    "epochs = 10\n",
    "# normalize the input images by dividing by 255.0\n",
    "x_train = x_train / 255.0\n",
    "x_test = x_test / 255.0\n",
    "\n",
    "#IMPORTANT!!: Input data should always be scaled as large uncontrolled data can heavily impact the training process\n",
    "\n",
    "# convert x_test to tensor to pass through model (train data will be converted to\n",
    "# tensors on the fly)\n",
    "x_test = tf.Variable(x_test)"
   ]
  },
  {
   "cell_type": "code",
   "execution_count": 3,
   "metadata": {},
   "outputs": [],
   "source": [
    "#There are always l-1 layers of bias? layers\n",
    "# now declare the weights connecting the input to the hidden layer\n",
    "W1 = tf.Variable(tf.random.normal([784, 300], stddev=0.03), name='W1')\n",
    "b1 = tf.Variable(tf.random.normal([300]), name='b1')\n",
    "# and the weights connecting the hidden layer to the output layer\n",
    "W2 = tf.Variable(tf.random.normal([300, 10], stddev=0.03), name='W2')\n",
    "b2 = tf.Variable(tf.random.normal([10]), name='b2')"
   ]
  },
  {
   "cell_type": "code",
   "execution_count": 4,
   "metadata": {},
   "outputs": [],
   "source": [
    "#The next step is to create the computations in each node\n",
    "#These calculations include the forward pass of data through the neural network\n",
    "#Images are flattened to 28x28 to bat size 784, i.e., flattened\n",
    "#Cast function is useful for a matrix multiplication\n",
    "def nn_model(x_input, W1, b1, W2, b2):\n",
    "    # flatten the input image from 28 x 28 to 784\n",
    "    x_input = tf.reshape(x_input, (x_input.shape[0], -1))\n",
    "    x = tf.add(tf.matmul(tf.cast(x_input, tf.float32), W1), b1)\n",
    "    x = tf.nn.relu(x)\n",
    "    logits = tf.add(tf.matmul(x, W2), b2) #Multiplied by weight and bias \n",
    "    return logits #Logits refers to the unchanged output of a layer of nodes"
   ]
  },
  {
   "cell_type": "code",
   "execution_count": 5,
   "metadata": {},
   "outputs": [],
   "source": [
    "#Cross entropy is important as it applies a softmax activation function to the logits, which transforms then into a positive probability\n",
    "#Sum of the nodes equals to one\n",
    "#This is a common activation function for an output layer in classification tasks\n",
    "def loss_fn(logits, labels):\n",
    "    cross_entropy = tf.reduce_mean(tf.nn.softmax_cross_entropy_with_logits(labels=labels,\n",
    "                                                                              logits=logits))\n",
    "    return cross_entropy\n",
    "#Cross_entropy is commonly used for classification tasks\n",
    "#The main function of a loss function is the naub training loop which will be shown soon\n",
    "#To train weights of the neural network, the average cross entropy loss needs to be minimized as part of the optimization process\n",
    "#Calculated by using the reduce_mean function, which unsurprisingly calculates the mean of the tensors supplied to it"
   ]
  },
  {
   "cell_type": "code",
   "execution_count": 6,
   "metadata": {},
   "outputs": [],
   "source": [
    "# setup the optimizer\n",
    "optimizer = tf.keras.optimizers.Adam() #Adam optimizer is versatile\n",
    "\n",
    "#Time to define the training group!"
   ]
  },
  {
   "cell_type": "code",
   "execution_count": 7,
   "metadata": {},
   "outputs": [
    {
     "name": "stdout",
     "output_type": "stream",
     "text": [
      "Epoch: 1, loss=0.323, test set      accuracy=11.350%\n",
      "Epoch: 2, loss=0.293, test set      accuracy=11.420%\n",
      "Epoch: 3, loss=0.269, test set      accuracy=13.520%\n",
      "Epoch: 4, loss=0.250, test set      accuracy=19.770%\n",
      "Epoch: 5, loss=0.235, test set      accuracy=30.140%\n",
      "Epoch: 6, loss=0.223, test set      accuracy=39.490%\n",
      "Epoch: 7, loss=0.213, test set      accuracy=46.720%\n",
      "Epoch: 8, loss=0.205, test set      accuracy=51.860%\n",
      "Epoch: 9, loss=0.198, test set      accuracy=53.810%\n",
      "Epoch: 10, loss=0.192, test set      accuracy=57.330%\n",
      "\n",
      "Training complete!\n"
     ]
    }
   ],
   "source": [
    "import numpy as np\n",
    "#A loop for each training epoch\n",
    "#For each training epoch, an average loss variable is initilized to keep the average loss variable is initilized\n",
    "#    to keep track of average loss for each epoch\n",
    "#Numpy variables are converted to tensorflow variables\n",
    "#The label data stored as y simple integers have to be converted to one_hot format\n",
    "#    The first arg is the tensor to convert, and after is the number of distinct classes\n",
    "#The tape gradient is introducedm but in eager mode all tensor calculations are performed on the fly\n",
    "#Tensorflow does not know which variables and operations we are interested in for calculating gradients for\n",
    "#For whatever gradients we want to calculate, we supply to the gradient tape method\n",
    "#   This involves the evaluation of a forward pass\n",
    "for epoch in range(epochs):\n",
    "    avg_loss = 0\n",
    "    # create tensors\n",
    "    x = tf.Variable(x_train)\n",
    "    y = tf.Variable(y_train)\n",
    "    # create a one hot vector\n",
    "    y = tf.one_hot(y, 10)\n",
    "    with tf.GradientTape() as tape:\n",
    "        logits = nn_model(x, W1, b1, W2, b2)\n",
    "        loss = loss_fn(logits, y)\n",
    "    gradients = tape.gradient(loss, [W1, b1, W2, b2]) #First arg is loss output, and the 2nd arg is the list of all weights and bias vars in the neural network\n",
    "    optimizer.apply_gradients(zip(gradients, [W1, b1, W2, b2])) #Passed to the optimizer and applys gradients\n",
    "    avg_loss += loss / epochs\n",
    "    test_logits = nn_model(x_test, W1, b1, W2, b2) #To determine accuracy, we retrieve the logits\n",
    "    max_idxs = tf.argmax(test_logits, axis=1) #The highest logit value is constitues the digit prediction of the model\n",
    "    test_acc = np.sum(max_idxs.numpy() == y_test) / len(y_test) #Convert to numpy array\n",
    "    print(f\"Epoch: {epoch + 1}, loss={avg_loss:.3f}, test set      accuracy={test_acc*100:.3f}%\")\n",
    "\n",
    "print(\"\\nTraining complete!\")"
   ]
  },
  {
   "cell_type": "code",
   "execution_count": null,
   "metadata": {},
   "outputs": [],
   "source": []
  }
 ],
 "metadata": {
  "kernelspec": {
   "display_name": "Python 3.9.12 ('base')",
   "language": "python",
   "name": "python3"
  },
  "language_info": {
   "codemirror_mode": {
    "name": "ipython",
    "version": 3
   },
   "file_extension": ".py",
   "mimetype": "text/x-python",
   "name": "python",
   "nbconvert_exporter": "python",
   "pygments_lexer": "ipython3",
   "version": "3.9.12"
  },
  "vscode": {
   "interpreter": {
    "hash": "dee62c98ecce6d9e3f7050f7a877855f7ec76bf0aefa9b635119678c508ba6bf"
   }
  }
 },
 "nbformat": 4,
 "nbformat_minor": 2
}
