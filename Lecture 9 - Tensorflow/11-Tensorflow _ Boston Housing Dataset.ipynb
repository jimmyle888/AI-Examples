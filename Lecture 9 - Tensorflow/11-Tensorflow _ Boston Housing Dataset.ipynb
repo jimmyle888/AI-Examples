{
 "cells": [
  {
   "cell_type": "markdown",
   "metadata": {},
   "source": [
    "## Linear Regression on Boston Housing Dataset using Tensorflow "
   ]
  },
  {
   "cell_type": "markdown",
   "metadata": {},
   "source": [
    "\n",
    "**Tensorflow APIs**\n",
    "-  In low level api we Build the architecture and perform the optimization of the model from scratch. It is complicated to do so for a beginner. \n",
    "\n",
    "- Then we have the High-level API in which we just Define the algorithm. It is easy and user-friendly. TensorFlow provides a toolbox called estimator to construct, train, evaluate and make a prediction. \n",
    "\n",
    "**Linear Regression** is an approach in statistics for modelling relationships between two variables.\n",
    "\n",
    "<img src=img0.png>\n",
    "\n",
    "We can see a linear relation above.\n",
    "\n",
    "A linear regression is evaluated with an equation: $y = {\\beta} + {\\alpha} X + \\epsilon $ (One dependant variable)\n",
    "\n",
    "Now here  Beta is the bias. i.e. if x=0, y=$\\beta$. Alpha is the weight associated to x and Epsilon is the residual or the error of the model, It includes what the model cannot learn from the data. \n",
    "\n",
    "Now Imagine we fit the model and we find the following solution for: \n",
    "\n",
    " $\\beta= 3.8$ and $\\alpha = 2.78$\n",
    "\n",
    "We can substitute those numbers in the equation and it becomes: y= 3.8 + 2.78x \n",
    "\n",
    "<img src=img1.png>\n",
    "\n",
    "Linear regression compares the change of variable y for a change in x.\n",
    "\n",
    "Let's see an example. Imagine we want to predict the sales of an ice cream shop. The dataset contains different information such as the weather (i.e rainy, sunny, cloudy), customer informations (i.e salary, gender, marital status) \n",
    "\n",
    "If you use linear regression, you can write this equation: \n",
    "\n",
    "$sales = {\\beta} + {\\alpha_{1}} weather + {\\alpha_{2}} salary + {\\alpha_{3}} gender + {\\alpha_{4}} marital + \\epsilon $\n",
    "\n",
    "Linear Regression algorithm will find the best solution for the weights; it means it will try to minimize the cost (the difference between the fitted line and the data points) (We start with random initial values). (See image)\n",
    "\n",
    "We can compute the error, that is noted by epsilon of the model, which is the difference between the predicted value and the real value.\n",
    "\n",
    "Our goal is to minimize the square of the error. The algorithm computes the mean of the square error. And this step is called minimization of the error. For linear regression this error is called the **Mean Square Error**, also called MSE. Mathematically, it is: \n",
    "\n",
    "$MSE(X) = \\frac{1}{m} {\\sum \\limits _{i=1} ^{m}} ({\\theta^{T}}x^{i}-y^{i})^2 $\n",
    "\n",
    "The goal is to find the best ${\\theta}$  that minimize the MSE.\n",
    "\n",
    "If the average error is large, it means the model performs poorly and the weights are not chosen properly. To correct the weights, you need to use an optimizer. The traditional optimizer is called Gradient Descent. \n",
    "\n",
    "The **Gradient Descent** takes the derivative and decreases or increases the weight. If the derivative is positive, the weight is decreased. If the derivative is negative, the weight increases. The model will update the weights and recompute the error. This process is repeated until the error does not change anymore. Each process is called an iteration. Besides, the gradients are multiplied by a learning rate and the learning rate indicates the speed of learning. \n",
    "\n",
    "If the learning rate is too small, it will take very long time for the algorithm to converge (i.e requires lots of iterations). If the learning rate is too high, the algorithm might never converge. \n",
    "\n",
    "<img src=img3.png>\n",
    "\n",
    "<img src=img6.png height=600 width=600>\n",
    "\n",
    "\n",
    "\n",
    "So, you can see from the aboce image, the model repeats the process about 20 times before to find a stable value for the weights, and then it reaches the lowest error. \n",
    "\n",
    "Note that, the error is not equal to zero but stabilizes around y=2. It means, the model makes a typical error of 2. If you want to reduce the error, you need to add more information to the model such as more variables or use different estimators. \n",
    "\n",
    "The final weights are 3.8 and 2.78. In the below gif we see how the gradient descent optimize the loss function to find this weights \n",
    "\n",
    "<img src=img4.gif height=400 width=400>\n",
    "\n",
    "\n"
   ]
  },
  {
   "cell_type": "code",
   "execution_count": 1,
   "metadata": {},
   "outputs": [],
   "source": [
    "#Normally we have to go through a tedious process to fit linear regression to this \n",
    "#Let's see how tensorflow's high level api can help us out\n",
    "import pandas as pd\n",
    "import numpy as np\n",
    "import tensorflow as tf\n",
    "import itertools\n",
    "from sklearn.metrics import mean_squared_error\n",
    "import matplotlib.pyplot as plt\n",
    "\n",
    "# Load the TensorBoard notebook extension\n",
    "%load_ext tensorboard"
   ]
  },
  {
   "cell_type": "code",
   "execution_count": 2,
   "metadata": {},
   "outputs": [],
   "source": [
    "#read the csv files\n",
    "train = pd.read_csv(\"boston_train.csv\")\n",
    "test = pd.read_csv(\"boston_test.csv\")"
   ]
  },
  {
   "cell_type": "code",
   "execution_count": 3,
   "metadata": {},
   "outputs": [
    {
     "name": "stdout",
     "output_type": "stream",
     "text": [
      "(400, 10) (100, 10)\n"
     ]
    }
   ],
   "source": [
    "#print the shape of train and test data\n",
    "print(train.shape, test.shape)"
   ]
  },
  {
   "cell_type": "code",
   "execution_count": 4,
   "metadata": {},
   "outputs": [
    {
     "data": {
      "text/html": [
       "<div>\n",
       "<style scoped>\n",
       "    .dataframe tbody tr th:only-of-type {\n",
       "        vertical-align: middle;\n",
       "    }\n",
       "\n",
       "    .dataframe tbody tr th {\n",
       "        vertical-align: top;\n",
       "    }\n",
       "\n",
       "    .dataframe thead th {\n",
       "        text-align: right;\n",
       "    }\n",
       "</style>\n",
       "<table border=\"1\" class=\"dataframe\">\n",
       "  <thead>\n",
       "    <tr style=\"text-align: right;\">\n",
       "      <th></th>\n",
       "      <th>CRIM</th>\n",
       "      <th>ZN</th>\n",
       "      <th>INDUS</th>\n",
       "      <th>NOX</th>\n",
       "      <th>RM</th>\n",
       "      <th>AGE</th>\n",
       "      <th>DIS</th>\n",
       "      <th>TAX</th>\n",
       "      <th>PTRATIO</th>\n",
       "      <th>MEDV</th>\n",
       "    </tr>\n",
       "  </thead>\n",
       "  <tbody>\n",
       "    <tr>\n",
       "      <th>0</th>\n",
       "      <td>2.30040</td>\n",
       "      <td>0.0</td>\n",
       "      <td>19.58</td>\n",
       "      <td>0.605</td>\n",
       "      <td>6.319</td>\n",
       "      <td>96.1</td>\n",
       "      <td>2.1000</td>\n",
       "      <td>403</td>\n",
       "      <td>14.7</td>\n",
       "      <td>23.8</td>\n",
       "    </tr>\n",
       "    <tr>\n",
       "      <th>1</th>\n",
       "      <td>13.35980</td>\n",
       "      <td>0.0</td>\n",
       "      <td>18.10</td>\n",
       "      <td>0.693</td>\n",
       "      <td>5.887</td>\n",
       "      <td>94.7</td>\n",
       "      <td>1.7821</td>\n",
       "      <td>666</td>\n",
       "      <td>20.2</td>\n",
       "      <td>12.7</td>\n",
       "    </tr>\n",
       "    <tr>\n",
       "      <th>2</th>\n",
       "      <td>0.12744</td>\n",
       "      <td>0.0</td>\n",
       "      <td>6.91</td>\n",
       "      <td>0.448</td>\n",
       "      <td>6.770</td>\n",
       "      <td>2.9</td>\n",
       "      <td>5.7209</td>\n",
       "      <td>233</td>\n",
       "      <td>17.9</td>\n",
       "      <td>26.6</td>\n",
       "    </tr>\n",
       "    <tr>\n",
       "      <th>3</th>\n",
       "      <td>0.15876</td>\n",
       "      <td>0.0</td>\n",
       "      <td>10.81</td>\n",
       "      <td>0.413</td>\n",
       "      <td>5.961</td>\n",
       "      <td>17.5</td>\n",
       "      <td>5.2873</td>\n",
       "      <td>305</td>\n",
       "      <td>19.2</td>\n",
       "      <td>21.7</td>\n",
       "    </tr>\n",
       "    <tr>\n",
       "      <th>4</th>\n",
       "      <td>0.03768</td>\n",
       "      <td>80.0</td>\n",
       "      <td>1.52</td>\n",
       "      <td>0.404</td>\n",
       "      <td>7.274</td>\n",
       "      <td>38.3</td>\n",
       "      <td>7.3090</td>\n",
       "      <td>329</td>\n",
       "      <td>12.6</td>\n",
       "      <td>34.6</td>\n",
       "    </tr>\n",
       "  </tbody>\n",
       "</table>\n",
       "</div>"
      ],
      "text/plain": [
       "       CRIM    ZN  INDUS    NOX     RM   AGE     DIS  TAX  PTRATIO  MEDV\n",
       "0   2.30040   0.0  19.58  0.605  6.319  96.1  2.1000  403     14.7  23.8\n",
       "1  13.35980   0.0  18.10  0.693  5.887  94.7  1.7821  666     20.2  12.7\n",
       "2   0.12744   0.0   6.91  0.448  6.770   2.9  5.7209  233     17.9  26.6\n",
       "3   0.15876   0.0  10.81  0.413  5.961  17.5  5.2873  305     19.2  21.7\n",
       "4   0.03768  80.0   1.52  0.404  7.274  38.3  7.3090  329     12.6  34.6"
      ]
     },
     "execution_count": 4,
     "metadata": {},
     "output_type": "execute_result"
    }
   ],
   "source": [
    "train.head()"
   ]
  },
  {
   "cell_type": "code",
   "execution_count": 5,
   "metadata": {},
   "outputs": [
    {
     "data": {
      "text/html": [
       "<div>\n",
       "<style scoped>\n",
       "    .dataframe tbody tr th:only-of-type {\n",
       "        vertical-align: middle;\n",
       "    }\n",
       "\n",
       "    .dataframe tbody tr th {\n",
       "        vertical-align: top;\n",
       "    }\n",
       "\n",
       "    .dataframe thead th {\n",
       "        text-align: right;\n",
       "    }\n",
       "</style>\n",
       "<table border=\"1\" class=\"dataframe\">\n",
       "  <thead>\n",
       "    <tr style=\"text-align: right;\">\n",
       "      <th></th>\n",
       "      <th>CRIM</th>\n",
       "      <th>ZN</th>\n",
       "      <th>INDUS</th>\n",
       "      <th>NOX</th>\n",
       "      <th>RM</th>\n",
       "      <th>AGE</th>\n",
       "      <th>DIS</th>\n",
       "      <th>TAX</th>\n",
       "      <th>PTRATIO</th>\n",
       "      <th>MEDV</th>\n",
       "    </tr>\n",
       "  </thead>\n",
       "  <tbody>\n",
       "    <tr>\n",
       "      <th>0</th>\n",
       "      <td>0.13587</td>\n",
       "      <td>0.0</td>\n",
       "      <td>10.59</td>\n",
       "      <td>0.489</td>\n",
       "      <td>6.064</td>\n",
       "      <td>59.1</td>\n",
       "      <td>4.2392</td>\n",
       "      <td>277</td>\n",
       "      <td>18.6</td>\n",
       "      <td>24.4</td>\n",
       "    </tr>\n",
       "    <tr>\n",
       "      <th>1</th>\n",
       "      <td>0.08664</td>\n",
       "      <td>45.0</td>\n",
       "      <td>3.44</td>\n",
       "      <td>0.437</td>\n",
       "      <td>7.178</td>\n",
       "      <td>26.3</td>\n",
       "      <td>6.4798</td>\n",
       "      <td>398</td>\n",
       "      <td>15.2</td>\n",
       "      <td>36.4</td>\n",
       "    </tr>\n",
       "    <tr>\n",
       "      <th>2</th>\n",
       "      <td>0.26938</td>\n",
       "      <td>0.0</td>\n",
       "      <td>9.90</td>\n",
       "      <td>0.544</td>\n",
       "      <td>6.266</td>\n",
       "      <td>82.8</td>\n",
       "      <td>3.2628</td>\n",
       "      <td>304</td>\n",
       "      <td>18.4</td>\n",
       "      <td>21.6</td>\n",
       "    </tr>\n",
       "    <tr>\n",
       "      <th>3</th>\n",
       "      <td>0.05302</td>\n",
       "      <td>0.0</td>\n",
       "      <td>3.41</td>\n",
       "      <td>0.489</td>\n",
       "      <td>7.079</td>\n",
       "      <td>63.1</td>\n",
       "      <td>3.4145</td>\n",
       "      <td>270</td>\n",
       "      <td>17.8</td>\n",
       "      <td>28.7</td>\n",
       "    </tr>\n",
       "    <tr>\n",
       "      <th>4</th>\n",
       "      <td>0.06860</td>\n",
       "      <td>0.0</td>\n",
       "      <td>2.89</td>\n",
       "      <td>0.445</td>\n",
       "      <td>7.416</td>\n",
       "      <td>62.5</td>\n",
       "      <td>3.4952</td>\n",
       "      <td>276</td>\n",
       "      <td>18.0</td>\n",
       "      <td>33.2</td>\n",
       "    </tr>\n",
       "  </tbody>\n",
       "</table>\n",
       "</div>"
      ],
      "text/plain": [
       "      CRIM    ZN  INDUS    NOX     RM   AGE     DIS  TAX  PTRATIO  MEDV\n",
       "0  0.13587   0.0  10.59  0.489  6.064  59.1  4.2392  277     18.6  24.4\n",
       "1  0.08664  45.0   3.44  0.437  7.178  26.3  6.4798  398     15.2  36.4\n",
       "2  0.26938   0.0   9.90  0.544  6.266  82.8  3.2628  304     18.4  21.6\n",
       "3  0.05302   0.0   3.41  0.489  7.079  63.1  3.4145  270     17.8  28.7\n",
       "4  0.06860   0.0   2.89  0.445  7.416  62.5  3.4952  276     18.0  33.2"
      ]
     },
     "execution_count": 5,
     "metadata": {},
     "output_type": "execute_result"
    }
   ],
   "source": [
    "test.head()"
   ]
  },
  {
   "cell_type": "code",
   "execution_count": 6,
   "metadata": {},
   "outputs": [
    {
     "data": {
      "text/html": [
       "<div>\n",
       "<style scoped>\n",
       "    .dataframe tbody tr th:only-of-type {\n",
       "        vertical-align: middle;\n",
       "    }\n",
       "\n",
       "    .dataframe tbody tr th {\n",
       "        vertical-align: top;\n",
       "    }\n",
       "\n",
       "    .dataframe thead th {\n",
       "        text-align: right;\n",
       "    }\n",
       "</style>\n",
       "<table border=\"1\" class=\"dataframe\">\n",
       "  <thead>\n",
       "    <tr style=\"text-align: right;\">\n",
       "      <th></th>\n",
       "      <th>CRIM</th>\n",
       "      <th>ZN</th>\n",
       "      <th>INDUS</th>\n",
       "      <th>NOX</th>\n",
       "      <th>RM</th>\n",
       "      <th>AGE</th>\n",
       "      <th>DIS</th>\n",
       "      <th>TAX</th>\n",
       "      <th>PTRATIO</th>\n",
       "    </tr>\n",
       "  </thead>\n",
       "  <tbody>\n",
       "    <tr>\n",
       "      <th>0</th>\n",
       "      <td>2.30040</td>\n",
       "      <td>0.0</td>\n",
       "      <td>19.58</td>\n",
       "      <td>0.605</td>\n",
       "      <td>6.319</td>\n",
       "      <td>96.1</td>\n",
       "      <td>2.1000</td>\n",
       "      <td>403</td>\n",
       "      <td>14.7</td>\n",
       "    </tr>\n",
       "    <tr>\n",
       "      <th>1</th>\n",
       "      <td>13.35980</td>\n",
       "      <td>0.0</td>\n",
       "      <td>18.10</td>\n",
       "      <td>0.693</td>\n",
       "      <td>5.887</td>\n",
       "      <td>94.7</td>\n",
       "      <td>1.7821</td>\n",
       "      <td>666</td>\n",
       "      <td>20.2</td>\n",
       "    </tr>\n",
       "    <tr>\n",
       "      <th>2</th>\n",
       "      <td>0.12744</td>\n",
       "      <td>0.0</td>\n",
       "      <td>6.91</td>\n",
       "      <td>0.448</td>\n",
       "      <td>6.770</td>\n",
       "      <td>2.9</td>\n",
       "      <td>5.7209</td>\n",
       "      <td>233</td>\n",
       "      <td>17.9</td>\n",
       "    </tr>\n",
       "    <tr>\n",
       "      <th>3</th>\n",
       "      <td>0.15876</td>\n",
       "      <td>0.0</td>\n",
       "      <td>10.81</td>\n",
       "      <td>0.413</td>\n",
       "      <td>5.961</td>\n",
       "      <td>17.5</td>\n",
       "      <td>5.2873</td>\n",
       "      <td>305</td>\n",
       "      <td>19.2</td>\n",
       "    </tr>\n",
       "    <tr>\n",
       "      <th>4</th>\n",
       "      <td>0.03768</td>\n",
       "      <td>80.0</td>\n",
       "      <td>1.52</td>\n",
       "      <td>0.404</td>\n",
       "      <td>7.274</td>\n",
       "      <td>38.3</td>\n",
       "      <td>7.3090</td>\n",
       "      <td>329</td>\n",
       "      <td>12.6</td>\n",
       "    </tr>\n",
       "  </tbody>\n",
       "</table>\n",
       "</div>"
      ],
      "text/plain": [
       "       CRIM    ZN  INDUS    NOX     RM   AGE     DIS  TAX  PTRATIO\n",
       "0   2.30040   0.0  19.58  0.605  6.319  96.1  2.1000  403     14.7\n",
       "1  13.35980   0.0  18.10  0.693  5.887  94.7  1.7821  666     20.2\n",
       "2   0.12744   0.0   6.91  0.448  6.770   2.9  5.7209  233     17.9\n",
       "3   0.15876   0.0  10.81  0.413  5.961  17.5  5.2873  305     19.2\n",
       "4   0.03768  80.0   1.52  0.404  7.274  38.3  7.3090  329     12.6"
      ]
     },
     "execution_count": 6,
     "metadata": {},
     "output_type": "execute_result"
    }
   ],
   "source": [
    "#seperate the labels out of the train and test data\n",
    "train_y = train.pop('MEDV')\n",
    "test_y = test.pop('MEDV')\n",
    "\n",
    "# The label column has now been removed from the features.\n",
    "train.head()"
   ]
  },
  {
   "cell_type": "code",
   "execution_count": 7,
   "metadata": {},
   "outputs": [],
   "source": [
    "# Feature columns describe how to use the input.\n",
    "my_feature_columns = []\n",
    "for key in train.keys():\n",
    "    my_feature_columns.append(tf.feature_column.numeric_column(key=key))\n",
    "\n",
    "#We convert columns and convert to numeric "
   ]
  },
  {
   "cell_type": "code",
   "execution_count": 8,
   "metadata": {},
   "outputs": [
    {
     "name": "stdout",
     "output_type": "stream",
     "text": [
      "INFO:tensorflow:Using default config.\n",
      "INFO:tensorflow:Using config: {'_model_dir': 'boston', '_tf_random_seed': None, '_save_summary_steps': 100, '_save_checkpoints_steps': None, '_save_checkpoints_secs': 600, '_session_config': allow_soft_placement: true\n",
      "graph_options {\n",
      "  rewrite_options {\n",
      "    meta_optimizer_iterations: ONE\n",
      "  }\n",
      "}\n",
      ", '_keep_checkpoint_max': 5, '_keep_checkpoint_every_n_hours': 10000, '_log_step_count_steps': 100, '_train_distribute': None, '_device_fn': None, '_protocol': None, '_eval_distribute': None, '_experimental_distribute': None, '_experimental_max_worker_delay_secs': None, '_session_creation_timeout_secs': 7200, '_checkpoint_save_graph_def': True, '_service': None, '_cluster_spec': ClusterSpec({}), '_task_type': 'worker', '_task_id': 0, '_global_id_in_cluster': 0, '_master': '', '_evaluation_master': '', '_is_chief': True, '_num_ps_replicas': 0, '_num_worker_replicas': 1}\n"
     ]
    }
   ],
   "source": [
    "estimator = tf.estimator.LinearRegressor(feature_columns=my_feature_columns, model_dir=\"boston\")\n",
    "\n",
    "#Tensorflow has several estimators that are regressors\n",
    "#We pass in the model columns\n",
    "#We also pass in the directory to see where we can access our model"
   ]
  },
  {
   "cell_type": "code",
   "execution_count": 9,
   "metadata": {},
   "outputs": [],
   "source": [
    "#The tricky part is feeding the model with the data\n",
    "#We can only feed a batch of data at a time\n",
    "#Typically we are talking about massive datasets at a time\n",
    "#We will run out of memory if we try to do the entire dataset\n",
    "#So we use batchsizes\n",
    "def train_and_eval_fn(features, labels, training=False, batch_size=128):\n",
    "    \"\"\"An input function for training or evaluating\"\"\"\n",
    "    # Convert the inputs to a Dataset.\n",
    "    dataset = tf.data.Dataset.from_tensor_slices((dict(features), labels))\n",
    "\n",
    "    # Shuffle and repeat if you are in training mode.\n",
    "    #It is important to shuffle the data before each regression, so that the model does not learn specific patterns of the dataset\n",
    "    #It will have difficulty generlizing to unseen data\n",
    "    if training:\n",
    "        dataset = dataset.shuffle(1000).repeat() #Randomly shuffles 1000\n",
    "\n",
    "    return dataset.batch(batch_size)\n",
    "\n",
    "def predict_fn(features, batch_size=128):\n",
    "    # Convert the inputs to a Dataset.\n",
    "    dataset = tf.data.Dataset.from_tensor_slices((dict(features))) #We can get slices from the array\n",
    "    return dataset.batch(batch_size)"
   ]
  },
  {
   "cell_type": "code",
   "execution_count": 10,
   "metadata": {},
   "outputs": [
    {
     "name": "stdout",
     "output_type": "stream",
     "text": [
      "WARNING:tensorflow:From C:\\Users\\archi\\Anaconda3\\lib\\site-packages\\tensorflow\\python\\training\\training_util.py:236: Variable.initialized_value (from tensorflow.python.ops.variables) is deprecated and will be removed in a future version.\n",
      "Instructions for updating:\n",
      "Use Variable.read_value. Variables in 2.X are initialized automatically both in eager and graph (inside tf.defun) contexts.\n",
      "INFO:tensorflow:Calling model_fn.\n"
     ]
    },
    {
     "name": "stderr",
     "output_type": "stream",
     "text": [
      "C:\\Users\\archi\\Anaconda3\\lib\\site-packages\\tensorflow\\python\\keras\\engine\\base_layer_v1.py:1727: UserWarning: `layer.add_variable` is deprecated and will be removed in a future version. Please use `layer.add_weight` method instead.\n",
      "  warnings.warn('`layer.add_variable` is deprecated and '\n"
     ]
    },
    {
     "name": "stdout",
     "output_type": "stream",
     "text": [
      "WARNING:tensorflow:From C:\\Users\\archi\\Anaconda3\\lib\\site-packages\\tensorflow\\python\\keras\\optimizer_v2\\ftrl.py:134: calling Constant.__init__ (from tensorflow.python.ops.init_ops) with dtype is deprecated and will be removed in a future version.\n",
      "Instructions for updating:\n",
      "Call initializer instance with the dtype argument instead of passing it to the constructor\n",
      "INFO:tensorflow:Done calling model_fn.\n",
      "INFO:tensorflow:Create CheckpointSaverHook.\n",
      "INFO:tensorflow:Graph was finalized.\n",
      "INFO:tensorflow:Restoring parameters from boston\\model.ckpt-3000\n",
      "WARNING:tensorflow:From C:\\Users\\archi\\Anaconda3\\lib\\site-packages\\tensorflow\\python\\training\\saver.py:1076: get_checkpoint_mtimes (from tensorflow.python.training.checkpoint_management) is deprecated and will be removed in a future version.\n",
      "Instructions for updating:\n",
      "Use standard file utilities to get mtimes.\n",
      "INFO:tensorflow:Running local_init_op.\n",
      "INFO:tensorflow:Done running local_init_op.\n",
      "INFO:tensorflow:Calling checkpoint listeners before saving checkpoint 3000...\n",
      "INFO:tensorflow:Saving checkpoints for 3000 into boston\\model.ckpt.\n",
      "INFO:tensorflow:Calling checkpoint listeners after saving checkpoint 3000...\n",
      "INFO:tensorflow:loss = 51.116104, step = 3000\n",
      "INFO:tensorflow:global_step/sec: 322.153\n",
      "INFO:tensorflow:loss = 52.975906, step = 3100 (0.313 sec)\n",
      "INFO:tensorflow:global_step/sec: 434.069\n",
      "INFO:tensorflow:loss = 40.102352, step = 3200 (0.228 sec)\n",
      "INFO:tensorflow:global_step/sec: 586.362\n",
      "INFO:tensorflow:loss = 39.50725, step = 3300 (0.171 sec)\n",
      "INFO:tensorflow:global_step/sec: 626.669\n",
      "INFO:tensorflow:loss = 62.47836, step = 3400 (0.159 sec)\n",
      "INFO:tensorflow:global_step/sec: 566.484\n",
      "INFO:tensorflow:loss = 48.71424, step = 3500 (0.178 sec)\n",
      "INFO:tensorflow:global_step/sec: 622.93\n",
      "INFO:tensorflow:loss = 51.22415, step = 3600 (0.161 sec)\n",
      "INFO:tensorflow:global_step/sec: 615.139\n",
      "INFO:tensorflow:loss = 47.759506, step = 3700 (0.163 sec)\n",
      "INFO:tensorflow:global_step/sec: 638.642\n",
      "INFO:tensorflow:loss = 35.792652, step = 3800 (0.157 sec)\n",
      "INFO:tensorflow:global_step/sec: 604.026\n",
      "INFO:tensorflow:loss = 69.449875, step = 3900 (0.165 sec)\n",
      "INFO:tensorflow:Calling checkpoint listeners before saving checkpoint 4000...\n",
      "INFO:tensorflow:Saving checkpoints for 4000 into boston\\model.ckpt.\n",
      "INFO:tensorflow:Calling checkpoint listeners after saving checkpoint 4000...\n",
      "INFO:tensorflow:Loss for final step: 31.8401.\n"
     ]
    },
    {
     "data": {
      "text/plain": [
       "<tensorflow_estimator.python.estimator.canned.linear.LinearRegressorV2 at 0x160fc84abe0>"
      ]
     },
     "execution_count": 10,
     "metadata": {},
     "output_type": "execute_result"
    }
   ],
   "source": [
    "estimator.train(input_fn=lambda: train_and_eval_fn(train, train_y, training=True), steps=1000) #We train our model by passing features and models here\n",
    "\n",
    "#A step/iteration corresponds to one forward pass and one backward pass"
   ]
  },
  {
   "cell_type": "code",
   "execution_count": 11,
   "metadata": {},
   "outputs": [
    {
     "name": "stdout",
     "output_type": "stream",
     "text": [
      "INFO:tensorflow:Calling model_fn.\n",
      "INFO:tensorflow:Done calling model_fn.\n",
      "INFO:tensorflow:Starting evaluation at 2021-03-09T09:50:41Z\n",
      "INFO:tensorflow:Graph was finalized.\n",
      "INFO:tensorflow:Restoring parameters from boston\\model.ckpt-4000\n",
      "INFO:tensorflow:Running local_init_op.\n",
      "INFO:tensorflow:Done running local_init_op.\n",
      "INFO:tensorflow:Inference Time : 0.26250s\n",
      "INFO:tensorflow:Finished evaluation at 2021-03-09-09:50:41\n",
      "INFO:tensorflow:Saving dict for global step 4000: average_loss = 18.827425, global_step = 4000, label/mean = 22.08, loss = 18.827425, prediction/mean = 22.29239\n",
      "INFO:tensorflow:Saving 'checkpoint_path' summary for global step 4000: boston\\model.ckpt-4000\n"
     ]
    }
   ],
   "source": [
    "eval_result = estimator.evaluate(input_fn=lambda: train_and_eval_fn(test, test_y, training=False))"
   ]
  },
  {
   "cell_type": "code",
   "execution_count": 12,
   "metadata": {},
   "outputs": [
    {
     "name": "stdout",
     "output_type": "stream",
     "text": [
      "{'average_loss': 18.827425, 'label/mean': 22.08, 'loss': 18.827425, 'prediction/mean': 22.29239, 'global_step': 4000}\n"
     ]
    }
   ],
   "source": [
    "print(eval_result) #The output is the prediction of the network"
   ]
  },
  {
   "cell_type": "code",
   "execution_count": 13,
   "metadata": {},
   "outputs": [
    {
     "name": "stdout",
     "output_type": "stream",
     "text": [
      "INFO:tensorflow:Calling model_fn.\n",
      "INFO:tensorflow:Done calling model_fn.\n",
      "INFO:tensorflow:Graph was finalized.\n",
      "INFO:tensorflow:Restoring parameters from boston\\model.ckpt-4000\n",
      "INFO:tensorflow:Running local_init_op.\n",
      "INFO:tensorflow:Done running local_init_op.\n"
     ]
    },
    {
     "data": {
      "image/png": "[encoded data removed]",
      "text/plain": [
       "<Figure size 432x288 with 1 Axes>"
      ]
     },
     "metadata": {
      "needs_background": "light"
     },
     "output_type": "display_data"
    }
   ],
   "source": [
    "#We store the predictions into a predictoins list\n",
    "predictions=[]\n",
    "for pred in estimator.predict(input_fn=lambda: predict_fn(test)):\n",
    "    predictions.append(np.array(pred['predictions']).astype(float))\n",
    "    \n",
    "plt.plot(test_y, predictions, 'r*')\n",
    "plt.xlabel('Actual values')\n",
    "plt.ylabel('predicted values')\n",
    "plt.show()"
   ]
  },
  {
   "cell_type": "code",
   "execution_count": 14,
   "metadata": {},
   "outputs": [
    {
     "data": {
      "text/plain": [
       "2.0830405865836226"
      ]
     },
     "execution_count": 14,
     "metadata": {},
     "output_type": "execute_result"
    }
   ],
   "source": [
    "#calculating the rmse (root mean squared error)\n",
    "np.sqrt(mean_squared_error(test_y, predictions))**0.5"
   ]
  },
  {
   "cell_type": "code",
   "execution_count": 15,
   "metadata": {
    "scrolled": false
   },
   "outputs": [],
   "source": [
    "#%tensorboard --logdir=boston\n",
    "#Alternative you can also access this from localhost:6006 on your browser"
   ]
  },
  {
   "cell_type": "code",
   "execution_count": 16,
   "metadata": {},
   "outputs": [],
   "source": [
    "#Uncomment the below line to kill the tensorboard server. The syntax is taskkill /F /PID proc_num\n",
    "#If you still get an error and the tensorboard is not displaying you can restart your jupyter/conda\n",
    "# !taskkill /F /PID 14728\n",
    "# !taskkill /im tensorboard.exe /f\n",
    "# !del /q %TMP%\\.tensorboard-info\\*"
   ]
  },
  {
   "cell_type": "code",
   "execution_count": null,
   "metadata": {},
   "outputs": [],
   "source": []
  }
 ],
 "metadata": {
  "kernelspec": {
   "display_name": "Python 3.9.12 ('base')",
   "language": "python",
   "name": "python3"
  },
  "language_info": {
   "codemirror_mode": {
    "name": "ipython",
    "version": 3
   },
   "file_extension": ".py",
   "mimetype": "text/x-python",
   "name": "python",
   "nbconvert_exporter": "python",
   "pygments_lexer": "ipython3",
   "version": "3.9.12"
  },
  "vscode": {
   "interpreter": {
    "hash": "dee62c98ecce6d9e3f7050f7a877855f7ec76bf0aefa9b635119678c508ba6bf"
   }
  }
 },
 "nbformat": 4,
 "nbformat_minor": 2
}
