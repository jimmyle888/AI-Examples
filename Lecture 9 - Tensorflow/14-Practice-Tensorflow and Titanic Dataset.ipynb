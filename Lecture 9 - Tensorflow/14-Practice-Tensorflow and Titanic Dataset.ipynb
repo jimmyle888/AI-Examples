{
 "cells": [
  {
   "cell_type": "code",
   "execution_count": 1,
   "metadata": {
    "execution": {
     "iopub.execute_input": "2021-02-20T02:23:23.555873Z",
     "iopub.status.busy": "2021-02-20T02:23:23.555199Z",
     "iopub.status.idle": "2021-02-20T02:23:24.902045Z",
     "shell.execute_reply": "2021-02-20T02:23:24.901462Z"
    },
    "id": "54mb4J9PqqDh"
   },
   "outputs": [],
   "source": [
    "import numpy as np\n",
    "import pandas as pd\n",
    "import matplotlib.pyplot as plt\n"
   ]
  },
  {
   "cell_type": "markdown",
   "metadata": {
    "id": "fsjkwfsGOBMT"
   },
   "source": [
    "## Load the titanic dataset\n",
    "You will use the Titanic dataset with the (rather morbid) goal of predicting passenger survival, given characteristics such as gender, age, class, etc."
   ]
  },
  {
   "cell_type": "code",
   "execution_count": 2,
   "metadata": {
    "execution": {
     "iopub.execute_input": "2021-02-20T02:23:24.906599Z",
     "iopub.status.busy": "2021-02-20T02:23:24.905899Z",
     "iopub.status.idle": "2021-02-20T02:23:31.160296Z",
     "shell.execute_reply": "2021-02-20T02:23:31.160784Z"
    },
    "id": "bNiwh-APcRVD"
   },
   "outputs": [],
   "source": [
    "import tensorflow as tf"
   ]
  },
  {
   "cell_type": "code",
   "execution_count": 3,
   "metadata": {
    "execution": {
     "iopub.execute_input": "2021-02-20T02:23:31.166812Z",
     "iopub.status.busy": "2021-02-20T02:23:31.166137Z",
     "iopub.status.idle": "2021-02-20T02:23:31.554131Z",
     "shell.execute_reply": "2021-02-20T02:23:31.553521Z"
    },
    "id": "DSeMKcx03d5R"
   },
   "outputs": [],
   "source": [
    "# Load dataset.\n",
    "dftrain = pd.read_csv('titanic_train.csv')\n",
    "dfeval = pd.read_csv('titanic_test.csv')\n",
    "y_train = dftrain.pop('survived')\n",
    "y_eval = dfeval.pop('survived')"
   ]
  },
  {
   "cell_type": "markdown",
   "metadata": {
    "id": "jjm4Qj0u7_cp"
   },
   "source": [
    "## Explore the data"
   ]
  },
  {
   "cell_type": "markdown",
   "metadata": {
    "id": "UrQzxKKh4d6u"
   },
   "source": [
    "The dataset contains the following features"
   ]
  },
  {
   "cell_type": "code",
   "execution_count": 4,
   "metadata": {
    "execution": {
     "iopub.execute_input": "2021-02-20T02:23:31.572910Z",
     "iopub.status.busy": "2021-02-20T02:23:31.567338Z",
     "iopub.status.idle": "2021-02-20T02:23:31.578394Z",
     "shell.execute_reply": "2021-02-20T02:23:31.578859Z"
    },
    "id": "rTjugo3n308g"
   },
   "outputs": [
    {
     "data": {
      "text/html": [
       "<div>\n",
       "<style scoped>\n",
       "    .dataframe tbody tr th:only-of-type {\n",
       "        vertical-align: middle;\n",
       "    }\n",
       "\n",
       "    .dataframe tbody tr th {\n",
       "        vertical-align: top;\n",
       "    }\n",
       "\n",
       "    .dataframe thead th {\n",
       "        text-align: right;\n",
       "    }\n",
       "</style>\n",
       "<table border=\"1\" class=\"dataframe\">\n",
       "  <thead>\n",
       "    <tr style=\"text-align: right;\">\n",
       "      <th></th>\n",
       "      <th>sex</th>\n",
       "      <th>age</th>\n",
       "      <th>n_siblings_spouses</th>\n",
       "      <th>parch</th>\n",
       "      <th>fare</th>\n",
       "      <th>class</th>\n",
       "      <th>deck</th>\n",
       "      <th>embark_town</th>\n",
       "      <th>alone</th>\n",
       "    </tr>\n",
       "  </thead>\n",
       "  <tbody>\n",
       "    <tr>\n",
       "      <th>0</th>\n",
       "      <td>male</td>\n",
       "      <td>22.0</td>\n",
       "      <td>1</td>\n",
       "      <td>0</td>\n",
       "      <td>7.2500</td>\n",
       "      <td>Third</td>\n",
       "      <td>unknown</td>\n",
       "      <td>Southampton</td>\n",
       "      <td>n</td>\n",
       "    </tr>\n",
       "    <tr>\n",
       "      <th>1</th>\n",
       "      <td>female</td>\n",
       "      <td>38.0</td>\n",
       "      <td>1</td>\n",
       "      <td>0</td>\n",
       "      <td>71.2833</td>\n",
       "      <td>First</td>\n",
       "      <td>C</td>\n",
       "      <td>Cherbourg</td>\n",
       "      <td>n</td>\n",
       "    </tr>\n",
       "    <tr>\n",
       "      <th>2</th>\n",
       "      <td>female</td>\n",
       "      <td>26.0</td>\n",
       "      <td>0</td>\n",
       "      <td>0</td>\n",
       "      <td>7.9250</td>\n",
       "      <td>Third</td>\n",
       "      <td>unknown</td>\n",
       "      <td>Southampton</td>\n",
       "      <td>y</td>\n",
       "    </tr>\n",
       "    <tr>\n",
       "      <th>3</th>\n",
       "      <td>female</td>\n",
       "      <td>35.0</td>\n",
       "      <td>1</td>\n",
       "      <td>0</td>\n",
       "      <td>53.1000</td>\n",
       "      <td>First</td>\n",
       "      <td>C</td>\n",
       "      <td>Southampton</td>\n",
       "      <td>n</td>\n",
       "    </tr>\n",
       "    <tr>\n",
       "      <th>4</th>\n",
       "      <td>male</td>\n",
       "      <td>28.0</td>\n",
       "      <td>0</td>\n",
       "      <td>0</td>\n",
       "      <td>8.4583</td>\n",
       "      <td>Third</td>\n",
       "      <td>unknown</td>\n",
       "      <td>Queenstown</td>\n",
       "      <td>y</td>\n",
       "    </tr>\n",
       "  </tbody>\n",
       "</table>\n",
       "</div>"
      ],
      "text/plain": [
       "      sex   age  n_siblings_spouses  parch     fare  class     deck  \\\n",
       "0    male  22.0                   1      0   7.2500  Third  unknown   \n",
       "1  female  38.0                   1      0  71.2833  First        C   \n",
       "2  female  26.0                   0      0   7.9250  Third  unknown   \n",
       "3  female  35.0                   1      0  53.1000  First        C   \n",
       "4    male  28.0                   0      0   8.4583  Third  unknown   \n",
       "\n",
       "   embark_town alone  \n",
       "0  Southampton     n  \n",
       "1    Cherbourg     n  \n",
       "2  Southampton     y  \n",
       "3  Southampton     n  \n",
       "4   Queenstown     y  "
      ]
     },
     "execution_count": 4,
     "metadata": {},
     "output_type": "execute_result"
    }
   ],
   "source": [
    "dftrain.head()"
   ]
  },
  {
   "cell_type": "code",
   "execution_count": 5,
   "metadata": {
    "execution": {
     "iopub.execute_input": "2021-02-20T02:23:31.588424Z",
     "iopub.status.busy": "2021-02-20T02:23:31.587662Z",
     "iopub.status.idle": "2021-02-20T02:23:31.610127Z",
     "shell.execute_reply": "2021-02-20T02:23:31.610591Z"
    },
    "id": "y86q1fj44lZs"
   },
   "outputs": [
    {
     "data": {
      "text/html": [
       "<div>\n",
       "<style scoped>\n",
       "    .dataframe tbody tr th:only-of-type {\n",
       "        vertical-align: middle;\n",
       "    }\n",
       "\n",
       "    .dataframe tbody tr th {\n",
       "        vertical-align: top;\n",
       "    }\n",
       "\n",
       "    .dataframe thead th {\n",
       "        text-align: right;\n",
       "    }\n",
       "</style>\n",
       "<table border=\"1\" class=\"dataframe\">\n",
       "  <thead>\n",
       "    <tr style=\"text-align: right;\">\n",
       "      <th></th>\n",
       "      <th>age</th>\n",
       "      <th>n_siblings_spouses</th>\n",
       "      <th>parch</th>\n",
       "      <th>fare</th>\n",
       "    </tr>\n",
       "  </thead>\n",
       "  <tbody>\n",
       "    <tr>\n",
       "      <th>count</th>\n",
       "      <td>627.000000</td>\n",
       "      <td>627.000000</td>\n",
       "      <td>627.000000</td>\n",
       "      <td>627.000000</td>\n",
       "    </tr>\n",
       "    <tr>\n",
       "      <th>mean</th>\n",
       "      <td>29.631308</td>\n",
       "      <td>0.545455</td>\n",
       "      <td>0.379585</td>\n",
       "      <td>34.385399</td>\n",
       "    </tr>\n",
       "    <tr>\n",
       "      <th>std</th>\n",
       "      <td>12.511818</td>\n",
       "      <td>1.151090</td>\n",
       "      <td>0.792999</td>\n",
       "      <td>54.597730</td>\n",
       "    </tr>\n",
       "    <tr>\n",
       "      <th>min</th>\n",
       "      <td>0.750000</td>\n",
       "      <td>0.000000</td>\n",
       "      <td>0.000000</td>\n",
       "      <td>0.000000</td>\n",
       "    </tr>\n",
       "    <tr>\n",
       "      <th>25%</th>\n",
       "      <td>23.000000</td>\n",
       "      <td>0.000000</td>\n",
       "      <td>0.000000</td>\n",
       "      <td>7.895800</td>\n",
       "    </tr>\n",
       "    <tr>\n",
       "      <th>50%</th>\n",
       "      <td>28.000000</td>\n",
       "      <td>0.000000</td>\n",
       "      <td>0.000000</td>\n",
       "      <td>15.045800</td>\n",
       "    </tr>\n",
       "    <tr>\n",
       "      <th>75%</th>\n",
       "      <td>35.000000</td>\n",
       "      <td>1.000000</td>\n",
       "      <td>0.000000</td>\n",
       "      <td>31.387500</td>\n",
       "    </tr>\n",
       "    <tr>\n",
       "      <th>max</th>\n",
       "      <td>80.000000</td>\n",
       "      <td>8.000000</td>\n",
       "      <td>5.000000</td>\n",
       "      <td>512.329200</td>\n",
       "    </tr>\n",
       "  </tbody>\n",
       "</table>\n",
       "</div>"
      ],
      "text/plain": [
       "              age  n_siblings_spouses       parch        fare\n",
       "count  627.000000          627.000000  627.000000  627.000000\n",
       "mean    29.631308            0.545455    0.379585   34.385399\n",
       "std     12.511818            1.151090    0.792999   54.597730\n",
       "min      0.750000            0.000000    0.000000    0.000000\n",
       "25%     23.000000            0.000000    0.000000    7.895800\n",
       "50%     28.000000            0.000000    0.000000   15.045800\n",
       "75%     35.000000            1.000000    0.000000   31.387500\n",
       "max     80.000000            8.000000    5.000000  512.329200"
      ]
     },
     "execution_count": 5,
     "metadata": {},
     "output_type": "execute_result"
    }
   ],
   "source": [
    "dftrain.describe()"
   ]
  },
  {
   "cell_type": "markdown",
   "metadata": {
    "id": "8JSa_duD4tFZ"
   },
   "source": [
    "There are 627 and 264 examples in the training and evaluation sets, respectively."
   ]
  },
  {
   "cell_type": "code",
   "execution_count": 6,
   "metadata": {
    "execution": {
     "iopub.execute_input": "2021-02-20T02:23:31.616310Z",
     "iopub.status.busy": "2021-02-20T02:23:31.615430Z",
     "iopub.status.idle": "2021-02-20T02:23:31.618673Z",
     "shell.execute_reply": "2021-02-20T02:23:31.619183Z"
    },
    "id": "Fs3Nu5pV4v5J"
   },
   "outputs": [
    {
     "data": {
      "text/plain": [
       "(627, 264)"
      ]
     },
     "execution_count": 6,
     "metadata": {},
     "output_type": "execute_result"
    }
   ],
   "source": [
    "dftrain.shape[0], dfeval.shape[0]"
   ]
  },
  {
   "cell_type": "markdown",
   "metadata": {
    "id": "RxCA4Nr45AfF"
   },
   "source": [
    "The majority of passengers are in their 20's and 30's."
   ]
  },
  {
   "cell_type": "code",
   "execution_count": 7,
   "metadata": {
    "execution": {
     "iopub.execute_input": "2021-02-20T02:23:31.623877Z",
     "iopub.status.busy": "2021-02-20T02:23:31.623161Z",
     "iopub.status.idle": "2021-02-20T02:23:31.910436Z",
     "shell.execute_reply": "2021-02-20T02:23:31.909801Z"
    },
    "id": "RYeCMm7K40ZN"
   },
   "outputs": [
    {
     "data": {
      "text/plain": [
       "<matplotlib.axes._subplots.AxesSubplot at 0x1d636d5c828>"
      ]
     },
     "execution_count": 7,
     "metadata": {},
     "output_type": "execute_result"
    },
    {
     "data": {
      "image/png": "[encoded data removed]",
      "text/plain": [
       "<Figure size 432x288 with 1 Axes>"
      ]
     },
     "metadata": {
      "needs_background": "light"
     },
     "output_type": "display_data"
    }
   ],
   "source": [
    "dftrain.age.hist(bins=20)"
   ]
  },
  {
   "cell_type": "markdown",
   "metadata": {
    "id": "DItSwJ_B5B0f"
   },
   "source": [
    "There are approximately twice as many male passengers as female passengers aboard."
   ]
  },
  {
   "cell_type": "code",
   "execution_count": 8,
   "metadata": {
    "execution": {
     "iopub.execute_input": "2021-02-20T02:23:31.959061Z",
     "iopub.status.busy": "2021-02-20T02:23:31.958151Z",
     "iopub.status.idle": "2021-02-20T02:23:32.046082Z",
     "shell.execute_reply": "2021-02-20T02:23:32.045428Z"
    },
    "id": "b03dVV9q5Dv2"
   },
   "outputs": [
    {
     "data": {
      "text/plain": [
       "<matplotlib.axes._subplots.AxesSubplot at 0x1d636e1bac8>"
      ]
     },
     "execution_count": 8,
     "metadata": {},
     "output_type": "execute_result"
    },
    {
     "data": {
      "image/png": "[encoded data removed]",
      "text/plain": [
       "<Figure size 432x288 with 1 Axes>"
      ]
     },
     "metadata": {
      "needs_background": "light"
     },
     "output_type": "display_data"
    }
   ],
   "source": [
    "dftrain.sex.value_counts().plot(kind='barh')"
   ]
  },
  {
   "cell_type": "markdown",
   "metadata": {
    "id": "rK6WQ29q5Jf5"
   },
   "source": [
    "The majority of passengers were in the \"third\" class."
   ]
  },
  {
   "cell_type": "code",
   "execution_count": 9,
   "metadata": {
    "execution": {
     "iopub.execute_input": "2021-02-20T02:23:32.067557Z",
     "iopub.status.busy": "2021-02-20T02:23:32.065468Z",
     "iopub.status.idle": "2021-02-20T02:23:32.164260Z",
     "shell.execute_reply": "2021-02-20T02:23:32.164701Z"
    },
    "id": "dgpJVeCq5Fgd"
   },
   "outputs": [
    {
     "data": {
      "text/plain": [
       "<matplotlib.axes._subplots.AxesSubplot at 0x1d636ef73c8>"
      ]
     },
     "execution_count": 9,
     "metadata": {},
     "output_type": "execute_result"
    },
    {
     "data": {
      "image/png": "[encoded data removed]",
      "text/plain": [
       "<Figure size 432x288 with 1 Axes>"
      ]
     },
     "metadata": {
      "needs_background": "light"
     },
     "output_type": "display_data"
    }
   ],
   "source": [
    "dftrain['class'].value_counts().plot(kind='barh')"
   ]
  },
  {
   "cell_type": "markdown",
   "metadata": {
    "id": "FXJhGGL85TLp"
   },
   "source": [
    "Females have a much higher chance of surviving versus males. This is clearly a predictive feature for the model."
   ]
  },
  {
   "cell_type": "code",
   "execution_count": 10,
   "metadata": {
    "execution": {
     "iopub.execute_input": "2021-02-20T02:23:32.210423Z",
     "iopub.status.busy": "2021-02-20T02:23:32.209657Z",
     "iopub.status.idle": "2021-02-20T02:23:32.300555Z",
     "shell.execute_reply": "2021-02-20T02:23:32.299902Z"
    },
    "id": "lSZYa7c45Ttt"
   },
   "outputs": [
    {
     "data": {
      "text/plain": [
       "Text(0.5, 0, '% survive')"
      ]
     },
     "execution_count": 10,
     "metadata": {},
     "output_type": "execute_result"
    },
    {
     "data": {
      "image/png": "[encoded data removed]",
      "text/plain": [
       "<Figure size 432x288 with 1 Axes>"
      ]
     },
     "metadata": {
      "needs_background": "light"
     },
     "output_type": "display_data"
    }
   ],
   "source": [
    "pd.concat([dftrain, y_train], axis=1).groupby('sex').survived.mean().plot(kind='barh').set_xlabel('% survive')"
   ]
  },
  {
   "cell_type": "markdown",
   "metadata": {
    "id": "VqDKQLZn8L-B"
   },
   "source": [
    "## Feature Engineering for the Model\n",
    "Estimators use a system called [feature columns](https://www.tensorflow.org/guide/feature_columns) to describe how the model should interpret each of the raw input features. An Estimator expects a vector of numeric inputs, and *feature columns* describe how the model should convert each feature.\n",
    "\n",
    "Selecting and crafting the right set of feature columns is key to learning an effective model. A feature column can be either one of the raw inputs in the original features `dict` (a *base feature column*), or any new columns created using transformations defined over one or multiple base columns (a *derived feature columns*).\n",
    "\n",
    "The linear estimator uses both numeric and categorical features. Feature columns work with all TensorFlow estimators and their purpose is to define the features used for modeling. Additionally, they provide some feature engineering capabilities like one-hot-encoding, normalization, and bucketization."
   ]
  },
  {
   "cell_type": "markdown",
   "metadata": {
    "id": "puZFOhTDkblt"
   },
   "source": [
    "### Base Feature Columns"
   ]
  },
  {
   "cell_type": "code",
   "execution_count": 11,
   "metadata": {
    "execution": {
     "iopub.execute_input": "2021-02-20T02:23:32.308521Z",
     "iopub.status.busy": "2021-02-20T02:23:32.307395Z",
     "iopub.status.idle": "2021-02-20T02:23:32.310564Z",
     "shell.execute_reply": "2021-02-20T02:23:32.311026Z"
    },
    "id": "GpveXYSsADS6"
   },
   "outputs": [],
   "source": [
    "CATEGORICAL_COLUMNS = ['sex', 'n_siblings_spouses', 'parch', 'class', 'deck',\n",
    "                       'embark_town', 'alone']\n",
    "NUMERIC_COLUMNS = ['age', 'fare']\n",
    "\n",
    "feature_columns = []\n",
    "for feature_name in CATEGORICAL_COLUMNS:\n",
    "    vocabulary = dftrain[feature_name].unique()\n",
    "    feature_columns.append(tf.feature_column.categorical_column_with_vocabulary_list(feature_name, vocabulary))\n",
    "\n",
    "for feature_name in NUMERIC_COLUMNS:\n",
    "    feature_columns.append(tf.feature_column.numeric_column(feature_name, dtype=tf.float32))"
   ]
  },
  {
   "cell_type": "markdown",
   "metadata": {
    "id": "Gt8HMtwOh9lJ"
   },
   "source": [
    "The `input_function` specifies how data is converted to a `tf.data.Dataset` that feeds the input pipeline in a streaming fashion. `tf.data.Dataset` can take in multiple sources such as a dataframe, a csv-formatted file, and more."
   ]
  },
  {
   "cell_type": "code",
   "execution_count": 12,
   "metadata": {
    "execution": {
     "iopub.execute_input": "2021-02-20T02:23:32.317473Z",
     "iopub.status.busy": "2021-02-20T02:23:32.316628Z",
     "iopub.status.idle": "2021-02-20T02:23:32.319177Z",
     "shell.execute_reply": "2021-02-20T02:23:32.318628Z"
    },
    "id": "qVtrIHFnAe7w"
   },
   "outputs": [],
   "source": [
    "def train_and_eval_fn(features, labels, training=False, batch_size=256):\n",
    "    \"\"\"An input function for training or evaluating\"\"\"\n",
    "    # Convert the inputs to a Dataset.\n",
    "    dataset = tf.data.Dataset.from_tensor_slices((dict(features), labels))\n",
    "\n",
    "    # Shuffle and repeat if you are in training mode.\n",
    "    if training:\n",
    "        dataset = dataset.shuffle(1000).repeat()\n",
    "\n",
    "    return dataset.batch(batch_size)\n",
    "\n",
    "def predict_fn(features, batch_size=256):\n",
    "    # Convert the inputs to a Dataset.\n",
    "    dataset = tf.data.Dataset.from_tensor_slices((dict(features)))\n",
    "    return dataset.batch(batch_size)"
   ]
  },
  {
   "cell_type": "markdown",
   "metadata": {
    "id": "MEp59g5UkHYY"
   },
   "source": [
    "After adding all the base features to the model, let's train the model. Training a model is just a single command using the `tf.estimator` API:"
   ]
  },
  {
   "cell_type": "code",
   "execution_count": 13,
   "metadata": {
    "execution": {
     "iopub.execute_input": "2021-02-20T02:23:41.935937Z",
     "iopub.status.busy": "2021-02-20T02:23:41.935269Z",
     "iopub.status.idle": "2021-02-20T02:23:49.495655Z",
     "shell.execute_reply": "2021-02-20T02:23:49.495179Z"
    },
    "id": "aGXjdnqqdgIs",
    "scrolled": true
   },
   "outputs": [
    {
     "name": "stdout",
     "output_type": "stream",
     "text": [
      "INFO:tensorflow:Using default config.\n",
      "WARNING:tensorflow:Using temporary folder as model directory: C:\\Users\\archi\\AppData\\Local\\Temp\\tmp6zdcx7d9\n",
      "INFO:tensorflow:Using config: {'_model_dir': 'C:\\\\Users\\\\archi\\\\AppData\\\\Local\\\\Temp\\\\tmp6zdcx7d9', '_tf_random_seed': None, '_save_summary_steps': 100, '_save_checkpoints_steps': None, '_save_checkpoints_secs': 600, '_session_config': allow_soft_placement: true\n",
      "graph_options {\n",
      "  rewrite_options {\n",
      "    meta_optimizer_iterations: ONE\n",
      "  }\n",
      "}\n",
      ", '_keep_checkpoint_max': 5, '_keep_checkpoint_every_n_hours': 10000, '_log_step_count_steps': 100, '_train_distribute': None, '_device_fn': None, '_protocol': None, '_eval_distribute': None, '_experimental_distribute': None, '_experimental_max_worker_delay_secs': None, '_session_creation_timeout_secs': 7200, '_checkpoint_save_graph_def': True, '_service': None, '_cluster_spec': ClusterSpec({}), '_task_type': 'worker', '_task_id': 0, '_global_id_in_cluster': 0, '_master': '', '_evaluation_master': '', '_is_chief': True, '_num_ps_replicas': 0, '_num_worker_replicas': 1}\n",
      "WARNING:tensorflow:From C:\\Users\\archi\\Anaconda3\\lib\\site-packages\\tensorflow\\python\\training\\training_util.py:236: Variable.initialized_value (from tensorflow.python.ops.variables) is deprecated and will be removed in a future version.\n",
      "Instructions for updating:\n",
      "Use Variable.read_value. Variables in 2.X are initialized automatically both in eager and graph (inside tf.defun) contexts.\n",
      "INFO:tensorflow:Calling model_fn.\n"
     ]
    },
    {
     "name": "stderr",
     "output_type": "stream",
     "text": [
      "C:\\Users\\archi\\Anaconda3\\lib\\site-packages\\tensorflow\\python\\keras\\engine\\base_layer_v1.py:1727: UserWarning: `layer.add_variable` is deprecated and will be removed in a future version. Please use `layer.add_weight` method instead.\n",
      "  warnings.warn('`layer.add_variable` is deprecated and '\n"
     ]
    },
    {
     "name": "stdout",
     "output_type": "stream",
     "text": [
      "WARNING:tensorflow:From C:\\Users\\archi\\Anaconda3\\lib\\site-packages\\tensorflow\\python\\keras\\optimizer_v2\\ftrl.py:134: calling Constant.__init__ (from tensorflow.python.ops.init_ops) with dtype is deprecated and will be removed in a future version.\n",
      "Instructions for updating:\n",
      "Call initializer instance with the dtype argument instead of passing it to the constructor\n",
      "INFO:tensorflow:Done calling model_fn.\n",
      "INFO:tensorflow:Create CheckpointSaverHook.\n",
      "INFO:tensorflow:Graph was finalized.\n",
      "INFO:tensorflow:Running local_init_op.\n",
      "INFO:tensorflow:Done running local_init_op.\n",
      "INFO:tensorflow:Calling checkpoint listeners before saving checkpoint 0...\n",
      "INFO:tensorflow:Saving checkpoints for 0 into C:\\Users\\archi\\AppData\\Local\\Temp\\tmp6zdcx7d9\\model.ckpt.\n",
      "INFO:tensorflow:Calling checkpoint listeners after saving checkpoint 0...\n",
      "INFO:tensorflow:loss = 0.6931473, step = 0\n",
      "INFO:tensorflow:global_step/sec: 228.91\n",
      "INFO:tensorflow:loss = 0.4244599, step = 100 (0.438 sec)\n",
      "INFO:tensorflow:global_step/sec: 342.073\n",
      "INFO:tensorflow:loss = 0.41326934, step = 200 (0.293 sec)\n",
      "INFO:tensorflow:global_step/sec: 262.237\n",
      "INFO:tensorflow:loss = 0.3940191, step = 300 (0.381 sec)\n",
      "INFO:tensorflow:global_step/sec: 191.35\n",
      "INFO:tensorflow:loss = 0.41751075, step = 400 (0.523 sec)\n",
      "INFO:tensorflow:global_step/sec: 287.299\n",
      "INFO:tensorflow:loss = 0.3968998, step = 500 (0.348 sec)\n",
      "INFO:tensorflow:global_step/sec: 368.631\n",
      "INFO:tensorflow:loss = 0.391809, step = 600 (0.271 sec)\n",
      "INFO:tensorflow:global_step/sec: 409.255\n",
      "INFO:tensorflow:loss = 0.38902912, step = 700 (0.243 sec)\n",
      "INFO:tensorflow:global_step/sec: 401.069\n",
      "INFO:tensorflow:loss = 0.4073321, step = 800 (0.249 sec)\n",
      "INFO:tensorflow:global_step/sec: 416.045\n",
      "INFO:tensorflow:loss = 0.4086799, step = 900 (0.241 sec)\n",
      "INFO:tensorflow:global_step/sec: 424.862\n",
      "INFO:tensorflow:loss = 0.44428775, step = 1000 (0.234 sec)\n",
      "INFO:tensorflow:global_step/sec: 424.863\n",
      "INFO:tensorflow:loss = 0.41264567, step = 1100 (0.236 sec)\n",
      "INFO:tensorflow:global_step/sec: 400.532\n",
      "INFO:tensorflow:loss = 0.4806568, step = 1200 (0.250 sec)\n",
      "INFO:tensorflow:global_step/sec: 342.209\n",
      "INFO:tensorflow:loss = 0.37433115, step = 1300 (0.292 sec)\n",
      "INFO:tensorflow:global_step/sec: 346.946\n",
      "INFO:tensorflow:loss = 0.37429464, step = 1400 (0.287 sec)\n",
      "INFO:tensorflow:global_step/sec: 348.15\n",
      "INFO:tensorflow:loss = 0.40923646, step = 1500 (0.288 sec)\n",
      "INFO:tensorflow:global_step/sec: 337.601\n",
      "INFO:tensorflow:loss = 0.42563754, step = 1600 (0.296 sec)\n",
      "INFO:tensorflow:global_step/sec: 345.749\n",
      "INFO:tensorflow:loss = 0.38169688, step = 1700 (0.289 sec)\n",
      "INFO:tensorflow:global_step/sec: 409.255\n",
      "INFO:tensorflow:loss = 0.4100266, step = 1800 (0.243 sec)\n",
      "INFO:tensorflow:global_step/sec: 424.861\n",
      "INFO:tensorflow:loss = 0.41381252, step = 1900 (0.236 sec)\n",
      "INFO:tensorflow:global_step/sec: 402.681\n",
      "INFO:tensorflow:loss = 0.4375653, step = 2000 (0.248 sec)\n",
      "INFO:tensorflow:global_step/sec: 424.862\n",
      "INFO:tensorflow:loss = 0.43289363, step = 2100 (0.235 sec)\n",
      "INFO:tensorflow:global_step/sec: 426.669\n",
      "INFO:tensorflow:loss = 0.43072936, step = 2200 (0.233 sec)\n",
      "INFO:tensorflow:global_step/sec: 424.861\n",
      "INFO:tensorflow:loss = 0.42808628, step = 2300 (0.235 sec)\n",
      "INFO:tensorflow:global_step/sec: 382.7\n",
      "INFO:tensorflow:loss = 0.4081141, step = 2400 (0.262 sec)\n",
      "INFO:tensorflow:global_step/sec: 344.561\n",
      "INFO:tensorflow:loss = 0.39167458, step = 2500 (0.289 sec)\n",
      "INFO:tensorflow:global_step/sec: 338.738\n",
      "INFO:tensorflow:loss = 0.4172228, step = 2600 (0.295 sec)\n",
      "INFO:tensorflow:global_step/sec: 341.048\n",
      "INFO:tensorflow:loss = 0.45160598, step = 2700 (0.294 sec)\n",
      "INFO:tensorflow:global_step/sec: 330.915\n",
      "INFO:tensorflow:loss = 0.38799122, step = 2800 (0.302 sec)\n",
      "INFO:tensorflow:global_step/sec: 351.815\n",
      "INFO:tensorflow:loss = 0.44702142, step = 2900 (0.283 sec)\n",
      "INFO:tensorflow:global_step/sec: 421.292\n",
      "INFO:tensorflow:loss = 0.40228254, step = 3000 (0.237 sec)\n",
      "INFO:tensorflow:global_step/sec: 410.921\n",
      "INFO:tensorflow:loss = 0.4065989, step = 3100 (0.243 sec)\n",
      "INFO:tensorflow:global_step/sec: 416.059\n",
      "INFO:tensorflow:loss = 0.38220352, step = 3200 (0.240 sec)\n",
      "INFO:tensorflow:global_step/sec: 421.291\n",
      "INFO:tensorflow:loss = 0.42542163, step = 3300 (0.238 sec)\n",
      "INFO:tensorflow:global_step/sec: 365.938\n",
      "INFO:tensorflow:loss = 0.41091058, step = 3400 (0.273 sec)\n",
      "INFO:tensorflow:global_step/sec: 308.515\n",
      "INFO:tensorflow:loss = 0.42174253, step = 3500 (0.324 sec)\n",
      "INFO:tensorflow:global_step/sec: 276.219\n",
      "INFO:tensorflow:loss = 0.41035238, step = 3600 (0.362 sec)\n",
      "INFO:tensorflow:global_step/sec: 329.827\n",
      "INFO:tensorflow:loss = 0.4628379, step = 3700 (0.303 sec)\n",
      "INFO:tensorflow:global_step/sec: 336.468\n",
      "INFO:tensorflow:loss = 0.38573265, step = 3800 (0.297 sec)\n",
      "INFO:tensorflow:global_step/sec: 335.342\n",
      "INFO:tensorflow:loss = 0.36103854, step = 3900 (0.297 sec)\n",
      "INFO:tensorflow:global_step/sec: 326.603\n",
      "INFO:tensorflow:loss = 0.40966833, step = 4000 (0.306 sec)\n",
      "INFO:tensorflow:global_step/sec: 376.946\n",
      "INFO:tensorflow:loss = 0.40103513, step = 4100 (0.265 sec)\n",
      "INFO:tensorflow:global_step/sec: 419.529\n",
      "INFO:tensorflow:loss = 0.3825017, step = 4200 (0.239 sec)\n",
      "INFO:tensorflow:global_step/sec: 414.321\n",
      "INFO:tensorflow:loss = 0.4039001, step = 4300 (0.240 sec)\n",
      "INFO:tensorflow:global_step/sec: 430.34\n",
      "INFO:tensorflow:loss = 0.40850878, step = 4400 (0.232 sec)\n",
      "INFO:tensorflow:global_step/sec: 419.524\n",
      "INFO:tensorflow:loss = 0.38755548, step = 4500 (0.238 sec)\n",
      "INFO:tensorflow:global_step/sec: 416.048\n",
      "INFO:tensorflow:loss = 0.40445596, step = 4600 (0.240 sec)\n",
      "INFO:tensorflow:global_step/sec: 351.817\n",
      "INFO:tensorflow:loss = 0.45620748, step = 4700 (0.285 sec)\n",
      "INFO:tensorflow:global_step/sec: 341.045\n",
      "INFO:tensorflow:loss = 0.4413938, step = 4800 (0.293 sec)\n",
      "INFO:tensorflow:global_step/sec: 344.561\n",
      "INFO:tensorflow:loss = 0.41453427, step = 4900 (0.289 sec)\n",
      "INFO:tensorflow:Calling checkpoint listeners before saving checkpoint 5000...\n",
      "INFO:tensorflow:Saving checkpoints for 5000 into C:\\Users\\archi\\AppData\\Local\\Temp\\tmp6zdcx7d9\\model.ckpt.\n",
      "INFO:tensorflow:Calling checkpoint listeners after saving checkpoint 5000...\n",
      "INFO:tensorflow:Loss for final step: 0.38469827.\n",
      "INFO:tensorflow:Calling model_fn.\n",
      "INFO:tensorflow:Done calling model_fn.\n",
      "INFO:tensorflow:Starting evaluation at 2021-03-09T11:08:09Z\n",
      "INFO:tensorflow:Graph was finalized.\n",
      "INFO:tensorflow:Restoring parameters from C:\\Users\\archi\\AppData\\Local\\Temp\\tmp6zdcx7d9\\model.ckpt-5000\n",
      "INFO:tensorflow:Running local_init_op.\n",
      "INFO:tensorflow:Done running local_init_op.\n",
      "INFO:tensorflow:Inference Time : 0.70811s\n",
      "INFO:tensorflow:Finished evaluation at 2021-03-09-11:08:10\n",
      "INFO:tensorflow:Saving dict for global step 5000: accuracy = 0.78409094, accuracy_baseline = 0.625, auc = 0.8355066, auc_precision_recall = 0.77827495, average_loss = 0.4687288, global_step = 5000, label/mean = 0.375, loss = 0.36367926, precision = 0.71, prediction/mean = 0.38528803, recall = 0.7171717\n",
      "INFO:tensorflow:Saving 'checkpoint_path' summary for global step 5000: C:\\Users\\archi\\AppData\\Local\\Temp\\tmp6zdcx7d9\\model.ckpt-5000\n",
      "\n",
      "Test set accuracy: 0.784\n",
      "\n"
     ]
    }
   ],
   "source": [
    "linear_est = tf.estimator.LinearClassifier(feature_columns=feature_columns)\n",
    "# Train the Model.\n",
    "linear_est.train(\n",
    "    input_fn=lambda: train_and_eval_fn(dftrain, y_train, training=True),\n",
    "    steps=5000)\n",
    "\n",
    "eval_result = linear_est.evaluate(\n",
    "    input_fn=lambda: train_and_eval_fn(dfeval, y_eval))\n",
    "\n",
    "print('\\nTest set accuracy: {accuracy:0.3f}\\n'.format(**eval_result))\n"
   ]
  },
  {
   "cell_type": "markdown",
   "metadata": {
    "id": "8_eyb9d-ncjH"
   },
   "source": [
    "Now you can use the train model to make predictions on a passenger from the evaluation set. TensorFlow models are optimized to make predictions on a batch, or collection, of examples at once. Earlier,  the `eval_input_fn` was  defined using the entire evaluation set."
   ]
  },
  {
   "cell_type": "code",
   "execution_count": 14,
   "metadata": {},
   "outputs": [
    {
     "name": "stdout",
     "output_type": "stream",
     "text": [
      "INFO:tensorflow:Calling model_fn.\n",
      "INFO:tensorflow:Done calling model_fn.\n",
      "INFO:tensorflow:Graph was finalized.\n",
      "INFO:tensorflow:Restoring parameters from C:\\Users\\archi\\AppData\\Local\\Temp\\tmp6zdcx7d9\\model.ckpt-5000\n",
      "INFO:tensorflow:Running local_init_op.\n",
      "INFO:tensorflow:Done running local_init_op.\n"
     ]
    },
    {
     "data": {
      "image/png": "[encoded data removed]",
      "text/plain": [
       "<Figure size 432x288 with 1 Axes>"
      ]
     },
     "metadata": {
      "needs_background": "light"
     },
     "output_type": "display_data"
    }
   ],
   "source": [
    "import numpy as np\n",
    "predictions=[]\n",
    "for pred in linear_est.predict(input_fn=lambda: predict_fn(dfeval)):\n",
    "    predictions.append(np.array(pred['probabilities']).astype(float))\n",
    "    \n",
    "plt.plot(y_eval, predictions, 'r*')\n",
    "plt.xlabel('Actual values')\n",
    "plt.ylabel('predicted values')\n",
    "plt.show()"
   ]
  },
  {
   "cell_type": "code",
   "execution_count": 15,
   "metadata": {},
   "outputs": [],
   "source": [
    "#%tensorboard --logdir=titanic"
   ]
  },
  {
   "cell_type": "code",
   "execution_count": 16,
   "metadata": {},
   "outputs": [],
   "source": [
    "#Uncomment the below line to kill the tensorboard server. The syntax is taskkill /F /PID proc_num\n",
    "#!taskkill /F /PID 9256\n",
    "#!taskkill /im tensorboard.exe /f\n",
    "#!del /q %TMP%\\.tensorboard-info\\*"
   ]
  }
 ],
 "metadata": {
  "colab": {
   "collapsed_sections": [],
   "name": "linear.ipynb",
   "toc_visible": true
  },
  "kernelspec": {
   "display_name": "Python 3.9.12 ('base')",
   "language": "python",
   "name": "python3"
  },
  "language_info": {
   "codemirror_mode": {
    "name": "ipython",
    "version": 3
   },
   "file_extension": ".py",
   "mimetype": "text/x-python",
   "name": "python",
   "nbconvert_exporter": "python",
   "pygments_lexer": "ipython3",
   "version": "3.9.12"
  },
  "vscode": {
   "interpreter": {
    "hash": "dee62c98ecce6d9e3f7050f7a877855f7ec76bf0aefa9b635119678c508ba6bf"
   }
  }
 },
 "nbformat": 4,
 "nbformat_minor": 1
}
